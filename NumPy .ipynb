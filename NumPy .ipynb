{
 "cells": [
  {
   "cell_type": "markdown",
   "metadata": {
    "toc": true
   },
   "source": [
    "<h1>Table of Contents<span class=\"tocSkip\"></span></h1>\n",
    "<div class=\"toc\"><ul class=\"toc-item\"><li><span><a href=\"#What-is-NumPy?\" data-toc-modified-id=\"What-is-NumPy?-1\"><span class=\"toc-item-num\">1&nbsp;&nbsp;</span>What is NumPy?</a></span><ul class=\"toc-item\"><li><span><a href=\"#Why-Use-NumPy?\" data-toc-modified-id=\"Why-Use-NumPy?-1.1\"><span class=\"toc-item-num\">1.1&nbsp;&nbsp;</span>Why Use NumPy?</a></span></li><li><span><a href=\"#Why-is-NumPy-Faster-Than-Lists?\" data-toc-modified-id=\"Why-is-NumPy-Faster-Than-Lists?-1.2\"><span class=\"toc-item-num\">1.2&nbsp;&nbsp;</span>Why is NumPy Faster Than Lists?</a></span></li><li><span><a href=\"#Which-Language-is-NumPy-written-in?\" data-toc-modified-id=\"Which-Language-is-NumPy-written-in?-1.3\"><span class=\"toc-item-num\">1.3&nbsp;&nbsp;</span>Which Language is NumPy written in?</a></span></li><li><span><a href=\"#Import-NumPy\" data-toc-modified-id=\"Import-NumPy-1.4\"><span class=\"toc-item-num\">1.4&nbsp;&nbsp;</span>Import NumPy</a></span></li><li><span><a href=\"#Create-a-NumPy-ndarray-Object\" data-toc-modified-id=\"Create-a-NumPy-ndarray-Object-1.5\"><span class=\"toc-item-num\">1.5&nbsp;&nbsp;</span>Create a NumPy ndarray Object</a></span></li><li><span><a href=\"#Dimensions-in-Arrays\" data-toc-modified-id=\"Dimensions-in-Arrays-1.6\"><span class=\"toc-item-num\">1.6&nbsp;&nbsp;</span>Dimensions in Arrays</a></span></li><li><span><a href=\"#0-D-Arrays\" data-toc-modified-id=\"0-D-Arrays-1.7\"><span class=\"toc-item-num\">1.7&nbsp;&nbsp;</span>0-D Arrays</a></span></li><li><span><a href=\"#Check-Number-of-Dimensions?\" data-toc-modified-id=\"Check-Number-of-Dimensions?-1.8\"><span class=\"toc-item-num\">1.8&nbsp;&nbsp;</span>Check Number of Dimensions?</a></span></li><li><span><a href=\"#Higher-Dimensional-Arrays\" data-toc-modified-id=\"Higher-Dimensional-Arrays-1.9\"><span class=\"toc-item-num\">1.9&nbsp;&nbsp;</span>Higher Dimensional Arrays</a></span></li></ul></li><li><span><a href=\"#Array-Indexing\" data-toc-modified-id=\"Array-Indexing-2\"><span class=\"toc-item-num\">2&nbsp;&nbsp;</span>Array Indexing</a></span><ul class=\"toc-item\"><li><span><a href=\"#Access-Array-Elements\" data-toc-modified-id=\"Access-Array-Elements-2.1\"><span class=\"toc-item-num\">2.1&nbsp;&nbsp;</span>Access Array Elements</a></span></li><li><span><a href=\"#Access-2-D-Arrays\" data-toc-modified-id=\"Access-2-D-Arrays-2.2\"><span class=\"toc-item-num\">2.2&nbsp;&nbsp;</span>Access 2-D Arrays</a></span></li><li><span><a href=\"#Access-3-D-Arrays\" data-toc-modified-id=\"Access-3-D-Arrays-2.3\"><span class=\"toc-item-num\">2.3&nbsp;&nbsp;</span>Access 3-D Arrays</a></span></li><li><span><a href=\"#Negative-Indexing\" data-toc-modified-id=\"Negative-Indexing-2.4\"><span class=\"toc-item-num\">2.4&nbsp;&nbsp;</span>Negative Indexing</a></span></li></ul></li><li><span><a href=\"#Array-Slicing\" data-toc-modified-id=\"Array-Slicing-3\"><span class=\"toc-item-num\">3&nbsp;&nbsp;</span>Array Slicing</a></span><ul class=\"toc-item\"><li><span><a href=\"#Negative-Slicing\" data-toc-modified-id=\"Negative-Slicing-3.1\"><span class=\"toc-item-num\">3.1&nbsp;&nbsp;</span>Negative Slicing</a></span></li><li><span><a href=\"#STEP\" data-toc-modified-id=\"STEP-3.2\"><span class=\"toc-item-num\">3.2&nbsp;&nbsp;</span>STEP</a></span></li><li><span><a href=\"#Slicing-2-D-Arrays\" data-toc-modified-id=\"Slicing-2-D-Arrays-3.3\"><span class=\"toc-item-num\">3.3&nbsp;&nbsp;</span>Slicing 2-D Arrays</a></span></li></ul></li><li><span><a href=\"#Data-Types\" data-toc-modified-id=\"Data-Types-4\"><span class=\"toc-item-num\">4&nbsp;&nbsp;</span>Data Types</a></span><ul class=\"toc-item\"><li><span><a href=\"#Checking-the-Data-Type-of-an-Array\" data-toc-modified-id=\"Checking-the-Data-Type-of-an-Array-4.1\"><span class=\"toc-item-num\">4.1&nbsp;&nbsp;</span>Checking the Data Type of an Array</a></span></li><li><span><a href=\"#What-if-a-Value-Can-Not-Be-Converted?\" data-toc-modified-id=\"What-if-a-Value-Can-Not-Be-Converted?-4.2\"><span class=\"toc-item-num\">4.2&nbsp;&nbsp;</span>What if a Value Can Not Be Converted?</a></span></li><li><span><a href=\"#Converting-Data-Type-on-Existing-Arrays\" data-toc-modified-id=\"Converting-Data-Type-on-Existing-Arrays-4.3\"><span class=\"toc-item-num\">4.3&nbsp;&nbsp;</span>Converting Data Type on Existing Arrays</a></span></li></ul></li><li><span><a href=\"#Array-Copy-vs-View\" data-toc-modified-id=\"Array-Copy-vs-View-5\"><span class=\"toc-item-num\">5&nbsp;&nbsp;</span>Array Copy vs View</a></span><ul class=\"toc-item\"><li><span><a href=\"#COPY:\" data-toc-modified-id=\"COPY:-5.1\"><span class=\"toc-item-num\">5.1&nbsp;&nbsp;</span>COPY:</a></span></li><li><span><a href=\"#VIEW:\" data-toc-modified-id=\"VIEW:-5.2\"><span class=\"toc-item-num\">5.2&nbsp;&nbsp;</span>VIEW:</a></span></li><li><span><a href=\"#Check-if-Array-Owns-it's-Data\" data-toc-modified-id=\"Check-if-Array-Owns-it's-Data-5.3\"><span class=\"toc-item-num\">5.3&nbsp;&nbsp;</span>Check if Array Owns it's Data</a></span></li></ul></li><li><span><a href=\"#Array-Shape\" data-toc-modified-id=\"Array-Shape-6\"><span class=\"toc-item-num\">6&nbsp;&nbsp;</span>Array Shape</a></span><ul class=\"toc-item\"><li><span><a href=\"#Shape-of-an-Array\" data-toc-modified-id=\"Shape-of-an-Array-6.1\"><span class=\"toc-item-num\">6.1&nbsp;&nbsp;</span>Shape of an Array</a></span></li><li><span><a href=\"#What-does-the-shape-tuple-represent?\" data-toc-modified-id=\"What-does-the-shape-tuple-represent?-6.2\"><span class=\"toc-item-num\">6.2&nbsp;&nbsp;</span>What does the shape tuple represent?</a></span></li></ul></li><li><span><a href=\"#Reshaping-arrays\" data-toc-modified-id=\"Reshaping-arrays-7\"><span class=\"toc-item-num\">7&nbsp;&nbsp;</span>Reshaping arrays</a></span><ul class=\"toc-item\"><li><span><a href=\"#Reshape-From-1-D-to-2-D\" data-toc-modified-id=\"Reshape-From-1-D-to-2-D-7.1\"><span class=\"toc-item-num\">7.1&nbsp;&nbsp;</span>Reshape From 1-D to 2-D</a></span></li><li><span><a href=\"#Reshape-From-1-D-to-3-D\" data-toc-modified-id=\"Reshape-From-1-D-to-3-D-7.2\"><span class=\"toc-item-num\">7.2&nbsp;&nbsp;</span>Reshape From 1-D to 3-D</a></span></li><li><span><a href=\"#Can-We-Reshape-Into-any-Shape?\" data-toc-modified-id=\"Can-We-Reshape-Into-any-Shape?-7.3\"><span class=\"toc-item-num\">7.3&nbsp;&nbsp;</span>Can We Reshape Into any Shape?</a></span></li><li><span><a href=\"#Returns-Copy-or-View?\" data-toc-modified-id=\"Returns-Copy-or-View?-7.4\"><span class=\"toc-item-num\">7.4&nbsp;&nbsp;</span>Returns Copy or View?</a></span></li><li><span><a href=\"#Unknown-Dimension\" data-toc-modified-id=\"Unknown-Dimension-7.5\"><span class=\"toc-item-num\">7.5&nbsp;&nbsp;</span>Unknown Dimension</a></span></li><li><span><a href=\"#Flattening-the-arrays\" data-toc-modified-id=\"Flattening-the-arrays-7.6\"><span class=\"toc-item-num\">7.6&nbsp;&nbsp;</span>Flattening the arrays</a></span></li></ul></li><li><span><a href=\"#Iterating-Arrays\" data-toc-modified-id=\"Iterating-Arrays-8\"><span class=\"toc-item-num\">8&nbsp;&nbsp;</span>Iterating Arrays</a></span><ul class=\"toc-item\"><li><span><a href=\"#Iterating-2-D-Arrays\" data-toc-modified-id=\"Iterating-2-D-Arrays-8.1\"><span class=\"toc-item-num\">8.1&nbsp;&nbsp;</span>Iterating 2-D Arrays</a></span></li><li><span><a href=\"#Iterating-3-D-Arrays\" data-toc-modified-id=\"Iterating-3-D-Arrays-8.2\"><span class=\"toc-item-num\">8.2&nbsp;&nbsp;</span>Iterating 3-D Arrays</a></span></li><li><span><a href=\"#Iterating-Arrays-Using-nditer()\" data-toc-modified-id=\"Iterating-Arrays-Using-nditer()-8.3\"><span class=\"toc-item-num\">8.3&nbsp;&nbsp;</span>Iterating Arrays Using nditer()</a></span></li><li><span><a href=\"#Iterating-Array-With-Different-Data-Types\" data-toc-modified-id=\"Iterating-Array-With-Different-Data-Types-8.4\"><span class=\"toc-item-num\">8.4&nbsp;&nbsp;</span>Iterating Array With Different Data Types</a></span></li><li><span><a href=\"#Iterating-With-Different-Step-Size\" data-toc-modified-id=\"Iterating-With-Different-Step-Size-8.5\"><span class=\"toc-item-num\">8.5&nbsp;&nbsp;</span>Iterating With Different Step Size</a></span></li><li><span><a href=\"#Enumerated-Iteration-Using-ndenumerate()\" data-toc-modified-id=\"Enumerated-Iteration-Using-ndenumerate()-8.6\"><span class=\"toc-item-num\">8.6&nbsp;&nbsp;</span>Enumerated Iteration Using ndenumerate()</a></span></li></ul></li><li><span><a href=\"#Joining-NumPy-Arrays\" data-toc-modified-id=\"Joining-NumPy-Arrays-9\"><span class=\"toc-item-num\">9&nbsp;&nbsp;</span>Joining NumPy Arrays</a></span><ul class=\"toc-item\"><li><span><a href=\"#Joining-Arrays-Using-Stack-Functions\" data-toc-modified-id=\"Joining-Arrays-Using-Stack-Functions-9.1\"><span class=\"toc-item-num\">9.1&nbsp;&nbsp;</span>Joining Arrays Using Stack Functions</a></span></li><li><span><a href=\"#Stacking-Along-Rows\" data-toc-modified-id=\"Stacking-Along-Rows-9.2\"><span class=\"toc-item-num\">9.2&nbsp;&nbsp;</span>Stacking Along Rows</a></span></li><li><span><a href=\"#Stacking-Along-Columns\" data-toc-modified-id=\"Stacking-Along-Columns-9.3\"><span class=\"toc-item-num\">9.3&nbsp;&nbsp;</span>Stacking Along Columns</a></span></li><li><span><a href=\"#Stacking-Along-Height-(depth)\" data-toc-modified-id=\"Stacking-Along-Height-(depth)-9.4\"><span class=\"toc-item-num\">9.4&nbsp;&nbsp;</span>Stacking Along Height (depth)</a></span></li></ul></li><li><span><a href=\"#Splitting-NumPy-Arrays\" data-toc-modified-id=\"Splitting-NumPy-Arrays-10\"><span class=\"toc-item-num\">10&nbsp;&nbsp;</span>Splitting NumPy Arrays</a></span><ul class=\"toc-item\"><li><span><a href=\"#Split-Into-Arrays\" data-toc-modified-id=\"Split-Into-Arrays-10.1\"><span class=\"toc-item-num\">10.1&nbsp;&nbsp;</span>Split Into Arrays</a></span></li><li><span><a href=\"#Splitting-2-D-Arrays\" data-toc-modified-id=\"Splitting-2-D-Arrays-10.2\"><span class=\"toc-item-num\">10.2&nbsp;&nbsp;</span>Splitting 2-D Arrays</a></span></li></ul></li><li><span><a href=\"#Searching-Arrays\" data-toc-modified-id=\"Searching-Arrays-11\"><span class=\"toc-item-num\">11&nbsp;&nbsp;</span>Searching Arrays</a></span><ul class=\"toc-item\"><li><span><a href=\"#Search-Sorted\" data-toc-modified-id=\"Search-Sorted-11.1\"><span class=\"toc-item-num\">11.1&nbsp;&nbsp;</span>Search Sorted</a></span></li><li><span><a href=\"#Search-From-the-Right-Side\" data-toc-modified-id=\"Search-From-the-Right-Side-11.2\"><span class=\"toc-item-num\">11.2&nbsp;&nbsp;</span>Search From the Right Side</a></span></li><li><span><a href=\"#Multiple-Values\" data-toc-modified-id=\"Multiple-Values-11.3\"><span class=\"toc-item-num\">11.3&nbsp;&nbsp;</span>Multiple Values</a></span></li></ul></li><li><span><a href=\"#Sorting-Arrays\" data-toc-modified-id=\"Sorting-Arrays-12\"><span class=\"toc-item-num\">12&nbsp;&nbsp;</span>Sorting Arrays</a></span><ul class=\"toc-item\"><li><span><a href=\"#Sorting-a-2-D-Array\" data-toc-modified-id=\"Sorting-a-2-D-Array-12.1\"><span class=\"toc-item-num\">12.1&nbsp;&nbsp;</span>Sorting a 2-D Array</a></span></li></ul></li><li><span><a href=\"#Filtering-Arrays\" data-toc-modified-id=\"Filtering-Arrays-13\"><span class=\"toc-item-num\">13&nbsp;&nbsp;</span>Filtering Arrays</a></span><ul class=\"toc-item\"><li><span><a href=\"#Creating-the-Filter-Array\" data-toc-modified-id=\"Creating-the-Filter-Array-13.1\"><span class=\"toc-item-num\">13.1&nbsp;&nbsp;</span>Creating the Filter Array</a></span></li><li><span><a href=\"#Creating-Filter-Directly-From-Array\" data-toc-modified-id=\"Creating-Filter-Directly-From-Array-13.2\"><span class=\"toc-item-num\">13.2&nbsp;&nbsp;</span>Creating Filter Directly From Array</a></span></li></ul></li><li><span><a href=\"#Random-Number?\" data-toc-modified-id=\"Random-Number?-14\"><span class=\"toc-item-num\">14&nbsp;&nbsp;</span>Random Number?</a></span><ul class=\"toc-item\"><li><span><a href=\"#Generate-Random-Float\" data-toc-modified-id=\"Generate-Random-Float-14.1\"><span class=\"toc-item-num\">14.1&nbsp;&nbsp;</span>Generate Random Float</a></span></li><li><span><a href=\"#Generate-Random-Array\" data-toc-modified-id=\"Generate-Random-Array-14.2\"><span class=\"toc-item-num\">14.2&nbsp;&nbsp;</span>Generate Random Array</a></span></li><li><span><a href=\"#Integers\" data-toc-modified-id=\"Integers-14.3\"><span class=\"toc-item-num\">14.3&nbsp;&nbsp;</span>Integers</a></span></li><li><span><a href=\"#Floats\" data-toc-modified-id=\"Floats-14.4\"><span class=\"toc-item-num\">14.4&nbsp;&nbsp;</span>Floats</a></span></li><li><span><a href=\"#Generate-Random-Number-From-Array\" data-toc-modified-id=\"Generate-Random-Number-From-Array-14.5\"><span class=\"toc-item-num\">14.5&nbsp;&nbsp;</span>Generate Random Number From Array</a></span></li></ul></li><li><span><a href=\"#Data-Distribution\" data-toc-modified-id=\"Data-Distribution-15\"><span class=\"toc-item-num\">15&nbsp;&nbsp;</span>Data Distribution</a></span><ul class=\"toc-item\"><li><span><a href=\"#Random-Distribution\" data-toc-modified-id=\"Random-Distribution-15.1\"><span class=\"toc-item-num\">15.1&nbsp;&nbsp;</span>Random Distribution</a></span></li></ul></li><li><span><a href=\"#Random-Permutations-of-Elements\" data-toc-modified-id=\"Random-Permutations-of-Elements-16\"><span class=\"toc-item-num\">16&nbsp;&nbsp;</span>Random Permutations of Elements</a></span><ul class=\"toc-item\"><li><span><a href=\"#Shuffling-Arrays\" data-toc-modified-id=\"Shuffling-Arrays-16.1\"><span class=\"toc-item-num\">16.1&nbsp;&nbsp;</span>Shuffling Arrays</a></span></li><li><span><a href=\"#Generating-Permutation-of-Arrays\" data-toc-modified-id=\"Generating-Permutation-of-Arrays-16.2\"><span class=\"toc-item-num\">16.2&nbsp;&nbsp;</span>Generating Permutation of Arrays</a></span></li></ul></li><li><span><a href=\"#Seaborn\" data-toc-modified-id=\"Seaborn-17\"><span class=\"toc-item-num\">17&nbsp;&nbsp;</span>Seaborn</a></span><ul class=\"toc-item\"><li><span><a href=\"#Visualize-Distributions-With-Seaborn\" data-toc-modified-id=\"Visualize-Distributions-With-Seaborn-17.1\"><span class=\"toc-item-num\">17.1&nbsp;&nbsp;</span>Visualize Distributions With Seaborn</a></span></li><li><span><a href=\"#Distplots\" data-toc-modified-id=\"Distplots-17.2\"><span class=\"toc-item-num\">17.2&nbsp;&nbsp;</span>Distplots</a></span></li></ul></li><li><span><a href=\"#Normal-(Gaussian)-Distribution\" data-toc-modified-id=\"Normal-(Gaussian)-Distribution-18\"><span class=\"toc-item-num\">18&nbsp;&nbsp;</span>Normal (Gaussian) Distribution</a></span><ul class=\"toc-item\"><li><span><a href=\"#Normal-Distribution\" data-toc-modified-id=\"Normal-Distribution-18.1\"><span class=\"toc-item-num\">18.1&nbsp;&nbsp;</span>Normal Distribution</a></span></li><li><span><a href=\"#Visualization-of-Normal-Distribution\" data-toc-modified-id=\"Visualization-of-Normal-Distribution-18.2\"><span class=\"toc-item-num\">18.2&nbsp;&nbsp;</span>Visualization of Normal Distribution</a></span></li></ul></li><li><span><a href=\"#Binomial-Distribution\" data-toc-modified-id=\"Binomial-Distribution-19\"><span class=\"toc-item-num\">19&nbsp;&nbsp;</span>Binomial Distribution</a></span><ul class=\"toc-item\"><li><span><a href=\"#Visualization-of-Binomial-Distribution\" data-toc-modified-id=\"Visualization-of-Binomial-Distribution-19.1\"><span class=\"toc-item-num\">19.1&nbsp;&nbsp;</span>Visualization of Binomial Distribution</a></span></li><li><span><a href=\"#Difference-Between-Normal-and-Binomial-Distribution\" data-toc-modified-id=\"Difference-Between-Normal-and-Binomial-Distribution-19.2\"><span class=\"toc-item-num\">19.2&nbsp;&nbsp;</span>Difference Between Normal and Binomial Distribution</a></span></li></ul></li><li><span><a href=\"#Poisson-Distribution\" data-toc-modified-id=\"Poisson-Distribution-20\"><span class=\"toc-item-num\">20&nbsp;&nbsp;</span>Poisson Distribution</a></span><ul class=\"toc-item\"><li><span><a href=\"#Difference-Between-Normal-and-Poisson-Distribution\" data-toc-modified-id=\"Difference-Between-Normal-and-Poisson-Distribution-20.1\"><span class=\"toc-item-num\">20.1&nbsp;&nbsp;</span>Difference Between Normal and Poisson Distribution</a></span></li></ul></li><li><span><a href=\"#What-is-the-difference-between-discrete-data-and-continuous-data?\" data-toc-modified-id=\"What-is-the-difference-between-discrete-data-and-continuous-data?-21\"><span class=\"toc-item-num\">21&nbsp;&nbsp;</span>What is the difference between discrete data and continuous data?</a></span><ul class=\"toc-item\"><li><span><a href=\"#Difference-Between-Poisson-and-Binomial-Distribution\" data-toc-modified-id=\"Difference-Between-Poisson-and-Binomial-Distribution-21.1\"><span class=\"toc-item-num\">21.1&nbsp;&nbsp;</span>Difference Between Poisson and Binomial Distribution</a></span></li></ul></li><li><span><a href=\"#Uniform-Distribution\" data-toc-modified-id=\"Uniform-Distribution-22\"><span class=\"toc-item-num\">22&nbsp;&nbsp;</span>Uniform Distribution</a></span><ul class=\"toc-item\"><li><span><a href=\"#Visualization-of-Uniform-Distribution\" data-toc-modified-id=\"Visualization-of-Uniform-Distribution-22.1\"><span class=\"toc-item-num\">22.1&nbsp;&nbsp;</span>Visualization of Uniform Distribution</a></span></li></ul></li><li><span><a href=\"#Logistic-Distribution\" data-toc-modified-id=\"Logistic-Distribution-23\"><span class=\"toc-item-num\">23&nbsp;&nbsp;</span>Logistic Distribution</a></span><ul class=\"toc-item\"><li><span><a href=\"#Visualization-of-Logistic-Distribution\" data-toc-modified-id=\"Visualization-of-Logistic-Distribution-23.1\"><span class=\"toc-item-num\">23.1&nbsp;&nbsp;</span>Visualization of Logistic Distribution</a></span></li><li><span><a href=\"#Difference-Between-Logistic-and-Normal-Distribution\" data-toc-modified-id=\"Difference-Between-Logistic-and-Normal-Distribution-23.2\"><span class=\"toc-item-num\">23.2&nbsp;&nbsp;</span>Difference Between Logistic and Normal Distribution</a></span></li></ul></li><li><span><a href=\"#Multinomial-Distribution\" data-toc-modified-id=\"Multinomial-Distribution-24\"><span class=\"toc-item-num\">24&nbsp;&nbsp;</span>Multinomial Distribution</a></span></li><li><span><a href=\"#Exponential-Distribution\" data-toc-modified-id=\"Exponential-Distribution-25\"><span class=\"toc-item-num\">25&nbsp;&nbsp;</span>Exponential Distribution</a></span><ul class=\"toc-item\"><li><span><a href=\"#Visualization-of-Exponential-Distribution\" data-toc-modified-id=\"Visualization-of-Exponential-Distribution-25.1\"><span class=\"toc-item-num\">25.1&nbsp;&nbsp;</span>Visualization of Exponential Distribution</a></span></li><li><span><a href=\"#Relation-Between-Poisson-and-Exponential-Distribution\" data-toc-modified-id=\"Relation-Between-Poisson-and-Exponential-Distribution-25.2\"><span class=\"toc-item-num\">25.2&nbsp;&nbsp;</span>Relation Between Poisson and Exponential Distribution</a></span></li><li><span><a href=\"#Chi-Square-Distribution\" data-toc-modified-id=\"Chi-Square-Distribution-25.3\"><span class=\"toc-item-num\">25.3&nbsp;&nbsp;</span>Chi Square Distribution</a></span></li></ul></li><li><span><a href=\"#Rayleigh-Distribution\" data-toc-modified-id=\"Rayleigh-Distribution-26\"><span class=\"toc-item-num\">26&nbsp;&nbsp;</span>Rayleigh Distribution</a></span><ul class=\"toc-item\"><li><span><a href=\"#Similarity-Between-Rayleigh-and-Chi-Square-Distribution\" data-toc-modified-id=\"Similarity-Between-Rayleigh-and-Chi-Square-Distribution-26.1\"><span class=\"toc-item-num\">26.1&nbsp;&nbsp;</span>Similarity Between Rayleigh and Chi Square Distribution</a></span></li></ul></li><li><span><a href=\"#Pareto-Distribution\" data-toc-modified-id=\"Pareto-Distribution-27\"><span class=\"toc-item-num\">27&nbsp;&nbsp;</span>Pareto Distribution</a></span></li><li><span><a href=\"#Zipf-Distribution\" data-toc-modified-id=\"Zipf-Distribution-28\"><span class=\"toc-item-num\">28&nbsp;&nbsp;</span>Zipf Distribution</a></span></li><li><span><a href=\"#NumPy-ufunc\" data-toc-modified-id=\"NumPy-ufunc-29\"><span class=\"toc-item-num\">29&nbsp;&nbsp;</span>NumPy ufunc</a></span><ul class=\"toc-item\"><li><span><a href=\"#How-To-Create-Your-Own-ufunc\" data-toc-modified-id=\"How-To-Create-Your-Own-ufunc-29.1\"><span class=\"toc-item-num\">29.1&nbsp;&nbsp;</span>How To Create Your Own ufunc</a></span></li><li><span><a href=\"#Check-if-a-Function-is-a-ufunc\" data-toc-modified-id=\"Check-if-a-Function-is-a-ufunc-29.2\"><span class=\"toc-item-num\">29.2&nbsp;&nbsp;</span>Check if a Function is a ufunc</a></span></li><li><span><a href=\"#Simple-Arithmetic\" data-toc-modified-id=\"Simple-Arithmetic-29.3\"><span class=\"toc-item-num\">29.3&nbsp;&nbsp;</span>Simple Arithmetic</a></span></li></ul></li><li><span><a href=\"#Rounding-Decimals\" data-toc-modified-id=\"Rounding-Decimals-30\"><span class=\"toc-item-num\">30&nbsp;&nbsp;</span>Rounding Decimals</a></span></li><li><span><a href=\"#Logs\" data-toc-modified-id=\"Logs-31\"><span class=\"toc-item-num\">31&nbsp;&nbsp;</span>Logs</a></span><ul class=\"toc-item\"><li><span><a href=\"#Log-at-Base-2\" data-toc-modified-id=\"Log-at-Base-2-31.1\"><span class=\"toc-item-num\">31.1&nbsp;&nbsp;</span>Log at Base 2</a></span></li><li><span><a href=\"#Log-at-Base-10\" data-toc-modified-id=\"Log-at-Base-10-31.2\"><span class=\"toc-item-num\">31.2&nbsp;&nbsp;</span>Log at Base 10</a></span></li><li><span><a href=\"#Natural-Log,-or-Log-at-Base-e\" data-toc-modified-id=\"Natural-Log,-or-Log-at-Base-e-31.3\"><span class=\"toc-item-num\">31.3&nbsp;&nbsp;</span>Natural Log, or Log at Base e</a></span></li><li><span><a href=\"#Log-at-Any-Base\" data-toc-modified-id=\"Log-at-Any-Base-31.4\"><span class=\"toc-item-num\">31.4&nbsp;&nbsp;</span>Log at Any Base</a></span></li></ul></li><li><span><a href=\"#Summations\" data-toc-modified-id=\"Summations-32\"><span class=\"toc-item-num\">32&nbsp;&nbsp;</span>Summations</a></span></li></ul></div>"
   ]
  },
  {
   "cell_type": "markdown",
   "metadata": {},
   "source": [
    "# What is NumPy?\n",
    "NumPy is a Python library used for working with arrays.\n",
    "\n",
    "It also has functions for working in domain of linear algebra, fourier transform, and matrices.\n",
    "\n",
    "NumPy was created in 2005 by Travis Oliphant. It is an open source project and you can use it freely.\n",
    "\n",
    "NumPy stands for Numerical Python.\n",
    "\n",
    "## Why Use NumPy?\n",
    "In Python we have lists that serve the purpose of arrays, but they are slow to process.\n",
    "\n",
    "NumPy aims to provide an array object that is up to 50x faster than traditional Python lists.\n",
    "\n",
    "The array object in NumPy is called ndarray, it provides a lot of supporting functions that make working with ndarray very easy.\n",
    "\n",
    "Arrays are very frequently used in data science, where speed and resources are very important.\n",
    "\n",
    "Data Science: is a branch of computer science where we study how to store, use and analyze data for deriving information from it.\n",
    "\n",
    "## Why is NumPy Faster Than Lists?\n",
    "NumPy arrays are stored at one continuous place in memory unlike lists, so processes can access and manipulate them very efficiently.\n",
    "\n",
    "This behavior is called locality of reference in computer science.\n",
    "\n",
    "This is the main reason why NumPy is faster than lists. Also it is optimized to work with latest CPU architectures.\n",
    "\n",
    "## Which Language is NumPy written in?\n",
    "NumPy is a Python library and is written partially in Python, but most of the parts that require fast computation are written in C or C++.\n",
    "\n",
    "## Import NumPy\n"
   ]
  },
  {
   "cell_type": "code",
   "execution_count": 1,
   "metadata": {
    "ExecuteTime": {
     "end_time": "2021-08-08T17:06:20.389452Z",
     "start_time": "2021-08-08T17:06:19.890700Z"
    }
   },
   "outputs": [
    {
     "name": "stdout",
     "output_type": "stream",
     "text": [
      "[1 2 3 4 5]\n"
     ]
    },
    {
     "data": {
      "text/plain": [
       "'1.21.1'"
      ]
     },
     "execution_count": 1,
     "metadata": {},
     "output_type": "execute_result"
    }
   ],
   "source": [
    "import numpy as np\n",
    "\n",
    "arr = np.array([1, 2, 3, 4, 5])\n",
    "\n",
    "print(arr)\n",
    "np.__version__"
   ]
  },
  {
   "cell_type": "markdown",
   "metadata": {},
   "source": [
    "## Create a NumPy ndarray Object\n",
    "NumPy is used to work with arrays. The array object in NumPy is called ndarray.\n",
    "\n",
    "We can create a NumPy ndarray object by using the array() function.\n",
    "\n",
    "type(): This built-in Python function tells us the type of the object passed to it. Like in above code it shows that arr is numpy.ndarray type.\n",
    "\n",
    "\n",
    "\n",
    "To create an ndarray, we can pass a list, tuple or any array-like object into the array() method, and it will be converted into an ndarray:\n",
    "\n"
   ]
  },
  {
   "cell_type": "code",
   "execution_count": 2,
   "metadata": {
    "ExecuteTime": {
     "end_time": "2021-08-08T17:06:20.397811Z",
     "start_time": "2021-08-08T17:06:20.391203Z"
    }
   },
   "outputs": [
    {
     "name": "stdout",
     "output_type": "stream",
     "text": [
      "[1 2 3 4 5]\n",
      "<class 'numpy.ndarray'>\n"
     ]
    }
   ],
   "source": [
    "import numpy as np\n",
    "\n",
    "arr = np.array([1, 2, 3, 4, 5])\n",
    "\n",
    "print(arr)\n",
    "\n",
    "print(type(arr))"
   ]
  },
  {
   "cell_type": "markdown",
   "metadata": {},
   "source": [
    "## Dimensions in Arrays\n",
    "A dimension in arrays is one level of array depth (nested arrays).\n",
    "\n",
    "nested array: are arrays that have arrays as their elements.\n",
    "\n",
    "## 0-D Arrays\n",
    "0-D arrays, or Scalars, are the elements in an array. Each value in an array is a 0-D array.\n",
    "\n",
    "## Check Number of Dimensions?\n",
    "NumPy Arrays provides the ndim attribute that returns an integer that tells us how many dimensions the array have.\n",
    "\n"
   ]
  },
  {
   "cell_type": "code",
   "execution_count": 3,
   "metadata": {
    "ExecuteTime": {
     "end_time": "2021-08-08T17:06:20.420333Z",
     "start_time": "2021-08-08T17:06:20.400803Z"
    }
   },
   "outputs": [
    {
     "name": "stdout",
     "output_type": "stream",
     "text": [
      "0\n",
      "1\n",
      "2\n",
      "3\n",
      "[[[1 2 3]\n",
      "  [4 5 6]]\n",
      "\n",
      " [[1 2 3]\n",
      "  [4 5 6]]]\n"
     ]
    }
   ],
   "source": [
    "a = np.array(42)\n",
    "b = np.array([1, 2, 3, 4, 5])\n",
    "c = np.array([[1, 2, 3], [4, 5, 6]])\n",
    "d = np.array([[[1, 2, 3], [4, 5, 6]], [[1, 2, 3], [4, 5, 6]]])\n",
    "\n",
    "print(a.ndim)\n",
    "print(b.ndim)\n",
    "print(c.ndim)\n",
    "print(d.ndim)\n",
    "print(d)"
   ]
  },
  {
   "cell_type": "markdown",
   "metadata": {},
   "source": [
    "## Higher Dimensional Arrays\n",
    "An array can have any number of dimensions.\n",
    "\n",
    "When the array is created, you can define the number of dimensions by using the ndmin argument."
   ]
  },
  {
   "cell_type": "code",
   "execution_count": 4,
   "metadata": {
    "ExecuteTime": {
     "end_time": "2021-08-08T17:06:20.431951Z",
     "start_time": "2021-08-08T17:06:20.422559Z"
    }
   },
   "outputs": [
    {
     "name": "stdout",
     "output_type": "stream",
     "text": [
      "[[[[[1 2 3 4]]]]]\n",
      "number of dimensions : 5\n"
     ]
    }
   ],
   "source": [
    "arr = np.array([1, 2, 3, 4], ndmin=5)\n",
    "\n",
    "print(arr)\n",
    "print('number of dimensions :', arr.ndim)"
   ]
  },
  {
   "cell_type": "markdown",
   "metadata": {},
   "source": [
    "# Array Indexing\n",
    "\n",
    "## Access Array Elements\n",
    "Array indexing is the same as accessing an array element.\n",
    "\n",
    "You can access an array element by referring to its index number.\n",
    "\n",
    "The indexes in NumPy arrays start with 0, meaning that the first element has index 0, and the second has index 1 etc."
   ]
  },
  {
   "cell_type": "code",
   "execution_count": 5,
   "metadata": {
    "ExecuteTime": {
     "end_time": "2021-08-08T17:06:20.443444Z",
     "start_time": "2021-08-08T17:06:20.433778Z"
    }
   },
   "outputs": [
    {
     "name": "stdout",
     "output_type": "stream",
     "text": [
      "3\n"
     ]
    }
   ],
   "source": [
    "arr = np.array([1, 2, 3, 4])\n",
    "\n",
    "print(arr[2])"
   ]
  },
  {
   "cell_type": "code",
   "execution_count": 6,
   "metadata": {
    "ExecuteTime": {
     "end_time": "2021-08-08T17:06:20.459095Z",
     "start_time": "2021-08-08T17:06:20.445439Z"
    }
   },
   "outputs": [
    {
     "name": "stdout",
     "output_type": "stream",
     "text": [
      "7\n"
     ]
    }
   ],
   "source": [
    "arr = np.array([1, 2, 3, 4])\n",
    "\n",
    "print(arr[2] + arr[3])"
   ]
  },
  {
   "cell_type": "markdown",
   "metadata": {},
   "source": [
    "## Access 2-D Arrays\n",
    "To access elements from 2-D arrays we can use comma separated integers representing the dimension and the index of the element."
   ]
  },
  {
   "cell_type": "code",
   "execution_count": 7,
   "metadata": {
    "ExecuteTime": {
     "end_time": "2021-08-08T17:06:20.475463Z",
     "start_time": "2021-08-08T17:06:20.461099Z"
    }
   },
   "outputs": [
    {
     "name": "stdout",
     "output_type": "stream",
     "text": [
      "2nd element on 1st dim:  2\n"
     ]
    }
   ],
   "source": [
    "arr = np.array([[1,2,3,4,5], [6,7,8,9,10]])\n",
    "\n",
    "print('2nd element on 1st dim: ', arr[0, 1])"
   ]
  },
  {
   "cell_type": "code",
   "execution_count": 8,
   "metadata": {
    "ExecuteTime": {
     "end_time": "2021-08-08T17:06:20.485595Z",
     "start_time": "2021-08-08T17:06:20.478455Z"
    }
   },
   "outputs": [
    {
     "name": "stdout",
     "output_type": "stream",
     "text": [
      "5th element on 2nd dim:  10\n"
     ]
    }
   ],
   "source": [
    "arr = np.array([[1,2,3,4,5], [6,7,8,9,10]])\n",
    "\n",
    "print('5th element on 2nd dim: ', arr[1, 4])"
   ]
  },
  {
   "cell_type": "markdown",
   "metadata": {},
   "source": [
    "## Access 3-D Arrays\n",
    "To access elements from 3-D arrays we can use comma separated integers representing the dimensions and the index of the element.\n",
    "\n",
    "\n",
    "Example Explained\n",
    "\n",
    "arr[0, 1, 2] prints the value 6.\n",
    "\n",
    "And this is why:\n",
    "\n",
    "The first number represents the first dimension, which contains two arrays:\n",
    "\n",
    "[[1, 2, 3], [4, 5, 6]]\n",
    "\n",
    "and:\n",
    "\n",
    "[[7, 8, 9], [10, 11, 12]]\n",
    "\n",
    "Since we selected 0, we are left with the first array:\n",
    "\n",
    "[[1, 2, 3], [4, 5, 6]]\n",
    "\n",
    "The second number represents the second dimension, which also contains two arrays:\n",
    "[1, 2, 3]\n",
    "\n",
    "and:\n",
    "\n",
    "[4, 5, 6]\n",
    "\n",
    "Since we selected 1, we are left with the second array:\n",
    "\n",
    "[4, 5, 6]\n",
    "\n",
    "The third number represents the third dimension, which contains three values:\n",
    "\n",
    "4\n",
    "\n",
    "5\n",
    "\n",
    "6\n",
    "\n",
    "Since we selected 2, we end up with the third value:\n",
    "\n",
    "6"
   ]
  },
  {
   "cell_type": "code",
   "execution_count": 9,
   "metadata": {
    "ExecuteTime": {
     "end_time": "2021-08-08T17:06:20.499454Z",
     "start_time": "2021-08-08T17:06:20.488663Z"
    }
   },
   "outputs": [
    {
     "name": "stdout",
     "output_type": "stream",
     "text": [
      "6\n"
     ]
    }
   ],
   "source": [
    "arr = np.array([[[1, 2, 3], [4, 5, 6]], [[7, 8, 9], [10, 11, 12]]])\n",
    "\n",
    "print(arr[0, 1, 2])"
   ]
  },
  {
   "cell_type": "markdown",
   "metadata": {
    "ExecuteTime": {
     "end_time": "2021-08-05T03:24:11.313023Z",
     "start_time": "2021-08-05T03:24:11.305991Z"
    }
   },
   "source": [
    "## Negative Indexing\n",
    "Use negative indexing to access an array from the end."
   ]
  },
  {
   "cell_type": "code",
   "execution_count": 10,
   "metadata": {
    "ExecuteTime": {
     "end_time": "2021-08-08T17:06:20.514825Z",
     "start_time": "2021-08-08T17:06:20.501503Z"
    }
   },
   "outputs": [
    {
     "name": "stdout",
     "output_type": "stream",
     "text": [
      "Last element from 2nd dim:  10\n"
     ]
    }
   ],
   "source": [
    "arr = np.array([[1,2,3,4,5], [6,7,8,9,10]])\n",
    "\n",
    "print('Last element from 2nd dim: ', arr[1, -1])"
   ]
  },
  {
   "cell_type": "markdown",
   "metadata": {},
   "source": [
    "# Array Slicing\n",
    "\n",
    "Slicing in python means taking elements from one given index to another given index.\n",
    "\n",
    "We pass slice instead of index like this: [start:end].\n",
    "\n",
    "We can also define the step, like this: [start:end:step].\n",
    "\n",
    "If we don't pass start its considered 0\n",
    "\n",
    "If we don't pass end its considered length of array in that dimension\n",
    "\n",
    "If we don't pass step its considered 1.\n",
    "\n",
    "`Note: The result includes the start index, but excludes the end index.`"
   ]
  },
  {
   "cell_type": "code",
   "execution_count": 11,
   "metadata": {
    "ExecuteTime": {
     "end_time": "2021-08-08T17:06:20.534493Z",
     "start_time": "2021-08-08T17:06:20.516786Z"
    }
   },
   "outputs": [
    {
     "name": "stdout",
     "output_type": "stream",
     "text": [
      "[3 4 5]\n",
      "[5 6 7]\n",
      "[1 2 3 4]\n"
     ]
    }
   ],
   "source": [
    "arr = np.array([1, 2, 3, 4, 5, 6, 7])\n",
    "\n",
    "print(arr[2:5])\n",
    "print(arr[4:])\n",
    "print(arr[:4])"
   ]
  },
  {
   "cell_type": "markdown",
   "metadata": {},
   "source": [
    "## Negative Slicing\n",
    "\n",
    "Use the minus operator to refer to an index from the end.\n",
    "\n",
    "## STEP\n",
    "\n",
    "Use the step value to determine the step of the slicing:"
   ]
  },
  {
   "cell_type": "code",
   "execution_count": 12,
   "metadata": {
    "ExecuteTime": {
     "end_time": "2021-08-08T17:06:20.542654Z",
     "start_time": "2021-08-08T17:06:20.536488Z"
    }
   },
   "outputs": [
    {
     "name": "stdout",
     "output_type": "stream",
     "text": [
      "[5 6]\n"
     ]
    }
   ],
   "source": [
    "print(arr[-3:-1])"
   ]
  },
  {
   "cell_type": "code",
   "execution_count": 13,
   "metadata": {
    "ExecuteTime": {
     "end_time": "2021-08-08T17:06:20.555050Z",
     "start_time": "2021-08-08T17:06:20.544649Z"
    }
   },
   "outputs": [
    {
     "name": "stdout",
     "output_type": "stream",
     "text": [
      "[2 4]\n"
     ]
    }
   ],
   "source": [
    "arr = np.array([1, 2, 3, 4, 5, 6, 7])\n",
    "\n",
    "print(arr[1:5:2])"
   ]
  },
  {
   "cell_type": "code",
   "execution_count": 14,
   "metadata": {
    "ExecuteTime": {
     "end_time": "2021-08-08T17:06:20.572857Z",
     "start_time": "2021-08-08T17:06:20.557321Z"
    }
   },
   "outputs": [
    {
     "name": "stdout",
     "output_type": "stream",
     "text": [
      "[1 3 5 7]\n"
     ]
    }
   ],
   "source": [
    "print(arr[::2])"
   ]
  },
  {
   "cell_type": "markdown",
   "metadata": {},
   "source": [
    "## Slicing 2-D Arrays\n",
    "\n",
    "**Note: Remember that second element has index 1.**"
   ]
  },
  {
   "cell_type": "code",
   "execution_count": 15,
   "metadata": {
    "ExecuteTime": {
     "end_time": "2021-08-08T17:06:20.589490Z",
     "start_time": "2021-08-08T17:06:20.575152Z"
    }
   },
   "outputs": [
    {
     "name": "stdout",
     "output_type": "stream",
     "text": [
      "[7 8 9]\n",
      "[3 8]\n",
      "[[2 3 4]\n",
      " [7 8 9]]\n"
     ]
    }
   ],
   "source": [
    "arr = np.array([[1, 2, 3, 4, 5], \n",
    "                [6, 7, 8, 9, 10]])\n",
    "\n",
    "print(arr[1, 1:4])\n",
    "print(arr[0:2, 2])\n",
    "\n",
    "# From both elements, slice index 1 to index 4 (not included), \n",
    "# this will return a 2-D array:\n",
    "print(arr[0:2, 1:4]) "
   ]
  },
  {
   "cell_type": "markdown",
   "metadata": {},
   "source": [
    "# Data Types\n",
    "\n",
    "Data Types in Python\n",
    "By default Python have these data types:\n",
    "\n",
    "- strings - used to represent text data, the text is given under quote marks. e.g. \"ABCD\"\n",
    "- integer - used to represent integer numbers. e.g. -1, -2, -3\n",
    "- float - used to represent real numbers. e.g. 1.2, 42.42\n",
    "- boolean - used to represent True or False.\n",
    "- complex - used to represent complex numbers. e.g. 1.0 + 2.0j, 1.5 + 2.5j\n",
    "\n",
    "Data Types in NumPy\n",
    "\n",
    "NumPy has some extra data types, and refer to data types with one character, like i for integers, u for unsigned integers etc.\n",
    "\n",
    "Below is a list of all data types in NumPy and the characters used to represent them.\n",
    "\n",
    "- i - integer\n",
    "- b - boolean\n",
    "- u - unsigned integer\n",
    "- f - float\n",
    "- c - complex float\n",
    "- m - timedelta\n",
    "- M - datetime\n",
    "- O - object\n",
    "- S - string\n",
    "- U - unicode string\n",
    "- V - fixed chunk of memory for other type ( void )\n",
    "\n",
    "## Checking the Data Type of an Array\n",
    "The NumPy array object has a property called dtype that returns the data type of the array:"
   ]
  },
  {
   "cell_type": "code",
   "execution_count": 16,
   "metadata": {
    "ExecuteTime": {
     "end_time": "2021-08-08T17:06:20.605449Z",
     "start_time": "2021-08-08T17:06:20.592021Z"
    }
   },
   "outputs": [
    {
     "name": "stdout",
     "output_type": "stream",
     "text": [
      "int32\n"
     ]
    }
   ],
   "source": [
    "arr = np.array([1, 2, 3, 4])\n",
    "\n",
    "print(arr.dtype)"
   ]
  },
  {
   "cell_type": "code",
   "execution_count": 17,
   "metadata": {
    "ExecuteTime": {
     "end_time": "2021-08-08T17:06:20.626152Z",
     "start_time": "2021-08-08T17:06:20.608488Z"
    }
   },
   "outputs": [
    {
     "name": "stdout",
     "output_type": "stream",
     "text": [
      "<U6\n"
     ]
    }
   ],
   "source": [
    "arr = np.array(['apple', 'banana', 'cherry'])\n",
    "\n",
    "print(arr.dtype)"
   ]
  },
  {
   "cell_type": "code",
   "execution_count": 18,
   "metadata": {
    "ExecuteTime": {
     "end_time": "2021-08-08T17:06:20.637409Z",
     "start_time": "2021-08-08T17:06:20.628172Z"
    }
   },
   "outputs": [
    {
     "name": "stdout",
     "output_type": "stream",
     "text": [
      "[b'1' b'2' b'3' b'4']\n",
      "|S1\n"
     ]
    }
   ],
   "source": [
    "arr = np.array([1, 2, 3, 4], dtype='S')\n",
    "\n",
    "print(arr)\n",
    "print(arr.dtype) #For i, u, f, S and U we can define size as well."
   ]
  },
  {
   "cell_type": "code",
   "execution_count": 19,
   "metadata": {
    "ExecuteTime": {
     "end_time": "2021-08-08T17:06:20.652745Z",
     "start_time": "2021-08-08T17:06:20.639246Z"
    }
   },
   "outputs": [
    {
     "name": "stdout",
     "output_type": "stream",
     "text": [
      "[1 2 3 4]\n",
      "int32\n"
     ]
    }
   ],
   "source": [
    "arr = np.array([1, 2, 3, 4], dtype='i4')\n",
    "\n",
    "print(arr)\n",
    "print(arr.dtype)"
   ]
  },
  {
   "cell_type": "markdown",
   "metadata": {},
   "source": [
    "## What if a Value Can Not Be Converted?\n",
    "\n",
    "If a type is given in which elements can't be casted then NumPy will raise a ValueError.\n",
    "\n",
    "ValueError: In Python ValueError is raised when the type of passed argument to a function is unexpected/incorrect.\n",
    "\n",
    "## Converting Data Type on Existing Arrays\n",
    "\n",
    "The best way to change the data type of an existing array, is to make a copy of the array with the astype() method.\n",
    "\n",
    "The astype() function creates a copy of the array, and allows you to specify the data type as a parameter.\n",
    "\n",
    "The data type can be specified using a string, like 'f' for float, 'i' for integer etc. or you can use the data type directly like float for float and int for integer."
   ]
  },
  {
   "cell_type": "code",
   "execution_count": 20,
   "metadata": {
    "ExecuteTime": {
     "end_time": "2021-08-08T17:06:20.676646Z",
     "start_time": "2021-08-08T17:06:20.655992Z"
    }
   },
   "outputs": [
    {
     "name": "stdout",
     "output_type": "stream",
     "text": [
      "[1 2 3]\n",
      "int32\n"
     ]
    }
   ],
   "source": [
    "arr = np.array([1.1, 2.1, 3.1])\n",
    "\n",
    "newarr = arr.astype('i')\n",
    "\n",
    "print(newarr)\n",
    "print(newarr.dtype)"
   ]
  },
  {
   "cell_type": "code",
   "execution_count": 21,
   "metadata": {
    "ExecuteTime": {
     "end_time": "2021-08-08T17:06:20.684649Z",
     "start_time": "2021-08-08T17:06:20.678702Z"
    }
   },
   "outputs": [
    {
     "name": "stdout",
     "output_type": "stream",
     "text": [
      "[1 2 3]\n",
      "int32\n"
     ]
    }
   ],
   "source": [
    "arr = np.array([1.1, 2.1, 3.1])\n",
    "\n",
    "newarr = arr.astype(int)\n",
    "\n",
    "print(newarr)\n",
    "print(newarr.dtype)"
   ]
  },
  {
   "cell_type": "code",
   "execution_count": 22,
   "metadata": {
    "ExecuteTime": {
     "end_time": "2021-08-08T17:06:20.703627Z",
     "start_time": "2021-08-08T17:06:20.687924Z"
    }
   },
   "outputs": [
    {
     "name": "stdout",
     "output_type": "stream",
     "text": [
      "[ True False  True]\n",
      "bool\n"
     ]
    }
   ],
   "source": [
    "arr = np.array([1, 0, 3])\n",
    "\n",
    "newarr = arr.astype(bool)\n",
    "\n",
    "print(newarr)\n",
    "print(newarr.dtype)"
   ]
  },
  {
   "cell_type": "markdown",
   "metadata": {},
   "source": [
    "# Array Copy vs View\n",
    "\n",
    "The Difference Between Copy and View\n",
    "The main difference between a copy and a view of an array is that the copy is a new array, and the view is just a view of the original array.\n",
    "\n",
    "The copy owns the data and any changes made to the copy will not affect original array, and any changes made to the original array will not affect the copy.\n",
    "\n",
    "The view does not own the data and any changes made to the view will affect the original array, and any changes made to the original array will affect the view.\n",
    "\n",
    "## COPY:\n",
    "\n",
    "The copy SHOULD NOT be affected by the changes made to the original array."
   ]
  },
  {
   "cell_type": "code",
   "execution_count": 23,
   "metadata": {
    "ExecuteTime": {
     "end_time": "2021-08-08T17:06:20.713242Z",
     "start_time": "2021-08-08T17:06:20.708770Z"
    }
   },
   "outputs": [
    {
     "name": "stdout",
     "output_type": "stream",
     "text": [
      "[42  2  3  4  5]\n",
      "[1 2 3 4 5]\n"
     ]
    }
   ],
   "source": [
    "arr = np.array([1, 2, 3, 4, 5])\n",
    "x = arr.copy()\n",
    "arr[0] = 42\n",
    "\n",
    "print(arr)\n",
    "print(x)"
   ]
  },
  {
   "cell_type": "markdown",
   "metadata": {},
   "source": [
    "## VIEW:\n",
    "\n",
    "The view SHOULD be affected by the changes made to the original array.\n",
    "\n",
    "Make Changes in the VIEW:\n",
    "\n",
    "The original array SHOULD be affected by the changes made to the view.\n",
    "\n",
    "![](./i/copy_ciew_.png)\n",
    "\n",
    "![](./i/copy_ciew_modifi.png)"
   ]
  },
  {
   "cell_type": "code",
   "execution_count": 24,
   "metadata": {
    "ExecuteTime": {
     "end_time": "2021-08-08T17:06:20.742585Z",
     "start_time": "2021-08-08T17:06:20.717683Z"
    }
   },
   "outputs": [
    {
     "name": "stdout",
     "output_type": "stream",
     "text": [
      "[42  2  3  4  5]\n",
      "[42  2  3  4  5]\n"
     ]
    }
   ],
   "source": [
    "arr = np.array([1, 2, 3, 4, 5])\n",
    "x = arr.view()\n",
    "arr[0] = 42\n",
    "\n",
    "print(arr)\n",
    "print(x)"
   ]
  },
  {
   "cell_type": "code",
   "execution_count": 25,
   "metadata": {
    "ExecuteTime": {
     "end_time": "2021-08-08T17:06:20.761012Z",
     "start_time": "2021-08-08T17:06:20.745333Z"
    }
   },
   "outputs": [
    {
     "name": "stdout",
     "output_type": "stream",
     "text": [
      "[31  2  3  4  5]\n",
      "[31  2  3  4  5]\n"
     ]
    }
   ],
   "source": [
    "arr = np.array([1, 2, 3, 4, 5])\n",
    "x = arr.view()\n",
    "x[0] = 31\n",
    "\n",
    "print(arr)\n",
    "print(x)"
   ]
  },
  {
   "cell_type": "markdown",
   "metadata": {},
   "source": [
    "## Check if Array Owns it's Data\n",
    "\n",
    "As mentioned above, copies owns the data, and views does not own the data, but how can we check this?\n",
    "\n",
    "Every NumPy array has the attribute base that returns None if the array owns the data.\n",
    "\n",
    "Otherwise, the base  attribute refers to the original object.\n",
    "\n",
    "**The copy returns None.**\n",
    "\n",
    "**The view returns the original array.**"
   ]
  },
  {
   "cell_type": "code",
   "execution_count": 26,
   "metadata": {
    "ExecuteTime": {
     "end_time": "2021-08-08T17:06:20.776357Z",
     "start_time": "2021-08-08T17:06:20.763008Z"
    }
   },
   "outputs": [
    {
     "name": "stdout",
     "output_type": "stream",
     "text": [
      "None\n",
      "[1 2 3 4 5]\n"
     ]
    }
   ],
   "source": [
    "arr = np.array([1, 2, 3, 4, 5])\n",
    "\n",
    "x = arr.copy()\n",
    "y = arr.view()\n",
    "\n",
    "print(x.base)\n",
    "print(y.base)"
   ]
  },
  {
   "cell_type": "markdown",
   "metadata": {},
   "source": [
    "# Array Shape\n",
    "\n",
    "## Shape of an Array\n",
    "The shape of an array is the number of elements in each dimension.\n",
    "\n",
    "Get the Shape of an Array\n",
    "NumPy arrays have an attribute called shape that returns a tuple with each index having the number of corresponding elements."
   ]
  },
  {
   "cell_type": "code",
   "execution_count": 27,
   "metadata": {
    "ExecuteTime": {
     "end_time": "2021-08-08T17:06:20.794600Z",
     "start_time": "2021-08-08T17:06:20.778357Z"
    }
   },
   "outputs": [
    {
     "name": "stdout",
     "output_type": "stream",
     "text": [
      "(2, 4)\n"
     ]
    }
   ],
   "source": [
    "arr = np.array([[1, 2, 3, 4], [5, 6, 7, 8]])\n",
    "\n",
    "print(arr.shape)"
   ]
  },
  {
   "cell_type": "code",
   "execution_count": 28,
   "metadata": {
    "ExecuteTime": {
     "end_time": "2021-08-08T17:06:20.807892Z",
     "start_time": "2021-08-08T17:06:20.796646Z"
    }
   },
   "outputs": [
    {
     "name": "stdout",
     "output_type": "stream",
     "text": [
      "[[[[[1 2 3 4]]]]]\n",
      "shape of array : (1, 1, 1, 1, 4)\n"
     ]
    }
   ],
   "source": [
    "arr = np.array([1, 2, 3, 4], ndmin=5)\n",
    "\n",
    "print(arr)\n",
    "print('shape of array :', arr.shape)"
   ]
  },
  {
   "cell_type": "markdown",
   "metadata": {},
   "source": [
    "## What does the shape tuple represent?\n",
    "\n",
    "Integers at every index tells about the number of elements the corresponding dimension has.\n",
    "\n",
    "\n",
    "In the example above at index-4 we have value 4, so we can say that 5th ( 4 + 1 th) dimension has 4 elements.\n",
    "\n",
    "# Reshaping arrays\n",
    "\n",
    "Reshaping means changing the shape of an array.\n",
    "\n",
    "The shape of an array is the number of elements in each dimension.\n",
    "\n",
    "By reshaping we can add or remove dimensions or change number of elements in each dimension.\n",
    "\n",
    "## Reshape From 1-D to 2-D"
   ]
  },
  {
   "cell_type": "code",
   "execution_count": 29,
   "metadata": {
    "ExecuteTime": {
     "end_time": "2021-08-08T17:06:20.823948Z",
     "start_time": "2021-08-08T17:06:20.809887Z"
    }
   },
   "outputs": [
    {
     "name": "stdout",
     "output_type": "stream",
     "text": [
      "[[ 1  2  3]\n",
      " [ 4  5  6]\n",
      " [ 7  8  9]\n",
      " [10 11 12]]\n"
     ]
    }
   ],
   "source": [
    "arr = np.array([1, 2, 3, 4, 5, 6, 7, 8, 9, 10, 11, 12])\n",
    "\n",
    "newarr = arr.reshape(4, 3)\n",
    "\n",
    "print(newarr)"
   ]
  },
  {
   "cell_type": "markdown",
   "metadata": {},
   "source": [
    "## Reshape From 1-D to 3-D\n",
    "\n",
    "## Can We Reshape Into any Shape?\n",
    "\n",
    "Yes, as long as the elements required for reshaping are equal in both shapes.\n",
    "\n",
    "\n",
    "We can reshape an 8 elements 1D array into 4 elements in 2 rows 2D array but we cannot reshape it into a 3 elements 3 rows 2D array as that would require 3x3 = 9 elements."
   ]
  },
  {
   "cell_type": "code",
   "execution_count": 30,
   "metadata": {
    "ExecuteTime": {
     "end_time": "2021-08-08T17:06:20.839110Z",
     "start_time": "2021-08-08T17:06:20.825957Z"
    }
   },
   "outputs": [
    {
     "name": "stdout",
     "output_type": "stream",
     "text": [
      "[[[ 1  2]\n",
      "  [ 3  4]\n",
      "  [ 5  6]]\n",
      "\n",
      " [[ 7  8]\n",
      "  [ 9 10]\n",
      "  [11 12]]]\n"
     ]
    }
   ],
   "source": [
    "arr = np.array([1, 2, 3, 4, 5, 6, 7, 8, 9, 10, 11, 12])\n",
    "\n",
    "newarr = arr.reshape(2, 3, 2)\n",
    "\n",
    "print(newarr)"
   ]
  },
  {
   "cell_type": "markdown",
   "metadata": {},
   "source": [
    "## Returns Copy or View?\n"
   ]
  },
  {
   "cell_type": "code",
   "execution_count": 31,
   "metadata": {
    "ExecuteTime": {
     "end_time": "2021-08-08T17:06:20.848087Z",
     "start_time": "2021-08-08T17:06:20.841105Z"
    }
   },
   "outputs": [
    {
     "name": "stdout",
     "output_type": "stream",
     "text": [
      "[1 2 3 4 5 6 7 8]\n"
     ]
    }
   ],
   "source": [
    "arr = np.array([1, 2, 3, 4, 5, 6, 7, 8])\n",
    "\n",
    "print(arr.reshape(2, 4).base)"
   ]
  },
  {
   "cell_type": "markdown",
   "metadata": {},
   "source": [
    "The example above returns the original array, so it is a view.\n",
    "\n",
    "## Unknown Dimension\n",
    "\n",
    "You are allowed to have one \"unknown\" dimension.\n",
    "\n",
    "Meaning that you do not have to specify an exact number for one of the dimensions in the reshape method.\n",
    "\n",
    "Pass -1 as the value, and NumPy will calculate this number for you."
   ]
  },
  {
   "cell_type": "code",
   "execution_count": 32,
   "metadata": {
    "ExecuteTime": {
     "end_time": "2021-08-08T17:06:20.871543Z",
     "start_time": "2021-08-08T17:06:20.850802Z"
    }
   },
   "outputs": [
    {
     "name": "stdout",
     "output_type": "stream",
     "text": [
      "[[[1 2]\n",
      "  [3 4]]\n",
      "\n",
      " [[5 6]\n",
      "  [7 8]]]\n"
     ]
    }
   ],
   "source": [
    "arr = np.array([1, 2, 3, 4, 5, 6, 7, 8])\n",
    "\n",
    "newarr = arr.reshape(2, 2, -1)\n",
    "\n",
    "print(newarr)"
   ]
  },
  {
   "cell_type": "markdown",
   "metadata": {},
   "source": [
    "Note: We can not pass -1 to more than one dimension.\n",
    "\n",
    "## Flattening the arrays\n",
    "\n",
    "Flattening array means converting a multidimensional array into a 1D array.\n",
    "\n",
    "We can use reshape(-1) to do this."
   ]
  },
  {
   "cell_type": "code",
   "execution_count": 33,
   "metadata": {
    "ExecuteTime": {
     "end_time": "2021-08-08T17:06:20.886694Z",
     "start_time": "2021-08-08T17:06:20.873953Z"
    }
   },
   "outputs": [
    {
     "name": "stdout",
     "output_type": "stream",
     "text": [
      "[1 2 3 4 5 6]\n"
     ]
    }
   ],
   "source": [
    "arr = np.array([[1, 2, 3], [4, 5, 6]])\n",
    "\n",
    "newarr = arr.reshape(-1)\n",
    "\n",
    "print(newarr)"
   ]
  },
  {
   "cell_type": "code",
   "execution_count": 34,
   "metadata": {
    "ExecuteTime": {
     "end_time": "2021-08-08T17:06:20.895221Z",
     "start_time": "2021-08-08T17:06:20.889395Z"
    }
   },
   "outputs": [
    {
     "data": {
      "text/plain": [
       "array([[ 1,  2,  3,  4,  5,  6,  7,  8,  9, 10, 11, 12]])"
      ]
     },
     "execution_count": 34,
     "metadata": {},
     "output_type": "execute_result"
    }
   ],
   "source": [
    "arr = np.array([1, 2, 3, 4, 5, 6, 7, 8, 9, 10, 11, 12])\n",
    "\n",
    "newarr=arr.reshape(1, -1)\n",
    "newarr"
   ]
  },
  {
   "cell_type": "code",
   "execution_count": 35,
   "metadata": {
    "ExecuteTime": {
     "end_time": "2021-08-08T17:06:20.914189Z",
     "start_time": "2021-08-08T17:06:20.897360Z"
    }
   },
   "outputs": [
    {
     "data": {
      "text/plain": [
       "array([[ 1],\n",
       "       [ 2],\n",
       "       [ 3],\n",
       "       [ 4],\n",
       "       [ 5],\n",
       "       [ 6],\n",
       "       [ 7],\n",
       "       [ 8],\n",
       "       [ 9],\n",
       "       [10],\n",
       "       [11],\n",
       "       [12]])"
      ]
     },
     "execution_count": 35,
     "metadata": {},
     "output_type": "execute_result"
    }
   ],
   "source": [
    "arr = np.array([1, 2, 3, 4, 5, 6, 7, 8, 9, 10, 11, 12])\n",
    "\n",
    "newarr=arr.reshape(-1, 1)\n",
    "newarr"
   ]
  },
  {
   "cell_type": "markdown",
   "metadata": {},
   "source": [
    "# Iterating Arrays\n",
    "\n",
    "Iterating means going through elements one by one.\n",
    "\n",
    "As we deal with multi-dimensional arrays in numpy, we can do this using basic for loop of python.\n",
    "\n",
    "If we iterate on a 1-D array it will go through each element one by one."
   ]
  },
  {
   "cell_type": "code",
   "execution_count": 36,
   "metadata": {
    "ExecuteTime": {
     "end_time": "2021-08-08T17:06:20.936528Z",
     "start_time": "2021-08-08T17:06:20.916185Z"
    }
   },
   "outputs": [
    {
     "name": "stdout",
     "output_type": "stream",
     "text": [
      "1\n",
      "2\n",
      "3\n"
     ]
    }
   ],
   "source": [
    "arr = np.array([1, 2, 3])\n",
    "\n",
    "for x in arr:\n",
    "    print(x)"
   ]
  },
  {
   "cell_type": "markdown",
   "metadata": {},
   "source": [
    "## Iterating 2-D Arrays\n",
    "\n",
    "In a 2-D array it will go through all the rows.\n",
    "\n",
    "**If we iterate on a n-D array it will go through n-1th dimension one by one.**"
   ]
  },
  {
   "cell_type": "code",
   "execution_count": 37,
   "metadata": {
    "ExecuteTime": {
     "end_time": "2021-08-08T17:06:20.945335Z",
     "start_time": "2021-08-08T17:06:20.939316Z"
    }
   },
   "outputs": [
    {
     "name": "stdout",
     "output_type": "stream",
     "text": [
      "[1 2 3]\n",
      "[4 5 6]\n"
     ]
    }
   ],
   "source": [
    "arr = np.array([[1, 2, 3], [4, 5, 6]])\n",
    "\n",
    "for x in arr:\n",
    "    print(x)"
   ]
  },
  {
   "cell_type": "code",
   "execution_count": 38,
   "metadata": {
    "ExecuteTime": {
     "end_time": "2021-08-08T17:06:20.966774Z",
     "start_time": "2021-08-08T17:06:20.947376Z"
    }
   },
   "outputs": [
    {
     "name": "stdout",
     "output_type": "stream",
     "text": [
      "1\n",
      "2\n",
      "3\n",
      "4\n",
      "5\n",
      "6\n"
     ]
    }
   ],
   "source": [
    "for x in arr:\n",
    "    for y in x:\n",
    "        print(y)"
   ]
  },
  {
   "cell_type": "markdown",
   "metadata": {},
   "source": [
    "## Iterating 3-D Arrays\n",
    "In a 3-D array it will go through all the 2-D arrays."
   ]
  },
  {
   "cell_type": "code",
   "execution_count": 39,
   "metadata": {
    "ExecuteTime": {
     "end_time": "2021-08-08T17:06:20.982439Z",
     "start_time": "2021-08-08T17:06:20.968769Z"
    }
   },
   "outputs": [
    {
     "name": "stdout",
     "output_type": "stream",
     "text": [
      "[[1 2 3]\n",
      " [4 5 6]]\n",
      "[[ 7  8  9]\n",
      " [10 11 12]]\n"
     ]
    }
   ],
   "source": [
    "arr = np.array([[[1, 2, 3], [4, 5, 6]], [[7, 8, 9], [10, 11, 12]]])\n",
    "\n",
    "for x in arr:\n",
    "    print(x)"
   ]
  },
  {
   "cell_type": "code",
   "execution_count": 40,
   "metadata": {
    "ExecuteTime": {
     "end_time": "2021-08-08T17:06:20.997668Z",
     "start_time": "2021-08-08T17:06:20.984814Z"
    }
   },
   "outputs": [
    {
     "name": "stdout",
     "output_type": "stream",
     "text": [
      "1\n",
      "2\n",
      "3\n",
      "4\n",
      "5\n",
      "6\n",
      "7\n",
      "8\n",
      "9\n",
      "10\n",
      "11\n",
      "12\n"
     ]
    }
   ],
   "source": [
    "arr = np.array([[[1, 2, 3], [4, 5, 6]], [[7, 8, 9], [10, 11, 12]]])\n",
    "\n",
    "for i in arr:\n",
    "    for j in i:\n",
    "        for k in j:\n",
    "            print(k)"
   ]
  },
  {
   "cell_type": "markdown",
   "metadata": {},
   "source": [
    "## Iterating Arrays Using nditer()\n",
    "\n",
    "The function nditer() is a helping function that can be used from very basic to very advanced iterations. It solves some basic issues which we face in iteration, lets go through it with examples.\n",
    "\n",
    "Iterating on Each Scalar Element\n",
    "In basic for loops, iterating through each scalar of an array we need to use n for loops which can be difficult to write for arrays with very high dimensionality."
   ]
  },
  {
   "cell_type": "code",
   "execution_count": 41,
   "metadata": {
    "ExecuteTime": {
     "end_time": "2021-08-08T17:06:21.006606Z",
     "start_time": "2021-08-08T17:06:20.999857Z"
    }
   },
   "outputs": [
    {
     "name": "stdout",
     "output_type": "stream",
     "text": [
      "1\n",
      "2\n",
      "3\n",
      "4\n",
      "5\n",
      "6\n",
      "7\n",
      "8\n"
     ]
    }
   ],
   "source": [
    "arr = np.array([[[1, 2], [3, 4]], [[5, 6], [7, 8]]])\n",
    "\n",
    "for x in np.nditer(arr):\n",
    "  print(x)"
   ]
  },
  {
   "cell_type": "markdown",
   "metadata": {},
   "source": [
    "## Iterating Array With Different Data Types\n",
    "\n",
    "We can use op_dtypes argument and pass it the expected datatype to change the datatype of elements while iterating.\n",
    "\n",
    "NumPy does not change the data type of the element in-place (where the element is in array) so it needs some other space to perform this action, that extra space is called buffer, and in order to enable it in nditer() we pass flags=['buffered']."
   ]
  },
  {
   "cell_type": "code",
   "execution_count": 42,
   "metadata": {
    "ExecuteTime": {
     "end_time": "2021-08-08T17:06:21.030664Z",
     "start_time": "2021-08-08T17:06:21.008934Z"
    }
   },
   "outputs": [
    {
     "name": "stdout",
     "output_type": "stream",
     "text": [
      "b'1'\n",
      "b'2'\n",
      "b'3'\n"
     ]
    }
   ],
   "source": [
    "arr = np.array([1, 2, 3])\n",
    "\n",
    "for x in np.nditer(arr, flags=['buffered'], op_dtypes=['S']):\n",
    "    print(x)"
   ]
  },
  {
   "cell_type": "markdown",
   "metadata": {},
   "source": [
    "## Iterating With Different Step Size\n",
    "\n",
    "We can use filtering and followed by iteration."
   ]
  },
  {
   "cell_type": "code",
   "execution_count": 43,
   "metadata": {
    "ExecuteTime": {
     "end_time": "2021-08-08T17:06:21.045331Z",
     "start_time": "2021-08-08T17:06:21.032245Z"
    }
   },
   "outputs": [
    {
     "name": "stdout",
     "output_type": "stream",
     "text": [
      "1\n",
      "3\n",
      "5\n",
      "7\n"
     ]
    }
   ],
   "source": [
    "arr = np.array([[1, 2, 3, 4], [5, 6, 7, 8]])\n",
    "\n",
    "for x in np.nditer(arr[:, ::2]):\n",
    "    print(x)"
   ]
  },
  {
   "cell_type": "markdown",
   "metadata": {},
   "source": [
    "## Enumerated Iteration Using ndenumerate()\n",
    "\n",
    "Enumeration means mentioning sequence number of somethings one by one.\n",
    "\n",
    "Sometimes we require corresponding index of the element while iterating, the ndenumerate() method can be used for those usecases."
   ]
  },
  {
   "cell_type": "code",
   "execution_count": 44,
   "metadata": {
    "ExecuteTime": {
     "end_time": "2021-08-08T17:06:21.061168Z",
     "start_time": "2021-08-08T17:06:21.047326Z"
    }
   },
   "outputs": [
    {
     "name": "stdout",
     "output_type": "stream",
     "text": [
      "(0,) 1\n",
      "(1,) 2\n",
      "(2,) 3\n"
     ]
    }
   ],
   "source": [
    "arr = np.array([1, 2, 3])\n",
    "\n",
    "for idx, x in np.ndenumerate(arr):\n",
    "    print(idx, x)"
   ]
  },
  {
   "cell_type": "code",
   "execution_count": 45,
   "metadata": {
    "ExecuteTime": {
     "end_time": "2021-08-08T17:06:21.078829Z",
     "start_time": "2021-08-08T17:06:21.063172Z"
    }
   },
   "outputs": [
    {
     "name": "stdout",
     "output_type": "stream",
     "text": [
      "[[1 2 3 4]\n",
      " [5 6 7 8]]\n",
      "*************************\n",
      "(0, 0) 1\n",
      "(0, 1) 2\n",
      "(0, 2) 3\n",
      "(0, 3) 4\n",
      "(1, 0) 5\n",
      "(1, 1) 6\n",
      "(1, 2) 7\n",
      "(1, 3) 8\n"
     ]
    }
   ],
   "source": [
    "arr = np.array([[1, 2, 3, 4], [5, 6, 7, 8]])\n",
    "print(arr)\n",
    "\n",
    "print(\"*************************\")\n",
    "\n",
    "for idx, x in np.ndenumerate(arr):\n",
    "    print(idx, x)"
   ]
  },
  {
   "cell_type": "markdown",
   "metadata": {},
   "source": [
    "# Joining NumPy Arrays\n",
    "\n",
    "Joining means putting contents of two or more arrays in a single array.\n",
    "\n",
    "In SQL we join tables based on a key, whereas in NumPy we join arrays by axes.\n",
    "\n",
    "We pass a sequence of arrays that we want to join to the concatenate() function, along with the axis. If axis is not explicitly passed, it is taken as 0.\n",
    "\n",
    "\n",
    "**Join two 2-D arrays along rows (axis=1)**"
   ]
  },
  {
   "cell_type": "code",
   "execution_count": 46,
   "metadata": {
    "ExecuteTime": {
     "end_time": "2021-08-08T17:06:21.094279Z",
     "start_time": "2021-08-08T17:06:21.080824Z"
    }
   },
   "outputs": [
    {
     "name": "stdout",
     "output_type": "stream",
     "text": [
      "[1 2 3 4 5 6]\n"
     ]
    }
   ],
   "source": [
    "arr1 = np.array([1, 2, 3])\n",
    "\n",
    "arr2 = np.array([4, 5, 6])\n",
    "\n",
    "arr = np.concatenate((arr1, arr2))\n",
    "\n",
    "print(arr)"
   ]
  },
  {
   "cell_type": "code",
   "execution_count": 47,
   "metadata": {
    "ExecuteTime": {
     "end_time": "2021-08-08T17:06:21.105322Z",
     "start_time": "2021-08-08T17:06:21.096245Z"
    }
   },
   "outputs": [
    {
     "name": "stdout",
     "output_type": "stream",
     "text": [
      "[[1 2 5 6]\n",
      " [3 4 7 8]]\n"
     ]
    }
   ],
   "source": [
    "arr1 = np.array([[1, 2], [3, 4]])\n",
    "\n",
    "arr2 = np.array([[5, 6], [7, 8]])\n",
    "\n",
    "arr = np.concatenate((arr1, arr2), axis=1)\n",
    "\n",
    "print(arr)"
   ]
  },
  {
   "cell_type": "markdown",
   "metadata": {},
   "source": [
    "## Joining Arrays Using Stack Functions\n",
    "\n",
    "Stacking is same as concatenation, the only difference is that stacking is done along a new axis.\n",
    "\n",
    "We can concatenate two 1-D arrays along the second axis which would result in putting them one over the other, ie. stacking.\n",
    "\n",
    "We pass a sequence of arrays that we want to join to the stack() method along with the axis. If axis is not explicitly passed it is taken as 0."
   ]
  },
  {
   "cell_type": "code",
   "execution_count": 48,
   "metadata": {
    "ExecuteTime": {
     "end_time": "2021-08-08T17:06:21.128698Z",
     "start_time": "2021-08-08T17:06:21.107477Z"
    }
   },
   "outputs": [
    {
     "name": "stdout",
     "output_type": "stream",
     "text": [
      "[[1 4]\n",
      " [2 5]\n",
      " [3 6]]\n"
     ]
    }
   ],
   "source": [
    "arr1 = np.array([1, 2, 3])\n",
    "\n",
    "arr2 = np.array([4, 5, 6])\n",
    "\n",
    "arr = np.stack((arr1, arr2), axis=1)\n",
    "\n",
    "print(arr)"
   ]
  },
  {
   "cell_type": "markdown",
   "metadata": {},
   "source": [
    "## Stacking Along Rows\n",
    "\n",
    "NumPy provides a helper function: hstack() to stack along rows."
   ]
  },
  {
   "cell_type": "code",
   "execution_count": 49,
   "metadata": {
    "ExecuteTime": {
     "end_time": "2021-08-08T17:06:21.144194Z",
     "start_time": "2021-08-08T17:06:21.129662Z"
    }
   },
   "outputs": [
    {
     "name": "stdout",
     "output_type": "stream",
     "text": [
      "[1 2 3 4 5 6]\n"
     ]
    }
   ],
   "source": [
    "arr1 = np.array([1, 2, 3])\n",
    "\n",
    "arr2 = np.array([4, 5, 6])\n",
    "\n",
    "arr = np.hstack((arr1, arr2))\n",
    "\n",
    "print(arr)"
   ]
  },
  {
   "cell_type": "markdown",
   "metadata": {},
   "source": [
    "## Stacking Along Columns\n",
    "\n",
    "NumPy provides a helper function: vstack()  to stack along columns."
   ]
  },
  {
   "cell_type": "code",
   "execution_count": 50,
   "metadata": {
    "ExecuteTime": {
     "end_time": "2021-08-08T17:06:21.159559Z",
     "start_time": "2021-08-08T17:06:21.146698Z"
    }
   },
   "outputs": [
    {
     "name": "stdout",
     "output_type": "stream",
     "text": [
      "[[1 2 3]\n",
      " [4 5 6]]\n"
     ]
    }
   ],
   "source": [
    "arr1 = np.array([1, 2, 3])\n",
    "\n",
    "arr2 = np.array([4, 5, 6])\n",
    "\n",
    "arr = np.vstack((arr1, arr2))\n",
    "\n",
    "print(arr)"
   ]
  },
  {
   "cell_type": "markdown",
   "metadata": {},
   "source": [
    "## Stacking Along Height (depth)\n",
    "\n",
    "NumPy provides a helper function: \n",
    "    \n",
    "dstack() to stack along height, which is the same as depth."
   ]
  },
  {
   "cell_type": "code",
   "execution_count": 51,
   "metadata": {
    "ExecuteTime": {
     "end_time": "2021-08-08T17:06:21.170325Z",
     "start_time": "2021-08-08T17:06:21.163035Z"
    }
   },
   "outputs": [
    {
     "name": "stdout",
     "output_type": "stream",
     "text": [
      "[[[1 4]\n",
      "  [2 5]\n",
      "  [3 6]]]\n"
     ]
    }
   ],
   "source": [
    "arr1 = np.array([1, 2, 3])\n",
    "\n",
    "arr2 = np.array([4, 5, 6])\n",
    "\n",
    "arr = np.dstack((arr1, arr2))\n",
    "\n",
    "print(arr)"
   ]
  },
  {
   "cell_type": "markdown",
   "metadata": {},
   "source": [
    "# Splitting NumPy Arrays\n",
    "\n",
    "Splitting is reverse operation of Joining.\n",
    "\n",
    "Joining merges multiple arrays into one and Splitting breaks one array into multiple.\n",
    "\n",
    "We use array_split() for splitting arrays, we pass it the array we want to split and the number of splits.\n",
    "\n",
    "**Note: The return value is an array containing three arrays.**\n",
    "\n",
    "If the array has less elements than required, it will adjust from the end accordingly.\n",
    "\n"
   ]
  },
  {
   "cell_type": "code",
   "execution_count": 52,
   "metadata": {
    "ExecuteTime": {
     "end_time": "2021-08-08T17:06:21.190731Z",
     "start_time": "2021-08-08T17:06:21.173378Z"
    }
   },
   "outputs": [
    {
     "name": "stdout",
     "output_type": "stream",
     "text": [
      "[array([1, 2]), array([3, 4]), array([5, 6])]\n"
     ]
    }
   ],
   "source": [
    "arr = np.array([1, 2, 3, 4, 5, 6])\n",
    "\n",
    "newarr = np.array_split(arr, 3)\n",
    "\n",
    "print(newarr)"
   ]
  },
  {
   "cell_type": "code",
   "execution_count": 53,
   "metadata": {
    "ExecuteTime": {
     "end_time": "2021-08-08T17:06:21.198909Z",
     "start_time": "2021-08-08T17:06:21.192723Z"
    }
   },
   "outputs": [
    {
     "name": "stdout",
     "output_type": "stream",
     "text": [
      "[array([1, 2]), array([3, 4]), array([5]), array([6])]\n"
     ]
    }
   ],
   "source": [
    "arr = np.array([1, 2, 3, 4, 5, 6])\n",
    "\n",
    "newarr = np.array_split(arr, 4)\n",
    "\n",
    "print(newarr)"
   ]
  },
  {
   "cell_type": "markdown",
   "metadata": {},
   "source": [
    "Note: We also have the method split() available but it will not adjust the elements when elements are less in source array for splitting like in example above, array_split() worked properly but split() would fail.\n",
    "\n",
    "## Split Into Arrays\n",
    "\n",
    "The return value of the array_split() method is an array containing each of the split as an array.\n",
    "\n",
    "If you split an array into 3 arrays, you can access them from the result just like any array element:"
   ]
  },
  {
   "cell_type": "code",
   "execution_count": 54,
   "metadata": {
    "ExecuteTime": {
     "end_time": "2021-08-08T17:06:21.223115Z",
     "start_time": "2021-08-08T17:06:21.202319Z"
    }
   },
   "outputs": [
    {
     "name": "stdout",
     "output_type": "stream",
     "text": [
      "[1 2]\n",
      "[3 4]\n",
      "[5 6]\n"
     ]
    }
   ],
   "source": [
    "arr = np.array([1, 2, 3, 4, 5, 6])\n",
    "\n",
    "newarr = np.array_split(arr, 3)\n",
    "\n",
    "print(newarr[0])\n",
    "print(newarr[1])\n",
    "print(newarr[2])"
   ]
  },
  {
   "cell_type": "markdown",
   "metadata": {},
   "source": [
    "## Splitting 2-D Arrays\n",
    "\n",
    "Use the same syntax when splitting 2-D arrays.\n",
    "\n",
    "Use the array_split() method, pass in the array you want to split and the number of splits you want to do.\n",
    "\n",
    "\n",
    "The example above returns three 2-D arrays.\n",
    "\n",
    "Let's look at another example, this time each element in the 2-D arrays contains 3 elements."
   ]
  },
  {
   "cell_type": "code",
   "execution_count": 55,
   "metadata": {
    "ExecuteTime": {
     "end_time": "2021-08-08T17:06:21.234259Z",
     "start_time": "2021-08-08T17:06:21.225111Z"
    }
   },
   "outputs": [
    {
     "data": {
      "text/plain": [
       "[array([[1, 2],\n",
       "        [3, 4]]),\n",
       " array([[5, 6],\n",
       "        [7, 8]]),\n",
       " array([[ 9, 10],\n",
       "        [11, 12]])]"
      ]
     },
     "execution_count": 55,
     "metadata": {},
     "output_type": "execute_result"
    }
   ],
   "source": [
    "arr = np.array([[1, 2], [3, 4], [5, 6], [7, 8], [9, 10], [11, 12]])\n",
    "\n",
    "newarr = np.array_split(arr, 3)\n",
    "\n",
    "newarr"
   ]
  },
  {
   "cell_type": "code",
   "execution_count": 56,
   "metadata": {
    "ExecuteTime": {
     "end_time": "2021-08-08T17:06:21.249989Z",
     "start_time": "2021-08-08T17:06:21.236718Z"
    }
   },
   "outputs": [
    {
     "data": {
      "text/plain": [
       "[array([[1, 2, 3],\n",
       "        [4, 5, 6]]),\n",
       " array([[ 7,  8,  9],\n",
       "        [10, 11, 12]]),\n",
       " array([[13, 14, 15],\n",
       "        [16, 17, 18]])]"
      ]
     },
     "execution_count": 56,
     "metadata": {},
     "output_type": "execute_result"
    }
   ],
   "source": [
    "arr = np.array([[1, 2, 3], [4, 5, 6], [7, 8, 9], [10, 11, 12], [13, 14, 15], [16, 17, 18]])\n",
    "\n",
    "newarr = np.array_split(arr, 3)\n",
    "\n",
    "newarr"
   ]
  },
  {
   "cell_type": "markdown",
   "metadata": {
    "ExecuteTime": {
     "end_time": "2021-08-07T04:32:33.795935Z",
     "start_time": "2021-08-07T04:32:33.775989Z"
    }
   },
   "source": [
    "The example above returns three 2-D arrays.\n",
    "\n",
    "In addition, you can specify which axis you want to do the split around.\n",
    "\n",
    "The example below also returns three 2-D arrays, but they are split along the row (axis=1)."
   ]
  },
  {
   "cell_type": "code",
   "execution_count": 57,
   "metadata": {
    "ExecuteTime": {
     "end_time": "2021-08-08T17:06:21.266437Z",
     "start_time": "2021-08-08T17:06:21.252311Z"
    }
   },
   "outputs": [
    {
     "data": {
      "text/plain": [
       "[array([[ 1],\n",
       "        [ 4],\n",
       "        [ 7],\n",
       "        [10],\n",
       "        [13],\n",
       "        [16]]),\n",
       " array([[ 2],\n",
       "        [ 5],\n",
       "        [ 8],\n",
       "        [11],\n",
       "        [14],\n",
       "        [17]]),\n",
       " array([[ 3],\n",
       "        [ 6],\n",
       "        [ 9],\n",
       "        [12],\n",
       "        [15],\n",
       "        [18]])]"
      ]
     },
     "execution_count": 57,
     "metadata": {},
     "output_type": "execute_result"
    }
   ],
   "source": [
    "arr = np.array([[1, 2, 3], [4, 5, 6], [7, 8, 9], [10, 11, 12], [13, 14, 15], [16, 17, 18]])\n",
    "\n",
    "newarr = np.array_split(arr, 3, axis=1)\n",
    "\n",
    "newarr"
   ]
  },
  {
   "cell_type": "markdown",
   "metadata": {},
   "source": [
    "**An alternate solution is using hsplit() opposite of hstack()**\n",
    "\n",
    "Note: Similar alternates to vstack() and dstack() are available as vsplit() and dsplit().\n",
    "\n"
   ]
  },
  {
   "cell_type": "code",
   "execution_count": 58,
   "metadata": {
    "ExecuteTime": {
     "end_time": "2021-08-08T17:06:21.278630Z",
     "start_time": "2021-08-08T17:06:21.268432Z"
    }
   },
   "outputs": [
    {
     "data": {
      "text/plain": [
       "[array([[ 1],\n",
       "        [ 4],\n",
       "        [ 7],\n",
       "        [10],\n",
       "        [13],\n",
       "        [16]]),\n",
       " array([[ 2],\n",
       "        [ 5],\n",
       "        [ 8],\n",
       "        [11],\n",
       "        [14],\n",
       "        [17]]),\n",
       " array([[ 3],\n",
       "        [ 6],\n",
       "        [ 9],\n",
       "        [12],\n",
       "        [15],\n",
       "        [18]])]"
      ]
     },
     "execution_count": 58,
     "metadata": {},
     "output_type": "execute_result"
    }
   ],
   "source": [
    "arr = np.array([[1, 2, 3], [4, 5, 6], [7, 8, 9], [10, 11, 12], [13, 14, 15], [16, 17, 18]])\n",
    "\n",
    "newarr = np.hsplit(arr, 3)\n",
    "\n",
    "newarr"
   ]
  },
  {
   "cell_type": "markdown",
   "metadata": {},
   "source": [
    "# Searching Arrays\n",
    "\n",
    "You can search an array for a certain value, and return the indexes that get a match.\n",
    "\n",
    "To search an array, use the where() method."
   ]
  },
  {
   "cell_type": "code",
   "execution_count": 59,
   "metadata": {
    "ExecuteTime": {
     "end_time": "2021-08-08T17:06:21.294386Z",
     "start_time": "2021-08-08T17:06:21.280858Z"
    }
   },
   "outputs": [
    {
     "name": "stdout",
     "output_type": "stream",
     "text": [
      "(array([ 3,  5,  9, 13], dtype=int64),)\n"
     ]
    }
   ],
   "source": [
    "arr = np.array([1, 2, 3, 4, 5, 4, 35 , 76 , 96 , 4 , 1, 2, 3, 4,])\n",
    "\n",
    "x = np.where(arr == 4)\n",
    "\n",
    "print(x)"
   ]
  },
  {
   "cell_type": "code",
   "execution_count": 60,
   "metadata": {
    "ExecuteTime": {
     "end_time": "2021-08-08T17:06:21.319396Z",
     "start_time": "2021-08-08T17:06:21.296529Z"
    }
   },
   "outputs": [
    {
     "name": "stdout",
     "output_type": "stream",
     "text": [
      "(array([ 1,  3,  5,  7,  8,  9, 11, 13], dtype=int64),)\n"
     ]
    }
   ],
   "source": [
    "\n",
    "x = np.where(arr%2 == 0)\n",
    "\n",
    "print(x)"
   ]
  },
  {
   "cell_type": "code",
   "execution_count": 61,
   "metadata": {
    "ExecuteTime": {
     "end_time": "2021-08-08T17:06:21.328650Z",
     "start_time": "2021-08-08T17:06:21.321840Z"
    }
   },
   "outputs": [
    {
     "name": "stdout",
     "output_type": "stream",
     "text": [
      "(array([ 0,  2,  4,  6, 10, 12], dtype=int64),)\n"
     ]
    }
   ],
   "source": [
    "x = np.where(arr%2 == 1)\n",
    "\n",
    "print(x)"
   ]
  },
  {
   "cell_type": "markdown",
   "metadata": {},
   "source": [
    "## Search Sorted\n",
    "\n",
    "There is a method called searchsorted() which performs a binary search in the array, and returns the index where the specified value would be inserted to maintain the search order.\n",
    "\n",
    "The searchsorted() method is assumed to be used on sorted arrays."
   ]
  },
  {
   "cell_type": "code",
   "execution_count": 62,
   "metadata": {
    "ExecuteTime": {
     "end_time": "2021-08-08T17:06:21.341988Z",
     "start_time": "2021-08-08T17:06:21.330971Z"
    }
   },
   "outputs": [
    {
     "name": "stdout",
     "output_type": "stream",
     "text": [
      "1\n"
     ]
    }
   ],
   "source": [
    "arr = np.array([6, 7, 8, 9])\n",
    "\n",
    "x = np.searchsorted(arr, 7)\n",
    "\n",
    "print(x)"
   ]
  },
  {
   "cell_type": "markdown",
   "metadata": {},
   "source": [
    "Example explained: The number 7 should be inserted on index 1 to remain the sort order.\n",
    "\n",
    "The method starts the search from the left and returns the first index where the number 7 is no longer larger than the next value.\n",
    "\n",
    "## Search From the Right Side\n",
    "By default the left most index is returned, but we can give side='right' to return the right most index instead."
   ]
  },
  {
   "cell_type": "code",
   "execution_count": 63,
   "metadata": {
    "ExecuteTime": {
     "end_time": "2021-08-08T17:06:21.357832Z",
     "start_time": "2021-08-08T17:06:21.344046Z"
    }
   },
   "outputs": [
    {
     "name": "stdout",
     "output_type": "stream",
     "text": [
      "2\n"
     ]
    }
   ],
   "source": [
    "arr = np.array([6, 7, 8, 9])\n",
    "\n",
    "x = np.searchsorted(arr, 7, side='right')\n",
    "\n",
    "print(x)"
   ]
  },
  {
   "cell_type": "markdown",
   "metadata": {},
   "source": [
    "Example explained: The number 7 should be inserted on index 2 to remain the sort order.\n",
    "\n",
    "The method starts the search from the right and returns the first index where the number 7 is no longer less than the next value.\n",
    "\n",
    "## Multiple Values\n",
    "\n",
    "To search for more than one value, use an array with the specified values."
   ]
  },
  {
   "cell_type": "code",
   "execution_count": 64,
   "metadata": {
    "ExecuteTime": {
     "end_time": "2021-08-08T17:06:21.367780Z",
     "start_time": "2021-08-08T17:06:21.360049Z"
    }
   },
   "outputs": [
    {
     "name": "stdout",
     "output_type": "stream",
     "text": [
      "[1 2 3]\n"
     ]
    }
   ],
   "source": [
    "arr = np.array([1, 3, 5, 7])\n",
    "\n",
    "x = np.searchsorted(arr, [2, 4, 6])\n",
    "\n",
    "print(x)"
   ]
  },
  {
   "cell_type": "markdown",
   "metadata": {},
   "source": [
    "# Sorting Arrays\n",
    "\n",
    "Sorting means putting elements in an ordered sequence.\n",
    "\n",
    "Ordered sequence is any sequence that has an order corresponding to elements, like numeric or alphabetical, ascending or descending.\n",
    "\n",
    "The NumPy ndarray object has a function called sort(), that will sort a specified array.\n",
    "\n",
    "**Note: This method returns a copy of the array, leaving the original array unchanged.**"
   ]
  },
  {
   "cell_type": "code",
   "execution_count": 65,
   "metadata": {
    "ExecuteTime": {
     "end_time": "2021-08-08T17:06:21.387315Z",
     "start_time": "2021-08-08T17:06:21.369970Z"
    }
   },
   "outputs": [
    {
     "name": "stdout",
     "output_type": "stream",
     "text": [
      "['Table' 'Xpele' 'apple' 'banana' 'cherry']\n"
     ]
    }
   ],
   "source": [
    "arr = np.array(['banana', 'cherry', 'apple' , \"Xpele\" , \"Table\"])\n",
    "\n",
    "print(np.sort(arr))"
   ]
  },
  {
   "cell_type": "code",
   "execution_count": 66,
   "metadata": {
    "ExecuteTime": {
     "end_time": "2021-08-08T17:06:21.396247Z",
     "start_time": "2021-08-08T17:06:21.389702Z"
    }
   },
   "outputs": [
    {
     "name": "stdout",
     "output_type": "stream",
     "text": [
      "[False  True  True]\n"
     ]
    }
   ],
   "source": [
    "arr = np.array([True, False, True])\n",
    "\n",
    "print(np.sort(arr))"
   ]
  },
  {
   "cell_type": "markdown",
   "metadata": {},
   "source": [
    "## Sorting a 2-D Array\n",
    "If you use the sort() method on a 2-D array, both arrays will be sorted:"
   ]
  },
  {
   "cell_type": "code",
   "execution_count": 67,
   "metadata": {
    "ExecuteTime": {
     "end_time": "2021-08-08T17:06:21.415386Z",
     "start_time": "2021-08-08T17:06:21.398241Z"
    }
   },
   "outputs": [
    {
     "name": "stdout",
     "output_type": "stream",
     "text": [
      "[[2 3 4]\n",
      " [0 1 5]]\n"
     ]
    }
   ],
   "source": [
    "arr = np.array([[3, 2, 4], [5, 0, 1]])\n",
    "\n",
    "print(np.sort(arr))"
   ]
  },
  {
   "cell_type": "markdown",
   "metadata": {},
   "source": [
    "# Filtering Arrays\n",
    "Getting some elements out of an existing array and creating a new array out of them is called filtering.\n",
    "\n",
    "In NumPy, you filter an array using a boolean index list.\n",
    "\n",
    "A boolean index list is a list of booleans corresponding to indexes in the array.\n",
    "\n",
    "If the value at an index is True that element is contained in the filtered array, if the value at that index is False that element is excluded from the filtered array."
   ]
  },
  {
   "cell_type": "code",
   "execution_count": 68,
   "metadata": {
    "ExecuteTime": {
     "end_time": "2021-08-08T17:06:21.434139Z",
     "start_time": "2021-08-08T17:06:21.421960Z"
    }
   },
   "outputs": [
    {
     "name": "stdout",
     "output_type": "stream",
     "text": [
      "[41 43]\n"
     ]
    }
   ],
   "source": [
    "arr = np.array([41, 42, 43, 44])\n",
    "\n",
    "x = [True, False, True, False]\n",
    "\n",
    "newarr = arr[x]\n",
    "\n",
    "print(newarr)"
   ]
  },
  {
   "cell_type": "markdown",
   "metadata": {},
   "source": [
    "## Creating the Filter Array\n",
    "In the example above we hard-coded the True and False values, but the common use is to create a filter array based on conditions."
   ]
  },
  {
   "cell_type": "code",
   "execution_count": 69,
   "metadata": {
    "ExecuteTime": {
     "end_time": "2021-08-08T17:06:21.452129Z",
     "start_time": "2021-08-08T17:06:21.437059Z"
    }
   },
   "outputs": [
    {
     "name": "stdout",
     "output_type": "stream",
     "text": [
      "[False, False, True, True]\n",
      "[43 44]\n"
     ]
    }
   ],
   "source": [
    "arr = np.array([41, 42, 43, 44])\n",
    "\n",
    "# Create an empty list\n",
    "filter_arr = []\n",
    "\n",
    "# go through each element in arr\n",
    "for element in arr:\n",
    "  # if the element is higher than 42, set the value to True, otherwise False:\n",
    "  if element > 42:\n",
    "    filter_arr.append(True)\n",
    "  else:\n",
    "    filter_arr.append(False)\n",
    "\n",
    "    \n",
    "newarr = arr[filter_arr]\n",
    "\n",
    "print(filter_arr)\n",
    "print(newarr)"
   ]
  },
  {
   "cell_type": "code",
   "execution_count": 70,
   "metadata": {
    "ExecuteTime": {
     "end_time": "2021-08-08T17:06:21.460734Z",
     "start_time": "2021-08-08T17:06:21.454170Z"
    },
    "code_folding": [
     10
    ]
   },
   "outputs": [
    {
     "name": "stdout",
     "output_type": "stream",
     "text": [
      "[False, True, False, True, False, True, False]\n",
      "[2 4 6]\n"
     ]
    }
   ],
   "source": [
    "arr = np.array([1, 2, 3, 4, 5, 6, 7])\n",
    "\n",
    "# Create an empty list\n",
    "filter_arr = []\n",
    "\n",
    "# go through each element in arr\n",
    "for element in arr:\n",
    "  # if the element is completely divisble by 2, set the value to True, otherwise False\n",
    "  if element % 2 == 0:\n",
    "    filter_arr.append(True)\n",
    "  else:\n",
    "    filter_arr.append(False)\n",
    "\n",
    "newarr = arr[filter_arr]\n",
    "\n",
    "print(filter_arr)\n",
    "print(newarr)"
   ]
  },
  {
   "cell_type": "markdown",
   "metadata": {},
   "source": [
    "## Creating Filter Directly From Array\n",
    "\n",
    "The above example is quite a common task in NumPy and NumPy provides a nice way to tackle it.\n",
    "\n",
    "We can directly substitute the array instead of the iterable variable in our condition and it will work just as we expect it to."
   ]
  },
  {
   "cell_type": "code",
   "execution_count": 71,
   "metadata": {
    "ExecuteTime": {
     "end_time": "2021-08-08T17:06:21.476492Z",
     "start_time": "2021-08-08T17:06:21.462809Z"
    }
   },
   "outputs": [
    {
     "name": "stdout",
     "output_type": "stream",
     "text": [
      "[False False  True  True]\n",
      "[43 44]\n"
     ]
    }
   ],
   "source": [
    "arr = np.array([41, 42, 43, 44])\n",
    "\n",
    "filter_arr = arr > 42\n",
    "\n",
    "newarr = arr[filter_arr]\n",
    "\n",
    "print(filter_arr)\n",
    "print(newarr)"
   ]
  },
  {
   "cell_type": "code",
   "execution_count": 72,
   "metadata": {
    "ExecuteTime": {
     "end_time": "2021-08-08T17:06:21.497722Z",
     "start_time": "2021-08-08T17:06:21.478808Z"
    }
   },
   "outputs": [
    {
     "name": "stdout",
     "output_type": "stream",
     "text": [
      "[False  True False  True False  True False]\n",
      "[2 4 6]\n"
     ]
    }
   ],
   "source": [
    "arr = np.array([1, 2, 3, 4, 5, 6, 7])\n",
    "\n",
    "filter_arr = arr % 2 == 0\n",
    "\n",
    "newarr = arr[filter_arr]\n",
    "\n",
    "print(filter_arr)\n",
    "print(newarr)"
   ]
  },
  {
   "cell_type": "markdown",
   "metadata": {},
   "source": [
    "# Random Number?\n",
    "\n",
    "Random number does NOT mean a different number every time. Random means something that can not be predicted logically.\n",
    "\n",
    "Pseudo Random and True Random.\n",
    "Computers work on programs, and programs are definitive set of instructions. So it means there must be some algorithm to generate a random number as well.\n",
    "\n",
    "If there is a program to generate random number it can be predicted, thus it is not truly random.\n",
    "\n",
    "Random numbers generated through a generation algorithm are called pseudo random.\n",
    "\n",
    "Can we make truly random numbers?\n",
    "\n",
    "Yes. In order to generate a truly random number on our computers we need to get the random data from some outside source. This outside source is generally our keystrokes, mouse movements, data on network etc.\n",
    "\n",
    "We do not need truly random numbers, unless its related to security (e.g. encryption keys) or the basis of application is the randomness (e.g. Digital roulette wheels).\n",
    "\n",
    "In this tutorial we will be using pseudo random numbers."
   ]
  },
  {
   "cell_type": "code",
   "execution_count": 73,
   "metadata": {
    "ExecuteTime": {
     "end_time": "2021-08-08T17:06:21.514424Z",
     "start_time": "2021-08-08T17:06:21.499716Z"
    }
   },
   "outputs": [
    {
     "data": {
      "text/plain": [
       "24"
      ]
     },
     "execution_count": 73,
     "metadata": {},
     "output_type": "execute_result"
    }
   ],
   "source": [
    "from numpy import random\n",
    "\n",
    "random.randint(100)"
   ]
  },
  {
   "cell_type": "code",
   "execution_count": 74,
   "metadata": {
    "ExecuteTime": {
     "end_time": "2021-08-08T17:06:21.542970Z",
     "start_time": "2021-08-08T17:06:21.516143Z"
    }
   },
   "outputs": [
    {
     "data": {
      "text/plain": [
       "15"
      ]
     },
     "execution_count": 74,
     "metadata": {},
     "output_type": "execute_result"
    }
   ],
   "source": [
    "random.randint(2 , 100)"
   ]
  },
  {
   "cell_type": "code",
   "execution_count": 75,
   "metadata": {
    "ExecuteTime": {
     "end_time": "2021-08-08T17:06:21.558915Z",
     "start_time": "2021-08-08T17:06:21.542970Z"
    }
   },
   "outputs": [
    {
     "data": {
      "text/plain": [
       "array([93, 90, 46, 89, 74, 51, 56])"
      ]
     },
     "execution_count": 75,
     "metadata": {},
     "output_type": "execute_result"
    }
   ],
   "source": [
    "random.randint(2 , 100 , 7)"
   ]
  },
  {
   "cell_type": "markdown",
   "metadata": {},
   "source": [
    "## Generate Random Float\n",
    "The random module's rand() method returns a random float between 0 and 1."
   ]
  },
  {
   "cell_type": "code",
   "execution_count": 76,
   "metadata": {
    "ExecuteTime": {
     "end_time": "2021-08-08T17:06:21.574954Z",
     "start_time": "2021-08-08T17:06:21.561534Z"
    }
   },
   "outputs": [
    {
     "name": "stdout",
     "output_type": "stream",
     "text": [
      "0.06488560434927892\n"
     ]
    }
   ],
   "source": [
    "x = random.rand()\n",
    "\n",
    "print(x)"
   ]
  },
  {
   "cell_type": "markdown",
   "metadata": {},
   "source": [
    "## Generate Random Array\n",
    "\n",
    "In NumPy we work with arrays, and you can use the two methods from the above examples to make random arrays.\n",
    "\n",
    "## Integers\n",
    "\n",
    "The randint() method takes a size parameter where you can specify the shape of an array."
   ]
  },
  {
   "cell_type": "code",
   "execution_count": 77,
   "metadata": {
    "ExecuteTime": {
     "end_time": "2021-08-08T17:06:21.590344Z",
     "start_time": "2021-08-08T17:06:21.577229Z"
    }
   },
   "outputs": [
    {
     "name": "stdout",
     "output_type": "stream",
     "text": [
      "[85 40 26 72 75]\n"
     ]
    }
   ],
   "source": [
    "x=random.randint(100, size=(5))\n",
    "\n",
    "print(x)"
   ]
  },
  {
   "cell_type": "code",
   "execution_count": 78,
   "metadata": {
    "ExecuteTime": {
     "end_time": "2021-08-08T17:06:21.598844Z",
     "start_time": "2021-08-08T17:06:21.592643Z"
    }
   },
   "outputs": [
    {
     "name": "stdout",
     "output_type": "stream",
     "text": [
      "[[29 13  6 40 18]\n",
      " [87 46 32 69 38]\n",
      " [69 91 81 68 71]]\n"
     ]
    }
   ],
   "source": [
    "x = random.randint(100, size=(3, 5))\n",
    "\n",
    "print(x)"
   ]
  },
  {
   "cell_type": "markdown",
   "metadata": {},
   "source": [
    "## Floats\n",
    "The rand() method also allows you to specify the shape of the array."
   ]
  },
  {
   "cell_type": "code",
   "execution_count": 79,
   "metadata": {
    "ExecuteTime": {
     "end_time": "2021-08-08T17:06:21.624151Z",
     "start_time": "2021-08-08T17:06:21.601119Z"
    }
   },
   "outputs": [
    {
     "name": "stdout",
     "output_type": "stream",
     "text": [
      "[0.85309274 0.63997091 0.26991954 0.19953597 0.35408227]\n"
     ]
    }
   ],
   "source": [
    "x = random.rand(5)\n",
    "\n",
    "print(x)"
   ]
  },
  {
   "cell_type": "code",
   "execution_count": 80,
   "metadata": {
    "ExecuteTime": {
     "end_time": "2021-08-08T17:06:21.639891Z",
     "start_time": "2021-08-08T17:06:21.626144Z"
    }
   },
   "outputs": [
    {
     "name": "stdout",
     "output_type": "stream",
     "text": [
      "[[0.18694659 0.2421206  0.43233047 0.37260168 0.7249431 ]\n",
      " [0.64636859 0.05663448 0.93949942 0.71882189 0.49728072]\n",
      " [0.38591053 0.59827234 0.03032043 0.65538973 0.14524666]]\n"
     ]
    }
   ],
   "source": [
    "x = random.rand(3, 5)\n",
    "\n",
    "print(x)"
   ]
  },
  {
   "cell_type": "markdown",
   "metadata": {},
   "source": [
    "## Generate Random Number From Array\n",
    "\n",
    "The choice() method allows you to generate a random value based on an array of values.\n",
    "\n",
    "The choice() method takes an array as a parameter and randomly returns one of the values."
   ]
  },
  {
   "cell_type": "code",
   "execution_count": 81,
   "metadata": {
    "ExecuteTime": {
     "end_time": "2021-08-08T17:06:21.649000Z",
     "start_time": "2021-08-08T17:06:21.641991Z"
    }
   },
   "outputs": [
    {
     "name": "stdout",
     "output_type": "stream",
     "text": [
      "55\n"
     ]
    }
   ],
   "source": [
    "x = random.choice([3, 5, 7, 35, 42, 59, 53, 72, 78, 92, 66, 51, 30, 69, 57, 56,  7, 74, 46, 56,\n",
    "       76, 35, 63, 34, 25, 68, 70, 69,  2, 63, 79, 55,  6])\n",
    "\n",
    "print(x)"
   ]
  },
  {
   "cell_type": "markdown",
   "metadata": {},
   "source": [
    "The choice() method also allows you to return an array of values.\n",
    "\n",
    "Add a size parameter to specify the shape of the array."
   ]
  },
  {
   "cell_type": "code",
   "execution_count": 82,
   "metadata": {
    "ExecuteTime": {
     "end_time": "2021-08-08T17:06:21.671185Z",
     "start_time": "2021-08-08T17:06:21.651008Z"
    }
   },
   "outputs": [
    {
     "name": "stdout",
     "output_type": "stream",
     "text": [
      "[[69  3 79 30  2]\n",
      " [46 46 63 30 35]\n",
      " [55 46  7 69 92]]\n"
     ]
    }
   ],
   "source": [
    "x = random.choice([3, 5, 7, 35, 42, 59, 53, 72, 78, 92, 66, 51, 30, 69, 57, 56,  7, 74, 46, 56,\n",
    "       76, 35, 63, 34, 25, 68, 70, 69,  2, 63, 79, 55,  6], size=(3, 5))\n",
    "\n",
    "print(x)"
   ]
  },
  {
   "cell_type": "markdown",
   "metadata": {},
   "source": [
    "# Data Distribution\n",
    "\n",
    "Data Distribution is a list of all possible values, and how often each value occurs.\n",
    "\n",
    "Such lists are important when working with statistics and data science.\n",
    "\n",
    "The random module offer methods that returns randomly generated data distributions.\n",
    "\n",
    "## Random Distribution\n",
    "\n",
    "A random distribution is a set of random numbers that follow a certain probability density function.\n",
    "\n",
    "Probability Density Function: A function that describes a continuous probability. i.e. probability of all values in an array.\n",
    "\n",
    "We can generate random numbers based on defined probabilities using the choice() method of the random module.\n",
    "\n",
    "The choice() method allows us to specify the probability for each value.\n",
    "\n",
    "The probability is set by a number between 0 and 1, where 0 means that the value will never occur and 1 means that the value will always occur.\n",
    "\n",
    "\n",
    "\n",
    "Below example:\n",
    "\n",
    "Generate a 1-D array containing 100 values, where each value has to be 3, 5, 7 or 9.\n",
    "\n",
    "The probability for the value to be 3 is set to be 0.1\n",
    "\n",
    "The probability for the value to be 5 is set to be 0.3\n",
    "\n",
    "The probability for the value to be 7 is set to be 0.6\n",
    "\n",
    "The probability for the value to be 9 is set to be 0\n",
    "\n",
    "**The sum of all probability numbers should be 1.**\n",
    "\n",
    "Even if you run the example above 100 times, the value 9 will never occur.\n",
    "\n",
    "You can return arrays of any shape and size by specifying the shape in the size parameter."
   ]
  },
  {
   "cell_type": "code",
   "execution_count": 88,
   "metadata": {
    "ExecuteTime": {
     "end_time": "2021-08-08T17:22:53.816390Z",
     "start_time": "2021-08-08T17:22:53.809528Z"
    }
   },
   "outputs": [
    {
     "name": "stdout",
     "output_type": "stream",
     "text": [
      "[5 5 7 7 5 7 7 7 5 7 7 7 5 7 7 5 7 7 7 3 3 7 5 5 7 3 5 7 3 5 7 7 5 5 3 7 7\n",
      " 7 7 5 5 5 7 7 5 7 5 7 7 5 7 5 5 7 7 5 5 7 7 3 5 7 7 7 7 5 5 5 3 5 7 5 7 7\n",
      " 7 7 5 7 7 7 5 5 7 7 5 5 7 7 7 7 7 3 7 5 5 7 7 7 5 3]\n"
     ]
    }
   ],
   "source": [
    "x = random.choice([3, 5, 7, 9], p=[0.1, 0.3, 0.6, 0.0], size=(100))\n",
    "\n",
    "print(x)"
   ]
  },
  {
   "cell_type": "code",
   "execution_count": 90,
   "metadata": {
    "ExecuteTime": {
     "end_time": "2021-08-08T17:25:16.868911Z",
     "start_time": "2021-08-08T17:25:16.853673Z"
    }
   },
   "outputs": [
    {
     "name": "stdout",
     "output_type": "stream",
     "text": [
      "[[5 7 7 5 7]\n",
      " [7 7 7 7 7]\n",
      " [7 7 7 3 5]]\n"
     ]
    }
   ],
   "source": [
    "x = random.choice([3, 5, 7, 9], p=[0.1, 0.3, 0.6, 0.0], size=(3, 5))\n",
    "\n",
    "print(x)"
   ]
  },
  {
   "cell_type": "markdown",
   "metadata": {},
   "source": [
    "# Random Permutations of Elements\n",
    "\n",
    "A permutation refers to an arrangement of elements. e.g. [3, 2, 1] is a permutation of [1, 2, 3] and vice-versa.\n",
    "\n",
    "Permutation  : an ordered arrangement of elements from a finite-element set\n",
    "\n",
    "The NumPy Random module provides two methods for this: shuffle() and permutation().\n",
    "\n",
    "## Shuffling Arrays\n",
    "Shuffle means changing arrangement of elements in-place. i.e. in the array itself.\n",
    "\n",
    "**The shuffle() method makes changes to the original array.**"
   ]
  },
  {
   "cell_type": "code",
   "execution_count": 107,
   "metadata": {
    "ExecuteTime": {
     "end_time": "2021-08-08T17:27:32.800169Z",
     "start_time": "2021-08-08T17:27:32.788862Z"
    }
   },
   "outputs": [
    {
     "name": "stdout",
     "output_type": "stream",
     "text": [
      "[3 4 2 1 5]\n"
     ]
    }
   ],
   "source": [
    "arr = np.array([1, 2, 3, 4, 5])\n",
    "\n",
    "random.shuffle(arr)\n",
    "\n",
    "print(arr)"
   ]
  },
  {
   "cell_type": "markdown",
   "metadata": {},
   "source": [
    "## Generating Permutation of Arrays\n",
    "\n",
    "The permutation() method returns a re-arranged array (and leaves the original array un-changed).\n",
    "\n"
   ]
  },
  {
   "cell_type": "code",
   "execution_count": 109,
   "metadata": {
    "ExecuteTime": {
     "end_time": "2021-08-08T17:28:01.691632Z",
     "start_time": "2021-08-08T17:28:01.681165Z"
    }
   },
   "outputs": [
    {
     "name": "stdout",
     "output_type": "stream",
     "text": [
      "[2 3 5 4 1]\n"
     ]
    }
   ],
   "source": [
    "arr = np.array([1, 2, 3, 4, 5])\n",
    "\n",
    "print(random.permutation(arr))"
   ]
  },
  {
   "cell_type": "markdown",
   "metadata": {},
   "source": [
    "# Seaborn\n",
    "\n",
    "## Visualize Distributions With Seaborn\n",
    "Seaborn is a library that uses Matplotlib underneath to plot graphs. It will be used to visualize random distributions."
   ]
  },
  {
   "cell_type": "code",
   "execution_count": 111,
   "metadata": {
    "ExecuteTime": {
     "end_time": "2021-08-08T17:29:40.036943Z",
     "start_time": "2021-08-08T17:29:40.031286Z"
    }
   },
   "outputs": [],
   "source": [
    "# pip install seaborn"
   ]
  },
  {
   "cell_type": "markdown",
   "metadata": {},
   "source": [
    "## Distplots\n",
    "Distplot stands for distribution plot, it takes as input an array and plots a curve corresponding to the distribution of points in the array.\n",
    "\n",
    "Note: We will be using: sns.distplot(arr, hist=False) to visualize random distributions in this tutorial.\n"
   ]
  },
  {
   "cell_type": "code",
   "execution_count": 119,
   "metadata": {
    "ExecuteTime": {
     "end_time": "2021-08-08T17:32:55.413491Z",
     "start_time": "2021-08-08T17:32:55.260431Z"
    }
   },
   "outputs": [
    {
     "data": {
      "image/png": "[encoded data removed]",
      "text/plain": [
       "<Figure size 432x288 with 1 Axes>"
      ]
     },
     "metadata": {
      "needs_background": "light"
     },
     "output_type": "display_data"
    }
   ],
   "source": [
    "import matplotlib.pyplot as plt\n",
    "import seaborn as sns\n",
    "\n",
    "sns.distplot([0, 1, 2, 3, 4, 5])\n",
    "\n",
    "plt.show()"
   ]
  },
  {
   "cell_type": "code",
   "execution_count": 120,
   "metadata": {
    "ExecuteTime": {
     "end_time": "2021-08-08T17:33:09.197383Z",
     "start_time": "2021-08-08T17:33:09.046585Z"
    }
   },
   "outputs": [
    {
     "data": {
      "image/png": "[encoded data removed]",
      "text/plain": [
       "<Figure size 432x288 with 1 Axes>"
      ]
     },
     "metadata": {
      "needs_background": "light"
     },
     "output_type": "display_data"
    }
   ],
   "source": [
    "sns.distplot([0, 1, 2, 3, 4, 5], hist=False)\n",
    "\n",
    "plt.show()"
   ]
  },
  {
   "cell_type": "markdown",
   "metadata": {},
   "source": [
    "# Normal (Gaussian) Distribution\n",
    "\n",
    "Another term for normal distribution.\n",
    "\n",
    "## Normal Distribution\n",
    "The Normal Distribution is one of the most important distributions.\n",
    "\n",
    "It is also called the Gaussian Distribution after the German mathematician Carl Friedrich Gauss.\n",
    "\n",
    "It fits the probability distribution of many events, eg. IQ Scores, Heartbeat etc.\n",
    "\n",
    "Use the random.normal() method to get a Normal Data Distribution.\n",
    "\n",
    "It has three parameters:\n",
    "\n",
    "**loc** - (Mean) where the peak of the bell exists.\n",
    "\n",
    "**scale** - (Standard Deviation) how flat the graph distribution should be.\n",
    "\n",
    "**size** - The shape of the returned array."
   ]
  },
  {
   "cell_type": "code",
   "execution_count": 121,
   "metadata": {
    "ExecuteTime": {
     "end_time": "2021-08-08T17:36:24.230827Z",
     "start_time": "2021-08-08T17:36:24.218105Z"
    }
   },
   "outputs": [
    {
     "name": "stdout",
     "output_type": "stream",
     "text": [
      "[[ 0.50014685 -1.73456346  1.13495712]\n",
      " [-0.80976228 -1.10806688 -1.10403291]]\n"
     ]
    }
   ],
   "source": [
    "x = random.normal(size=(2, 3))\n",
    "\n",
    "print(x)"
   ]
  },
  {
   "cell_type": "code",
   "execution_count": 122,
   "metadata": {
    "ExecuteTime": {
     "end_time": "2021-08-08T17:40:35.981826Z",
     "start_time": "2021-08-08T17:40:35.977462Z"
    }
   },
   "outputs": [
    {
     "name": "stdout",
     "output_type": "stream",
     "text": [
      "[[ 4.05358772 -0.88849324  1.12029072]\n",
      " [ 0.17253196  1.70479997  3.14468366]]\n"
     ]
    }
   ],
   "source": [
    "x = random.normal(loc=1, scale=2, size=(2, 3))\n",
    "\n",
    "print(x)"
   ]
  },
  {
   "cell_type": "markdown",
   "metadata": {},
   "source": [
    "## Visualization of Normal Distribution\n",
    "\n",
    "**Note: The curve of a Normal Distribution is also known as the Bell Curve because of the bell-shaped curve.**"
   ]
  },
  {
   "cell_type": "code",
   "execution_count": 127,
   "metadata": {
    "ExecuteTime": {
     "end_time": "2021-08-08T17:42:33.227730Z",
     "start_time": "2021-08-08T17:42:33.048432Z"
    }
   },
   "outputs": [
    {
     "data": {
      "image/png": "[encoded data removed]",
      "text/plain": [
       "<Figure size 432x288 with 1 Axes>"
      ]
     },
     "metadata": {
      "needs_background": "light"
     },
     "output_type": "display_data"
    }
   ],
   "source": [
    "sns.distplot(random.normal(size=1000), hist=False)\n",
    "\n",
    "plt.show()"
   ]
  },
  {
   "cell_type": "markdown",
   "metadata": {},
   "source": [
    "# Binomial Distribution\n",
    "\n",
    "Binomial Distribution is a Discrete Distribution.\n",
    "\n",
    "It describes the outcome of binary scenarios, e.g. toss of a coin, it will either be head or tails.\n",
    "\n",
    "It has three parameters:\n",
    "\n",
    "**n** - number of trials.\n",
    "\n",
    "**p** - probability of occurence of each trial (e.g. for toss of a coin 0.5 each).\n",
    "\n",
    "**size** - The shape of the returned array.\n",
    "\n",
    "Discrete Distribution:The distribution is defined at separate set of events, e.g. a coin toss's result is discrete as it can be only head or tails whereas height of people is continuous as it can be 170, 170.1, 170.11 and so on."
   ]
  },
  {
   "cell_type": "code",
   "execution_count": 129,
   "metadata": {
    "ExecuteTime": {
     "end_time": "2021-08-08T17:43:53.314627Z",
     "start_time": "2021-08-08T17:43:53.298479Z"
    }
   },
   "outputs": [
    {
     "name": "stdout",
     "output_type": "stream",
     "text": [
      "[7 7 5 8 7 5 5 6 3 5]\n"
     ]
    }
   ],
   "source": [
    "x = random.binomial(n=10, p=0.5, size=10)\n",
    "\n",
    "print(x)"
   ]
  },
  {
   "cell_type": "markdown",
   "metadata": {},
   "source": [
    "## Visualization of Binomial Distribution\n"
   ]
  },
  {
   "cell_type": "code",
   "execution_count": 133,
   "metadata": {
    "ExecuteTime": {
     "end_time": "2021-08-08T17:44:25.587424Z",
     "start_time": "2021-08-08T17:44:25.396825Z"
    }
   },
   "outputs": [
    {
     "data": {
      "image/png": "[encoded data removed]",
      "text/plain": [
       "<Figure size 432x288 with 1 Axes>"
      ]
     },
     "metadata": {
      "needs_background": "light"
     },
     "output_type": "display_data"
    }
   ],
   "source": [
    "sns.distplot(random.binomial(n=10, p=0.5, size=1000), hist=True, kde=False)\n",
    "\n",
    "plt.show()"
   ]
  },
  {
   "cell_type": "markdown",
   "metadata": {},
   "source": [
    "## Difference Between Normal and Binomial Distribution\n",
    "The main difference is that normal distribution is continous whereas binomial is discrete, but if there are enough data points it will be quite similar to normal distribution with certain loc and scale."
   ]
  },
  {
   "cell_type": "code",
   "execution_count": 135,
   "metadata": {
    "ExecuteTime": {
     "end_time": "2021-08-08T17:45:03.782615Z",
     "start_time": "2021-08-08T17:45:03.590904Z"
    }
   },
   "outputs": [
    {
     "data": {
      "image/png": "[encoded data removed]",
      "text/plain": [
       "<Figure size 432x288 with 1 Axes>"
      ]
     },
     "metadata": {
      "needs_background": "light"
     },
     "output_type": "display_data"
    }
   ],
   "source": [
    "sns.distplot(random.normal(loc=50, scale=5, size=1000), hist=False, label='normal')\n",
    "sns.distplot(random.binomial(n=100, p=0.5, size=1000), hist=False, label='binomial')\n",
    "\n",
    "plt.show()"
   ]
  },
  {
   "cell_type": "markdown",
   "metadata": {},
   "source": [
    "# Poisson Distribution\n",
    "\n",
    "Poisson Distribution is a Discrete Distribution.\n",
    "\n",
    "It estimates how many times an event can happen in a specified time. e.g. If someone eats twice a day what is probability he will eat thrice?\n",
    "\n",
    "It has two parameters:\n",
    "\n",
    "**lam** - rate or known number of occurences e.g. 2 for above problem.\n",
    "\n",
    "**size** - The shape of the returned array."
   ]
  },
  {
   "cell_type": "code",
   "execution_count": 141,
   "metadata": {
    "ExecuteTime": {
     "end_time": "2021-08-08T17:48:35.663182Z",
     "start_time": "2021-08-08T17:48:35.652783Z"
    }
   },
   "outputs": [
    {
     "name": "stdout",
     "output_type": "stream",
     "text": [
      "[4 2 1 3 0 1 1 0 1 1]\n"
     ]
    }
   ],
   "source": [
    "x = random.poisson(lam=2, size=10)\n",
    "\n",
    "print(x)"
   ]
  },
  {
   "cell_type": "code",
   "execution_count": 149,
   "metadata": {
    "ExecuteTime": {
     "end_time": "2021-08-08T17:49:32.000604Z",
     "start_time": "2021-08-08T17:49:31.818526Z"
    }
   },
   "outputs": [
    {
     "data": {
      "image/png": "[encoded data removed]",
      "text/plain": [
       "<Figure size 432x288 with 1 Axes>"
      ]
     },
     "metadata": {
      "needs_background": "light"
     },
     "output_type": "display_data"
    }
   ],
   "source": [
    "sns.distplot(random.poisson(lam=2, size=2000), kde=False)\n",
    "\n",
    "plt.show()"
   ]
  },
  {
   "cell_type": "code",
   "execution_count": 151,
   "metadata": {
    "ExecuteTime": {
     "end_time": "2021-08-08T17:49:39.142980Z",
     "start_time": "2021-08-08T17:49:38.930083Z"
    }
   },
   "outputs": [
    {
     "data": {
      "image/png": "[encoded data removed]",
      "text/plain": [
       "<Figure size 432x288 with 1 Axes>"
      ]
     },
     "metadata": {
      "needs_background": "light"
     },
     "output_type": "display_data"
    }
   ],
   "source": [
    "sns.distplot(random.poisson(lam=7, size=2000), kde=False)\n",
    "\n",
    "plt.show()"
   ]
  },
  {
   "cell_type": "markdown",
   "metadata": {},
   "source": [
    "## Difference Between Normal and Poisson Distribution\n",
    "Normal distribution is continous whereas poisson is discrete.\n",
    "\n",
    "But we can see that similar to binomial for a large enough poisson distribution it will become similar to normal distribution with certain std dev and mean."
   ]
  },
  {
   "cell_type": "code",
   "execution_count": 153,
   "metadata": {
    "ExecuteTime": {
     "end_time": "2021-08-08T17:52:36.786674Z",
     "start_time": "2021-08-08T17:52:36.632472Z"
    }
   },
   "outputs": [
    {
     "data": {
      "image/png": "[encoded data removed]",
      "text/plain": [
       "<Figure size 432x288 with 1 Axes>"
      ]
     },
     "metadata": {
      "needs_background": "light"
     },
     "output_type": "display_data"
    }
   ],
   "source": [
    "sns.distplot(random.normal(loc=50, scale=7, size=1000), hist=False, label='normal')\n",
    "sns.distplot(random.poisson(lam=50, size=1000), hist=False, label='poisson')\n",
    "\n",
    "plt.show()"
   ]
  },
  {
   "cell_type": "markdown",
   "metadata": {},
   "source": [
    "# What is the difference between discrete data and continuous data?\n",
    "\n",
    "**Discrete data** can only take particular values. There may potentially be an infinite number of those values, but each is distinct and there's no grey area in between. Discrete data can be numeric -- like numbers of apples -- but it can also be categorical -- like red or blue, or male or female, or good or bad.\n",
    "\n",
    "**Continuous data** are not restricted to defined separate values, but can occupy any value over a continuous range. Between any two continuous data values, there may be an infinite number of others. Continuous data are always essentially numeric.\n",
    "\n",
    "It sometimes makes sense to treat discrete data as continuous and the other way around:\n",
    "\n",
    "For example, something like height is continuous, but often we don't really care too much about tiny differences and instead group heights into a number of discrete bins -- i.e. only measuring centimetres --.\n",
    "\n",
    "Conversely, if we're counting large amounts of some discrete entity\n",
    "-- i.e. grains of rice, or termites, or pennies in the economy -- we may choose not to think of 2,000,006 and 2,000,008 as crucially\n",
    "different values but instead as nearby points on an approximate\n",
    "continuum.\n",
    "\n",
    "It can also sometimes be useful to treat numeric data as categorical, eg: underweight, normal, obese. This is usually just another kind of binning.\n",
    "\n",
    "It seldom makes sense to consider categorical data as continuous."
   ]
  },
  {
   "cell_type": "markdown",
   "metadata": {},
   "source": [
    "## Difference Between Poisson and Binomial Distribution\n",
    "The difference is very subtle it is that, binomial distribution is for discrete trials, whereas poisson distribution is for continuous trials.\n",
    "\n",
    "But for very large `n` and near-zero `p` binomial distribution is near identical to poisson distribution such that `n * p` is nearly equal to lam."
   ]
  },
  {
   "cell_type": "code",
   "execution_count": 155,
   "metadata": {
    "ExecuteTime": {
     "end_time": "2021-08-08T17:55:56.731740Z",
     "start_time": "2021-08-08T17:55:56.531699Z"
    }
   },
   "outputs": [
    {
     "data": {
      "image/png": "[encoded data removed]",
      "text/plain": [
       "<Figure size 432x288 with 1 Axes>"
      ]
     },
     "metadata": {
      "needs_background": "light"
     },
     "output_type": "display_data"
    }
   ],
   "source": [
    "sns.distplot(random.binomial(n=1000, p=0.01, size=1000), hist=False, label='binomial')\n",
    "sns.distplot(random.poisson(lam=10, size=1000), hist=False, label='poisson')\n",
    "\n",
    "plt.show()"
   ]
  },
  {
   "cell_type": "markdown",
   "metadata": {},
   "source": [
    "# Uniform Distribution\n",
    "Used to describe probability where every event has equal chances of occuring.\n",
    "\n",
    "E.g. Generation of random numbers.\n",
    "\n",
    "It has three parameters:\n",
    "\n",
    "**a** - lower bound - default 0 .0.\n",
    "\n",
    "**b** - upper bound - default 1.0.\n",
    "\n",
    "**size** - The shape of the returned array.\n",
    "\n",
    "## Visualization of Uniform Distribution\n"
   ]
  },
  {
   "cell_type": "code",
   "execution_count": 160,
   "metadata": {
    "ExecuteTime": {
     "end_time": "2021-08-08T17:58:35.107964Z",
     "start_time": "2021-08-08T17:58:34.953316Z"
    }
   },
   "outputs": [
    {
     "name": "stdout",
     "output_type": "stream",
     "text": [
      "[[0.68168385 0.67541901 0.40083044]\n",
      " [0.99790414 0.7385007  0.85737721]]\n"
     ]
    },
    {
     "data": {
      "image/png": "[encoded data removed]",
      "text/plain": [
       "<Figure size 432x288 with 1 Axes>"
      ]
     },
     "metadata": {
      "needs_background": "light"
     },
     "output_type": "display_data"
    }
   ],
   "source": [
    "x = random.uniform(size=(2, 3))\n",
    "\n",
    "print(x)\n",
    "\n",
    "sns.distplot(random.uniform(size=1000), hist=False)\n",
    "\n",
    "plt.show()"
   ]
  },
  {
   "cell_type": "markdown",
   "metadata": {},
   "source": [
    "# Logistic Distribution\n",
    "Logistic Distribution is used to describe growth.\n",
    "\n",
    "Used extensively in machine learning in logistic regression, neural networks etc.\n",
    "\n",
    "It has three parameters:\n",
    "\n",
    "**loc** - mean, where the peak is. Default 0.\n",
    "\n",
    "**scale** - standard deviation, the flatness of distribution. Default 1.\n",
    "\n",
    "**size** - The shape of the returned array.\n",
    "\n",
    "## Visualization of Logistic Distribution\n"
   ]
  },
  {
   "cell_type": "code",
   "execution_count": 162,
   "metadata": {
    "ExecuteTime": {
     "end_time": "2021-08-08T18:03:38.322757Z",
     "start_time": "2021-08-08T18:03:38.149402Z"
    }
   },
   "outputs": [
    {
     "name": "stdout",
     "output_type": "stream",
     "text": [
      "[[-1.5977466   3.39028815 -1.38591544]\n",
      " [ 3.15990852 -3.80030842  5.85468513]]\n"
     ]
    },
    {
     "data": {
      "image/png": "[encoded data removed]",
      "text/plain": [
       "<Figure size 432x288 with 1 Axes>"
      ]
     },
     "metadata": {
      "needs_background": "light"
     },
     "output_type": "display_data"
    }
   ],
   "source": [
    "x = random.logistic(loc=1, scale=2, size=(2, 3))\n",
    "\n",
    "print(x)\n",
    "\n",
    "\n",
    "sns.distplot(random.logistic(size=1000), hist=False)\n",
    "\n",
    "plt.show()"
   ]
  },
  {
   "cell_type": "markdown",
   "metadata": {},
   "source": [
    "## Difference Between Logistic and Normal Distribution\n",
    "Both distributions are near identical, but logistic distribution has more area under the tails. ie. It representage more possibility of occurence of an events further away from mean.\n",
    "\n",
    "For higher value of scale (standard deviation) the normal and logistic distributions are near identical apart from the peak."
   ]
  },
  {
   "cell_type": "code",
   "execution_count": 164,
   "metadata": {
    "ExecuteTime": {
     "end_time": "2021-08-08T18:04:08.952979Z",
     "start_time": "2021-08-08T18:04:08.791085Z"
    }
   },
   "outputs": [
    {
     "data": {
      "image/png": "[encoded data removed]",
      "text/plain": [
       "<Figure size 432x288 with 1 Axes>"
      ]
     },
     "metadata": {
      "needs_background": "light"
     },
     "output_type": "display_data"
    }
   ],
   "source": [
    "sns.distplot(random.normal(scale=2, size=1000), hist=False, label='normal')\n",
    "sns.distplot(random.logistic(size=1000), hist=False, label='logistic')\n",
    "\n",
    "plt.show()"
   ]
  },
  {
   "cell_type": "markdown",
   "metadata": {},
   "source": [
    "# Multinomial Distribution\n",
    "\n",
    "Multinomial distribution is a generalization of binomial distribution.\n",
    "\n",
    "It describes outcomes of multi-nomial scenarios unlike binomial where scenarios must be only one of two. e.g. Blood type of a population, dice roll outcome.\n",
    "\n",
    "It has three parameters:\n",
    "\n",
    "**n** - number of possible outcomes (e.g. 6 for dice roll).\n",
    "\n",
    "**pvals** - list of probabilties of outcomes (e.g. [1/6, 1/6, 1/6, 1/6, 1/6, 1/6] for dice roll).\n",
    "\n",
    "**size** - The shape of the returned array.\n",
    "\n",
    "Note: Multinomial samples will NOT produce a single value! They will produce one value for each pval.\n",
    "\n",
    "Note: As they are generalization of binomial distribution their visual representation and similarity of normal distribution is same as that of multiple binomial distributions."
   ]
  },
  {
   "cell_type": "code",
   "execution_count": 165,
   "metadata": {
    "ExecuteTime": {
     "end_time": "2021-08-08T18:05:11.031863Z",
     "start_time": "2021-08-08T18:05:11.020380Z"
    }
   },
   "outputs": [
    {
     "name": "stdout",
     "output_type": "stream",
     "text": [
      "[0 1 0 3 0 2]\n"
     ]
    }
   ],
   "source": [
    "x = random.multinomial(n=6, pvals=[1/6, 1/6, 1/6, 1/6, 1/6, 1/6])\n",
    "\n",
    "print(x)"
   ]
  },
  {
   "cell_type": "markdown",
   "metadata": {
    "ExecuteTime": {
     "end_time": "2021-08-08T18:05:41.503260Z",
     "start_time": "2021-08-08T18:05:41.496781Z"
    }
   },
   "source": [
    "# Exponential Distribution\n",
    "Exponential distribution is used for describing time till next event e.g. failure/success etc.\n",
    "\n",
    "It has two parameters:\n",
    "\n",
    "**scale** - inverse of rate ( see lam in poisson distribution ) defaults to 1.0.\n",
    "\n",
    "**size** - The shape of the returned array."
   ]
  },
  {
   "cell_type": "code",
   "execution_count": 167,
   "metadata": {
    "ExecuteTime": {
     "end_time": "2021-08-08T18:06:09.808073Z",
     "start_time": "2021-08-08T18:06:09.803388Z"
    }
   },
   "outputs": [
    {
     "name": "stdout",
     "output_type": "stream",
     "text": [
      "[[0.34891786 2.94193098 0.81351869]\n",
      " [0.27829589 1.42467709 0.4035384 ]]\n"
     ]
    }
   ],
   "source": [
    "x = random.exponential(scale=2, size=(2, 3))\n",
    "\n",
    "print(x)"
   ]
  },
  {
   "cell_type": "markdown",
   "metadata": {},
   "source": [
    "## Visualization of Exponential Distribution\n"
   ]
  },
  {
   "cell_type": "code",
   "execution_count": 169,
   "metadata": {
    "ExecuteTime": {
     "end_time": "2021-08-08T18:06:48.433477Z",
     "start_time": "2021-08-08T18:06:48.277747Z"
    }
   },
   "outputs": [
    {
     "data": {
      "image/png": "[encoded data removed]",
      "text/plain": [
       "<Figure size 432x288 with 1 Axes>"
      ]
     },
     "metadata": {
      "needs_background": "light"
     },
     "output_type": "display_data"
    }
   ],
   "source": [
    "sns.distplot(random.exponential(size=1000), hist=False)\n",
    "\n",
    "plt.show()"
   ]
  },
  {
   "cell_type": "markdown",
   "metadata": {},
   "source": [
    "## Relation Between Poisson and Exponential Distribution\n",
    "Poisson distribution deals with number of occurences of an event in a time period whereas exponential distribution deals with the time between these events.\n",
    "\n",
    "## Chi Square Distribution\n",
    "Chi Square distribution is used as a basis to verify the hypothesis.\n",
    "\n",
    "It has two parameters:\n",
    "\n",
    "**df** - (degree of freedom).\n",
    "\n",
    "**size** - The shape of the returned array."
   ]
  },
  {
   "cell_type": "code",
   "execution_count": 172,
   "metadata": {
    "ExecuteTime": {
     "end_time": "2021-08-08T18:08:54.055079Z",
     "start_time": "2021-08-08T18:08:53.913304Z"
    }
   },
   "outputs": [
    {
     "name": "stdout",
     "output_type": "stream",
     "text": [
      "[[4.48760501 1.72717525 0.24393286]\n",
      " [2.68218413 0.1817223  0.95101573]]\n"
     ]
    },
    {
     "data": {
      "image/png": "[encoded data removed]",
      "text/plain": [
       "<Figure size 432x288 with 1 Axes>"
      ]
     },
     "metadata": {
      "needs_background": "light"
     },
     "output_type": "display_data"
    }
   ],
   "source": [
    "x = random.chisquare(df=2, size=(2, 3))\n",
    "\n",
    "print(x)\n",
    "\n",
    "sns.distplot(random.chisquare(df=1, size=1000), hist=False)\n",
    "\n",
    "plt.show()"
   ]
  },
  {
   "cell_type": "markdown",
   "metadata": {},
   "source": [
    "# Rayleigh Distribution\n",
    "Rayleigh distribution is used in signal processing.\n",
    "\n",
    "It has two parameters:\n",
    "\n",
    "**scale** - (standard deviation) decides how flat the distribution will be default 1.0).\n",
    "\n",
    "**size** - The shape of the returned array."
   ]
  },
  {
   "cell_type": "code",
   "execution_count": 174,
   "metadata": {
    "ExecuteTime": {
     "end_time": "2021-08-08T18:11:09.631602Z",
     "start_time": "2021-08-08T18:11:09.385101Z"
    }
   },
   "outputs": [
    {
     "name": "stdout",
     "output_type": "stream",
     "text": [
      "[[4.09736961 2.66527463 1.92174142]\n",
      " [3.90873091 0.77924508 3.7114983 ]]\n"
     ]
    },
    {
     "data": {
      "image/png": "[encoded data removed]",
      "text/plain": [
       "<Figure size 432x288 with 1 Axes>"
      ]
     },
     "metadata": {
      "needs_background": "light"
     },
     "output_type": "display_data"
    }
   ],
   "source": [
    "x = random.rayleigh(scale=2, size=(2, 3))\n",
    "\n",
    "print(x)\n",
    "\n",
    "sns.distplot(random.rayleigh(size=1000), hist=False)\n",
    "\n",
    "plt.show()"
   ]
  },
  {
   "cell_type": "markdown",
   "metadata": {},
   "source": [
    "## Similarity Between Rayleigh and Chi Square Distribution\n",
    "At unit stddev the and 2 degrees of freedom rayleigh and chi square represent the same distributions.\n",
    "\n",
    "# Pareto Distribution\n",
    "A distribution following Pareto's law i.e. 80-20 distribution (20% factors cause 80% outcome).\n",
    "\n",
    "It has two parameter:\n",
    "\n",
    "**a** - shape parameter.\n",
    "\n",
    "**size** - The shape of the returned array."
   ]
  },
  {
   "cell_type": "code",
   "execution_count": 177,
   "metadata": {
    "ExecuteTime": {
     "end_time": "2021-08-08T18:12:16.925054Z",
     "start_time": "2021-08-08T18:12:16.702699Z"
    }
   },
   "outputs": [
    {
     "name": "stdout",
     "output_type": "stream",
     "text": [
      "[[0.12671854 2.96905434 0.42685842]\n",
      " [0.54020842 1.87920147 0.01016338]]\n"
     ]
    },
    {
     "data": {
      "image/png": "[encoded data removed]",
      "text/plain": [
       "<Figure size 432x288 with 1 Axes>"
      ]
     },
     "metadata": {
      "needs_background": "light"
     },
     "output_type": "display_data"
    }
   ],
   "source": [
    "x = random.pareto(a=2, size=(2, 3))\n",
    "\n",
    "print(x)\n",
    "\n",
    "sns.distplot(random.pareto(a=2, size=1000), kde=False)\n",
    "\n",
    "plt.show()"
   ]
  },
  {
   "cell_type": "markdown",
   "metadata": {},
   "source": [
    "# Zipf Distribution\n",
    "\n",
    "Zipf distritutions are used to sample data based on zipf's law.\n",
    "\n",
    "Zipf's Law: In a collection the nth common term is 1/n times of the most common term. E.g. 5th common word in english has occurs nearly 1/5th times as of the most used word.\n",
    "\n",
    "It has two parameters:\n",
    "\n",
    "a - distribution parameter.\n",
    "\n",
    "size - The shape of the returned array."
   ]
  },
  {
   "cell_type": "code",
   "execution_count": 179,
   "metadata": {
    "ExecuteTime": {
     "end_time": "2021-08-08T18:13:22.352905Z",
     "start_time": "2021-08-08T18:13:22.153376Z"
    }
   },
   "outputs": [
    {
     "name": "stdout",
     "output_type": "stream",
     "text": [
      "[[ 1  1  1]\n",
      " [ 1 88  1]]\n"
     ]
    },
    {
     "data": {
      "image/png": "[encoded data removed]",
      "text/plain": [
       "<Figure size 432x288 with 1 Axes>"
      ]
     },
     "metadata": {
      "needs_background": "light"
     },
     "output_type": "display_data"
    }
   ],
   "source": [
    "x = random.zipf(a=2, size=(2, 3))\n",
    "\n",
    "print(x)\n",
    "\n",
    "\n",
    "x = random.zipf(a=2, size=1000)\n",
    "sns.distplot(x[x<10], kde=False)\n",
    "\n",
    "plt.show()"
   ]
  },
  {
   "cell_type": "code",
   "execution_count": 181,
   "metadata": {
    "ExecuteTime": {
     "end_time": "2021-08-08T18:13:32.622919Z",
     "start_time": "2021-08-08T18:13:32.415587Z"
    }
   },
   "outputs": [
    {
     "data": {
      "image/png": "[encoded data removed]",
      "text/plain": [
       "<Figure size 432x288 with 1 Axes>"
      ]
     },
     "metadata": {
      "needs_background": "light"
     },
     "output_type": "display_data"
    }
   ],
   "source": [
    "x = random.zipf(a=2, size=1000)\n",
    "sns.distplot(x[x<10], kde=True)\n",
    "\n",
    "plt.show()"
   ]
  },
  {
   "cell_type": "markdown",
   "metadata": {},
   "source": [
    "# NumPy ufunc\n",
    "\n",
    "What are ufuncs?\n",
    "\n",
    "ufuncs stands for \"Universal Functions\" and they are NumPy functions that operates on the ndarray object.\n",
    "\n",
    "Why use ufuncs?\n",
    "\n",
    "ufuncs are used to implement vectorization in NumPy which is way faster than iterating over elements.\n",
    "\n",
    "They also provide broadcasting and additional methods like reduce, accumulate etc. that are very helpful for computation.\n",
    "\n",
    "ufuncs also take additional arguments, like:\n",
    "\n",
    "where boolean array or condition defining where the operations should take place.\n",
    "\n",
    "dtype defining the return type of elements.\n",
    "\n",
    "out output array where the return value should be copied.\n",
    "\n",
    "What is Vectorization?\n",
    "Converting iterative statements into a vector based operation is called vectorization.\n",
    "\n",
    "It is faster as modern CPUs are optimized for such operations.\n",
    "\n",
    "Add the Elements of Two Lists\n",
    "\n",
    "list 1: [1, 2, 3, 4]\n",
    "\n",
    "list 2: [4, 5, 6, 7]\n",
    "\n",
    "One way of doing it is to iterate over both of the lists and then sum each elements."
   ]
  },
  {
   "cell_type": "code",
   "execution_count": 184,
   "metadata": {
    "ExecuteTime": {
     "end_time": "2021-08-08T18:16:15.652739Z",
     "start_time": "2021-08-08T18:16:15.640350Z"
    }
   },
   "outputs": [
    {
     "name": "stdout",
     "output_type": "stream",
     "text": [
      "[5, 7, 9, 11]\n",
      "[ 5  7  9 11]\n"
     ]
    }
   ],
   "source": [
    "x = [1, 2, 3, 4]\n",
    "y = [4, 5, 6, 7]\n",
    "z = []\n",
    "\n",
    "for i, j in zip(x, y):\n",
    "    z.append(i + j)\n",
    "print(z)\n",
    "\n",
    "\n",
    "\n",
    "x = [1, 2, 3, 4]\n",
    "y = [4, 5, 6, 7]\n",
    "z = np.add(x, y)\n",
    "\n",
    "print(z)"
   ]
  },
  {
   "cell_type": "markdown",
   "metadata": {},
   "source": [
    "## How To Create Your Own ufunc\n",
    "To create you own ufunc, you have to define a function, like you do with normal functions in Python, then you add it to your NumPy ufunc library with the frompyfunc() method.\n",
    "\n",
    "The frompyfunc() method takes the following arguments:\n",
    "\n",
    "function - the name of the function.\n",
    "\n",
    "inputs - the number of input arguments (arrays).\n",
    "\n",
    "outputs - the number of output arrays."
   ]
  },
  {
   "cell_type": "code",
   "execution_count": 187,
   "metadata": {
    "ExecuteTime": {
     "end_time": "2021-08-08T18:17:56.179518Z",
     "start_time": "2021-08-08T18:17:56.170554Z"
    }
   },
   "outputs": [
    {
     "name": "stdout",
     "output_type": "stream",
     "text": [
      "[6 8 10 12]\n"
     ]
    }
   ],
   "source": [
    "def myadd(x, y):\n",
    "    return x+y\n",
    "\n",
    "myadd = np.frompyfunc(myadd, 2, 1)\n",
    "\n",
    "print(myadd([1, 2, 3, 4], [5, 6, 7, 8]))"
   ]
  },
  {
   "cell_type": "markdown",
   "metadata": {},
   "source": [
    "## Check if a Function is a ufunc\n",
    "Check the type of a function to check if it is a ufunc or not.\n",
    "\n",
    "A ufunc should return <class 'numpy.ufunc'>."
   ]
  },
  {
   "cell_type": "code",
   "execution_count": 190,
   "metadata": {
    "ExecuteTime": {
     "end_time": "2021-08-08T18:19:00.505592Z",
     "start_time": "2021-08-08T18:19:00.495764Z"
    }
   },
   "outputs": [
    {
     "name": "stdout",
     "output_type": "stream",
     "text": [
      "<class 'numpy.ufunc'>\n",
      "<class 'function'>\n"
     ]
    }
   ],
   "source": [
    "print(type(np.add))\n",
    "print(type(np.concatenate))\n"
   ]
  },
  {
   "cell_type": "markdown",
   "metadata": {},
   "source": [
    "## Simple Arithmetic\n",
    "\n",
    "Both the mod() and the remainder() functions return the remainder of the values in the first array corresponding to the values in the second array, and return the results in a new array.\n",
    "\n",
    "\n",
    "\n",
    "The divmod() function return both the quotient and the the mod. The return value is two arrays, the first array contains the quotient and second array contains the mod.\n",
    "\n"
   ]
  },
  {
   "cell_type": "code",
   "execution_count": 200,
   "metadata": {
    "ExecuteTime": {
     "end_time": "2021-08-08T18:21:45.011796Z",
     "start_time": "2021-08-08T18:21:45.001062Z"
    }
   },
   "outputs": [
    {
     "name": "stdout",
     "output_type": "stream",
     "text": [
      "[30 32 34 36 38 40]\n",
      "[200 231 264 299 336 375]\n",
      "[-10 -10 -10 -10 -10 -10]\n",
      "[0.5        0.52380952 0.54545455 0.56521739 0.58333333 0.6       ]\n",
      "[ 1661992960   602408795           0  1487897765  1090519040 -1144744561]\n",
      "[10 11 12 13 14 15]\n",
      "[10 11 12 13 14 15]\n",
      "(array([0, 0, 0, 0, 0, 0], dtype=int32), array([10, 11, 12, 13, 14, 15], dtype=int32))\n"
     ]
    }
   ],
   "source": [
    "arr1 = np.array([10, 11, 12, 13, 14, 15])\n",
    "arr2 = np.array([20, 21, 22, 23, 24, 25])\n",
    "\n",
    "newarr = np.add(arr1, arr2)\n",
    "\n",
    "print(newarr)\n",
    "\n",
    "newarr = np.multiply(arr1, arr2)\n",
    "\n",
    "print(newarr)\n",
    "\n",
    "newarr = np.subtract(arr1, arr2)\n",
    "\n",
    "print(newarr)\n",
    "\n",
    "newarr = np.divide(arr1, arr2)\n",
    "\n",
    "print(newarr)\n",
    "\n",
    "\n",
    "newarr = np.power(arr1, arr2)\n",
    "\n",
    "print(newarr)\n",
    "\n",
    "newarr = np.mod(arr1, arr2)\n",
    "\n",
    "print(newarr)\n",
    "\n",
    "\n",
    "newarr = np.remainder(arr1, arr2)\n",
    "\n",
    "print(newarr)\n",
    "\n",
    "\n",
    "newarr = np.divmod(arr1, arr2)\n",
    "\n",
    "print(newarr)"
   ]
  },
  {
   "cell_type": "code",
   "execution_count": 209,
   "metadata": {
    "ExecuteTime": {
     "end_time": "2021-08-08T18:25:29.441132Z",
     "start_time": "2021-08-08T18:25:29.428568Z"
    }
   },
   "outputs": [
    {
     "name": "stdout",
     "output_type": "stream",
     "text": [
      "[1 2 1 2 3 4]\n"
     ]
    }
   ],
   "source": [
    "arr = np.array([-1, -2, 1, 2, 3, -4])\n",
    "\n",
    "newarr = np.absolute(arr)\n",
    "\n",
    "print(newarr)"
   ]
  },
  {
   "cell_type": "markdown",
   "metadata": {},
   "source": [
    "# Rounding Decimals\n",
    "There are primarily five ways of rounding off decimals in NumPy:\n",
    "\n",
    "1. truncation : Remove the decimals, and return the float number closest to zero. Use the trunc() and fix() functions.\n",
    "\n",
    "2. fix : The around() function increments preceding digit or decimal by 1 if >=5 else do nothing. E.g. round off to 1 decimal point, 3.16666 is 3.2\n",
    "\n",
    "3. rounding : The floor() function rounds off decimal to nearest lower integer. E.g. floor of 3.166 is 3.\n",
    "\n",
    "4. floor : The floor() function rounds off decimal to nearest lower integer. E.g. floor of 3.166 is 3.\n",
    "\n",
    "5. ceil : The ceil() function rounds off decimal to nearest upper integer. E.g. ceil of 3.166 is 4."
   ]
  },
  {
   "cell_type": "code",
   "execution_count": 214,
   "metadata": {
    "ExecuteTime": {
     "end_time": "2021-08-08T18:31:21.084633Z",
     "start_time": "2021-08-08T18:31:21.066531Z"
    }
   },
   "outputs": [
    {
     "name": "stdout",
     "output_type": "stream",
     "text": [
      "[-3.  3.]\n",
      "[-3.  3.]\n",
      "3.17\n",
      "[-3.  4.]\n"
     ]
    }
   ],
   "source": [
    "arr = np.trunc([-3.1666, 3.6667])\n",
    "\n",
    "print(arr)\n",
    "\n",
    "arr = np.fix([-3.1666, 3.6667])\n",
    "\n",
    "print(arr)\n",
    "\n",
    "arr = np.around(3.1666, 2)\n",
    "\n",
    "print(arr)\n",
    "\n",
    "arr = np.ceil([-3.1666, 3.6667])\n",
    "\n",
    "print(arr)"
   ]
  },
  {
   "cell_type": "markdown",
   "metadata": {},
   "source": [
    "# Logs\n",
    "\n",
    "NumPy provides functions to perform log at the base 2, e and 10.\n",
    "\n",
    "We will also explore how we can take log for any base by creating a custom ufunc.\n",
    "\n",
    "All of the log functions will place -inf or inf in the elements if the log can not be computed.\n",
    "\n",
    "## Log at Base 2\n",
    "\n",
    "Use the log2() function to perform log at the base 2.\n",
    "\n",
    "Note: The arange(1, 10) function returns an array with integers starting from 1 (included) to 10 (not included).\n",
    "\n",
    "## Log at Base 10\n",
    "Use the log10() function to perform log at the base 10.\n",
    "\n",
    "## Natural Log, or Log at Base e\n",
    "Use the log() function to perform log at the base e.\n",
    "\n",
    "## Log at Any Base\n",
    "NumPy does not provide any function to take log at any base, so we can use the frompyfunc() function along with inbuilt function math.log() with two input parameters and one output parameter:"
   ]
  },
  {
   "cell_type": "code",
   "execution_count": 219,
   "metadata": {
    "ExecuteTime": {
     "end_time": "2021-08-08T18:37:11.721787Z",
     "start_time": "2021-08-08T18:37:11.705599Z"
    }
   },
   "outputs": [
    {
     "name": "stdout",
     "output_type": "stream",
     "text": [
      "[1 2 3 4 5 6 7 8 9]\n",
      "[0.         1.         1.5849625  2.         2.32192809 2.5849625\n",
      " 2.80735492 3.         3.169925  ]\n",
      "[0.         0.30103    0.47712125 0.60205999 0.69897    0.77815125\n",
      " 0.84509804 0.90308999 0.95424251]\n",
      "[0.         0.69314718 1.09861229 1.38629436 1.60943791 1.79175947\n",
      " 1.94591015 2.07944154 2.19722458]\n"
     ]
    }
   ],
   "source": [
    "arr = np.arange(1, 10)\n",
    "print(arr)\n",
    "print(np.log2(arr))\n",
    "print(np.log10(arr))\n",
    "print(np.log(arr))"
   ]
  },
  {
   "cell_type": "code",
   "execution_count": 221,
   "metadata": {
    "ExecuteTime": {
     "end_time": "2021-08-08T18:37:37.625230Z",
     "start_time": "2021-08-08T18:37:37.619766Z"
    }
   },
   "outputs": [
    {
     "name": "stdout",
     "output_type": "stream",
     "text": [
      "1.7005483074552052\n"
     ]
    }
   ],
   "source": [
    "from math import log\n",
    "\n",
    "\n",
    "nplog = np.frompyfunc(log, 2, 1)\n",
    "\n",
    "print(nplog(100, 15))"
   ]
  },
  {
   "cell_type": "markdown",
   "metadata": {},
   "source": [
    "# Summations\n",
    "What is the difference between summation and addition?\n",
    "\n",
    "Addition is done between two arguments whereas summation happens over n elements.\n",
    "\n",
    "https://www.w3schools.com/python/numpy/numpy_ufunc_summations.asp\n"
   ]
  },
  {
   "cell_type": "code",
   "execution_count": null,
   "metadata": {},
   "outputs": [],
   "source": []
  }
 ],
 "metadata": {
  "kernelspec": {
   "display_name": "tensorflow",
   "language": "python",
   "name": "tensorflow"
  },
  "language_info": {
   "codemirror_mode": {
    "name": "ipython",
    "version": 3
   },
   "file_extension": ".py",
   "mimetype": "text/x-python",
   "name": "python",
   "nbconvert_exporter": "python",
   "pygments_lexer": "ipython3",
   "version": "3.7.7"
  },
  "toc": {
   "base_numbering": 1,
   "nav_menu": {},
   "number_sections": true,
   "sideBar": true,
   "skip_h1_title": false,
   "title_cell": "Table of Contents",
   "title_sidebar": "Contents",
   "toc_cell": true,
   "toc_position": {},
   "toc_section_display": true,
   "toc_window_display": true
  }
 },
 "nbformat": 4,
 "nbformat_minor": 5
}
