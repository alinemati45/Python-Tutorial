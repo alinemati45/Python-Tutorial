{
 "cells": [
  {
   "cell_type": "markdown",
   "id": "remarkable-roommate",
   "metadata": {
    "toc": true
   },
   "source": [
    "<h1>Table of Contents<span class=\"tocSkip\"></span></h1>\n",
    "<div class=\"toc\"><ul class=\"toc-item\"><li><span><a href=\"#Intro\" data-toc-modified-id=\"Intro-1\"><span class=\"toc-item-num\">1&nbsp;&nbsp;</span>Intro</a></span><ul class=\"toc-item\"><li><span><a href=\"#Why-Use-Pandas?\" data-toc-modified-id=\"Why-Use-Pandas?-1.1\"><span class=\"toc-item-num\">1.1&nbsp;&nbsp;</span>Why Use Pandas?</a></span></li><li><span><a href=\"#Import-Pandas\" data-toc-modified-id=\"Import-Pandas-1.2\"><span class=\"toc-item-num\">1.2&nbsp;&nbsp;</span>Import Pandas</a></span></li></ul></li><li><span><a href=\"#What-is-a-Series?\" data-toc-modified-id=\"What-is-a-Series?-2\"><span class=\"toc-item-num\">2&nbsp;&nbsp;</span>What is a Series?</a></span></li><li><span><a href=\"#What-is-a-DataFrame?\" data-toc-modified-id=\"What-is-a-DataFrame?-3\"><span class=\"toc-item-num\">3&nbsp;&nbsp;</span>What is a DataFrame?</a></span><ul class=\"toc-item\"><li><span><a href=\"#Locate-Row\" data-toc-modified-id=\"Locate-Row-3.1\"><span class=\"toc-item-num\">3.1&nbsp;&nbsp;</span>Locate Row</a></span></li><li><span><a href=\"#Named-Indexes\" data-toc-modified-id=\"Named-Indexes-3.2\"><span class=\"toc-item-num\">3.2&nbsp;&nbsp;</span>Named Indexes</a></span></li><li><span><a href=\"#Locate-Named-Indexes\" data-toc-modified-id=\"Locate-Named-Indexes-3.3\"><span class=\"toc-item-num\">3.3&nbsp;&nbsp;</span>Locate Named Indexes</a></span></li><li><span><a href=\"#Load-Files-Into-a-DataFrame\" data-toc-modified-id=\"Load-Files-Into-a-DataFrame-3.4\"><span class=\"toc-item-num\">3.4&nbsp;&nbsp;</span>Load Files Into a DataFrame</a></span></li><li><span><a href=\"#Read-JSON\" data-toc-modified-id=\"Read-JSON-3.5\"><span class=\"toc-item-num\">3.5&nbsp;&nbsp;</span>Read JSON</a></span></li><li><span><a href=\"#Viewing-the-Data\" data-toc-modified-id=\"Viewing-the-Data-3.6\"><span class=\"toc-item-num\">3.6&nbsp;&nbsp;</span>Viewing the Data</a></span></li></ul></li><li><span><a href=\"#Plotting\" data-toc-modified-id=\"Plotting-4\"><span class=\"toc-item-num\">4&nbsp;&nbsp;</span>Plotting</a></span><ul class=\"toc-item\"><li><span><a href=\"#Scatter-Plot\" data-toc-modified-id=\"Scatter-Plot-4.1\"><span class=\"toc-item-num\">4.1&nbsp;&nbsp;</span>Scatter Plot</a></span></li></ul></li><li><span><a href=\"#Data-Correlations\" data-toc-modified-id=\"Data-Correlations-5\"><span class=\"toc-item-num\">5&nbsp;&nbsp;</span>Data Correlations</a></span><ul class=\"toc-item\"><li><span><a href=\"#Result-Explained\" data-toc-modified-id=\"Result-Explained-5.1\"><span class=\"toc-item-num\">5.1&nbsp;&nbsp;</span>Result Explained</a></span></li><li><span><a href=\"#Perfect-Correlation:\" data-toc-modified-id=\"Perfect-Correlation:-5.2\"><span class=\"toc-item-num\">5.2&nbsp;&nbsp;</span>Perfect Correlation:</a></span></li><li><span><a href=\"#Good-Correlation:\" data-toc-modified-id=\"Good-Correlation:-5.3\"><span class=\"toc-item-num\">5.3&nbsp;&nbsp;</span>Good Correlation:</a></span></li><li><span><a href=\"#Bad-Correlation:\" data-toc-modified-id=\"Bad-Correlation:-5.4\"><span class=\"toc-item-num\">5.4&nbsp;&nbsp;</span>Bad Correlation:</a></span></li></ul></li><li><span><a href=\"#Data-Cleaning\" data-toc-modified-id=\"Data-Cleaning-6\"><span class=\"toc-item-num\">6&nbsp;&nbsp;</span>Data Cleaning</a></span><ul class=\"toc-item\"><li><span><a href=\"#Empty-Cells\" data-toc-modified-id=\"Empty-Cells-6.1\"><span class=\"toc-item-num\">6.1&nbsp;&nbsp;</span>Empty Cells</a></span></li><li><span><a href=\"#Remove-Rows\" data-toc-modified-id=\"Remove-Rows-6.2\"><span class=\"toc-item-num\">6.2&nbsp;&nbsp;</span>Remove Rows</a></span></li><li><span><a href=\"#Replace-Empty-Values\" data-toc-modified-id=\"Replace-Empty-Values-6.3\"><span class=\"toc-item-num\">6.3&nbsp;&nbsp;</span>Replace Empty Values</a></span></li><li><span><a href=\"#Replace-Only-For-a-Specified-Columns\" data-toc-modified-id=\"Replace-Only-For-a-Specified-Columns-6.4\"><span class=\"toc-item-num\">6.4&nbsp;&nbsp;</span>Replace Only For a Specified Columns</a></span></li><li><span><a href=\"#Data-of-Wrong-Format\" data-toc-modified-id=\"Data-of-Wrong-Format-6.5\"><span class=\"toc-item-num\">6.5&nbsp;&nbsp;</span>Data of Wrong Format</a></span></li><li><span><a href=\"#Convert-Into-a-Correct-Format\" data-toc-modified-id=\"Convert-Into-a-Correct-Format-6.6\"><span class=\"toc-item-num\">6.6&nbsp;&nbsp;</span>Convert Into a Correct Format</a></span></li><li><span><a href=\"#Replacing-Values\" data-toc-modified-id=\"Replacing-Values-6.7\"><span class=\"toc-item-num\">6.7&nbsp;&nbsp;</span>Replacing Values</a></span></li><li><span><a href=\"#Removing-Rows\" data-toc-modified-id=\"Removing-Rows-6.8\"><span class=\"toc-item-num\">6.8&nbsp;&nbsp;</span>Removing Rows</a></span></li><li><span><a href=\"#Removing-Duplicates\" data-toc-modified-id=\"Removing-Duplicates-6.9\"><span class=\"toc-item-num\">6.9&nbsp;&nbsp;</span>Removing Duplicates</a></span></li><li><span><a href=\"#Removing-Duplicates\" data-toc-modified-id=\"Removing-Duplicates-6.10\"><span class=\"toc-item-num\">6.10&nbsp;&nbsp;</span>Removing Duplicates</a></span></li></ul></li><li><span><a href=\"#Filter\" data-toc-modified-id=\"Filter-7\"><span class=\"toc-item-num\">7&nbsp;&nbsp;</span>Filter</a></span><ul class=\"toc-item\"><li><span><a href=\"#Logical-operators\" data-toc-modified-id=\"Logical-operators-7.1\"><span class=\"toc-item-num\">7.1&nbsp;&nbsp;</span>Logical operators</a></span></li><li><span><a href=\"#Multiple-logical-operators\" data-toc-modified-id=\"Multiple-logical-operators-7.2\"><span class=\"toc-item-num\">7.2&nbsp;&nbsp;</span>Multiple logical operators</a></span></li><li><span><a href=\"#Isin\" data-toc-modified-id=\"Isin-7.3\"><span class=\"toc-item-num\">7.3&nbsp;&nbsp;</span>Isin</a></span></li><li><span><a href=\"#Str-accessor\" data-toc-modified-id=\"Str-accessor-7.4\"><span class=\"toc-item-num\">7.4&nbsp;&nbsp;</span>Str accessor</a></span></li><li><span><a href=\"#Tilde-(~)\" data-toc-modified-id=\"Tilde-(~)-7.5\"><span class=\"toc-item-num\">7.5&nbsp;&nbsp;</span>Tilde (~)</a></span></li><li><span><a href=\"#Query\" data-toc-modified-id=\"Query-7.6\"><span class=\"toc-item-num\">7.6&nbsp;&nbsp;</span>Query</a></span></li><li><span><a href=\"#Nlargest-or-nsmallest\" data-toc-modified-id=\"Nlargest-or-nsmallest-7.7\"><span class=\"toc-item-num\">7.7&nbsp;&nbsp;</span>Nlargest or nsmallest</a></span></li><li><span><a href=\"#Loc-and-iloc\" data-toc-modified-id=\"Loc-and-iloc-7.8\"><span class=\"toc-item-num\">7.8&nbsp;&nbsp;</span>Loc and iloc</a></span></li></ul></li><li><span><a href=\"#DataFrame-Reference\" data-toc-modified-id=\"DataFrame-Reference-8\"><span class=\"toc-item-num\">8&nbsp;&nbsp;</span>DataFrame Reference</a></span><ul class=\"toc-item\"><li><span><a href=\"#Pandas-DataFrame-abs()-Method\" data-toc-modified-id=\"Pandas-DataFrame-abs()-Method-8.1\"><span class=\"toc-item-num\">8.1&nbsp;&nbsp;</span>Pandas DataFrame abs() Method</a></span></li><li><span><a href=\"#add()-Method\" data-toc-modified-id=\"add()-Method-8.2\"><span class=\"toc-item-num\">8.2&nbsp;&nbsp;</span>add() Method</a></span></li><li><span><a href=\"#add_prefix()-Method\" data-toc-modified-id=\"add_prefix()-Method-8.3\"><span class=\"toc-item-num\">8.3&nbsp;&nbsp;</span>add_prefix() Method</a></span></li><li><span><a href=\"#add_suffix()-Method\" data-toc-modified-id=\"add_suffix()-Method-8.4\"><span class=\"toc-item-num\">8.4&nbsp;&nbsp;</span>add_suffix() Method</a></span></li><li><span><a href=\"#agg()-Method\" data-toc-modified-id=\"agg()-Method-8.5\"><span class=\"toc-item-num\">8.5&nbsp;&nbsp;</span>agg() Method</a></span></li><li><span><a href=\"#all()-Method\" data-toc-modified-id=\"all()-Method-8.6\"><span class=\"toc-item-num\">8.6&nbsp;&nbsp;</span>all() Method</a></span></li><li><span><a href=\"#any()-Method\" data-toc-modified-id=\"any()-Method-8.7\"><span class=\"toc-item-num\">8.7&nbsp;&nbsp;</span>any() Method</a></span></li><li><span><a href=\"#append()-Method\" data-toc-modified-id=\"append()-Method-8.8\"><span class=\"toc-item-num\">8.8&nbsp;&nbsp;</span>append() Method</a></span></li><li><span><a href=\"#applymap()-Method\" data-toc-modified-id=\"applymap()-Method-8.9\"><span class=\"toc-item-num\">8.9&nbsp;&nbsp;</span>applymap() Method</a></span></li><li><span><a href=\"#apply()-Method\" data-toc-modified-id=\"apply()-Method-8.10\"><span class=\"toc-item-num\">8.10&nbsp;&nbsp;</span>apply() Method</a></span></li><li><span><a href=\"#assign()-Method\" data-toc-modified-id=\"assign()-Method-8.11\"><span class=\"toc-item-num\">8.11&nbsp;&nbsp;</span>assign() Method</a></span></li><li><span><a href=\"#astype()-Method\" data-toc-modified-id=\"astype()-Method-8.12\"><span class=\"toc-item-num\">8.12&nbsp;&nbsp;</span>astype() Method</a></span></li><li><span><a href=\"#at-Property\" data-toc-modified-id=\"at-Property-8.13\"><span class=\"toc-item-num\">8.13&nbsp;&nbsp;</span>at Property</a></span></li><li><span><a href=\"#axes-Property\" data-toc-modified-id=\"axes-Property-8.14\"><span class=\"toc-item-num\">8.14&nbsp;&nbsp;</span>axes Property</a></span></li><li><span><a href=\"#bfill()-Method\" data-toc-modified-id=\"bfill()-Method-8.15\"><span class=\"toc-item-num\">8.15&nbsp;&nbsp;</span>bfill() Method</a></span><ul class=\"toc-item\"><li><span><a href=\"#axis:\" data-toc-modified-id=\"axis:-8.15.1\"><span class=\"toc-item-num\">8.15.1&nbsp;&nbsp;</span>axis:</a></span></li><li><span><a href=\"#inplace----True-Or-False\" data-toc-modified-id=\"inplace----True-Or-False-8.15.2\"><span class=\"toc-item-num\">8.15.2&nbsp;&nbsp;</span>inplace    True Or False</a></span></li><li><span><a href=\"#limit----Number\" data-toc-modified-id=\"limit----Number-8.15.3\"><span class=\"toc-item-num\">8.15.3&nbsp;&nbsp;</span>limit    Number</a></span></li><li><span><a href=\"#downcast----Dictionary\" data-toc-modified-id=\"downcast----Dictionary-8.15.4\"><span class=\"toc-item-num\">8.15.4&nbsp;&nbsp;</span>downcast    Dictionary</a></span></li></ul></li><li><span><a href=\"#bool()-Method\" data-toc-modified-id=\"bool()-Method-8.16\"><span class=\"toc-item-num\">8.16&nbsp;&nbsp;</span>bool() Method</a></span></li><li><span><a href=\"#columns-Property\" data-toc-modified-id=\"columns-Property-8.17\"><span class=\"toc-item-num\">8.17&nbsp;&nbsp;</span>columns Property</a></span></li><li><span><a href=\"#combine_first()-Method\" data-toc-modified-id=\"combine_first()-Method-8.18\"><span class=\"toc-item-num\">8.18&nbsp;&nbsp;</span>combine_first() Method</a></span></li><li><span><a href=\"#convert_dtypes()-Method\" data-toc-modified-id=\"convert_dtypes()-Method-8.19\"><span class=\"toc-item-num\">8.19&nbsp;&nbsp;</span>convert_dtypes() Method</a></span></li><li><span><a href=\"#count()-Method\" data-toc-modified-id=\"count()-Method-8.20\"><span class=\"toc-item-num\">8.20&nbsp;&nbsp;</span>count() Method</a></span><ul class=\"toc-item\"><li><span><a href=\"#Return-Value\" data-toc-modified-id=\"Return-Value-8.20.1\"><span class=\"toc-item-num\">8.20.1&nbsp;&nbsp;</span>Return Value</a></span></li></ul></li><li><span><a href=\"#cov()-Method\" data-toc-modified-id=\"cov()-Method-8.21\"><span class=\"toc-item-num\">8.21&nbsp;&nbsp;</span>cov() Method</a></span></li><li><span><a href=\"#copy()-Method\" data-toc-modified-id=\"copy()-Method-8.22\"><span class=\"toc-item-num\">8.22&nbsp;&nbsp;</span>copy() Method</a></span></li><li><span><a href=\"#describe()-Method\" data-toc-modified-id=\"describe()-Method-8.23\"><span class=\"toc-item-num\">8.23&nbsp;&nbsp;</span>describe() Method</a></span></li><li><span><a href=\"#div()-Method\" data-toc-modified-id=\"div()-Method-8.24\"><span class=\"toc-item-num\">8.24&nbsp;&nbsp;</span>div() Method</a></span></li><li><span><a href=\"#dot()-Method\" data-toc-modified-id=\"dot()-Method-8.25\"><span class=\"toc-item-num\">8.25&nbsp;&nbsp;</span>dot() Method</a></span></li><li><span><a href=\"#drop()-Method\" data-toc-modified-id=\"drop()-Method-8.26\"><span class=\"toc-item-num\">8.26&nbsp;&nbsp;</span>drop() Method</a></span></li><li><span><a href=\"#drop_duplicates()-Method\" data-toc-modified-id=\"drop_duplicates()-Method-8.27\"><span class=\"toc-item-num\">8.27&nbsp;&nbsp;</span>drop_duplicates() Method</a></span></li><li><span><a href=\"#drop()-Method\" data-toc-modified-id=\"drop()-Method-8.28\"><span class=\"toc-item-num\">8.28&nbsp;&nbsp;</span>drop() Method</a></span></li><li><span><a href=\"#dropna()-Method\" data-toc-modified-id=\"dropna()-Method-8.29\"><span class=\"toc-item-num\">8.29&nbsp;&nbsp;</span>dropna() Method</a></span></li><li><span><a href=\"#duplicated()-Method\" data-toc-modified-id=\"duplicated()-Method-8.30\"><span class=\"toc-item-num\">8.30&nbsp;&nbsp;</span>duplicated() Method</a></span></li><li><span><a href=\"#dtypes-Property\" data-toc-modified-id=\"dtypes-Property-8.31\"><span class=\"toc-item-num\">8.31&nbsp;&nbsp;</span>dtypes Property</a></span></li><li><span><a href=\"#equals()-Method\" data-toc-modified-id=\"equals()-Method-8.32\"><span class=\"toc-item-num\">8.32&nbsp;&nbsp;</span>equals() Method</a></span></li><li><span><a href=\"#ffill()-Method\" data-toc-modified-id=\"ffill()-Method-8.33\"><span class=\"toc-item-num\">8.33&nbsp;&nbsp;</span>ffill() Method</a></span></li><li><span><a href=\"#fillna()-Method\" data-toc-modified-id=\"fillna()-Method-8.34\"><span class=\"toc-item-num\">8.34&nbsp;&nbsp;</span>fillna() Method</a></span></li><li><span><a href=\"#get()-Method\" data-toc-modified-id=\"get()-Method-8.35\"><span class=\"toc-item-num\">8.35&nbsp;&nbsp;</span>get() Method</a></span></li><li><span><a href=\"#groupby()-Method\" data-toc-modified-id=\"groupby()-Method-8.36\"><span class=\"toc-item-num\">8.36&nbsp;&nbsp;</span>groupby() Method</a></span></li><li><span><a href=\"#index-Property\" data-toc-modified-id=\"index-Property-8.37\"><span class=\"toc-item-num\">8.37&nbsp;&nbsp;</span>index Property</a></span></li><li><span><a href=\"#isna()-Method\" data-toc-modified-id=\"isna()-Method-8.38\"><span class=\"toc-item-num\">8.38&nbsp;&nbsp;</span>isna() Method</a></span></li><li><span><a href=\"#isnull()-Method\" data-toc-modified-id=\"isnull()-Method-8.39\"><span class=\"toc-item-num\">8.39&nbsp;&nbsp;</span>isnull() Method</a></span></li><li><span><a href=\"#keys()-Method\" data-toc-modified-id=\"keys()-Method-8.40\"><span class=\"toc-item-num\">8.40&nbsp;&nbsp;</span>keys() Method</a></span></li><li><span><a href=\"#mask()-Method\" data-toc-modified-id=\"mask()-Method-8.41\"><span class=\"toc-item-num\">8.41&nbsp;&nbsp;</span>mask() Method</a></span></li><li><span><a href=\"#min()-,-max()-,-mod(3)-,-mul(3)\" data-toc-modified-id=\"min()-,-max()-,-mod(3)-,-mul(3)-8.42\"><span class=\"toc-item-num\">8.42&nbsp;&nbsp;</span>min() , max() , mod(3) , mul(3)</a></span></li><li><span><a href=\"#ndim-Property\" data-toc-modified-id=\"ndim-Property-8.43\"><span class=\"toc-item-num\">8.43&nbsp;&nbsp;</span>ndim Property</a></span></li><li><span><a href=\"#notnull()-Method\" data-toc-modified-id=\"notnull()-Method-8.44\"><span class=\"toc-item-num\">8.44&nbsp;&nbsp;</span>notnull() Method</a></span></li><li><span><a href=\"#nunique()-Method\" data-toc-modified-id=\"nunique()-Method-8.45\"><span class=\"toc-item-num\">8.45&nbsp;&nbsp;</span>nunique() Method</a></span></li><li><span><a href=\"#value_counts\" data-toc-modified-id=\"value_counts-8.46\"><span class=\"toc-item-num\">8.46&nbsp;&nbsp;</span>value_counts</a></span></li><li><span><a href=\"#values\" data-toc-modified-id=\"values-8.47\"><span class=\"toc-item-num\">8.47&nbsp;&nbsp;</span>values</a></span></li><li><span><a href=\"#pipe()-Method\" data-toc-modified-id=\"pipe()-Method-8.48\"><span class=\"toc-item-num\">8.48&nbsp;&nbsp;</span>pipe() Method</a></span></li><li><span><a href=\"#pop()-Method\" data-toc-modified-id=\"pop()-Method-8.49\"><span class=\"toc-item-num\">8.49&nbsp;&nbsp;</span>pop() Method</a></span></li><li><span><a href=\"#quantile()-Method\" data-toc-modified-id=\"quantile()-Method-8.50\"><span class=\"toc-item-num\">8.50&nbsp;&nbsp;</span>quantile() Method</a></span></li><li><span><a href=\"#query()-Method\" data-toc-modified-id=\"query()-Method-8.51\"><span class=\"toc-item-num\">8.51&nbsp;&nbsp;</span>query() Method</a></span></li><li><span><a href=\"#reindex()-Method\" data-toc-modified-id=\"reindex()-Method-8.52\"><span class=\"toc-item-num\">8.52&nbsp;&nbsp;</span>reindex() Method</a></span></li><li><span><a href=\"#rename()-Method\" data-toc-modified-id=\"rename()-Method-8.53\"><span class=\"toc-item-num\">8.53&nbsp;&nbsp;</span>rename() Method</a></span></li><li><span><a href=\"#replace()-Method\" data-toc-modified-id=\"replace()-Method-8.54\"><span class=\"toc-item-num\">8.54&nbsp;&nbsp;</span>replace() Method</a></span></li><li><span><a href=\"#sort_index()-Method\" data-toc-modified-id=\"sort_index()-Method-8.55\"><span class=\"toc-item-num\">8.55&nbsp;&nbsp;</span>sort_index() Method</a></span></li><li><span><a href=\"#sort_values()-Method\" data-toc-modified-id=\"sort_values()-Method-8.56\"><span class=\"toc-item-num\">8.56&nbsp;&nbsp;</span>sort_values() Method</a></span></li><li><span><a href=\"#T-Property\" data-toc-modified-id=\"T-Property-8.57\"><span class=\"toc-item-num\">8.57&nbsp;&nbsp;</span>T Property</a></span></li><li><span><a href=\"#transform()-Method\" data-toc-modified-id=\"transform()-Method-8.58\"><span class=\"toc-item-num\">8.58&nbsp;&nbsp;</span>transform() Method</a></span></li><li><span><a href=\"#update()-Method\" data-toc-modified-id=\"update()-Method-8.59\"><span class=\"toc-item-num\">8.59&nbsp;&nbsp;</span>update() Method</a></span></li><li><span><a href=\"#where()-Method\" data-toc-modified-id=\"where()-Method-8.60\"><span class=\"toc-item-num\">8.60&nbsp;&nbsp;</span>where() Method</a></span></li><li><span><a href=\"#Rename-Column-Labels-of-DataFrame\" data-toc-modified-id=\"Rename-Column-Labels-of-DataFrame-8.61\"><span class=\"toc-item-num\">8.61&nbsp;&nbsp;</span>Rename Column Labels of DataFrame</a></span></li><li><span><a href=\"#Convert\" data-toc-modified-id=\"Convert-8.62\"><span class=\"toc-item-num\">8.62&nbsp;&nbsp;</span>Convert</a></span><ul class=\"toc-item\"><li><span><a href=\"#panadas-to-numy\" data-toc-modified-id=\"panadas-to-numy-8.62.1\"><span class=\"toc-item-num\">8.62.1&nbsp;&nbsp;</span>panadas to numy</a></span></li><li><span><a href=\"#DataFrame-to-Numpy-Array\" data-toc-modified-id=\"DataFrame-to-Numpy-Array-8.62.2\"><span class=\"toc-item-num\">8.62.2&nbsp;&nbsp;</span>DataFrame to Numpy Array</a></span></li><li><span><a href=\"#Numpy-to-list\" data-toc-modified-id=\"Numpy-to-list-8.62.3\"><span class=\"toc-item-num\">8.62.3&nbsp;&nbsp;</span>Numpy to list</a></span></li><li><span><a href=\"#Numpy-Array-to-DataFrame\" data-toc-modified-id=\"Numpy-Array-to-DataFrame-8.62.4\"><span class=\"toc-item-num\">8.62.4&nbsp;&nbsp;</span>Numpy Array to DataFrame</a></span></li><li><span><a href=\"#np-to-Arry\" data-toc-modified-id=\"np-to-Arry-8.62.5\"><span class=\"toc-item-num\">8.62.5&nbsp;&nbsp;</span>np to Arry</a></span></li><li><span><a href=\"#Pandas-DataFrame-into-a-List\" data-toc-modified-id=\"Pandas-DataFrame-into-a-List-8.62.6\"><span class=\"toc-item-num\">8.62.6&nbsp;&nbsp;</span>Pandas DataFrame into a List</a></span></li><li><span><a href=\"#list-to-pandas\" data-toc-modified-id=\"list-to-pandas-8.62.7\"><span class=\"toc-item-num\">8.62.7&nbsp;&nbsp;</span>list to pandas</a></span></li></ul></li></ul></li></ul></div>"
   ]
  },
  {
   "cell_type": "markdown",
   "id": "sealed-ribbon",
   "metadata": {},
   "source": [
    "# Intro \n",
    "Pandas is a Python library used for working with data sets.\n",
    "\n",
    "It has functions for analyzing, cleaning, exploring, and manipulating data.\n",
    "\n",
    "The name \"Pandas\" has a reference to both \"Panel Data\", and \"Python Data Analysis\" and was created by Wes McKinney in 2008.\n",
    "\n",
    "## Why Use Pandas?\n",
    "Pandas allows us to analyze big data and make conclusions based on statistical theories.\n",
    "\n",
    "Pandas can clean messy data sets, and make them readable and relevant.\n",
    "\n",
    "Relevant data is very important in data science.\n",
    "\n",
    "## Import Pandas\n",
    "Once Pandas is installed, import it in your applications by adding the import keyword:"
   ]
  },
  {
   "cell_type": "code",
   "execution_count": 1,
   "id": "other-smoke",
   "metadata": {
    "ExecuteTime": {
     "end_time": "2021-08-05T01:47:34.661187Z",
     "start_time": "2021-08-05T01:47:34.339159Z"
    }
   },
   "outputs": [
    {
     "name": "stdout",
     "output_type": "stream",
     "text": [
      "1.2.1\n"
     ]
    }
   ],
   "source": [
    "import pandas as pd\n",
    "\n",
    "print(pd.__version__)"
   ]
  },
  {
   "cell_type": "markdown",
   "id": "better-michael",
   "metadata": {},
   "source": [
    "# What is a Series?\n",
    "A Pandas Series is like a column in a table.\n",
    "\n",
    "It is a one-dimensional array holding data of any type."
   ]
  },
  {
   "cell_type": "code",
   "execution_count": 2,
   "id": "framed-isolation",
   "metadata": {
    "ExecuteTime": {
     "end_time": "2021-08-05T01:47:34.677186Z",
     "start_time": "2021-08-05T01:47:34.662186Z"
    }
   },
   "outputs": [
    {
     "data": {
      "text/plain": [
       "0    1\n",
       "1    2\n",
       "2    3\n",
       "3    4\n",
       "4    5\n",
       "dtype: int64"
      ]
     },
     "execution_count": 2,
     "metadata": {},
     "output_type": "execute_result"
    }
   ],
   "source": [
    "a = [1,2,3,4,5]\n",
    "myvar = pd.Series(a)\n",
    "myvar"
   ]
  },
  {
   "cell_type": "code",
   "execution_count": 3,
   "id": "general-spanking",
   "metadata": {
    "ExecuteTime": {
     "end_time": "2021-08-05T01:47:34.693205Z",
     "start_time": "2021-08-05T01:47:34.678193Z"
    }
   },
   "outputs": [
    {
     "name": "stdout",
     "output_type": "stream",
     "text": [
      "1\n"
     ]
    }
   ],
   "source": [
    "print(myvar[0])"
   ]
  },
  {
   "cell_type": "code",
   "execution_count": 4,
   "id": "presidential-camera",
   "metadata": {
    "ExecuteTime": {
     "end_time": "2021-08-05T01:47:34.709188Z",
     "start_time": "2021-08-05T01:47:34.697197Z"
    }
   },
   "outputs": [
    {
     "data": {
      "text/plain": [
       "(X    3\n",
       " Y    4\n",
       " Z    5\n",
       " dtype: int64,\n",
       " 4)"
      ]
     },
     "execution_count": 4,
     "metadata": {},
     "output_type": "execute_result"
    }
   ],
   "source": [
    "a = [3,4,5]\n",
    "myvar = pd.Series(a , index=[\"X\" , \"Y\" , \"Z\"])\n",
    "myvar , myvar[\"Y\"]"
   ]
  },
  {
   "cell_type": "markdown",
   "id": "considered-bargain",
   "metadata": {},
   "source": [
    "# What is a DataFrame?\n",
    "A Pandas DataFrame is a 2 dimensional data structure, like a 2 dimensional array, or a table with rows and columns."
   ]
  },
  {
   "cell_type": "code",
   "execution_count": 5,
   "id": "employed-marketplace",
   "metadata": {
    "ExecuteTime": {
     "end_time": "2021-08-05T01:47:34.725185Z",
     "start_time": "2021-08-05T01:47:34.711186Z"
    }
   },
   "outputs": [
    {
     "data": {
      "text/html": [
       "<div>\n",
       "<style scoped>\n",
       "    .dataframe tbody tr th:only-of-type {\n",
       "        vertical-align: middle;\n",
       "    }\n",
       "\n",
       "    .dataframe tbody tr th {\n",
       "        vertical-align: top;\n",
       "    }\n",
       "\n",
       "    .dataframe thead th {\n",
       "        text-align: right;\n",
       "    }\n",
       "</style>\n",
       "<table border=\"1\" class=\"dataframe\">\n",
       "  <thead>\n",
       "    <tr style=\"text-align: right;\">\n",
       "      <th></th>\n",
       "      <th>car</th>\n",
       "      <th>Passings</th>\n",
       "      <th>calories</th>\n",
       "      <th>duration</th>\n",
       "    </tr>\n",
       "  </thead>\n",
       "  <tbody>\n",
       "    <tr>\n",
       "      <th>0</th>\n",
       "      <td>BMW</td>\n",
       "      <td>3</td>\n",
       "      <td>420</td>\n",
       "      <td>50</td>\n",
       "    </tr>\n",
       "    <tr>\n",
       "      <th>1</th>\n",
       "      <td>Volve</td>\n",
       "      <td>7</td>\n",
       "      <td>380</td>\n",
       "      <td>40</td>\n",
       "    </tr>\n",
       "    <tr>\n",
       "      <th>2</th>\n",
       "      <td>Totyota</td>\n",
       "      <td>2</td>\n",
       "      <td>390</td>\n",
       "      <td>45</td>\n",
       "    </tr>\n",
       "  </tbody>\n",
       "</table>\n",
       "</div>"
      ],
      "text/plain": [
       "       car  Passings  calories  duration\n",
       "0      BMW         3       420        50\n",
       "1    Volve         7       380        40\n",
       "2  Totyota         2       390        45"
      ]
     },
     "execution_count": 5,
     "metadata": {},
     "output_type": "execute_result"
    }
   ],
   "source": [
    "import pandas as pd\n",
    "mydata = {\n",
    "    \n",
    "    \"car\" : [\"BMW\" , \"Volve\" , \"Totyota\"],\n",
    "    \"Passings\" : [3 , 7 , 2] ,  \n",
    "    \"calories\": [420, 380, 390],\n",
    "      \"duration\": [50, 40, 45]\n",
    "}\n",
    "\n",
    "myvar = pd.DataFrame(mydata)\n",
    "myvar"
   ]
  },
  {
   "cell_type": "markdown",
   "id": "banner-forty",
   "metadata": {},
   "source": [
    "## Locate Row\n",
    "As you can see from the result above, the DataFrame is like a table with rows and columns.\n",
    "\n",
    "Pandas use the loc attribute to return one or more specified row(s)"
   ]
  },
  {
   "cell_type": "code",
   "execution_count": 6,
   "id": "impressed-jason",
   "metadata": {
    "ExecuteTime": {
     "end_time": "2021-08-05T01:47:34.741197Z",
     "start_time": "2021-08-05T01:47:34.726157Z"
    }
   },
   "outputs": [
    {
     "name": "stdout",
     "output_type": "stream",
     "text": [
      "car         Volve\n",
      "Passings        7\n",
      "calories      380\n",
      "duration       40\n",
      "Name: 1, dtype: object\n"
     ]
    }
   ],
   "source": [
    "#refer to the row index:\n",
    "print(myvar.loc[1])"
   ]
  },
  {
   "cell_type": "code",
   "execution_count": 7,
   "id": "unusual-zimbabwe",
   "metadata": {
    "ExecuteTime": {
     "end_time": "2021-08-05T01:47:34.757186Z",
     "start_time": "2021-08-05T01:47:34.742158Z"
    }
   },
   "outputs": [
    {
     "name": "stdout",
     "output_type": "stream",
     "text": [
      "     car  Passings  calories  duration\n",
      "0    BMW         3       420        50\n",
      "1  Volve         7       380        40\n"
     ]
    }
   ],
   "source": [
    "#use a list of indexes: Note: When using [], the result is a Pandas DataFrame.\n",
    "\n",
    "print(myvar.loc[[0, 1]])"
   ]
  },
  {
   "cell_type": "markdown",
   "id": "destroyed-partnership",
   "metadata": {},
   "source": [
    "## Named Indexes\n",
    "With the index argument, you can name your own indexes."
   ]
  },
  {
   "cell_type": "code",
   "execution_count": 8,
   "id": "normal-insurance",
   "metadata": {
    "ExecuteTime": {
     "end_time": "2021-08-05T01:47:34.773196Z",
     "start_time": "2021-08-05T01:47:34.759158Z"
    }
   },
   "outputs": [
    {
     "name": "stdout",
     "output_type": "stream",
     "text": [
      "      calories  duration      car  Passings\n",
      "day1       420        50      BMW         3\n",
      "day2       380        40    Volve         7\n",
      "day3       390        45  Totyota         2\n"
     ]
    }
   ],
   "source": [
    "import pandas as pd\n",
    "\n",
    "data = {\n",
    "  \"calories\": [420, 380, 390],\n",
    "  \"duration\": [50, 40, 45] ,     \n",
    "    \"car\" : [\"BMW\" , \"Volve\" , \"Totyota\"],\n",
    "    \"Passings\" : [3 , 7 , 2] ,  \n",
    "    \"calories\": [420, 380, 390],\n",
    "      \"duration\": [50, 40, 45]\n",
    "}\n",
    "\n",
    "df = pd.DataFrame(data, index = [\"day1\", \"day2\", \"day3\"])\n",
    "\n",
    "print(df) "
   ]
  },
  {
   "cell_type": "markdown",
   "id": "industrial-orlando",
   "metadata": {},
   "source": [
    "## Locate Named Indexes\n",
    "Use the named index in the loc attribute to return the specified row(s)."
   ]
  },
  {
   "cell_type": "code",
   "execution_count": 9,
   "id": "least-sixth",
   "metadata": {
    "ExecuteTime": {
     "end_time": "2021-08-05T01:47:34.789186Z",
     "start_time": "2021-08-05T01:47:34.774156Z"
    }
   },
   "outputs": [
    {
     "data": {
      "text/plain": [
       "calories        390\n",
       "duration         45\n",
       "car         Totyota\n",
       "Passings          2\n",
       "Name: day3, dtype: object"
      ]
     },
     "execution_count": 9,
     "metadata": {},
     "output_type": "execute_result"
    }
   ],
   "source": [
    "df.loc[\"day3\"]"
   ]
  },
  {
   "cell_type": "markdown",
   "id": "handmade-maintenance",
   "metadata": {},
   "source": [
    "## Load Files Into a DataFrame\n",
    "If your data sets are stored in a file, Pandas can load them into a DataFrame."
   ]
  },
  {
   "cell_type": "code",
   "execution_count": 10,
   "id": "textile-palestinian",
   "metadata": {
    "ExecuteTime": {
     "end_time": "2021-08-05T01:47:34.997227Z",
     "start_time": "2021-08-05T01:47:34.790187Z"
    }
   },
   "outputs": [
    {
     "data": {
      "text/html": [
       "<div>\n",
       "<style scoped>\n",
       "    .dataframe tbody tr th:only-of-type {\n",
       "        vertical-align: middle;\n",
       "    }\n",
       "\n",
       "    .dataframe tbody tr th {\n",
       "        vertical-align: top;\n",
       "    }\n",
       "\n",
       "    .dataframe thead th {\n",
       "        text-align: right;\n",
       "    }\n",
       "</style>\n",
       "<table border=\"1\" class=\"dataframe\">\n",
       "  <thead>\n",
       "    <tr style=\"text-align: right;\">\n",
       "      <th></th>\n",
       "      <th>Duration</th>\n",
       "      <th>Pulse</th>\n",
       "      <th>Maxpulse</th>\n",
       "      <th>Calories</th>\n",
       "    </tr>\n",
       "  </thead>\n",
       "  <tbody>\n",
       "    <tr>\n",
       "      <th>0</th>\n",
       "      <td>60</td>\n",
       "      <td>110</td>\n",
       "      <td>130</td>\n",
       "      <td>409.1</td>\n",
       "    </tr>\n",
       "    <tr>\n",
       "      <th>1</th>\n",
       "      <td>60</td>\n",
       "      <td>117</td>\n",
       "      <td>145</td>\n",
       "      <td>479.0</td>\n",
       "    </tr>\n",
       "    <tr>\n",
       "      <th>2</th>\n",
       "      <td>60</td>\n",
       "      <td>103</td>\n",
       "      <td>135</td>\n",
       "      <td>340.0</td>\n",
       "    </tr>\n",
       "    <tr>\n",
       "      <th>3</th>\n",
       "      <td>45</td>\n",
       "      <td>109</td>\n",
       "      <td>175</td>\n",
       "      <td>282.4</td>\n",
       "    </tr>\n",
       "    <tr>\n",
       "      <th>4</th>\n",
       "      <td>45</td>\n",
       "      <td>117</td>\n",
       "      <td>148</td>\n",
       "      <td>406.0</td>\n",
       "    </tr>\n",
       "  </tbody>\n",
       "</table>\n",
       "</div>"
      ],
      "text/plain": [
       "   Duration  Pulse  Maxpulse  Calories\n",
       "0        60    110       130     409.1\n",
       "1        60    117       145     479.0\n",
       "2        60    103       135     340.0\n",
       "3        45    109       175     282.4\n",
       "4        45    117       148     406.0"
      ]
     },
     "execution_count": 10,
     "metadata": {},
     "output_type": "execute_result"
    }
   ],
   "source": [
    "df = pd.read_csv(\"https://www.w3schools.com/python/pandas/data.csv\")\n",
    "df.head()"
   ]
  },
  {
   "cell_type": "code",
   "execution_count": 11,
   "id": "peripheral-finder",
   "metadata": {
    "ExecuteTime": {
     "end_time": "2021-08-05T01:47:35.013186Z",
     "start_time": "2021-08-05T01:47:34.998156Z"
    },
    "scrolled": false
   },
   "outputs": [
    {
     "name": "stdout",
     "output_type": "stream",
     "text": [
      "     Duration  Pulse  Maxpulse  Calories\n",
      "0          60    110       130     409.1\n",
      "1          60    117       145     479.0\n",
      "2          60    103       135     340.0\n",
      "3          45    109       175     282.4\n",
      "4          45    117       148     406.0\n",
      "5          60    102       127     300.0\n",
      "6          60    110       136     374.0\n",
      "7          45    104       134     253.3\n",
      "8          30    109       133     195.1\n",
      "9          60     98       124     269.0\n",
      "10         60    103       147     329.3\n",
      "11         60    100       120     250.7\n",
      "12         60    106       128     345.3\n",
      "13         60    104       132     379.3\n",
      "14         60     98       123     275.0\n",
      "15         60     98       120     215.2\n",
      "16         60    100       120     300.0\n",
      "17         45     90       112       NaN\n",
      "18         60    103       123     323.0\n",
      "19         45     97       125     243.0\n",
      "20         60    108       131     364.2\n",
      "21         45    100       119     282.0\n",
      "22         60    130       101     300.0\n",
      "23         45    105       132     246.0\n",
      "24         60    102       126     334.5\n",
      "25         60    100       120     250.0\n",
      "26         60     92       118     241.0\n",
      "27         60    103       132       NaN\n",
      "28         60    100       132     280.0\n",
      "29         60    102       129     380.3\n",
      "30         60     92       115     243.0\n",
      "31         45     90       112     180.1\n",
      "32         60    101       124     299.0\n",
      "33         60     93       113     223.0\n",
      "34         60    107       136     361.0\n",
      "35         60    114       140     415.0\n",
      "36         60    102       127     300.0\n",
      "37         60    100       120     300.0\n",
      "38         60    100       120     300.0\n",
      "39         45    104       129     266.0\n",
      "40         45     90       112     180.1\n",
      "41         60     98       126     286.0\n",
      "42         60    100       122     329.4\n",
      "43         60    111       138     400.0\n",
      "44         60    111       131     397.0\n",
      "45         60     99       119     273.0\n",
      "46         60    109       153     387.6\n",
      "47         45    111       136     300.0\n",
      "48         45    108       129     298.0\n",
      "49         60    111       139     397.6\n",
      "50         60    107       136     380.2\n",
      "51         80    123       146     643.1\n",
      "52         60    106       130     263.0\n",
      "53         60    118       151     486.0\n",
      "54         30    136       175     238.0\n",
      "55         60    121       146     450.7\n",
      "56         60    118       121     413.0\n",
      "57         45    115       144     305.0\n",
      "58         20    153       172     226.4\n",
      "59         45    123       152     321.0\n",
      "60        210    108       160    1376.0\n",
      "61        160    110       137    1034.4\n",
      "62        160    109       135     853.0\n",
      "63         45    118       141     341.0\n",
      "64         20    110       130     131.4\n",
      "65        180     90       130     800.4\n",
      "66        150    105       135     873.4\n",
      "67        150    107       130     816.0\n",
      "68         20    106       136     110.4\n",
      "69        300    108       143    1500.2\n",
      "70        150     97       129    1115.0\n",
      "71         60    109       153     387.6\n",
      "72         90    100       127     700.0\n",
      "73        150     97       127     953.2\n",
      "74         45    114       146     304.0\n",
      "75         90     98       125     563.2\n",
      "76         45    105       134     251.0\n",
      "77         45    110       141     300.0\n",
      "78        120    100       130     500.4\n",
      "79        270    100       131    1729.0\n",
      "80         30    159       182     319.2\n",
      "81         45    149       169     344.0\n",
      "82         30    103       139     151.1\n",
      "83        120    100       130     500.0\n",
      "84         45    100       120     225.3\n",
      "85         30    151       170     300.0\n",
      "86         45    102       136     234.0\n",
      "87        120    100       157    1000.1\n",
      "88         45    129       103     242.0\n",
      "89         20     83       107      50.3\n",
      "90        180    101       127     600.1\n",
      "91         45    107       137       NaN\n",
      "92         30     90       107     105.3\n",
      "93         15     80       100      50.5\n",
      "94         20    150       171     127.4\n",
      "95         20    151       168     229.4\n",
      "96         30     95       128     128.2\n",
      "97         25    152       168     244.2\n",
      "98         30    109       131     188.2\n",
      "99         90     93       124     604.1\n",
      "100        20     95       112      77.7\n",
      "101        90     90       110     500.0\n",
      "102        90     90       100     500.0\n",
      "103        90     90       100     500.4\n",
      "104        30     92       108      92.7\n",
      "105        30     93       128     124.0\n",
      "106       180     90       120     800.3\n",
      "107        30     90       120      86.2\n",
      "108        90     90       120     500.3\n",
      "109       210    137       184    1860.4\n",
      "110        60    102       124     325.2\n",
      "111        45    107       124     275.0\n",
      "112        15    124       139     124.2\n",
      "113        45    100       120     225.3\n",
      "114        60    108       131     367.6\n",
      "115        60    108       151     351.7\n",
      "116        60    116       141     443.0\n",
      "117        60     97       122     277.4\n",
      "118        60    105       125       NaN\n",
      "119        60    103       124     332.7\n",
      "120        30    112       137     193.9\n",
      "121        45    100       120     100.7\n",
      "122        60    119       169     336.7\n",
      "123        60    107       127     344.9\n",
      "124        60    111       151     368.5\n",
      "125        60     98       122     271.0\n",
      "126        60     97       124     275.3\n",
      "127        60    109       127     382.0\n",
      "128        90     99       125     466.4\n",
      "129        60    114       151     384.0\n",
      "130        60    104       134     342.5\n",
      "131        60    107       138     357.5\n",
      "132        60    103       133     335.0\n",
      "133        60    106       132     327.5\n",
      "134        60    103       136     339.0\n",
      "135        20    136       156     189.0\n",
      "136        45    117       143     317.7\n",
      "137        45    115       137     318.0\n",
      "138        45    113       138     308.0\n",
      "139        20    141       162     222.4\n",
      "140        60    108       135     390.0\n",
      "141        60     97       127       NaN\n",
      "142        45    100       120     250.4\n",
      "143        45    122       149     335.4\n",
      "144        60    136       170     470.2\n",
      "145        45    106       126     270.8\n",
      "146        60    107       136     400.0\n",
      "147        60    112       146     361.9\n",
      "148        30    103       127     185.0\n",
      "149        60    110       150     409.4\n",
      "150        60    106       134     343.0\n",
      "151        60    109       129     353.2\n",
      "152        60    109       138     374.0\n",
      "153        30    150       167     275.8\n",
      "154        60    105       128     328.0\n",
      "155        60    111       151     368.5\n",
      "156        60     97       131     270.4\n",
      "157        60    100       120     270.4\n",
      "158        60    114       150     382.8\n",
      "159        30     80       120     240.9\n",
      "160        30     85       120     250.4\n",
      "161        45     90       130     260.4\n",
      "162        45     95       130     270.0\n",
      "163        45    100       140     280.9\n",
      "164        60    105       140     290.8\n",
      "165        60    110       145     300.0\n",
      "166        60    115       145     310.2\n",
      "167        75    120       150     320.4\n",
      "168        75    125       150     330.4\n"
     ]
    }
   ],
   "source": [
    "print(df.to_string())"
   ]
  },
  {
   "cell_type": "code",
   "execution_count": 12,
   "id": "second-player",
   "metadata": {
    "ExecuteTime": {
     "end_time": "2021-08-05T01:47:35.029186Z",
     "start_time": "2021-08-05T01:47:35.014191Z"
    }
   },
   "outputs": [
    {
     "name": "stdout",
     "output_type": "stream",
     "text": [
      "   Duration  Pulse  Maxpulse  Calories\n",
      "0        60    110       130       409\n",
      "1        60    117       145       479\n",
      "2        60    103       135       340\n",
      "3        45    109       175       282\n",
      "4        45    117       148       406\n",
      "5        60    102       127       300\n"
     ]
    }
   ],
   "source": [
    "import pandas as pd\n",
    "\n",
    "data = {\n",
    "  \"Duration\":{\n",
    "    \"0\":60,\n",
    "    \"1\":60,\n",
    "    \"2\":60,\n",
    "    \"3\":45,\n",
    "    \"4\":45,\n",
    "    \"5\":60\n",
    "  },\n",
    "  \"Pulse\":{\n",
    "    \"0\":110,\n",
    "    \"1\":117,\n",
    "    \"2\":103,\n",
    "    \"3\":109,\n",
    "    \"4\":117,\n",
    "    \"5\":102\n",
    "  },\n",
    "  \"Maxpulse\":{\n",
    "    \"0\":130,\n",
    "    \"1\":145,\n",
    "    \"2\":135,\n",
    "    \"3\":175,\n",
    "    \"4\":148,\n",
    "    \"5\":127\n",
    "  },\n",
    "  \"Calories\":{\n",
    "    \"0\":409,\n",
    "    \"1\":479,\n",
    "    \"2\":340,\n",
    "    \"3\":282,\n",
    "    \"4\":406,\n",
    "    \"5\":300\n",
    "  }\n",
    "}\n",
    "\n",
    "df = pd.DataFrame(data)\n",
    "\n",
    "print(df) "
   ]
  },
  {
   "cell_type": "markdown",
   "id": "molecular-return",
   "metadata": {},
   "source": [
    "## Read JSON\n",
    "Big data sets are often stored, or extracted as JSON.\n",
    "\n",
    "JSON is plain text, but has the format of an object, and is well known in the world of programming, including Pandas.\n",
    "\n",
    "In our examples we will be using a JSON file called 'data.json'."
   ]
  },
  {
   "cell_type": "code",
   "execution_count": 13,
   "id": "jewish-semiconductor",
   "metadata": {
    "ExecuteTime": {
     "end_time": "2021-08-05T01:47:35.203187Z",
     "start_time": "2021-08-05T01:47:35.030157Z"
    }
   },
   "outputs": [
    {
     "name": "stdout",
     "output_type": "stream",
     "text": [
      "     Duration  Pulse  Maxpulse  Calories\n",
      "0          60    110       130     409.1\n",
      "1          60    117       145     479.0\n",
      "2          60    103       135     340.0\n",
      "3          45    109       175     282.4\n",
      "4          45    117       148     406.0\n",
      "5          60    102       127     300.5\n",
      "6          60    110       136     374.0\n",
      "7          45    104       134     253.3\n",
      "8          30    109       133     195.1\n",
      "9          60     98       124     269.0\n",
      "10         60    103       147     329.3\n",
      "11         60    100       120     250.7\n",
      "12         60    106       128     345.3\n",
      "13         60    104       132     379.3\n",
      "14         60     98       123     275.0\n",
      "15         60     98       120     215.2\n",
      "16         60    100       120     300.0\n",
      "17         45     90       112       NaN\n",
      "18         60    103       123     323.0\n",
      "19         45     97       125     243.0\n",
      "20         60    108       131     364.2\n",
      "21         45    100       119     282.0\n",
      "22         60    130       101     300.0\n",
      "23         45    105       132     246.0\n",
      "24         60    102       126     334.5\n",
      "25         60    100       120     250.0\n",
      "26         60     92       118     241.0\n",
      "27         60    103       132       NaN\n",
      "28         60    100       132     280.0\n",
      "29         60    102       129     380.3\n",
      "30         60     92       115     243.0\n",
      "31         45     90       112     180.1\n",
      "32         60    101       124     299.0\n",
      "33         60     93       113     223.0\n",
      "34         60    107       136     361.0\n",
      "35         60    114       140     415.0\n",
      "36         60    102       127     300.5\n",
      "37         60    100       120     300.1\n",
      "38         60    100       120     300.0\n",
      "39         45    104       129     266.0\n",
      "40         45     90       112     180.1\n",
      "41         60     98       126     286.0\n",
      "42         60    100       122     329.4\n",
      "43         60    111       138     400.0\n",
      "44         60    111       131     397.0\n",
      "45         60     99       119     273.0\n",
      "46         60    109       153     387.6\n",
      "47         45    111       136     300.0\n",
      "48         45    108       129     298.0\n",
      "49         60    111       139     397.6\n",
      "50         60    107       136     380.2\n",
      "51         80    123       146     643.1\n",
      "52         60    106       130     263.0\n",
      "53         60    118       151     486.0\n",
      "54         30    136       175     238.0\n",
      "55         60    121       146     450.7\n",
      "56         60    118       121     413.0\n",
      "57         45    115       144     305.0\n",
      "58         20    153       172     226.4\n",
      "59         45    123       152     321.0\n",
      "60        210    108       160    1376.0\n",
      "61        160    110       137    1034.4\n",
      "62        160    109       135     853.0\n",
      "63         45    118       141     341.0\n",
      "64         20    110       130     131.4\n",
      "65        180     90       130     800.4\n",
      "66        150    105       135     873.4\n",
      "67        150    107       130     816.0\n",
      "68         20    106       136     110.4\n",
      "69        300    108       143    1500.2\n",
      "70        150     97       129    1115.0\n",
      "71         60    109       153     387.6\n",
      "72         90    100       127     700.0\n",
      "73        150     97       127     953.2\n",
      "74         45    114       146     304.0\n",
      "75         90     98       125     563.2\n",
      "76         45    105       134     251.0\n",
      "77         45    110       141     300.0\n",
      "78        120    100       130     500.4\n",
      "79        270    100       131    1729.0\n",
      "80         30    159       182     319.2\n",
      "81         45    149       169     344.0\n",
      "82         30    103       139     151.1\n",
      "83        120    100       130     500.0\n",
      "84         45    100       120     225.3\n",
      "85         30    151       170     300.1\n",
      "86         45    102       136     234.0\n",
      "87        120    100       157    1000.1\n",
      "88         45    129       103     242.0\n",
      "89         20     83       107      50.3\n",
      "90        180    101       127     600.1\n",
      "91         45    107       137       NaN\n",
      "92         30     90       107     105.3\n",
      "93         15     80       100      50.5\n",
      "94         20    150       171     127.4\n",
      "95         20    151       168     229.4\n",
      "96         30     95       128     128.2\n",
      "97         25    152       168     244.2\n",
      "98         30    109       131     188.2\n",
      "99         90     93       124     604.1\n",
      "100        20     95       112      77.7\n",
      "101        90     90       110     500.0\n",
      "102        90     90       100     500.0\n",
      "103        90     90       100     500.4\n",
      "104        30     92       108      92.7\n",
      "105        30     93       128     124.0\n",
      "106       180     90       120     800.3\n",
      "107        30     90       120      86.2\n",
      "108        90     90       120     500.3\n",
      "109       210    137       184    1860.4\n",
      "110        60    102       124     325.2\n",
      "111        45    107       124     275.0\n",
      "112        15    124       139     124.2\n",
      "113        45    100       120     225.3\n",
      "114        60    108       131     367.6\n",
      "115        60    108       151     351.7\n",
      "116        60    116       141     443.0\n",
      "117        60     97       122     277.4\n",
      "118        60    105       125       NaN\n",
      "119        60    103       124     332.7\n",
      "120        30    112       137     193.9\n",
      "121        45    100       120     100.7\n",
      "122        60    119       169     336.7\n",
      "123        60    107       127     344.9\n",
      "124        60    111       151     368.5\n",
      "125        60     98       122     271.0\n",
      "126        60     97       124     275.3\n",
      "127        60    109       127     382.0\n",
      "128        90     99       125     466.4\n",
      "129        60    114       151     384.0\n",
      "130        60    104       134     342.5\n",
      "131        60    107       138     357.5\n",
      "132        60    103       133     335.0\n",
      "133        60    106       132     327.5\n",
      "134        60    103       136     339.0\n",
      "135        20    136       156     189.0\n",
      "136        45    117       143     317.7\n",
      "137        45    115       137     318.0\n",
      "138        45    113       138     308.0\n",
      "139        20    141       162     222.4\n",
      "140        60    108       135     390.0\n",
      "141        60     97       127       NaN\n",
      "142        45    100       120     250.4\n",
      "143        45    122       149     335.4\n",
      "144        60    136       170     470.2\n",
      "145        45    106       126     270.8\n",
      "146        60    107       136     400.0\n",
      "147        60    112       146     361.9\n",
      "148        30    103       127     185.0\n",
      "149        60    110       150     409.4\n",
      "150        60    106       134     343.0\n",
      "151        60    109       129     353.2\n",
      "152        60    109       138     374.0\n",
      "153        30    150       167     275.8\n",
      "154        60    105       128     328.0\n",
      "155        60    111       151     368.5\n",
      "156        60     97       131     270.4\n",
      "157        60    100       120     270.4\n",
      "158        60    114       150     382.8\n",
      "159        30     80       120     240.9\n",
      "160        30     85       120     250.4\n",
      "161        45     90       130     260.4\n",
      "162        45     95       130     270.0\n",
      "163        45    100       140     280.9\n",
      "164        60    105       140     290.8\n",
      "165        60    110       145     300.4\n",
      "166        60    115       145     310.2\n",
      "167        75    120       150     320.4\n",
      "168        75    125       150     330.4\n"
     ]
    }
   ],
   "source": [
    "import pandas as pd\n",
    "\n",
    "df = pd.read_json('https://www.w3schools.com/python/pandas/data.js')\n",
    "\n",
    "print(df.to_string()) "
   ]
  },
  {
   "cell_type": "markdown",
   "id": "announced-split",
   "metadata": {},
   "source": [
    "## Viewing the Data\n",
    "One of the most used method for getting a quick overview of the DataFrame, is the head() method.\n",
    "\n",
    "The head() method returns the headers and a specified number of rows, starting from the top."
   ]
  },
  {
   "cell_type": "code",
   "execution_count": 14,
   "id": "heavy-blade",
   "metadata": {
    "ExecuteTime": {
     "end_time": "2021-08-05T01:47:35.219187Z",
     "start_time": "2021-08-05T01:47:35.204186Z"
    }
   },
   "outputs": [
    {
     "name": "stdout",
     "output_type": "stream",
     "text": [
      "   Duration  Pulse  Maxpulse  Calories\n",
      "0        60    110       130     409.1\n",
      "1        60    117       145     479.0\n",
      "2        60    103       135     340.0\n",
      "3        45    109       175     282.4\n",
      "4        45    117       148     406.0\n",
      "5        60    102       127     300.5\n",
      "6        60    110       136     374.0\n",
      "7        45    104       134     253.3\n",
      "8        30    109       133     195.1\n",
      "9        60     98       124     269.0\n"
     ]
    }
   ],
   "source": [
    "print(df.head(10))"
   ]
  },
  {
   "cell_type": "code",
   "execution_count": 15,
   "id": "breathing-treat",
   "metadata": {
    "ExecuteTime": {
     "end_time": "2021-08-05T01:47:35.235189Z",
     "start_time": "2021-08-05T01:47:35.220184Z"
    }
   },
   "outputs": [
    {
     "name": "stdout",
     "output_type": "stream",
     "text": [
      "   Duration  Pulse  Maxpulse  Calories\n",
      "0        60    110       130     409.1\n",
      "1        60    117       145     479.0\n",
      "2        60    103       135     340.0\n",
      "3        45    109       175     282.4\n",
      "4        45    117       148     406.0\n",
      "***************\n",
      "     Duration  Pulse  Maxpulse  Calories\n",
      "164        60    105       140     290.8\n",
      "165        60    110       145     300.4\n",
      "166        60    115       145     310.2\n",
      "167        75    120       150     320.4\n",
      "168        75    125       150     330.4\n"
     ]
    }
   ],
   "source": [
    "print(df.head()) \n",
    "print(\"***************\") \n",
    "print(df.tail()) "
   ]
  },
  {
   "cell_type": "markdown",
   "id": "nuclear-guide",
   "metadata": {},
   "source": [
    "# Plotting\n",
    "\n",
    "Pandas uses the plot() method to create diagrams.\n",
    "\n",
    "We can use Pyplot, a submodule of the Matplotlib library to visualize the diagram on the screen."
   ]
  },
  {
   "cell_type": "code",
   "execution_count": 16,
   "id": "whole-hampshire",
   "metadata": {
    "ExecuteTime": {
     "end_time": "2021-08-05T01:47:35.753186Z",
     "start_time": "2021-08-05T01:47:35.236156Z"
    }
   },
   "outputs": [
    {
     "data": {
      "text/plain": [
       "<AxesSubplot:>"
      ]
     },
     "execution_count": 16,
     "metadata": {},
     "output_type": "execute_result"
    },
    {
     "data": {
      "image/png": "[encoded data removed]",
      "text/plain": [
       "<Figure size 432x288 with 1 Axes>"
      ]
     },
     "metadata": {
      "needs_background": "light"
     },
     "output_type": "display_data"
    }
   ],
   "source": [
    "df = pd.read_csv('https://www.w3schools.com/python/pandas/data.csv')\n",
    "df.plot()"
   ]
  },
  {
   "cell_type": "markdown",
   "id": "particular-hawaii",
   "metadata": {},
   "source": [
    "## Scatter Plot\n",
    "Specify that you want a scatter plot with the kind argument:\n",
    "\n",
    "kind = 'scatter'\n",
    "\n",
    "A scatter plot needs an x- and a y-axis.\n",
    "\n",
    "In the example below we will use \"Duration\" for the x-axis and \"Calories\" for the y-axis.\n",
    "\n",
    "Include the x and y arguments like this:\n",
    "\n",
    "x = 'Duration', y = 'Calories'"
   ]
  },
  {
   "cell_type": "code",
   "execution_count": 17,
   "id": "considerable-russian",
   "metadata": {
    "ExecuteTime": {
     "end_time": "2021-08-05T01:47:35.863188Z",
     "start_time": "2021-08-05T01:47:35.754156Z"
    }
   },
   "outputs": [
    {
     "data": {
      "text/plain": [
       "<AxesSubplot:xlabel='Duration', ylabel='Calories'>"
      ]
     },
     "execution_count": 17,
     "metadata": {},
     "output_type": "execute_result"
    },
    {
     "data": {
      "image/png": "[encoded data removed]",
      "text/plain": [
       "<Figure size 432x288 with 1 Axes>"
      ]
     },
     "metadata": {
      "needs_background": "light"
     },
     "output_type": "display_data"
    }
   ],
   "source": [
    "df.plot(kind = 'scatter' ,  x = 'Duration', y = 'Calories')"
   ]
  },
  {
   "cell_type": "code",
   "execution_count": 18,
   "id": "chicken-version",
   "metadata": {
    "ExecuteTime": {
     "end_time": "2021-08-05T01:47:35.943187Z",
     "start_time": "2021-08-05T01:47:35.863188Z"
    }
   },
   "outputs": [
    {
     "data": {
      "image/png": "[encoded data removed]",
      "text/plain": [
       "<Figure size 432x288 with 1 Axes>"
      ]
     },
     "metadata": {
      "needs_background": "light"
     },
     "output_type": "display_data"
    }
   ],
   "source": [
    "import matplotlib.pyplot as plt\n",
    "df.plot(kind = 'scatter', x = 'Duration', y = 'Maxpulse')\n",
    "\n",
    "plt.show()"
   ]
  },
  {
   "cell_type": "markdown",
   "id": "forbidden-playlist",
   "metadata": {},
   "source": [
    "# Data Correlations\n",
    "\n",
    "A great aspect of the Pandas module is the corr() method.\n",
    "\n",
    "The corr() method calculates the relationship between each column in your data set.\n",
    "\n",
    "The examples in this page uses a CSV file called: 'data.csv'."
   ]
  },
  {
   "cell_type": "code",
   "execution_count": 19,
   "id": "amazing-harmony",
   "metadata": {
    "ExecuteTime": {
     "end_time": "2021-08-05T01:47:35.959186Z",
     "start_time": "2021-08-05T01:47:35.944158Z"
    }
   },
   "outputs": [
    {
     "data": {
      "text/html": [
       "<div>\n",
       "<style scoped>\n",
       "    .dataframe tbody tr th:only-of-type {\n",
       "        vertical-align: middle;\n",
       "    }\n",
       "\n",
       "    .dataframe tbody tr th {\n",
       "        vertical-align: top;\n",
       "    }\n",
       "\n",
       "    .dataframe thead th {\n",
       "        text-align: right;\n",
       "    }\n",
       "</style>\n",
       "<table border=\"1\" class=\"dataframe\">\n",
       "  <thead>\n",
       "    <tr style=\"text-align: right;\">\n",
       "      <th></th>\n",
       "      <th>Duration</th>\n",
       "      <th>Pulse</th>\n",
       "      <th>Maxpulse</th>\n",
       "      <th>Calories</th>\n",
       "    </tr>\n",
       "  </thead>\n",
       "  <tbody>\n",
       "    <tr>\n",
       "      <th>Duration</th>\n",
       "      <td>1.000000</td>\n",
       "      <td>-0.155408</td>\n",
       "      <td>0.009403</td>\n",
       "      <td>0.922717</td>\n",
       "    </tr>\n",
       "    <tr>\n",
       "      <th>Pulse</th>\n",
       "      <td>-0.155408</td>\n",
       "      <td>1.000000</td>\n",
       "      <td>0.786535</td>\n",
       "      <td>0.025121</td>\n",
       "    </tr>\n",
       "    <tr>\n",
       "      <th>Maxpulse</th>\n",
       "      <td>0.009403</td>\n",
       "      <td>0.786535</td>\n",
       "      <td>1.000000</td>\n",
       "      <td>0.203813</td>\n",
       "    </tr>\n",
       "    <tr>\n",
       "      <th>Calories</th>\n",
       "      <td>0.922717</td>\n",
       "      <td>0.025121</td>\n",
       "      <td>0.203813</td>\n",
       "      <td>1.000000</td>\n",
       "    </tr>\n",
       "  </tbody>\n",
       "</table>\n",
       "</div>"
      ],
      "text/plain": [
       "          Duration     Pulse  Maxpulse  Calories\n",
       "Duration  1.000000 -0.155408  0.009403  0.922717\n",
       "Pulse    -0.155408  1.000000  0.786535  0.025121\n",
       "Maxpulse  0.009403  0.786535  1.000000  0.203813\n",
       "Calories  0.922717  0.025121  0.203813  1.000000"
      ]
     },
     "execution_count": 19,
     "metadata": {},
     "output_type": "execute_result"
    }
   ],
   "source": [
    "df.corr()"
   ]
  },
  {
   "cell_type": "markdown",
   "id": "pressing-domain",
   "metadata": {},
   "source": [
    "## Result Explained\n",
    "The Result of the corr() method is a table with a lot of numbers that represents how well the relationship is between two columns.\n",
    "\n",
    "The number varies from -1 to 1.\n",
    "\n",
    "1 means that there is a 1 to 1 relationship (a perfect correlation), and for this data set, each time a value went up in the first column, the other one went up as well.\n",
    "\n",
    "0.9 is also a good relationship, and if you increase one value, the other will probably increase as well.\n",
    "\n",
    "-0.9 would be just as good relationship as 0.9, but if you increase one value, the other will probably go down.\n",
    "\n",
    "0.2 means NOT a good relationship, meaning that if one value goes up does not mean that the other will.\n",
    "\n",
    "What is a good correlation? It depends on the use, but I think it is safe to say you have to have at least 0.6 (or -0.6) to call it a good correlation.\n",
    "\n",
    "## Perfect Correlation:\n",
    "We can see that \"Duration\" and \"Duration\" got the number 1.000000, which makes sense, each column always has a perfect relationship with itself.\n",
    "\n",
    "## Good Correlation:\n",
    "\"Duration\" and \"Calories\" got a 0.922721 correlation, which is a very good correlation, and we can predict that the longer you work out, the more calories you burn, and the other way around: if you burned a lot of calories, you probably had a long work out.\n",
    "\n",
    "## Bad Correlation:\n",
    "\"Duration\" and \"Maxpulse\" got a 0.009403 correlation, which is a very bad correlation, meaning that we can not predict the max pulse by just looking at the duration of the work out, and vice versa."
   ]
  },
  {
   "cell_type": "markdown",
   "id": "statistical-beverage",
   "metadata": {},
   "source": [
    "# Data Cleaning\n",
    "Data cleaning means fixing bad data in your data set.\n",
    "\n",
    "Bad data could be:\n",
    "\n",
    "- Empty cells\n",
    "- Data in wrong format\n",
    "- Wrong data\n",
    "- Duplicates\n"
   ]
  },
  {
   "cell_type": "code",
   "execution_count": 20,
   "id": "floral-survey",
   "metadata": {
    "ExecuteTime": {
     "end_time": "2021-08-05T01:47:36.215212Z",
     "start_time": "2021-08-05T01:47:35.960158Z"
    }
   },
   "outputs": [
    {
     "data": {
      "text/plain": [
       "Duration    0\n",
       "Date        1\n",
       "Pulse       0\n",
       "Maxpulse    0\n",
       "Calories    2\n",
       "dtype: int64"
      ]
     },
     "execution_count": 20,
     "metadata": {},
     "output_type": "execute_result"
    }
   ],
   "source": [
    "df = pd.read_csv(\"https://www.w3schools.com/python/pandas/dirtydata.csv\")\n",
    "\n",
    "df.isnull().sum()"
   ]
  },
  {
   "cell_type": "code",
   "execution_count": 21,
   "id": "innovative-exhibition",
   "metadata": {
    "ExecuteTime": {
     "end_time": "2021-08-05T01:47:36.231189Z",
     "start_time": "2021-08-05T01:47:36.217199Z"
    }
   },
   "outputs": [
    {
     "data": {
      "text/plain": [
       "Duration    False\n",
       "Date         True\n",
       "Pulse       False\n",
       "Maxpulse    False\n",
       "Calories     True\n",
       "dtype: bool"
      ]
     },
     "execution_count": 21,
     "metadata": {},
     "output_type": "execute_result"
    }
   ],
   "source": [
    "df.isnull().any()"
   ]
  },
  {
   "cell_type": "code",
   "execution_count": 22,
   "id": "serial-glance",
   "metadata": {
    "ExecuteTime": {
     "end_time": "2021-08-05T01:47:36.247157Z",
     "start_time": "2021-08-05T01:47:36.232185Z"
    }
   },
   "outputs": [
    {
     "data": {
      "text/plain": [
       "32"
      ]
     },
     "execution_count": 22,
     "metadata": {},
     "output_type": "execute_result"
    }
   ],
   "source": [
    "len(df)"
   ]
  },
  {
   "cell_type": "markdown",
   "id": "japanese-stocks",
   "metadata": {},
   "source": [
    "## Empty Cells\n",
    "Empty cells can potentially give you a wrong result when you analyze data.\n",
    "\n",
    "## Remove Rows\n",
    "One way to deal with empty cells is to remove rows that contain empty cells.\n",
    "\n",
    "This is usually OK, since data sets can be very big, and removing a few rows will not have a big impact on the result.\n",
    "\n",
    "**Note: Now, the dropna(inplace = True) will NOT return a new DataFrame, but it will remove all rows containg NULL values from the original DataFrame.**"
   ]
  },
  {
   "cell_type": "code",
   "execution_count": 23,
   "id": "recreational-spider",
   "metadata": {
    "ExecuteTime": {
     "end_time": "2021-08-05T01:47:36.263186Z",
     "start_time": "2021-08-05T01:47:36.250186Z"
    }
   },
   "outputs": [
    {
     "data": {
      "text/plain": [
       "29"
      ]
     },
     "execution_count": 23,
     "metadata": {},
     "output_type": "execute_result"
    }
   ],
   "source": [
    "df.dropna(inplace = True)\n",
    "\n",
    "len(df)"
   ]
  },
  {
   "cell_type": "markdown",
   "id": "innovative-monroe",
   "metadata": {
    "ExecuteTime": {
     "end_time": "2021-08-03T23:16:58.514513Z",
     "start_time": "2021-08-03T23:16:58.497484Z"
    }
   },
   "source": [
    "## Replace Empty Values\n",
    "Another way of dealing with empty cells is to insert a new value instead.\n",
    "\n",
    "This way you do not have to delete entire rows just because of some empty cells.\n",
    "\n",
    "The fillna() method allows us to replace empty cells with a value:"
   ]
  },
  {
   "cell_type": "code",
   "execution_count": 24,
   "id": "greatest-lottery",
   "metadata": {
    "ExecuteTime": {
     "end_time": "2021-08-05T01:47:36.502187Z",
     "start_time": "2021-08-05T01:47:36.265157Z"
    }
   },
   "outputs": [
    {
     "data": {
      "text/plain": [
       "32"
      ]
     },
     "execution_count": 24,
     "metadata": {},
     "output_type": "execute_result"
    }
   ],
   "source": [
    "df = pd.read_csv(\"https://www.w3schools.com/python/pandas/dirtydata.csv\")\n",
    "df.fillna(130, inplace = True)\n",
    "len(df)"
   ]
  },
  {
   "cell_type": "markdown",
   "id": "designed-filter",
   "metadata": {
    "ExecuteTime": {
     "end_time": "2021-08-03T23:17:51.725908Z",
     "start_time": "2021-08-03T23:17:51.721909Z"
    }
   },
   "source": [
    "## Replace Only For a Specified Columns\n",
    "The example above replaces all empty cells in the whole Data Frame.\n",
    "\n",
    "To only replace empty values for one column, specify the column name for the DataFrame:"
   ]
  },
  {
   "cell_type": "code",
   "execution_count": 25,
   "id": "oriental-scott",
   "metadata": {
    "ExecuteTime": {
     "end_time": "2021-08-05T01:47:36.662197Z",
     "start_time": "2021-08-05T01:47:36.503157Z"
    }
   },
   "outputs": [],
   "source": [
    "df = pd.read_csv(\"https://www.w3schools.com/python/pandas/dirtydata.csv\")\n",
    "\n",
    "\n",
    "df[\"Calories\"].fillna(130, inplace = True)"
   ]
  },
  {
   "cell_type": "markdown",
   "id": "danish-bobby",
   "metadata": {},
   "source": [
    "## Data of Wrong Format\n",
    "Cells with data of wrong format can make it difficult, or even impossible, to analyze data.\n",
    "\n",
    "To fix it, you have two options: remove the rows, or convert all cells in the columns into the same format.\n",
    "\n",
    "## Convert Into a Correct Format\n",
    "In our Data Frame, we have two cells with the wrong format. Check out row 22 and 26, the 'Date' column should be a string that represents a date:"
   ]
  },
  {
   "cell_type": "code",
   "execution_count": 26,
   "id": "boolean-function",
   "metadata": {
    "ExecuteTime": {
     "end_time": "2021-08-05T01:47:36.788191Z",
     "start_time": "2021-08-05T01:47:36.665197Z"
    }
   },
   "outputs": [
    {
     "data": {
      "text/plain": [
       "0    '2020/12/01'\n",
       "1    '2020/12/02'\n",
       "2    '2020/12/03'\n",
       "3    '2020/12/04'\n",
       "4    '2020/12/05'\n",
       "Name: Date, dtype: object"
      ]
     },
     "execution_count": 26,
     "metadata": {},
     "output_type": "execute_result"
    }
   ],
   "source": [
    "df = pd.read_csv(\"https://www.w3schools.com/python/pandas/dirtydata.csv\")\n",
    "df.Date.head()"
   ]
  },
  {
   "cell_type": "code",
   "execution_count": 27,
   "id": "popular-celtic",
   "metadata": {
    "ExecuteTime": {
     "end_time": "2021-08-05T01:47:36.804186Z",
     "start_time": "2021-08-05T01:47:36.789196Z"
    }
   },
   "outputs": [
    {
     "data": {
      "text/plain": [
       "0   2020-12-01\n",
       "1   2020-12-02\n",
       "2   2020-12-03\n",
       "3   2020-12-04\n",
       "4   2020-12-05\n",
       "Name: Date1, dtype: datetime64[ns]"
      ]
     },
     "execution_count": 27,
     "metadata": {},
     "output_type": "execute_result"
    }
   ],
   "source": [
    "df['Date1'] = pd.to_datetime(df['Date'])\n",
    "df.Date1.head()"
   ]
  },
  {
   "cell_type": "markdown",
   "id": "protecting-professional",
   "metadata": {},
   "source": [
    "## Replacing Values\n",
    "One way to fix wrong values is to replace them with something else.\n",
    "\n",
    "In our example, it is most likely a typo, and the value should be \"45\" instead of \"450\", and we could just insert \"45\" in row 7:"
   ]
  },
  {
   "cell_type": "code",
   "execution_count": 28,
   "id": "bright-associate",
   "metadata": {
    "ExecuteTime": {
     "end_time": "2021-08-05T01:47:36.819193Z",
     "start_time": "2021-08-05T01:47:36.805158Z"
    }
   },
   "outputs": [
    {
     "data": {
      "text/plain": [
       "Duration                    450\n",
       "Date               '2020/12/08'\n",
       "Pulse                       104\n",
       "Maxpulse                    134\n",
       "Calories                  253.3\n",
       "Date1       2020-12-08 00:00:00\n",
       "Name: 7, dtype: object"
      ]
     },
     "execution_count": 28,
     "metadata": {},
     "output_type": "execute_result"
    }
   ],
   "source": [
    "df.loc[7]"
   ]
  },
  {
   "cell_type": "code",
   "execution_count": 29,
   "id": "subject-pilot",
   "metadata": {
    "ExecuteTime": {
     "end_time": "2021-08-05T01:47:36.835188Z",
     "start_time": "2021-08-05T01:47:36.820194Z"
    }
   },
   "outputs": [
    {
     "data": {
      "text/plain": [
       "Duration                     45\n",
       "Date               '2020/12/08'\n",
       "Pulse                       104\n",
       "Maxpulse                    134\n",
       "Calories                  253.3\n",
       "Date1       2020-12-08 00:00:00\n",
       "Name: 7, dtype: object"
      ]
     },
     "execution_count": 29,
     "metadata": {},
     "output_type": "execute_result"
    }
   ],
   "source": [
    "df.loc[7, 'Duration'] = 45\n",
    "df.loc[7]"
   ]
  },
  {
   "cell_type": "markdown",
   "id": "coordinate-railway",
   "metadata": {},
   "source": [
    "For small data sets you might be able to replace the wrong data one by one, but not for big data sets.\n",
    "\n",
    "To replace wrong data for larger data sets you can create some rules, e.g. set some boundaries for legal values, and replace any values that are outside of the boundaries.\n",
    "\n",
    "\n",
    "If the value is higher than 50, set it to 220:"
   ]
  },
  {
   "cell_type": "code",
   "execution_count": 30,
   "id": "activated-switzerland",
   "metadata": {
    "ExecuteTime": {
     "end_time": "2021-08-05T01:47:36.897197Z",
     "start_time": "2021-08-05T01:47:36.836156Z"
    }
   },
   "outputs": [
    {
     "data": {
      "text/plain": [
       "0    220\n",
       "1    220\n",
       "2    220\n",
       "3     45\n",
       "4     45\n",
       "5    220\n",
       "6    220\n",
       "7     45\n",
       "8     30\n",
       "9    220\n",
       "Name: Duration, dtype: int64"
      ]
     },
     "execution_count": 30,
     "metadata": {},
     "output_type": "execute_result"
    }
   ],
   "source": [
    "for x in df.index:\n",
    "    if df.loc[x, \"Duration\"] > 50:\n",
    "        df.loc[x, \"Duration\"] = 220\n",
    "        \n",
    "df.Duration.head(10)"
   ]
  },
  {
   "cell_type": "markdown",
   "id": "brave-blanket",
   "metadata": {},
   "source": [
    "## Removing Rows\n",
    "Another way of handling wrong data is to remove the rows that contains wrong data.\n",
    "\n",
    "This way you do not have to find out what to replace them with, and there is a good chance you do not need them to do your analyses."
   ]
  },
  {
   "cell_type": "code",
   "execution_count": 31,
   "id": "another-syndicate",
   "metadata": {
    "ExecuteTime": {
     "end_time": "2021-08-05T01:47:36.929192Z",
     "start_time": "2021-08-05T01:47:36.900162Z"
    }
   },
   "outputs": [
    {
     "data": {
      "text/html": [
       "<div>\n",
       "<style scoped>\n",
       "    .dataframe tbody tr th:only-of-type {\n",
       "        vertical-align: middle;\n",
       "    }\n",
       "\n",
       "    .dataframe tbody tr th {\n",
       "        vertical-align: top;\n",
       "    }\n",
       "\n",
       "    .dataframe thead th {\n",
       "        text-align: right;\n",
       "    }\n",
       "</style>\n",
       "<table border=\"1\" class=\"dataframe\">\n",
       "  <thead>\n",
       "    <tr style=\"text-align: right;\">\n",
       "      <th></th>\n",
       "      <th>Duration</th>\n",
       "      <th>Date</th>\n",
       "      <th>Pulse</th>\n",
       "      <th>Maxpulse</th>\n",
       "      <th>Calories</th>\n",
       "      <th>Date1</th>\n",
       "    </tr>\n",
       "  </thead>\n",
       "  <tbody>\n",
       "    <tr>\n",
       "      <th>3</th>\n",
       "      <td>45</td>\n",
       "      <td>'2020/12/04'</td>\n",
       "      <td>109</td>\n",
       "      <td>175</td>\n",
       "      <td>282.4</td>\n",
       "      <td>2020-12-04</td>\n",
       "    </tr>\n",
       "    <tr>\n",
       "      <th>4</th>\n",
       "      <td>45</td>\n",
       "      <td>'2020/12/05'</td>\n",
       "      <td>117</td>\n",
       "      <td>148</td>\n",
       "      <td>406.0</td>\n",
       "      <td>2020-12-05</td>\n",
       "    </tr>\n",
       "    <tr>\n",
       "      <th>7</th>\n",
       "      <td>45</td>\n",
       "      <td>'2020/12/08'</td>\n",
       "      <td>104</td>\n",
       "      <td>134</td>\n",
       "      <td>253.3</td>\n",
       "      <td>2020-12-08</td>\n",
       "    </tr>\n",
       "    <tr>\n",
       "      <th>8</th>\n",
       "      <td>30</td>\n",
       "      <td>'2020/12/09'</td>\n",
       "      <td>109</td>\n",
       "      <td>133</td>\n",
       "      <td>195.1</td>\n",
       "      <td>2020-12-09</td>\n",
       "    </tr>\n",
       "    <tr>\n",
       "      <th>18</th>\n",
       "      <td>45</td>\n",
       "      <td>'2020/12/18'</td>\n",
       "      <td>90</td>\n",
       "      <td>112</td>\n",
       "      <td>NaN</td>\n",
       "      <td>2020-12-18</td>\n",
       "    </tr>\n",
       "    <tr>\n",
       "      <th>20</th>\n",
       "      <td>45</td>\n",
       "      <td>'2020/12/20'</td>\n",
       "      <td>97</td>\n",
       "      <td>125</td>\n",
       "      <td>243.0</td>\n",
       "      <td>2020-12-20</td>\n",
       "    </tr>\n",
       "    <tr>\n",
       "      <th>22</th>\n",
       "      <td>45</td>\n",
       "      <td>NaN</td>\n",
       "      <td>100</td>\n",
       "      <td>119</td>\n",
       "      <td>282.0</td>\n",
       "      <td>NaT</td>\n",
       "    </tr>\n",
       "    <tr>\n",
       "      <th>24</th>\n",
       "      <td>45</td>\n",
       "      <td>'2020/12/24'</td>\n",
       "      <td>105</td>\n",
       "      <td>132</td>\n",
       "      <td>246.0</td>\n",
       "      <td>2020-12-24</td>\n",
       "    </tr>\n",
       "  </tbody>\n",
       "</table>\n",
       "</div>"
      ],
      "text/plain": [
       "    Duration          Date  Pulse  Maxpulse  Calories      Date1\n",
       "3         45  '2020/12/04'    109       175     282.4 2020-12-04\n",
       "4         45  '2020/12/05'    117       148     406.0 2020-12-05\n",
       "7         45  '2020/12/08'    104       134     253.3 2020-12-08\n",
       "8         30  '2020/12/09'    109       133     195.1 2020-12-09\n",
       "18        45  '2020/12/18'     90       112       NaN 2020-12-18\n",
       "20        45  '2020/12/20'     97       125     243.0 2020-12-20\n",
       "22        45           NaN    100       119     282.0        NaT\n",
       "24        45  '2020/12/24'    105       132     246.0 2020-12-24"
      ]
     },
     "execution_count": 31,
     "metadata": {},
     "output_type": "execute_result"
    }
   ],
   "source": [
    "for x in df.index:\n",
    "    if df.loc[x, \"Duration\"] > 120:\n",
    "        df.drop(x, inplace = True)\n",
    "        \n",
    "df"
   ]
  },
  {
   "cell_type": "markdown",
   "id": "satisfactory-eclipse",
   "metadata": {},
   "source": [
    "## Removing Duplicates\n",
    "\n",
    "Duplicate rows are rows that have been registered more than one time.\n",
    "\n"
   ]
  },
  {
   "cell_type": "code",
   "execution_count": 32,
   "id": "forbidden-recorder",
   "metadata": {
    "ExecuteTime": {
     "end_time": "2021-08-05T01:47:37.024186Z",
     "start_time": "2021-08-05T01:47:36.930198Z"
    }
   },
   "outputs": [
    {
     "data": {
      "text/plain": [
       "1"
      ]
     },
     "execution_count": 32,
     "metadata": {},
     "output_type": "execute_result"
    }
   ],
   "source": [
    "df = pd.read_csv(\"https://www.w3schools.com/python/pandas/dirtydata.csv\")\n",
    "df.duplicated().sum() "
   ]
  },
  {
   "cell_type": "code",
   "execution_count": 33,
   "id": "technical-heater",
   "metadata": {
    "ExecuteTime": {
     "end_time": "2021-08-05T01:47:37.040187Z",
     "start_time": "2021-08-05T01:47:37.025157Z"
    }
   },
   "outputs": [
    {
     "data": {
      "text/plain": [
       "[RangeIndex(start=0, stop=32, step=1),\n",
       " Index(['Duration', 'Date', 'Pulse', 'Maxpulse', 'Calories'], dtype='object')]"
      ]
     },
     "execution_count": 33,
     "metadata": {},
     "output_type": "execute_result"
    }
   ],
   "source": [
    "df.axes"
   ]
  },
  {
   "cell_type": "markdown",
   "id": "caring-tulsa",
   "metadata": {
    "ExecuteTime": {
     "end_time": "2021-08-03T23:38:38.798900Z",
     "start_time": "2021-08-03T23:38:38.777902Z"
    }
   },
   "source": [
    "## Removing Duplicates\n",
    "To remove duplicates, use the drop_duplicates() method.\n",
    "\n",
    "Remember: The (inplace = True) will make sure that the method does NOT return a new DataFrame, but it will remove all duplicates from the original DataFrame."
   ]
  },
  {
   "cell_type": "code",
   "execution_count": 34,
   "id": "humanitarian-investigation",
   "metadata": {
    "ExecuteTime": {
     "end_time": "2021-08-05T01:47:37.056186Z",
     "start_time": "2021-08-05T01:47:37.041177Z"
    }
   },
   "outputs": [],
   "source": [
    "df.drop_duplicates(inplace = True)"
   ]
  },
  {
   "cell_type": "markdown",
   "id": "charming-panel",
   "metadata": {},
   "source": [
    "# Filter"
   ]
  },
  {
   "cell_type": "code",
   "execution_count": 35,
   "id": "forty-natural",
   "metadata": {
    "ExecuteTime": {
     "end_time": "2021-08-05T01:47:37.072186Z",
     "start_time": "2021-08-05T01:47:37.057158Z"
    }
   },
   "outputs": [
    {
     "data": {
      "text/html": [
       "<div>\n",
       "<style scoped>\n",
       "    .dataframe tbody tr th:only-of-type {\n",
       "        vertical-align: middle;\n",
       "    }\n",
       "\n",
       "    .dataframe tbody tr th {\n",
       "        vertical-align: top;\n",
       "    }\n",
       "\n",
       "    .dataframe thead th {\n",
       "        text-align: right;\n",
       "    }\n",
       "</style>\n",
       "<table border=\"1\" class=\"dataframe\">\n",
       "  <thead>\n",
       "    <tr style=\"text-align: right;\">\n",
       "      <th></th>\n",
       "      <th>name</th>\n",
       "      <th>ctg</th>\n",
       "      <th>val</th>\n",
       "      <th>val2</th>\n",
       "    </tr>\n",
       "  </thead>\n",
       "  <tbody>\n",
       "    <tr>\n",
       "      <th>0</th>\n",
       "      <td>Jane</td>\n",
       "      <td>A</td>\n",
       "      <td>0.44</td>\n",
       "      <td>3</td>\n",
       "    </tr>\n",
       "    <tr>\n",
       "      <th>1</th>\n",
       "      <td>John</td>\n",
       "      <td>A</td>\n",
       "      <td>0.19</td>\n",
       "      <td>11</td>\n",
       "    </tr>\n",
       "    <tr>\n",
       "      <th>2</th>\n",
       "      <td>Ashley</td>\n",
       "      <td>C</td>\n",
       "      <td>0.38</td>\n",
       "      <td>2</td>\n",
       "    </tr>\n",
       "    <tr>\n",
       "      <th>3</th>\n",
       "      <td>Mike</td>\n",
       "      <td>B</td>\n",
       "      <td>0.55</td>\n",
       "      <td>16</td>\n",
       "    </tr>\n",
       "    <tr>\n",
       "      <th>4</th>\n",
       "      <td>Emily</td>\n",
       "      <td>B</td>\n",
       "      <td>0.81</td>\n",
       "      <td>11</td>\n",
       "    </tr>\n",
       "    <tr>\n",
       "      <th>5</th>\n",
       "      <td>Jack</td>\n",
       "      <td>C</td>\n",
       "      <td>0.72</td>\n",
       "      <td>8</td>\n",
       "    </tr>\n",
       "    <tr>\n",
       "      <th>6</th>\n",
       "      <td>Catlin</td>\n",
       "      <td>B</td>\n",
       "      <td>0.47</td>\n",
       "      <td>6</td>\n",
       "    </tr>\n",
       "  </tbody>\n",
       "</table>\n",
       "</div>"
      ],
      "text/plain": [
       "     name ctg   val  val2\n",
       "0    Jane   A  0.44     3\n",
       "1    John   A  0.19    11\n",
       "2  Ashley   C  0.38     2\n",
       "3    Mike   B  0.55    16\n",
       "4   Emily   B  0.81    11\n",
       "5    Jack   C  0.72     8\n",
       "6  Catlin   B  0.47     6"
      ]
     },
     "execution_count": 35,
     "metadata": {},
     "output_type": "execute_result"
    }
   ],
   "source": [
    "import numpy as np\n",
    "import pandas as pd\n",
    "\n",
    "df = pd.DataFrame({ 'name':['Jane','John','Ashley','Mike','Emily','Jack','Catlin'],\n",
    "'ctg':['A','A','C','B','B','C','B'],\n",
    "'val':np.random.random(7).round(2),\n",
    "'val2':np.random.randint(1,20, size=7)\n",
    "})\n",
    "\n",
    "df"
   ]
  },
  {
   "cell_type": "markdown",
   "id": "representative-barrel",
   "metadata": {},
   "source": [
    "## Logical operators\n",
    "We can use the logical operators on column values to filter rows."
   ]
  },
  {
   "cell_type": "code",
   "execution_count": 36,
   "id": "coupled-scene",
   "metadata": {
    "ExecuteTime": {
     "end_time": "2021-08-05T01:47:37.087186Z",
     "start_time": "2021-08-05T01:47:37.073186Z"
    }
   },
   "outputs": [
    {
     "data": {
      "text/html": [
       "<div>\n",
       "<style scoped>\n",
       "    .dataframe tbody tr th:only-of-type {\n",
       "        vertical-align: middle;\n",
       "    }\n",
       "\n",
       "    .dataframe tbody tr th {\n",
       "        vertical-align: top;\n",
       "    }\n",
       "\n",
       "    .dataframe thead th {\n",
       "        text-align: right;\n",
       "    }\n",
       "</style>\n",
       "<table border=\"1\" class=\"dataframe\">\n",
       "  <thead>\n",
       "    <tr style=\"text-align: right;\">\n",
       "      <th></th>\n",
       "      <th>name</th>\n",
       "      <th>ctg</th>\n",
       "      <th>val</th>\n",
       "      <th>val2</th>\n",
       "    </tr>\n",
       "  </thead>\n",
       "  <tbody>\n",
       "    <tr>\n",
       "      <th>3</th>\n",
       "      <td>Mike</td>\n",
       "      <td>B</td>\n",
       "      <td>0.55</td>\n",
       "      <td>16</td>\n",
       "    </tr>\n",
       "    <tr>\n",
       "      <th>4</th>\n",
       "      <td>Emily</td>\n",
       "      <td>B</td>\n",
       "      <td>0.81</td>\n",
       "      <td>11</td>\n",
       "    </tr>\n",
       "    <tr>\n",
       "      <th>5</th>\n",
       "      <td>Jack</td>\n",
       "      <td>C</td>\n",
       "      <td>0.72</td>\n",
       "      <td>8</td>\n",
       "    </tr>\n",
       "  </tbody>\n",
       "</table>\n",
       "</div>"
      ],
      "text/plain": [
       "    name ctg   val  val2\n",
       "3   Mike   B  0.55    16\n",
       "4  Emily   B  0.81    11\n",
       "5   Jack   C  0.72     8"
      ]
     },
     "execution_count": 36,
     "metadata": {},
     "output_type": "execute_result"
    }
   ],
   "source": [
    "df[df.val > 0.5]"
   ]
  },
  {
   "cell_type": "markdown",
   "id": "attractive-minimum",
   "metadata": {},
   "source": [
    "## Multiple logical operators\n",
    "Pandas allows for combining multiple logical operators. For instance, we can apply conditions on both val and val2 columns as below.\n"
   ]
  },
  {
   "cell_type": "code",
   "execution_count": 37,
   "id": "concrete-honolulu",
   "metadata": {
    "ExecuteTime": {
     "end_time": "2021-08-05T01:47:37.103186Z",
     "start_time": "2021-08-05T01:47:37.088156Z"
    }
   },
   "outputs": [
    {
     "data": {
      "text/html": [
       "<div>\n",
       "<style scoped>\n",
       "    .dataframe tbody tr th:only-of-type {\n",
       "        vertical-align: middle;\n",
       "    }\n",
       "\n",
       "    .dataframe tbody tr th {\n",
       "        vertical-align: top;\n",
       "    }\n",
       "\n",
       "    .dataframe thead th {\n",
       "        text-align: right;\n",
       "    }\n",
       "</style>\n",
       "<table border=\"1\" class=\"dataframe\">\n",
       "  <thead>\n",
       "    <tr style=\"text-align: right;\">\n",
       "      <th></th>\n",
       "      <th>name</th>\n",
       "      <th>ctg</th>\n",
       "      <th>val</th>\n",
       "      <th>val2</th>\n",
       "    </tr>\n",
       "  </thead>\n",
       "  <tbody>\n",
       "  </tbody>\n",
       "</table>\n",
       "</div>"
      ],
      "text/plain": [
       "Empty DataFrame\n",
       "Columns: [name, ctg, val, val2]\n",
       "Index: []"
      ]
     },
     "execution_count": 37,
     "metadata": {},
     "output_type": "execute_result"
    }
   ],
   "source": [
    "df[(df.val > 0.5) & (df.val2 == 1)]"
   ]
  },
  {
   "cell_type": "markdown",
   "id": "banner-southwest",
   "metadata": {},
   "source": [
    "The “&” signs stands for “and” , the “|” stands for “or”.\n"
   ]
  },
  {
   "cell_type": "code",
   "execution_count": 38,
   "id": "devoted-beach",
   "metadata": {
    "ExecuteTime": {
     "end_time": "2021-08-05T01:47:37.118191Z",
     "start_time": "2021-08-05T01:47:37.104188Z"
    }
   },
   "outputs": [
    {
     "data": {
      "text/html": [
       "<div>\n",
       "<style scoped>\n",
       "    .dataframe tbody tr th:only-of-type {\n",
       "        vertical-align: middle;\n",
       "    }\n",
       "\n",
       "    .dataframe tbody tr th {\n",
       "        vertical-align: top;\n",
       "    }\n",
       "\n",
       "    .dataframe thead th {\n",
       "        text-align: right;\n",
       "    }\n",
       "</style>\n",
       "<table border=\"1\" class=\"dataframe\">\n",
       "  <thead>\n",
       "    <tr style=\"text-align: right;\">\n",
       "      <th></th>\n",
       "      <th>name</th>\n",
       "      <th>ctg</th>\n",
       "      <th>val</th>\n",
       "      <th>val2</th>\n",
       "    </tr>\n",
       "  </thead>\n",
       "  <tbody>\n",
       "    <tr>\n",
       "      <th>0</th>\n",
       "      <td>Jane</td>\n",
       "      <td>A</td>\n",
       "      <td>0.44</td>\n",
       "      <td>3</td>\n",
       "    </tr>\n",
       "    <tr>\n",
       "      <th>1</th>\n",
       "      <td>John</td>\n",
       "      <td>A</td>\n",
       "      <td>0.19</td>\n",
       "      <td>11</td>\n",
       "    </tr>\n",
       "    <tr>\n",
       "      <th>2</th>\n",
       "      <td>Ashley</td>\n",
       "      <td>C</td>\n",
       "      <td>0.38</td>\n",
       "      <td>2</td>\n",
       "    </tr>\n",
       "    <tr>\n",
       "      <th>6</th>\n",
       "      <td>Catlin</td>\n",
       "      <td>B</td>\n",
       "      <td>0.47</td>\n",
       "      <td>6</td>\n",
       "    </tr>\n",
       "  </tbody>\n",
       "</table>\n",
       "</div>"
      ],
      "text/plain": [
       "     name ctg   val  val2\n",
       "0    Jane   A  0.44     3\n",
       "1    John   A  0.19    11\n",
       "2  Ashley   C  0.38     2\n",
       "6  Catlin   B  0.47     6"
      ]
     },
     "execution_count": 38,
     "metadata": {},
     "output_type": "execute_result"
    }
   ],
   "source": [
    "df[(df.val < 0.5) | (df.val2 == 7)]"
   ]
  },
  {
   "cell_type": "markdown",
   "id": "automotive-illness",
   "metadata": {},
   "source": [
    "##  Isin\n",
    "The isin method is another way of applying multiple condition for filtering. For instance, we can filter the names that exist in a given list.\n"
   ]
  },
  {
   "cell_type": "code",
   "execution_count": 39,
   "id": "hundred-rider",
   "metadata": {
    "ExecuteTime": {
     "end_time": "2021-08-05T01:47:37.134186Z",
     "start_time": "2021-08-05T01:47:37.119191Z"
    }
   },
   "outputs": [
    {
     "data": {
      "text/html": [
       "<div>\n",
       "<style scoped>\n",
       "    .dataframe tbody tr th:only-of-type {\n",
       "        vertical-align: middle;\n",
       "    }\n",
       "\n",
       "    .dataframe tbody tr th {\n",
       "        vertical-align: top;\n",
       "    }\n",
       "\n",
       "    .dataframe thead th {\n",
       "        text-align: right;\n",
       "    }\n",
       "</style>\n",
       "<table border=\"1\" class=\"dataframe\">\n",
       "  <thead>\n",
       "    <tr style=\"text-align: right;\">\n",
       "      <th></th>\n",
       "      <th>name</th>\n",
       "      <th>ctg</th>\n",
       "      <th>val</th>\n",
       "      <th>val2</th>\n",
       "    </tr>\n",
       "  </thead>\n",
       "  <tbody>\n",
       "    <tr>\n",
       "      <th>1</th>\n",
       "      <td>John</td>\n",
       "      <td>A</td>\n",
       "      <td>0.19</td>\n",
       "      <td>11</td>\n",
       "    </tr>\n",
       "    <tr>\n",
       "      <th>3</th>\n",
       "      <td>Mike</td>\n",
       "      <td>B</td>\n",
       "      <td>0.55</td>\n",
       "      <td>16</td>\n",
       "    </tr>\n",
       "    <tr>\n",
       "      <th>6</th>\n",
       "      <td>Catlin</td>\n",
       "      <td>B</td>\n",
       "      <td>0.47</td>\n",
       "      <td>6</td>\n",
       "    </tr>\n",
       "  </tbody>\n",
       "</table>\n",
       "</div>"
      ],
      "text/plain": [
       "     name ctg   val  val2\n",
       "1    John   A  0.19    11\n",
       "3    Mike   B  0.55    16\n",
       "6  Catlin   B  0.47     6"
      ]
     },
     "execution_count": 39,
     "metadata": {},
     "output_type": "execute_result"
    }
   ],
   "source": [
    "names = ['John','Catlin','Mike']\n",
    "df[df.name.isin(names)]\n"
   ]
  },
  {
   "cell_type": "markdown",
   "id": "floppy-parent",
   "metadata": {},
   "source": [
    "## Str accessor\n",
    "Pandas is a highly efficient library on textual data as well. The functions and methods under the str accessor provide flexible ways to filter rows based on strings.\n",
    "For instance, we can select the names that start with the letter “J”.\n"
   ]
  },
  {
   "cell_type": "code",
   "execution_count": 40,
   "id": "iraqi-transcription",
   "metadata": {
    "ExecuteTime": {
     "end_time": "2021-08-05T01:47:37.150193Z",
     "start_time": "2021-08-05T01:47:37.135182Z"
    }
   },
   "outputs": [
    {
     "data": {
      "text/html": [
       "<div>\n",
       "<style scoped>\n",
       "    .dataframe tbody tr th:only-of-type {\n",
       "        vertical-align: middle;\n",
       "    }\n",
       "\n",
       "    .dataframe tbody tr th {\n",
       "        vertical-align: top;\n",
       "    }\n",
       "\n",
       "    .dataframe thead th {\n",
       "        text-align: right;\n",
       "    }\n",
       "</style>\n",
       "<table border=\"1\" class=\"dataframe\">\n",
       "  <thead>\n",
       "    <tr style=\"text-align: right;\">\n",
       "      <th></th>\n",
       "      <th>name</th>\n",
       "      <th>ctg</th>\n",
       "      <th>val</th>\n",
       "      <th>val2</th>\n",
       "    </tr>\n",
       "  </thead>\n",
       "  <tbody>\n",
       "    <tr>\n",
       "      <th>0</th>\n",
       "      <td>Jane</td>\n",
       "      <td>A</td>\n",
       "      <td>0.44</td>\n",
       "      <td>3</td>\n",
       "    </tr>\n",
       "    <tr>\n",
       "      <th>1</th>\n",
       "      <td>John</td>\n",
       "      <td>A</td>\n",
       "      <td>0.19</td>\n",
       "      <td>11</td>\n",
       "    </tr>\n",
       "    <tr>\n",
       "      <th>5</th>\n",
       "      <td>Jack</td>\n",
       "      <td>C</td>\n",
       "      <td>0.72</td>\n",
       "      <td>8</td>\n",
       "    </tr>\n",
       "  </tbody>\n",
       "</table>\n",
       "</div>"
      ],
      "text/plain": [
       "   name ctg   val  val2\n",
       "0  Jane   A  0.44     3\n",
       "1  John   A  0.19    11\n",
       "5  Jack   C  0.72     8"
      ]
     },
     "execution_count": 40,
     "metadata": {},
     "output_type": "execute_result"
    }
   ],
   "source": [
    "df[df.name.str.startswith('J')]"
   ]
  },
  {
   "cell_type": "markdown",
   "id": "egyptian-lender",
   "metadata": {},
   "source": [
    "The contains function under the str accessor returns the values that contain a given set of characters.\n"
   ]
  },
  {
   "cell_type": "code",
   "execution_count": 41,
   "id": "dental-genre",
   "metadata": {
    "ExecuteTime": {
     "end_time": "2021-08-05T01:47:37.166186Z",
     "start_time": "2021-08-05T01:47:37.151195Z"
    }
   },
   "outputs": [
    {
     "data": {
      "text/html": [
       "<div>\n",
       "<style scoped>\n",
       "    .dataframe tbody tr th:only-of-type {\n",
       "        vertical-align: middle;\n",
       "    }\n",
       "\n",
       "    .dataframe tbody tr th {\n",
       "        vertical-align: top;\n",
       "    }\n",
       "\n",
       "    .dataframe thead th {\n",
       "        text-align: right;\n",
       "    }\n",
       "</style>\n",
       "<table border=\"1\" class=\"dataframe\">\n",
       "  <thead>\n",
       "    <tr style=\"text-align: right;\">\n",
       "      <th></th>\n",
       "      <th>name</th>\n",
       "      <th>ctg</th>\n",
       "      <th>val</th>\n",
       "      <th>val2</th>\n",
       "    </tr>\n",
       "  </thead>\n",
       "  <tbody>\n",
       "    <tr>\n",
       "      <th>2</th>\n",
       "      <td>Ashley</td>\n",
       "      <td>C</td>\n",
       "      <td>0.38</td>\n",
       "      <td>2</td>\n",
       "    </tr>\n",
       "    <tr>\n",
       "      <th>4</th>\n",
       "      <td>Emily</td>\n",
       "      <td>B</td>\n",
       "      <td>0.81</td>\n",
       "      <td>11</td>\n",
       "    </tr>\n",
       "  </tbody>\n",
       "</table>\n",
       "</div>"
      ],
      "text/plain": [
       "     name ctg   val  val2\n",
       "2  Ashley   C  0.38     2\n",
       "4   Emily   B  0.81    11"
      ]
     },
     "execution_count": 41,
     "metadata": {},
     "output_type": "execute_result"
    }
   ],
   "source": [
    "df[df.name.str.contains('y')]"
   ]
  },
  {
   "cell_type": "markdown",
   "id": "careful-narrow",
   "metadata": {},
   "source": [
    "## Tilde (~)\n",
    "The tilde operator is used for “not” logic in filtering. If we add the tilde operator before the filter expression, the rows that do not fit the condition are returned.\n"
   ]
  },
  {
   "cell_type": "code",
   "execution_count": 42,
   "id": "veterinary-somewhere",
   "metadata": {
    "ExecuteTime": {
     "end_time": "2021-08-05T01:47:37.182187Z",
     "start_time": "2021-08-05T01:47:37.167188Z"
    }
   },
   "outputs": [
    {
     "data": {
      "text/html": [
       "<div>\n",
       "<style scoped>\n",
       "    .dataframe tbody tr th:only-of-type {\n",
       "        vertical-align: middle;\n",
       "    }\n",
       "\n",
       "    .dataframe tbody tr th {\n",
       "        vertical-align: top;\n",
       "    }\n",
       "\n",
       "    .dataframe thead th {\n",
       "        text-align: right;\n",
       "    }\n",
       "</style>\n",
       "<table border=\"1\" class=\"dataframe\">\n",
       "  <thead>\n",
       "    <tr style=\"text-align: right;\">\n",
       "      <th></th>\n",
       "      <th>name</th>\n",
       "      <th>ctg</th>\n",
       "      <th>val</th>\n",
       "      <th>val2</th>\n",
       "    </tr>\n",
       "  </thead>\n",
       "  <tbody>\n",
       "    <tr>\n",
       "      <th>0</th>\n",
       "      <td>Jane</td>\n",
       "      <td>A</td>\n",
       "      <td>0.44</td>\n",
       "      <td>3</td>\n",
       "    </tr>\n",
       "    <tr>\n",
       "      <th>1</th>\n",
       "      <td>John</td>\n",
       "      <td>A</td>\n",
       "      <td>0.19</td>\n",
       "      <td>11</td>\n",
       "    </tr>\n",
       "    <tr>\n",
       "      <th>2</th>\n",
       "      <td>Ashley</td>\n",
       "      <td>C</td>\n",
       "      <td>0.38</td>\n",
       "      <td>2</td>\n",
       "    </tr>\n",
       "    <tr>\n",
       "      <th>3</th>\n",
       "      <td>Mike</td>\n",
       "      <td>B</td>\n",
       "      <td>0.55</td>\n",
       "      <td>16</td>\n",
       "    </tr>\n",
       "    <tr>\n",
       "      <th>4</th>\n",
       "      <td>Emily</td>\n",
       "      <td>B</td>\n",
       "      <td>0.81</td>\n",
       "      <td>11</td>\n",
       "    </tr>\n",
       "    <tr>\n",
       "      <th>5</th>\n",
       "      <td>Jack</td>\n",
       "      <td>C</td>\n",
       "      <td>0.72</td>\n",
       "      <td>8</td>\n",
       "    </tr>\n",
       "    <tr>\n",
       "      <th>6</th>\n",
       "      <td>Catlin</td>\n",
       "      <td>B</td>\n",
       "      <td>0.47</td>\n",
       "      <td>6</td>\n",
       "    </tr>\n",
       "  </tbody>\n",
       "</table>\n",
       "</div>"
      ],
      "text/plain": [
       "     name ctg   val  val2\n",
       "0    Jane   A  0.44     3\n",
       "1    John   A  0.19    11\n",
       "2  Ashley   C  0.38     2\n",
       "3    Mike   B  0.55    16\n",
       "4   Emily   B  0.81    11\n",
       "5    Jack   C  0.72     8\n",
       "6  Catlin   B  0.47     6"
      ]
     },
     "execution_count": 42,
     "metadata": {},
     "output_type": "execute_result"
    }
   ],
   "source": [
    "df[~df.name.str.startswith('y')]"
   ]
  },
  {
   "cell_type": "code",
   "execution_count": 43,
   "id": "chicken-flood",
   "metadata": {
    "ExecuteTime": {
     "end_time": "2021-08-05T01:47:37.198187Z",
     "start_time": "2021-08-05T01:47:37.183201Z"
    }
   },
   "outputs": [
    {
     "data": {
      "text/html": [
       "<div>\n",
       "<style scoped>\n",
       "    .dataframe tbody tr th:only-of-type {\n",
       "        vertical-align: middle;\n",
       "    }\n",
       "\n",
       "    .dataframe tbody tr th {\n",
       "        vertical-align: top;\n",
       "    }\n",
       "\n",
       "    .dataframe thead th {\n",
       "        text-align: right;\n",
       "    }\n",
       "</style>\n",
       "<table border=\"1\" class=\"dataframe\">\n",
       "  <thead>\n",
       "    <tr style=\"text-align: right;\">\n",
       "      <th></th>\n",
       "      <th>name</th>\n",
       "      <th>ctg</th>\n",
       "      <th>val</th>\n",
       "      <th>val2</th>\n",
       "    </tr>\n",
       "  </thead>\n",
       "  <tbody>\n",
       "    <tr>\n",
       "      <th>0</th>\n",
       "      <td>Jane</td>\n",
       "      <td>A</td>\n",
       "      <td>0.44</td>\n",
       "      <td>3</td>\n",
       "    </tr>\n",
       "    <tr>\n",
       "      <th>1</th>\n",
       "      <td>John</td>\n",
       "      <td>A</td>\n",
       "      <td>0.19</td>\n",
       "      <td>11</td>\n",
       "    </tr>\n",
       "    <tr>\n",
       "      <th>3</th>\n",
       "      <td>Mike</td>\n",
       "      <td>B</td>\n",
       "      <td>0.55</td>\n",
       "      <td>16</td>\n",
       "    </tr>\n",
       "    <tr>\n",
       "      <th>5</th>\n",
       "      <td>Jack</td>\n",
       "      <td>C</td>\n",
       "      <td>0.72</td>\n",
       "      <td>8</td>\n",
       "    </tr>\n",
       "    <tr>\n",
       "      <th>6</th>\n",
       "      <td>Catlin</td>\n",
       "      <td>B</td>\n",
       "      <td>0.47</td>\n",
       "      <td>6</td>\n",
       "    </tr>\n",
       "  </tbody>\n",
       "</table>\n",
       "</div>"
      ],
      "text/plain": [
       "     name ctg   val  val2\n",
       "0    Jane   A  0.44     3\n",
       "1    John   A  0.19    11\n",
       "3    Mike   B  0.55    16\n",
       "5    Jack   C  0.72     8\n",
       "6  Catlin   B  0.47     6"
      ]
     },
     "execution_count": 43,
     "metadata": {},
     "output_type": "execute_result"
    }
   ],
   "source": [
    "df[~df.name.str.endswith('y')]"
   ]
  },
  {
   "cell_type": "markdown",
   "id": "worst-ghost",
   "metadata": {},
   "source": [
    "## Query\n",
    "The query function offers a little more flexibility at writing the conditions for filtering. We can pass the conditions as a string.\n",
    "For instance, the following code returns the rows that belong to the B category and have a value higher than 0.5 in the val column.\n"
   ]
  },
  {
   "cell_type": "code",
   "execution_count": 44,
   "id": "applied-cheat",
   "metadata": {
    "ExecuteTime": {
     "end_time": "2021-08-05T01:47:37.214186Z",
     "start_time": "2021-08-05T01:47:37.199176Z"
    }
   },
   "outputs": [
    {
     "data": {
      "text/html": [
       "<div>\n",
       "<style scoped>\n",
       "    .dataframe tbody tr th:only-of-type {\n",
       "        vertical-align: middle;\n",
       "    }\n",
       "\n",
       "    .dataframe tbody tr th {\n",
       "        vertical-align: top;\n",
       "    }\n",
       "\n",
       "    .dataframe thead th {\n",
       "        text-align: right;\n",
       "    }\n",
       "</style>\n",
       "<table border=\"1\" class=\"dataframe\">\n",
       "  <thead>\n",
       "    <tr style=\"text-align: right;\">\n",
       "      <th></th>\n",
       "      <th>name</th>\n",
       "      <th>ctg</th>\n",
       "      <th>val</th>\n",
       "      <th>val2</th>\n",
       "    </tr>\n",
       "  </thead>\n",
       "  <tbody>\n",
       "    <tr>\n",
       "      <th>3</th>\n",
       "      <td>Mike</td>\n",
       "      <td>B</td>\n",
       "      <td>0.55</td>\n",
       "      <td>16</td>\n",
       "    </tr>\n",
       "    <tr>\n",
       "      <th>4</th>\n",
       "      <td>Emily</td>\n",
       "      <td>B</td>\n",
       "      <td>0.81</td>\n",
       "      <td>11</td>\n",
       "    </tr>\n",
       "    <tr>\n",
       "      <th>6</th>\n",
       "      <td>Catlin</td>\n",
       "      <td>B</td>\n",
       "      <td>0.47</td>\n",
       "      <td>6</td>\n",
       "    </tr>\n",
       "  </tbody>\n",
       "</table>\n",
       "</div>"
      ],
      "text/plain": [
       "     name ctg   val  val2\n",
       "3    Mike   B  0.55    16\n",
       "4   Emily   B  0.81    11\n",
       "6  Catlin   B  0.47     6"
      ]
     },
     "execution_count": 44,
     "metadata": {},
     "output_type": "execute_result"
    }
   ],
   "source": [
    "df.query('ctg == \"B\" and val2 > 0.4')"
   ]
  },
  {
   "cell_type": "markdown",
   "id": "agreed-pennsylvania",
   "metadata": {
    "ExecuteTime": {
     "end_time": "2021-08-04T03:13:57.765246Z",
     "start_time": "2021-08-04T03:13:57.751284Z"
    }
   },
   "source": [
    "## Nlargest or nsmallest\n",
    "In some cases, we do not have a specific range for filtering but just need the largest or smallest values. The nlargest and nsmallest functions allow for selecting rows that have the largest or smallest values in a column, respectively.\n"
   ]
  },
  {
   "cell_type": "code",
   "execution_count": 45,
   "id": "quick-martial",
   "metadata": {
    "ExecuteTime": {
     "end_time": "2021-08-05T01:47:37.230187Z",
     "start_time": "2021-08-05T01:47:37.215187Z"
    }
   },
   "outputs": [
    {
     "data": {
      "text/html": [
       "<div>\n",
       "<style scoped>\n",
       "    .dataframe tbody tr th:only-of-type {\n",
       "        vertical-align: middle;\n",
       "    }\n",
       "\n",
       "    .dataframe tbody tr th {\n",
       "        vertical-align: top;\n",
       "    }\n",
       "\n",
       "    .dataframe thead th {\n",
       "        text-align: right;\n",
       "    }\n",
       "</style>\n",
       "<table border=\"1\" class=\"dataframe\">\n",
       "  <thead>\n",
       "    <tr style=\"text-align: right;\">\n",
       "      <th></th>\n",
       "      <th>name</th>\n",
       "      <th>ctg</th>\n",
       "      <th>val</th>\n",
       "      <th>val2</th>\n",
       "    </tr>\n",
       "  </thead>\n",
       "  <tbody>\n",
       "    <tr>\n",
       "      <th>4</th>\n",
       "      <td>Emily</td>\n",
       "      <td>B</td>\n",
       "      <td>0.81</td>\n",
       "      <td>11</td>\n",
       "    </tr>\n",
       "    <tr>\n",
       "      <th>5</th>\n",
       "      <td>Jack</td>\n",
       "      <td>C</td>\n",
       "      <td>0.72</td>\n",
       "      <td>8</td>\n",
       "    </tr>\n",
       "    <tr>\n",
       "      <th>3</th>\n",
       "      <td>Mike</td>\n",
       "      <td>B</td>\n",
       "      <td>0.55</td>\n",
       "      <td>16</td>\n",
       "    </tr>\n",
       "  </tbody>\n",
       "</table>\n",
       "</div>"
      ],
      "text/plain": [
       "    name ctg   val  val2\n",
       "4  Emily   B  0.81    11\n",
       "5   Jack   C  0.72     8\n",
       "3   Mike   B  0.55    16"
      ]
     },
     "execution_count": 45,
     "metadata": {},
     "output_type": "execute_result"
    }
   ],
   "source": [
    "df.nlargest(3, 'val')"
   ]
  },
  {
   "cell_type": "code",
   "execution_count": 46,
   "id": "collect-marks",
   "metadata": {
    "ExecuteTime": {
     "end_time": "2021-08-05T01:47:37.246187Z",
     "start_time": "2021-08-05T01:47:37.231180Z"
    }
   },
   "outputs": [
    {
     "data": {
      "text/html": [
       "<div>\n",
       "<style scoped>\n",
       "    .dataframe tbody tr th:only-of-type {\n",
       "        vertical-align: middle;\n",
       "    }\n",
       "\n",
       "    .dataframe tbody tr th {\n",
       "        vertical-align: top;\n",
       "    }\n",
       "\n",
       "    .dataframe thead th {\n",
       "        text-align: right;\n",
       "    }\n",
       "</style>\n",
       "<table border=\"1\" class=\"dataframe\">\n",
       "  <thead>\n",
       "    <tr style=\"text-align: right;\">\n",
       "      <th></th>\n",
       "      <th>name</th>\n",
       "      <th>ctg</th>\n",
       "      <th>val</th>\n",
       "      <th>val2</th>\n",
       "    </tr>\n",
       "  </thead>\n",
       "  <tbody>\n",
       "    <tr>\n",
       "      <th>2</th>\n",
       "      <td>Ashley</td>\n",
       "      <td>C</td>\n",
       "      <td>0.38</td>\n",
       "      <td>2</td>\n",
       "    </tr>\n",
       "    <tr>\n",
       "      <th>0</th>\n",
       "      <td>Jane</td>\n",
       "      <td>A</td>\n",
       "      <td>0.44</td>\n",
       "      <td>3</td>\n",
       "    </tr>\n",
       "  </tbody>\n",
       "</table>\n",
       "</div>"
      ],
      "text/plain": [
       "     name ctg   val  val2\n",
       "2  Ashley   C  0.38     2\n",
       "0    Jane   A  0.44     3"
      ]
     },
     "execution_count": 46,
     "metadata": {},
     "output_type": "execute_result"
    }
   ],
   "source": [
    "df.nsmallest(2, 'val2')"
   ]
  },
  {
   "cell_type": "markdown",
   "id": "measured-chest",
   "metadata": {},
   "source": [
    "## Loc and iloc\n",
    "The loc and iloc methods are used to select rows or columns based on index or label.\n",
    "loc: select rows or columns using labels\n",
    "iloc: select rows or columns using indices\n",
    "Thus, they can be used for filtering. However, we can only select a particular part of the dataframe without specifying a condition.\n"
   ]
  },
  {
   "cell_type": "code",
   "execution_count": 47,
   "id": "nervous-better",
   "metadata": {
    "ExecuteTime": {
     "end_time": "2021-08-05T01:47:37.262186Z",
     "start_time": "2021-08-05T01:47:37.247158Z"
    }
   },
   "outputs": [
    {
     "data": {
      "text/html": [
       "<div>\n",
       "<style scoped>\n",
       "    .dataframe tbody tr th:only-of-type {\n",
       "        vertical-align: middle;\n",
       "    }\n",
       "\n",
       "    .dataframe tbody tr th {\n",
       "        vertical-align: top;\n",
       "    }\n",
       "\n",
       "    .dataframe thead th {\n",
       "        text-align: right;\n",
       "    }\n",
       "</style>\n",
       "<table border=\"1\" class=\"dataframe\">\n",
       "  <thead>\n",
       "    <tr style=\"text-align: right;\">\n",
       "      <th></th>\n",
       "      <th>name</th>\n",
       "      <th>ctg</th>\n",
       "      <th>val</th>\n",
       "      <th>val2</th>\n",
       "    </tr>\n",
       "  </thead>\n",
       "  <tbody>\n",
       "    <tr>\n",
       "      <th>3</th>\n",
       "      <td>Mike</td>\n",
       "      <td>B</td>\n",
       "      <td>0.55</td>\n",
       "      <td>16</td>\n",
       "    </tr>\n",
       "    <tr>\n",
       "      <th>4</th>\n",
       "      <td>Emily</td>\n",
       "      <td>B</td>\n",
       "      <td>0.81</td>\n",
       "      <td>11</td>\n",
       "    </tr>\n",
       "  </tbody>\n",
       "</table>\n",
       "</div>"
      ],
      "text/plain": [
       "    name ctg   val  val2\n",
       "3   Mike   B  0.55    16\n",
       "4  Emily   B  0.81    11"
      ]
     },
     "execution_count": 47,
     "metadata": {},
     "output_type": "execute_result"
    }
   ],
   "source": [
    "df.iloc[3:5, :] #rows 3 and 4, all columns"
   ]
  },
  {
   "cell_type": "markdown",
   "id": "helpful-cross",
   "metadata": {},
   "source": [
    "If the dataframe has integer index, the indices and labels of the rows are the same. Thus, both loc and iloc accomplished the same thing on the rows.\n"
   ]
  },
  {
   "cell_type": "code",
   "execution_count": 48,
   "id": "native-korea",
   "metadata": {
    "ExecuteTime": {
     "end_time": "2021-08-05T01:47:37.277186Z",
     "start_time": "2021-08-05T01:47:37.263190Z"
    }
   },
   "outputs": [
    {
     "data": {
      "text/html": [
       "<div>\n",
       "<style scoped>\n",
       "    .dataframe tbody tr th:only-of-type {\n",
       "        vertical-align: middle;\n",
       "    }\n",
       "\n",
       "    .dataframe tbody tr th {\n",
       "        vertical-align: top;\n",
       "    }\n",
       "\n",
       "    .dataframe thead th {\n",
       "        text-align: right;\n",
       "    }\n",
       "</style>\n",
       "<table border=\"1\" class=\"dataframe\">\n",
       "  <thead>\n",
       "    <tr style=\"text-align: right;\">\n",
       "      <th></th>\n",
       "      <th>name</th>\n",
       "      <th>ctg</th>\n",
       "      <th>val</th>\n",
       "      <th>val2</th>\n",
       "    </tr>\n",
       "  </thead>\n",
       "  <tbody>\n",
       "    <tr>\n",
       "      <th>3</th>\n",
       "      <td>Mike</td>\n",
       "      <td>B</td>\n",
       "      <td>0.55</td>\n",
       "      <td>16</td>\n",
       "    </tr>\n",
       "    <tr>\n",
       "      <th>4</th>\n",
       "      <td>Emily</td>\n",
       "      <td>B</td>\n",
       "      <td>0.81</td>\n",
       "      <td>11</td>\n",
       "    </tr>\n",
       "    <tr>\n",
       "      <th>5</th>\n",
       "      <td>Jack</td>\n",
       "      <td>C</td>\n",
       "      <td>0.72</td>\n",
       "      <td>8</td>\n",
       "    </tr>\n",
       "  </tbody>\n",
       "</table>\n",
       "</div>"
      ],
      "text/plain": [
       "    name ctg   val  val2\n",
       "3   Mike   B  0.55    16\n",
       "4  Emily   B  0.81    11\n",
       "5   Jack   C  0.72     8"
      ]
     },
     "execution_count": 48,
     "metadata": {},
     "output_type": "execute_result"
    }
   ],
   "source": [
    "df.loc[3:5, :] #rows 3 and 4, all columns"
   ]
  },
  {
   "cell_type": "markdown",
   "id": "secure-quebec",
   "metadata": {},
   "source": [
    "Let’s update the index of the dataframe to demonstrate the difference between loc and iloc better.\n"
   ]
  },
  {
   "cell_type": "code",
   "execution_count": 49,
   "id": "specific-approach",
   "metadata": {
    "ExecuteTime": {
     "end_time": "2021-08-05T01:47:37.292186Z",
     "start_time": "2021-08-05T01:47:37.278191Z"
    }
   },
   "outputs": [
    {
     "data": {
      "text/html": [
       "<div>\n",
       "<style scoped>\n",
       "    .dataframe tbody tr th:only-of-type {\n",
       "        vertical-align: middle;\n",
       "    }\n",
       "\n",
       "    .dataframe tbody tr th {\n",
       "        vertical-align: top;\n",
       "    }\n",
       "\n",
       "    .dataframe thead th {\n",
       "        text-align: right;\n",
       "    }\n",
       "</style>\n",
       "<table border=\"1\" class=\"dataframe\">\n",
       "  <thead>\n",
       "    <tr style=\"text-align: right;\">\n",
       "      <th></th>\n",
       "      <th>name</th>\n",
       "      <th>ctg</th>\n",
       "      <th>val</th>\n",
       "      <th>val2</th>\n",
       "    </tr>\n",
       "  </thead>\n",
       "  <tbody>\n",
       "    <tr>\n",
       "      <th>a</th>\n",
       "      <td>Jane</td>\n",
       "      <td>A</td>\n",
       "      <td>0.44</td>\n",
       "      <td>3</td>\n",
       "    </tr>\n",
       "    <tr>\n",
       "      <th>b</th>\n",
       "      <td>John</td>\n",
       "      <td>A</td>\n",
       "      <td>0.19</td>\n",
       "      <td>11</td>\n",
       "    </tr>\n",
       "    <tr>\n",
       "      <th>c</th>\n",
       "      <td>Ashley</td>\n",
       "      <td>C</td>\n",
       "      <td>0.38</td>\n",
       "      <td>2</td>\n",
       "    </tr>\n",
       "    <tr>\n",
       "      <th>d</th>\n",
       "      <td>Mike</td>\n",
       "      <td>B</td>\n",
       "      <td>0.55</td>\n",
       "      <td>16</td>\n",
       "    </tr>\n",
       "    <tr>\n",
       "      <th>e</th>\n",
       "      <td>Emily</td>\n",
       "      <td>B</td>\n",
       "      <td>0.81</td>\n",
       "      <td>11</td>\n",
       "    </tr>\n",
       "    <tr>\n",
       "      <th>f</th>\n",
       "      <td>Jack</td>\n",
       "      <td>C</td>\n",
       "      <td>0.72</td>\n",
       "      <td>8</td>\n",
       "    </tr>\n",
       "    <tr>\n",
       "      <th>g</th>\n",
       "      <td>Catlin</td>\n",
       "      <td>B</td>\n",
       "      <td>0.47</td>\n",
       "      <td>6</td>\n",
       "    </tr>\n",
       "  </tbody>\n",
       "</table>\n",
       "</div>"
      ],
      "text/plain": [
       "     name ctg   val  val2\n",
       "a    Jane   A  0.44     3\n",
       "b    John   A  0.19    11\n",
       "c  Ashley   C  0.38     2\n",
       "d    Mike   B  0.55    16\n",
       "e   Emily   B  0.81    11\n",
       "f    Jack   C  0.72     8\n",
       "g  Catlin   B  0.47     6"
      ]
     },
     "execution_count": 49,
     "metadata": {},
     "output_type": "execute_result"
    }
   ],
   "source": [
    "df.index = ['a','b','c','d','e','f','g']\n",
    "df"
   ]
  },
  {
   "cell_type": "markdown",
   "id": "included-moment",
   "metadata": {},
   "source": [
    "We cannot pass integers to the loc method now because the labels of indices are letters."
   ]
  },
  {
   "cell_type": "code",
   "execution_count": 50,
   "id": "committed-picnic",
   "metadata": {
    "ExecuteTime": {
     "end_time": "2021-08-05T01:47:37.308157Z",
     "start_time": "2021-08-05T01:47:37.293158Z"
    }
   },
   "outputs": [
    {
     "data": {
      "text/html": [
       "<div>\n",
       "<style scoped>\n",
       "    .dataframe tbody tr th:only-of-type {\n",
       "        vertical-align: middle;\n",
       "    }\n",
       "\n",
       "    .dataframe tbody tr th {\n",
       "        vertical-align: top;\n",
       "    }\n",
       "\n",
       "    .dataframe thead th {\n",
       "        text-align: right;\n",
       "    }\n",
       "</style>\n",
       "<table border=\"1\" class=\"dataframe\">\n",
       "  <thead>\n",
       "    <tr style=\"text-align: right;\">\n",
       "      <th></th>\n",
       "      <th>name</th>\n",
       "      <th>ctg</th>\n",
       "      <th>val</th>\n",
       "      <th>val2</th>\n",
       "    </tr>\n",
       "  </thead>\n",
       "  <tbody>\n",
       "    <tr>\n",
       "      <th>b</th>\n",
       "      <td>John</td>\n",
       "      <td>A</td>\n",
       "      <td>0.19</td>\n",
       "      <td>11</td>\n",
       "    </tr>\n",
       "    <tr>\n",
       "      <th>c</th>\n",
       "      <td>Ashley</td>\n",
       "      <td>C</td>\n",
       "      <td>0.38</td>\n",
       "      <td>2</td>\n",
       "    </tr>\n",
       "    <tr>\n",
       "      <th>d</th>\n",
       "      <td>Mike</td>\n",
       "      <td>B</td>\n",
       "      <td>0.55</td>\n",
       "      <td>16</td>\n",
       "    </tr>\n",
       "  </tbody>\n",
       "</table>\n",
       "</div>"
      ],
      "text/plain": [
       "     name ctg   val  val2\n",
       "b    John   A  0.19    11\n",
       "c  Ashley   C  0.38     2\n",
       "d    Mike   B  0.55    16"
      ]
     },
     "execution_count": 50,
     "metadata": {},
     "output_type": "execute_result"
    }
   ],
   "source": [
    "df.loc['b':'d', :]"
   ]
  },
  {
   "cell_type": "markdown",
   "id": "adolescent-taxation",
   "metadata": {},
   "source": [
    "# DataFrame Reference\n"
   ]
  },
  {
   "cell_type": "markdown",
   "id": "based-quantum",
   "metadata": {},
   "source": [
    "## Pandas DataFrame abs() Method\n",
    "\n",
    "The abs() method returns a DataFrame with the absolute value of each value."
   ]
  },
  {
   "cell_type": "code",
   "execution_count": 51,
   "id": "individual-lancaster",
   "metadata": {
    "ExecuteTime": {
     "end_time": "2021-08-05T01:47:37.324186Z",
     "start_time": "2021-08-05T01:47:37.309199Z"
    }
   },
   "outputs": [
    {
     "name": "stdout",
     "output_type": "stream",
     "text": [
      "    0   1   2\n",
      "0  50  40  30\n",
      "1   1   2   2\n"
     ]
    }
   ],
   "source": [
    "import pandas as pd\n",
    "\n",
    "data = [[-50, 40, 30], [-1, 2, -2]]\n",
    "df = pd.DataFrame(data)\n",
    "\n",
    "print(df.abs())"
   ]
  },
  {
   "cell_type": "markdown",
   "id": "revised-tribute",
   "metadata": {
    "ExecuteTime": {
     "end_time": "2021-08-03T23:43:41.931187Z",
     "start_time": "2021-08-03T23:43:41.914191Z"
    }
   },
   "source": [
    "## add() Method\n",
    "\n",
    "The add() method adds each value in the DataFrame with a specified value.\n",
    "\n",
    "The specified value must be an object that can be added to the values of the DataFrame. It can be a constant number like the one in the example, or it can be a list-like object like a list [15, 20] or a tuple {\"points\": 380, \"total\": 22}, or a  Pandas Series or another DataFrame, that fits with the original DataFrame.\n",
    "\n",
    "Syntax\n",
    "```python\n",
    "dataframe.add(other, axis, level, fill_value)\n",
    "```\n",
    "\n",
    "Parameter - > Description\n",
    "\n",
    "other - > Required. A number, list of numbers, or another object with a data structure that fits with the original DataFrame.\n",
    "\n",
    "axis - > Optional, A definition that decides whether to compare by index or columns.\n",
    "\n",
    "          0 or 'index' means compare by index.\n",
    "\n",
    "          1 or 'columns' means compare by columns\n",
    "\n",
    "level - > Optional. A number or label that indicates where to compare.\n",
    "\n",
    "fill_value - > Optional. A number, or None. Specifies what to do with NaN values before the adding."
   ]
  },
  {
   "cell_type": "code",
   "execution_count": 52,
   "id": "excess-smart",
   "metadata": {
    "ExecuteTime": {
     "end_time": "2021-08-05T01:47:37.340186Z",
     "start_time": "2021-08-05T01:47:37.325158Z"
    }
   },
   "outputs": [
    {
     "name": "stdout",
     "output_type": "stream",
     "text": [
      "   points  total\n",
      "0     115    365\n",
      "1     135    355\n",
      "2     129    417\n"
     ]
    }
   ],
   "source": [
    "import pandas as pd\n",
    "\n",
    "data = {\n",
    "  \"points\": [100, 120, 114],\n",
    "  \"total\": [350, 340, 402]\n",
    "}\n",
    "\n",
    "df = pd.DataFrame(data)\n",
    "\n",
    "print(df.add(15))"
   ]
  },
  {
   "cell_type": "markdown",
   "id": "alone-working",
   "metadata": {
    "ExecuteTime": {
     "end_time": "2021-08-03T23:44:35.989726Z",
     "start_time": "2021-08-03T23:44:35.982687Z"
    }
   },
   "source": [
    "## add_prefix() Method\n",
    "\n",
    "The add_prefix() method inserts the specified value in front of the column label.\n",
    "\n",
    "To add a value after the column label, use the  add_suffix() method.\n",
    "\n",
    "Required. A string to add before the column labels\n",
    "\n",
    "## add_suffix() Method\n",
    "The add_suffix() method inserts the specified value at the end of each column label.\n",
    "\n",
    "To add a value before the column label, use the  add_prefix() method.\n",
    "\n",
    "Required. A string to add after the column labels\n"
   ]
  },
  {
   "cell_type": "code",
   "execution_count": 53,
   "id": "passing-mounting",
   "metadata": {
    "ExecuteTime": {
     "end_time": "2021-08-05T01:47:37.356187Z",
     "start_time": "2021-08-05T01:47:37.341156Z"
    }
   },
   "outputs": [
    {
     "name": "stdout",
     "output_type": "stream",
     "text": [
      "Index(['person_age', 'person_qualified'], dtype='object')\n",
      "Index(['age_after', 'qualified_after'], dtype='object')\n"
     ]
    }
   ],
   "source": [
    "import pandas as pd\n",
    "\n",
    "data = {\n",
    "  \"age\": [50, 40, 30, 40, 20, 10, 30],\n",
    "  \"qualified\": [True, False, False, False, False, True, True]\n",
    "}\n",
    "df = pd.DataFrame(data)\n",
    "\n",
    "newdf = df.add_prefix(\"person_\")\n",
    "print(newdf.columns)\n",
    "newdf = df.add_suffix(\"_after\")\n",
    "print(newdf.columns)"
   ]
  },
  {
   "cell_type": "markdown",
   "id": "nasty-teacher",
   "metadata": {
    "ExecuteTime": {
     "end_time": "2021-08-03T23:46:47.173611Z",
     "start_time": "2021-08-03T23:46:47.162612Z"
    }
   },
   "source": [
    "## agg() Method\n",
    "\n",
    "The agg() method allows you to apply a function or a list of function names to be executed along one of the axis of the DataFrame, default 0, which is the index (row) axis.\n",
    "\n",
    "Required. A function, function name, or a list of function names to apply to the DataFrame.\n",
    "\n",
    "axis\t   \n",
    "\n",
    "            0 , 'index' \n",
    "            \n",
    "            1  , 'columns'\t\n",
    "\n",
    "            Optional, Which axis to apply the function to. default 0.\n",
    "            \n",
    "args\t \tOptional, arguments to send into the function\n",
    "\n",
    "kwargs\t \tOptional, keyword arguments to send into the function\n"
   ]
  },
  {
   "cell_type": "code",
   "execution_count": 54,
   "id": "successful-hydrogen",
   "metadata": {
    "ExecuteTime": {
     "end_time": "2021-08-05T01:47:37.372186Z",
     "start_time": "2021-08-05T01:47:37.357158Z"
    }
   },
   "outputs": [
    {
     "name": "stdout",
     "output_type": "stream",
     "text": [
      "       x     y\n",
      "sum  120  1454\n",
      "       x     y\n",
      "sum  120  1454\n"
     ]
    }
   ],
   "source": [
    "data = {\n",
    "  \"x\": [50, 40, 30],\n",
    "  \"y\": [300, 1112, 42]\n",
    "}\n",
    "\n",
    "df = pd.DataFrame(data)\n",
    "\n",
    "x = df.agg([\"sum\"])\n",
    "\n",
    "print(x)\n",
    "\n",
    "x = df.aggregate([\"sum\"])\n",
    "\n",
    "print(x)"
   ]
  },
  {
   "cell_type": "markdown",
   "id": "severe-carbon",
   "metadata": {},
   "source": [
    "## all() Method\n",
    "The all() method returns one value for each column, True if ALL values in that column are True, otherwise False.\n",
    "\n",
    "By specifying the column axis (axis='columns'), the all() method returns True if ALL values in that axis are True.\n",
    "\n",
    "axis\t   \n",
    "\n",
    "            0 , 'index' \n",
    "            \n",
    "            1  , 'columns'\t\n",
    "\n",
    "            Optional, Which axis to apply the function to. default 0.\n",
    "            \n",
    "bool_only\t\n",
    "\n",
    "            None\n",
    "            \n",
    "            True\n",
    "            \n",
    "            False\t\n",
    "            \n",
    "            Optional. Specify whether to only check Boolean columns or not. Default None\n",
    "            \n",
    "skip_na\t\n",
    "\n",
    "            True\n",
    "            \n",
    "            False\t\n",
    "            \n",
    "            Optional, default True. Set to False if the result should NOT skip NULL values\n",
    "            \n",
    "       "
   ]
  },
  {
   "cell_type": "code",
   "execution_count": 55,
   "id": "emotional-restriction",
   "metadata": {
    "ExecuteTime": {
     "end_time": "2021-08-05T01:47:37.388187Z",
     "start_time": "2021-08-05T01:47:37.373183Z"
    }
   },
   "outputs": [
    {
     "name": "stdout",
     "output_type": "stream",
     "text": [
      "x    True\n",
      "y    True\n",
      "dtype: bool\n"
     ]
    }
   ],
   "source": [
    "print(df.all())"
   ]
  },
  {
   "cell_type": "markdown",
   "id": "crucial-intro",
   "metadata": {},
   "source": [
    "## any() Method\n",
    "The any() method returns one value for each column, True if ANY value in that column is True, otherwise False.\n",
    "\n",
    "By specifying the column axis (axis='columns'), the all() method returns True if ANY value in that axis is True."
   ]
  },
  {
   "cell_type": "code",
   "execution_count": 56,
   "id": "arctic-belief",
   "metadata": {
    "ExecuteTime": {
     "end_time": "2021-08-05T01:47:37.404190Z",
     "start_time": "2021-08-05T01:47:37.389202Z"
    }
   },
   "outputs": [
    {
     "name": "stdout",
     "output_type": "stream",
     "text": [
      "x    True\n",
      "y    True\n",
      "dtype: bool\n"
     ]
    }
   ],
   "source": [
    "print(df.any())"
   ]
  },
  {
   "cell_type": "markdown",
   "id": "interior-skirt",
   "metadata": {},
   "source": [
    "## append() Method\n",
    "\n",
    "The append() method appends a DataFrame-like object at the end of the current DataFrame.\n",
    "\n",
    "The append() method returns a new DataFrame object, no changes are done with the original DataFrame.\n",
    "\n",
    "\n",
    "dataframe.append(other, ignore_index, verify_integrity, sort)\n",
    "\n",
    "Required. Specifies an object to append.\n",
    "\n",
    "DataFrame\n",
    "\n",
    "Series\n",
    "\n",
    "Dictionary\n",
    "\n",
    "List\n",
    "\n",
    "ignore_index : Optional, default False. If True, the original indexes are ignored and will be replaced by 0, 1, 2 etc.\n",
    "    \n",
    "verify_itegrity : Optional, default False. If True, you will get an error if you have two or more rows with the same index.\n",
    "    \n",
    "sort : Optional, default False. If True, sorts columns\n",
    "\n",
    "\n",
    "append is same as Union on mysql.\n",
    "\n",
    "![](./i/append-queries-diagram.png)"
   ]
  },
  {
   "cell_type": "code",
   "execution_count": 57,
   "id": "extended-theory",
   "metadata": {
    "ExecuteTime": {
     "end_time": "2021-08-05T01:47:37.420187Z",
     "start_time": "2021-08-05T01:47:37.405158Z"
    }
   },
   "outputs": [
    {
     "data": {
      "text/html": [
       "<div>\n",
       "<style scoped>\n",
       "    .dataframe tbody tr th:only-of-type {\n",
       "        vertical-align: middle;\n",
       "    }\n",
       "\n",
       "    .dataframe tbody tr th {\n",
       "        vertical-align: top;\n",
       "    }\n",
       "\n",
       "    .dataframe thead th {\n",
       "        text-align: right;\n",
       "    }\n",
       "</style>\n",
       "<table border=\"1\" class=\"dataframe\">\n",
       "  <thead>\n",
       "    <tr style=\"text-align: right;\">\n",
       "      <th></th>\n",
       "      <th>age</th>\n",
       "      <th>qualified</th>\n",
       "    </tr>\n",
       "  </thead>\n",
       "  <tbody>\n",
       "    <tr>\n",
       "      <th>0</th>\n",
       "      <td>16</td>\n",
       "      <td>True</td>\n",
       "    </tr>\n",
       "    <tr>\n",
       "      <th>1</th>\n",
       "      <td>14</td>\n",
       "      <td>True</td>\n",
       "    </tr>\n",
       "    <tr>\n",
       "      <th>2</th>\n",
       "      <td>10</td>\n",
       "      <td>True</td>\n",
       "    </tr>\n",
       "    <tr>\n",
       "      <th>0</th>\n",
       "      <td>55</td>\n",
       "      <td>True</td>\n",
       "    </tr>\n",
       "    <tr>\n",
       "      <th>1</th>\n",
       "      <td>40</td>\n",
       "      <td>False</td>\n",
       "    </tr>\n",
       "  </tbody>\n",
       "</table>\n",
       "</div>"
      ],
      "text/plain": [
       "   age  qualified\n",
       "0   16       True\n",
       "1   14       True\n",
       "2   10       True\n",
       "0   55       True\n",
       "1   40      False"
      ]
     },
     "execution_count": 57,
     "metadata": {},
     "output_type": "execute_result"
    }
   ],
   "source": [
    "data1 = {\n",
    "  \"age\": [16, 14, 10],\n",
    "  \"qualified\": [True, True, True]\n",
    "}\n",
    "df1 = pd.DataFrame(data1)\n",
    "\n",
    "data2 = {\n",
    "  \"age\": [55, 40],\n",
    "  \"qualified\": [True, False]\n",
    "}\n",
    "df2 = pd.DataFrame(data2)\n",
    "\n",
    "newdf = df1.append(df2)\n",
    "newdf"
   ]
  },
  {
   "cell_type": "markdown",
   "id": "vulnerable-flood",
   "metadata": {
    "ExecuteTime": {
     "end_time": "2021-08-04T00:00:58.037986Z",
     "start_time": "2021-08-04T00:00:58.033954Z"
    }
   },
   "source": [
    "## applymap() Method\n",
    "\n",
    "The applymap() method allows you to apply one or more functions to the DataFrame object.\n",
    "\n",
    "func :  Required. A function to apply to the DataFrame.\n",
    "\n",
    "na_action : Optional, Whether to ignore NULL values or not. Default is to not ignore them\n"
   ]
  },
  {
   "cell_type": "code",
   "execution_count": 58,
   "id": "surrounded-phenomenon",
   "metadata": {
    "ExecuteTime": {
     "end_time": "2021-08-05T01:47:37.436186Z",
     "start_time": "2021-08-05T01:47:37.421193Z"
    }
   },
   "outputs": [
    {
     "name": "stdout",
     "output_type": "stream",
     "text": [
      "    name    city\n",
      "0  SALLY  LONDON\n",
      "1   MARY   TOKYO\n",
      "2   JOHN  MADRID\n"
     ]
    }
   ],
   "source": [
    "def make_big(x):\n",
    "    return x.upper()\n",
    "\n",
    "data = {\n",
    "  \"name\": [\"Sally\",\"Mary\",\"John\"],\n",
    "  \"city\": [\"London\", \"Tokyo\", \"Madrid\"]\n",
    "}\n",
    "\n",
    "df = pd.DataFrame(data)\n",
    "\n",
    "newdf = df.applymap(make_big)\n",
    "\n",
    "print(newdf)"
   ]
  },
  {
   "cell_type": "markdown",
   "id": "happy-monroe",
   "metadata": {},
   "source": [
    "## apply() Method\n",
    "\n",
    "The apply() method allows you to apply a function along one of the axis of the DataFrame, default 0, which is the index (row) axis.\n",
    "\n",
    "\n",
    "dataframe.apply(func, axis, raw, result_type, args, kwds)\n",
    "\n",
    "\n",
    "\n",
    "row : Optional, default False. Set to true if the row/column should be passed as an ndarray object\n",
    " \n",
    "result_type:  Optional, default None. Specifies how the result will be returned\n",
    "\n",
    "'expand'  , 'reduce' , 'broadcast' , None\n",
    "\n",
    "args : \tOptional, arguments to send into the function"
   ]
  },
  {
   "cell_type": "code",
   "execution_count": 59,
   "id": "indoor-mileage",
   "metadata": {
    "ExecuteTime": {
     "end_time": "2021-08-05T01:47:37.452187Z",
     "start_time": "2021-08-05T01:47:37.437186Z"
    }
   },
   "outputs": [
    {
     "name": "stdout",
     "output_type": "stream",
     "text": [
      "x     120\n",
      "y    1454\n",
      "dtype: int64\n"
     ]
    }
   ],
   "source": [
    "\n",
    "def calc_sum(x):\n",
    "    return x.sum()\n",
    "\n",
    "data = {\n",
    "  \"x\": [50, 40, 30],\n",
    "  \"y\": [300, 1112, 42]\n",
    "}\n",
    "\n",
    "df = pd.DataFrame(data)\n",
    "\n",
    "x = df.apply(calc_sum)\n",
    "\n",
    "print(x)"
   ]
  },
  {
   "cell_type": "markdown",
   "id": "elegant-updating",
   "metadata": {},
   "source": [
    "## assign() Method\n",
    "\n",
    "The assign() method adds a new column to an existing DataFrame.\n",
    "\n",
    "Required. The new column name(s) with values\n"
   ]
  },
  {
   "cell_type": "code",
   "execution_count": 60,
   "id": "increased-presentation",
   "metadata": {
    "ExecuteTime": {
     "end_time": "2021-08-05T01:47:37.468190Z",
     "start_time": "2021-08-05T01:47:37.453193Z"
    }
   },
   "outputs": [
    {
     "data": {
      "text/html": [
       "<div>\n",
       "<style scoped>\n",
       "    .dataframe tbody tr th:only-of-type {\n",
       "        vertical-align: middle;\n",
       "    }\n",
       "\n",
       "    .dataframe tbody tr th {\n",
       "        vertical-align: top;\n",
       "    }\n",
       "\n",
       "    .dataframe thead th {\n",
       "        text-align: right;\n",
       "    }\n",
       "</style>\n",
       "<table border=\"1\" class=\"dataframe\">\n",
       "  <thead>\n",
       "    <tr style=\"text-align: right;\">\n",
       "      <th></th>\n",
       "      <th>age</th>\n",
       "      <th>qualified</th>\n",
       "      <th>name</th>\n",
       "    </tr>\n",
       "  </thead>\n",
       "  <tbody>\n",
       "    <tr>\n",
       "      <th>0</th>\n",
       "      <td>16</td>\n",
       "      <td>True</td>\n",
       "      <td>Emil</td>\n",
       "    </tr>\n",
       "    <tr>\n",
       "      <th>1</th>\n",
       "      <td>14</td>\n",
       "      <td>True</td>\n",
       "      <td>Tobias</td>\n",
       "    </tr>\n",
       "    <tr>\n",
       "      <th>2</th>\n",
       "      <td>10</td>\n",
       "      <td>True</td>\n",
       "      <td>Linus</td>\n",
       "    </tr>\n",
       "  </tbody>\n",
       "</table>\n",
       "</div>"
      ],
      "text/plain": [
       "   age  qualified    name\n",
       "0   16       True    Emil\n",
       "1   14       True  Tobias\n",
       "2   10       True   Linus"
      ]
     },
     "execution_count": 60,
     "metadata": {},
     "output_type": "execute_result"
    }
   ],
   "source": [
    "data = {\n",
    "  \"age\": [16, 14, 10],\n",
    "  \"qualified\": [True, True, True]\n",
    "}\n",
    "df = pd.DataFrame(data)\n",
    "\n",
    "newdf = df.assign(name = [\"Emil\", \"Tobias\", \"Linus\"])\n",
    "\n",
    "newdf"
   ]
  },
  {
   "cell_type": "markdown",
   "id": "serious-democrat",
   "metadata": {
    "ExecuteTime": {
     "end_time": "2021-08-04T00:07:02.262631Z",
     "start_time": "2021-08-04T00:07:02.244629Z"
    }
   },
   "source": [
    "## astype() Method\n",
    "\n",
    "The astype() method returns a new DataFrame where the data types has been changed to the specified type.\n",
    "\n",
    "You can cast the entire DataFrame to one specific data type, or you can use a Python Dictionary to specify a data type for each column, like this:\n",
    "\n",
    "```json\n",
    "{\n",
    "  'Duration': 'int64',\n",
    "  'Pulse'   : 'float',\n",
    "  'Calories': 'int64'\n",
    "}\n",
    "```\n",
    "\n",
    "dataframe.astype(dtype, copy, errors)\n",
    "\n",
    "\n",
    "dtype  : data type, or a dictionary with data types for each column: Required. Specifies the data type\n",
    "\n",
    "\n",
    "copy  : True/False -> \tOptional. Default True. Specifies whether to return a copy (True), or to do the changes in the original DataFrame (False).\n",
    "\n",
    "\n",
    "errors : 'raise'|'ignore'\t: Optional. Default 'raise'. Specifies whether to ignore errors or raise an exception on error."
   ]
  },
  {
   "cell_type": "code",
   "execution_count": 61,
   "id": "dying-impact",
   "metadata": {
    "ExecuteTime": {
     "end_time": "2021-08-05T01:47:37.484186Z",
     "start_time": "2021-08-05T01:47:37.469156Z"
    }
   },
   "outputs": [
    {
     "data": {
      "text/html": [
       "<div>\n",
       "<style scoped>\n",
       "    .dataframe tbody tr th:only-of-type {\n",
       "        vertical-align: middle;\n",
       "    }\n",
       "\n",
       "    .dataframe tbody tr th {\n",
       "        vertical-align: top;\n",
       "    }\n",
       "\n",
       "    .dataframe thead th {\n",
       "        text-align: right;\n",
       "    }\n",
       "</style>\n",
       "<table border=\"1\" class=\"dataframe\">\n",
       "  <thead>\n",
       "    <tr style=\"text-align: right;\">\n",
       "      <th></th>\n",
       "      <th>age</th>\n",
       "      <th>qualified</th>\n",
       "    </tr>\n",
       "  </thead>\n",
       "  <tbody>\n",
       "    <tr>\n",
       "      <th>0</th>\n",
       "      <td>16</td>\n",
       "      <td>1</td>\n",
       "    </tr>\n",
       "    <tr>\n",
       "      <th>1</th>\n",
       "      <td>14</td>\n",
       "      <td>1</td>\n",
       "    </tr>\n",
       "    <tr>\n",
       "      <th>2</th>\n",
       "      <td>10</td>\n",
       "      <td>1</td>\n",
       "    </tr>\n",
       "  </tbody>\n",
       "</table>\n",
       "</div>"
      ],
      "text/plain": [
       "   age  qualified\n",
       "0   16          1\n",
       "1   14          1\n",
       "2   10          1"
      ]
     },
     "execution_count": 61,
     "metadata": {},
     "output_type": "execute_result"
    }
   ],
   "source": [
    "newdf = df.astype('int64')\n",
    "newdf"
   ]
  },
  {
   "cell_type": "markdown",
   "id": "dominican-patch",
   "metadata": {
    "ExecuteTime": {
     "end_time": "2021-08-04T00:11:03.473985Z",
     "start_time": "2021-08-04T00:11:03.457955Z"
    }
   },
   "source": [
    "## at Property\n",
    "\n",
    "The at property gets, or sets, the value of the specified position.\n",
    "\n",
    "Specify both row (index) and column (label) of the cell you want to return.\n",
    "\n",
    "dataframe.at[index, label)\n",
    "\n",
    "index : Required. A number specifying the row index\n",
    "\n",
    "label : Required. The label of the columns"
   ]
  },
  {
   "cell_type": "code",
   "execution_count": 62,
   "id": "emotional-continent",
   "metadata": {
    "ExecuteTime": {
     "end_time": "2021-08-05T01:47:37.500187Z",
     "start_time": "2021-08-05T01:47:37.485195Z"
    }
   },
   "outputs": [
    {
     "name": "stdout",
     "output_type": "stream",
     "text": [
      "Mary\n"
     ]
    }
   ],
   "source": [
    "data = {\n",
    "  \"firstname\": [\"Sally\", \"Mary\", \"John\"],\n",
    "  \"age\": [50, 40, 30],\n",
    "  \"qualified\": [True, False, False]\n",
    "}\n",
    "\n",
    "df = pd.DataFrame(data)\n",
    "print(df.at[1, \"firstname\"])"
   ]
  },
  {
   "cell_type": "markdown",
   "id": "yellow-transfer",
   "metadata": {},
   "source": [
    "## axes Property\n",
    "\n",
    "The axes property returns a list with the row axis labels, and the column axis labels, in that order.\n",
    "\n",
    "\n",
    "dataframe.axes\n"
   ]
  },
  {
   "cell_type": "code",
   "execution_count": 63,
   "id": "racial-airline",
   "metadata": {
    "ExecuteTime": {
     "end_time": "2021-08-05T01:47:37.516186Z",
     "start_time": "2021-08-05T01:47:37.501194Z"
    }
   },
   "outputs": [
    {
     "data": {
      "text/plain": [
       "[RangeIndex(start=0, stop=3, step=1),\n",
       " Index(['firstname', 'age', 'qualified'], dtype='object')]"
      ]
     },
     "execution_count": 63,
     "metadata": {},
     "output_type": "execute_result"
    }
   ],
   "source": [
    "df.axes"
   ]
  },
  {
   "cell_type": "markdown",
   "id": "common-cholesterol",
   "metadata": {
    "ExecuteTime": {
     "end_time": "2021-08-04T00:13:38.699830Z",
     "start_time": "2021-08-04T00:13:38.693830Z"
    }
   },
   "source": [
    "## bfill() Method\n",
    "\n",
    "The bfill() method replaces the NULL values with the values from the next row (or next column, if the axis parameter is set to 'columns').\n",
    "\n",
    "Syntax\n",
    "\n",
    "```python\n",
    "dataframe.bfill(axis, inplace, limit, downcast)\n",
    "```\n",
    "\n",
    "### axis: \n",
    "\n",
    "- 0 : 'index'\n",
    "\n",
    "- 1 : 'columns'\t\n",
    "\n",
    "Optional, default 0. The axis to fill the NULL values along\n",
    "\n",
    "\n",
    "###  inplace\tTrue Or False\t\n",
    "\n",
    "Optional, default False. If True: the replacing is done on the current DataFrame. If False: returns a copy where the replacing is done.\n",
    "\n",
    "### limit\tNumber\n",
    "\n",
    "Optional, default None. Specifies the maximum number of NULL values to fill\n",
    "\n",
    "### downcast\tDictionary\n",
    "\n",
    "Optional, a dictionary of values to fill for specific data types"
   ]
  },
  {
   "cell_type": "code",
   "execution_count": 64,
   "id": "atmospheric-given",
   "metadata": {
    "ExecuteTime": {
     "end_time": "2021-08-05T01:47:37.625187Z",
     "start_time": "2021-08-05T01:47:37.517158Z"
    }
   },
   "outputs": [
    {
     "name": "stdout",
     "output_type": "stream",
     "text": [
      "    Duration  Pulse  Maxpulse  Calories\n",
      "0         60    110       130     409.1\n",
      "1         60    117       145     479.0\n",
      "2         60    103       135     340.0\n",
      "3         45    109       175     282.4\n",
      "4         45    117       148     406.0\n",
      "5         60    102       127     300.0\n",
      "6         60    110       136     374.0\n",
      "7         45    104       134     253.3\n",
      "8         30    109       133     195.1\n",
      "9         60     98       124     269.0\n",
      "10        60    103       147     329.3\n",
      "11        60    100       120     250.7\n",
      "12        60    106       128     345.3\n",
      "13        60    104       132     379.3\n",
      "14        60     98       123     275.0\n",
      "15        60     98       120     215.2\n",
      "16        60    100       120     300.0\n",
      "17        45     90       112       NaN\n",
      "18        60    103       123     323.0\n",
      "19        45     97       125     243.0\n"
     ]
    },
    {
     "data": {
      "text/html": [
       "<div>\n",
       "<style scoped>\n",
       "    .dataframe tbody tr th:only-of-type {\n",
       "        vertical-align: middle;\n",
       "    }\n",
       "\n",
       "    .dataframe tbody tr th {\n",
       "        vertical-align: top;\n",
       "    }\n",
       "\n",
       "    .dataframe thead th {\n",
       "        text-align: right;\n",
       "    }\n",
       "</style>\n",
       "<table border=\"1\" class=\"dataframe\">\n",
       "  <thead>\n",
       "    <tr style=\"text-align: right;\">\n",
       "      <th></th>\n",
       "      <th>Duration</th>\n",
       "      <th>Pulse</th>\n",
       "      <th>Maxpulse</th>\n",
       "      <th>Calories</th>\n",
       "    </tr>\n",
       "  </thead>\n",
       "  <tbody>\n",
       "    <tr>\n",
       "      <th>0</th>\n",
       "      <td>60</td>\n",
       "      <td>110</td>\n",
       "      <td>130</td>\n",
       "      <td>409.1</td>\n",
       "    </tr>\n",
       "    <tr>\n",
       "      <th>1</th>\n",
       "      <td>60</td>\n",
       "      <td>117</td>\n",
       "      <td>145</td>\n",
       "      <td>479.0</td>\n",
       "    </tr>\n",
       "    <tr>\n",
       "      <th>2</th>\n",
       "      <td>60</td>\n",
       "      <td>103</td>\n",
       "      <td>135</td>\n",
       "      <td>340.0</td>\n",
       "    </tr>\n",
       "    <tr>\n",
       "      <th>3</th>\n",
       "      <td>45</td>\n",
       "      <td>109</td>\n",
       "      <td>175</td>\n",
       "      <td>282.4</td>\n",
       "    </tr>\n",
       "    <tr>\n",
       "      <th>4</th>\n",
       "      <td>45</td>\n",
       "      <td>117</td>\n",
       "      <td>148</td>\n",
       "      <td>406.0</td>\n",
       "    </tr>\n",
       "    <tr>\n",
       "      <th>5</th>\n",
       "      <td>60</td>\n",
       "      <td>102</td>\n",
       "      <td>127</td>\n",
       "      <td>300.0</td>\n",
       "    </tr>\n",
       "    <tr>\n",
       "      <th>6</th>\n",
       "      <td>60</td>\n",
       "      <td>110</td>\n",
       "      <td>136</td>\n",
       "      <td>374.0</td>\n",
       "    </tr>\n",
       "    <tr>\n",
       "      <th>7</th>\n",
       "      <td>45</td>\n",
       "      <td>104</td>\n",
       "      <td>134</td>\n",
       "      <td>253.3</td>\n",
       "    </tr>\n",
       "    <tr>\n",
       "      <th>8</th>\n",
       "      <td>30</td>\n",
       "      <td>109</td>\n",
       "      <td>133</td>\n",
       "      <td>195.1</td>\n",
       "    </tr>\n",
       "    <tr>\n",
       "      <th>9</th>\n",
       "      <td>60</td>\n",
       "      <td>98</td>\n",
       "      <td>124</td>\n",
       "      <td>269.0</td>\n",
       "    </tr>\n",
       "    <tr>\n",
       "      <th>10</th>\n",
       "      <td>60</td>\n",
       "      <td>103</td>\n",
       "      <td>147</td>\n",
       "      <td>329.3</td>\n",
       "    </tr>\n",
       "    <tr>\n",
       "      <th>11</th>\n",
       "      <td>60</td>\n",
       "      <td>100</td>\n",
       "      <td>120</td>\n",
       "      <td>250.7</td>\n",
       "    </tr>\n",
       "    <tr>\n",
       "      <th>12</th>\n",
       "      <td>60</td>\n",
       "      <td>106</td>\n",
       "      <td>128</td>\n",
       "      <td>345.3</td>\n",
       "    </tr>\n",
       "    <tr>\n",
       "      <th>13</th>\n",
       "      <td>60</td>\n",
       "      <td>104</td>\n",
       "      <td>132</td>\n",
       "      <td>379.3</td>\n",
       "    </tr>\n",
       "    <tr>\n",
       "      <th>14</th>\n",
       "      <td>60</td>\n",
       "      <td>98</td>\n",
       "      <td>123</td>\n",
       "      <td>275.0</td>\n",
       "    </tr>\n",
       "    <tr>\n",
       "      <th>15</th>\n",
       "      <td>60</td>\n",
       "      <td>98</td>\n",
       "      <td>120</td>\n",
       "      <td>215.2</td>\n",
       "    </tr>\n",
       "    <tr>\n",
       "      <th>16</th>\n",
       "      <td>60</td>\n",
       "      <td>100</td>\n",
       "      <td>120</td>\n",
       "      <td>300.0</td>\n",
       "    </tr>\n",
       "    <tr>\n",
       "      <th>17</th>\n",
       "      <td>45</td>\n",
       "      <td>90</td>\n",
       "      <td>112</td>\n",
       "      <td>323.0</td>\n",
       "    </tr>\n",
       "    <tr>\n",
       "      <th>18</th>\n",
       "      <td>60</td>\n",
       "      <td>103</td>\n",
       "      <td>123</td>\n",
       "      <td>323.0</td>\n",
       "    </tr>\n",
       "    <tr>\n",
       "      <th>19</th>\n",
       "      <td>45</td>\n",
       "      <td>97</td>\n",
       "      <td>125</td>\n",
       "      <td>243.0</td>\n",
       "    </tr>\n",
       "  </tbody>\n",
       "</table>\n",
       "</div>"
      ],
      "text/plain": [
       "    Duration  Pulse  Maxpulse  Calories\n",
       "0         60    110       130     409.1\n",
       "1         60    117       145     479.0\n",
       "2         60    103       135     340.0\n",
       "3         45    109       175     282.4\n",
       "4         45    117       148     406.0\n",
       "5         60    102       127     300.0\n",
       "6         60    110       136     374.0\n",
       "7         45    104       134     253.3\n",
       "8         30    109       133     195.1\n",
       "9         60     98       124     269.0\n",
       "10        60    103       147     329.3\n",
       "11        60    100       120     250.7\n",
       "12        60    106       128     345.3\n",
       "13        60    104       132     379.3\n",
       "14        60     98       123     275.0\n",
       "15        60     98       120     215.2\n",
       "16        60    100       120     300.0\n",
       "17        45     90       112     323.0\n",
       "18        60    103       123     323.0\n",
       "19        45     97       125     243.0"
      ]
     },
     "execution_count": 64,
     "metadata": {},
     "output_type": "execute_result"
    }
   ],
   "source": [
    "import pandas as pd\n",
    "\n",
    "df = pd.read_csv('https://www.w3schools.com/python/pandas/data.csv')\n",
    "\n",
    "print(df.head(20))\n",
    "\n",
    "newdf = df.bfill()\n",
    "newdf.head(20)"
   ]
  },
  {
   "cell_type": "markdown",
   "id": "dressed-degree",
   "metadata": {},
   "source": [
    "## bool() Method\n",
    "\n",
    "The bool() method returns a boolean value, True or False, reflecting the value of the DataFrame.\n",
    "\n",
    "This method will only work if the DataFrame has only 1 value, and that value must be either True or False, otherwise the bool() method will return an error.\n",
    "\n"
   ]
  },
  {
   "cell_type": "code",
   "execution_count": 65,
   "id": "american-boring",
   "metadata": {
    "ExecuteTime": {
     "end_time": "2021-08-05T01:47:37.640186Z",
     "start_time": "2021-08-05T01:47:37.626189Z"
    }
   },
   "outputs": [
    {
     "name": "stdout",
     "output_type": "stream",
     "text": [
      "True\n"
     ]
    }
   ],
   "source": [
    "data = {\n",
    "  \"myval\": [True]\n",
    "}\n",
    "\n",
    "df = pd.DataFrame(data)\n",
    "\n",
    "print(df.bool())"
   ]
  },
  {
   "cell_type": "markdown",
   "id": "psychological-distinction",
   "metadata": {},
   "source": [
    "## columns Property\n",
    "\n",
    "The columns property returns the label of each column in the DataFrame.\n",
    "\n"
   ]
  },
  {
   "cell_type": "code",
   "execution_count": 66,
   "id": "universal-completion",
   "metadata": {
    "ExecuteTime": {
     "end_time": "2021-08-05T01:47:37.656186Z",
     "start_time": "2021-08-05T01:47:37.641156Z"
    }
   },
   "outputs": [
    {
     "data": {
      "text/plain": [
       "Index(['myval'], dtype='object')"
      ]
     },
     "execution_count": 66,
     "metadata": {},
     "output_type": "execute_result"
    }
   ],
   "source": [
    "df.columns"
   ]
  },
  {
   "cell_type": "markdown",
   "id": "sharp-twenty",
   "metadata": {},
   "source": [
    "## combine_first() Method\n",
    "\n",
    "The combine_first() method combines two DataFrame objects, and uses a the value from the second DataFrame if the first has a NULL value."
   ]
  },
  {
   "cell_type": "code",
   "execution_count": 67,
   "id": "olympic-ministry",
   "metadata": {
    "ExecuteTime": {
     "end_time": "2021-08-05T01:47:37.672187Z",
     "start_time": "2021-08-05T01:47:37.657189Z"
    }
   },
   "outputs": [
    {
     "name": "stdout",
     "output_type": "stream",
     "text": [
      "     0  1\n",
      "0  1.0  2\n",
      "1  7.0  4\n"
     ]
    }
   ],
   "source": [
    "df1 = pd.DataFrame([[1, 2], [None, 4]])\n",
    "df2 = pd.DataFrame([[5, 6], [7, 8]])\n",
    "\n",
    "print(df1.combine_first(df2))"
   ]
  },
  {
   "cell_type": "code",
   "execution_count": 72,
   "id": "offensive-parameter",
   "metadata": {
    "ExecuteTime": {
     "end_time": "2021-08-05T01:48:05.510576Z",
     "start_time": "2021-08-05T01:48:05.507554Z"
    }
   },
   "outputs": [],
   "source": [
    "# pip install pandas --upgrade"
   ]
  },
  {
   "cell_type": "code",
   "execution_count": 73,
   "id": "disabled-partnership",
   "metadata": {
    "ExecuteTime": {
     "end_time": "2021-08-05T01:48:08.268993Z",
     "start_time": "2021-08-05T01:48:08.243986Z"
    }
   },
   "outputs": [
    {
     "name": "stdout",
     "output_type": "stream",
     "text": [
      "     A          B          C      \n",
      "  self other self other self other\n",
      "1  2.0  99.0  NaN   NaN  NaN   8.0\n",
      "2  NaN   NaN  6.0  81.0  NaN   NaN\n"
     ]
    }
   ],
   "source": [
    "import numpy as np\n",
    "df1 = pd.DataFrame({'A': [1, 2, 3],\n",
    "                    'B': [4, 5, 6],\n",
    "                    'C': [7, np.NaN, 9]})\n",
    "\n",
    "df2 = pd.DataFrame({'A': [1, 99, 3],\n",
    "                    'B': [4, 5, 81],\n",
    "                    'C': [7, 8, 9]})\n",
    "\n",
    "print(df1.compare(df2))"
   ]
  },
  {
   "cell_type": "markdown",
   "id": "fitted-jacket",
   "metadata": {},
   "source": [
    "## convert_dtypes() Method\n",
    "\n",
    "The convert_dtypes() method returns a new DataFrame where each column has been changed to the best possible data type.\n",
    "\n",
    "Syntax\n",
    "\n",
    "dataframe.convert_dtypes(infer_objects, convert_string, convert_integer, convert_boolean, convert_floating)\n",
    "\n",
    "\n",
    "\n",
    "infer_objects -> True|False  ->  Optional. Default True. Specifies whether to convert object dtypes to the best possible dtype or not.\n",
    "\n",
    "convert_string  ->  True|False  ->  Optional. Default True. Specifies whether to convert object dtypes to strings or not.\n",
    "\n",
    "convert_integer  ->  True|False  -> Optional. Default True. Specifies whether to convert object dtypes to integers or not.\n",
    "\n",
    "convert_boolean  ->  True|False  ->  Optional. Default True. Specifies whether to convert object dtypes to booleans or not.\n",
    "\n",
    "convert_floating   ->  True|False  -> Optional. Default True. Specifies whether to convert object dtypes to floating types or not."
   ]
  },
  {
   "cell_type": "code",
   "execution_count": 74,
   "id": "biblical-parliament",
   "metadata": {
    "ExecuteTime": {
     "end_time": "2021-08-05T01:48:09.750013Z",
     "start_time": "2021-08-05T01:48:09.739978Z"
    }
   },
   "outputs": [
    {
     "name": "stdout",
     "output_type": "stream",
     "text": [
      "Original dtypes:\n",
      "name         object\n",
      "qualified    object\n",
      "dtype: object\n",
      "-----------------------\n",
      "New dtypes:\n",
      "name          string\n",
      "qualified    boolean\n",
      "dtype: object\n"
     ]
    }
   ],
   "source": [
    "data = {\n",
    "  \"name\": [\"Sally\", \"Mary\", pd.NA],\n",
    "  \"qualified\": [True, False, pd.NA]\n",
    "}\n",
    "\n",
    "df = pd.DataFrame(data)\n",
    "\n",
    "print(\"Original dtypes:\")\n",
    "print(df.dtypes)\n",
    "\n",
    "newdf = df.convert_dtypes()\n",
    "print(\"-----------------------\")\n",
    "\n",
    "print(\"New dtypes:\")\n",
    "print(newdf.dtypes)"
   ]
  },
  {
   "cell_type": "markdown",
   "id": "later-directive",
   "metadata": {},
   "source": [
    "## count() Method\n",
    "\n",
    "The count() method counts the number of not empty values for each row, or column if you specify the axis parameter as axis='columns', and returns a Series object with the result for each row (or column).\n",
    "\n",
    "dataframe.count(axis, level, numeric_only)\n",
    "\n",
    "\n",
    "\n",
    "level\t-> Number | level name\t->  Optional, Specifies which level ( in a hierarchical multi index) to count along\n",
    "\n",
    "numeric_only\t->  'True' | 'False' ->  Optional, Default False, set to true if the count method should only count numeric values\n",
    "\n",
    "\n",
    "### Return Value\n",
    "A Series object with the count result for each row/column.\n",
    "\n",
    "If the level argument is specified, this method will return a DataFrame object.\n",
    "\n",
    "This function does NOT make changes to the original DataFrame object."
   ]
  },
  {
   "cell_type": "code",
   "execution_count": 75,
   "id": "missing-corner",
   "metadata": {
    "ExecuteTime": {
     "end_time": "2021-08-05T01:48:11.263842Z",
     "start_time": "2021-08-05T01:48:11.243839Z"
    }
   },
   "outputs": [
    {
     "name": "stdout",
     "output_type": "stream",
     "text": [
      "Duration    4\n",
      "Pulse       6\n",
      "dtype: int64\n"
     ]
    }
   ],
   "source": [
    "data = {\n",
    "  \"Duration\": [50, 40, None, None, 90, 20],\n",
    "  \"Pulse\": [109, 140, 110, 125, 138, 170]\n",
    "}\n",
    "\n",
    "df = pd.DataFrame(data)\n",
    "\n",
    "print(df.count())"
   ]
  },
  {
   "cell_type": "markdown",
   "id": "offensive-jerusalem",
   "metadata": {},
   "source": [
    "## cov() Method\n",
    "\n",
    "\n",
    "The cov() method finds the covariance of each column in a DataFrame.\n",
    "\n",
    "dataframe.cov(min_periods, ddof)\n",
    "\n",
    "min_periods: Optional. Specifies the minimum number of observations required to return a good enough result\n",
    "\n",
    "\n",
    "ddof : \tOptional. Specifies the delta degrees of freedom. Default 1"
   ]
  },
  {
   "cell_type": "code",
   "execution_count": 77,
   "id": "surprising-substitute",
   "metadata": {
    "ExecuteTime": {
     "end_time": "2021-08-05T01:50:58.455109Z",
     "start_time": "2021-08-05T01:50:58.435082Z"
    }
   },
   "outputs": [
    {
     "name": "stdout",
     "output_type": "stream",
     "text": [
      "     0    1    2\n",
      "0  4.5  0.0 -3.0\n",
      "1  0.0  0.0  0.0\n",
      "2 -3.0  0.0  2.0\n"
     ]
    }
   ],
   "source": [
    "import pandas as pd\n",
    "\n",
    "data = [[5, 6, 7], [2, 6, 9]]\n",
    "\n",
    "df = pd.DataFrame(data)\n",
    "\n",
    "print(df.cov())"
   ]
  },
  {
   "cell_type": "markdown",
   "id": "racial-canon",
   "metadata": {},
   "source": [
    "## copy() Method\n",
    "\n",
    "The copy() method returns a copy of the DataFrame.\n",
    "\n",
    "By default, the copy is a \"deep copy\" meaning that any changes made in the original DataFrame will NOT be reflected in the copy.\n",
    "\n",
    "Note: With the parameter deep=False, it is only the reference to the data (and index) that will be copied, and any changes made in the original will be reflected in the copy, and, any changes made in the copy will be reflected in the original.\n",
    "\n",
    "deep : True|False \tOptional. Default True. Specifies whether to make a deep or a shallow copy.\n",
    "By default (deep=True, any changes made in the original DataFrame will NOT be reflected in the copy.\n",
    "\n",
    "With the parameter deep=False, it is only the reference to the data (and index) that will be copied, and any changes made in the original will be reflected in the copy, and, any changes made in the copy will be reflected in the original."
   ]
  },
  {
   "cell_type": "code",
   "execution_count": 83,
   "id": "attached-maria",
   "metadata": {
    "ExecuteTime": {
     "end_time": "2021-08-05T01:53:33.305776Z",
     "start_time": "2021-08-05T01:53:33.290780Z"
    }
   },
   "outputs": [
    {
     "name": "stdout",
     "output_type": "stream",
     "text": [
      "    name  qualified\n",
      "0  Sally       True\n",
      "1   Mary      False\n",
      "2   John      False\n"
     ]
    }
   ],
   "source": [
    "\n",
    "data = {\n",
    "  \"name\": [\"Sally\", \"Mary\", \"John\"],\n",
    "  \"qualified\": [True, False, False]\n",
    "}\n",
    "\n",
    "df = pd.DataFrame(data)\n",
    "\n",
    "#Make a copy:\n",
    "\n",
    "newdf = df.copy()\n",
    "\n",
    "print(newdf)"
   ]
  },
  {
   "cell_type": "markdown",
   "id": "coupled-foundation",
   "metadata": {},
   "source": [
    "## describe() Method\n",
    "\n",
    "The describe() method returns description of the data in the DataFrame.\n",
    "\n",
    "If the DataFrame contains numerical data, the description contains these information for each column:\n",
    "\n",
    "- count - The number of not-empty values.\n",
    "- mean - The average (mean) value.\n",
    "- std - The standard deviation.\n",
    "- min - the minimum value.\n",
    "- 25% - The 25% percentile*.\n",
    "- 50% - The 50% percentile*.\n",
    "- 75% - The 75% percentile*.\n",
    "- max - the maximum value."
   ]
  },
  {
   "cell_type": "code",
   "execution_count": 100,
   "id": "commercial-spokesman",
   "metadata": {
    "ExecuteTime": {
     "end_time": "2021-08-05T02:04:29.136711Z",
     "start_time": "2021-08-05T02:04:29.125715Z"
    }
   },
   "outputs": [
    {
     "name": "stdout",
     "output_type": "stream",
     "text": [
      "               0          1          2\n",
      "count   3.000000   3.000000   3.000000\n",
      "mean   10.666667  17.666667   7.333333\n",
      "std     2.081666   2.516611   4.041452\n",
      "min     9.000000  15.000000   3.000000\n",
      "25%     9.500000  16.500000   5.500000\n",
      "50%    10.000000  18.000000   8.000000\n",
      "75%    11.500000  19.000000   9.500000\n",
      "max    13.000000  20.000000  11.000000\n"
     ]
    }
   ],
   "source": [
    "data = [[10, 18, 11], [13, 15, 8], [9, 20, 3]]\n",
    "\n",
    "df = pd.DataFrame(data)\n",
    "\n",
    "print(df.describe())"
   ]
  },
  {
   "cell_type": "markdown",
   "id": "taken-legislation",
   "metadata": {},
   "source": [
    "## div() Method\n",
    "\n",
    "The div() method divides each value in the DataFrame with a specified value.\n",
    "\n",
    "The specified value must be an object that can be divided with the values of the DataFrame. It can be a constant number like the one in the example, or it can be a list-like object like a list [10, 20] or a tuple {\"points\": 10, \"total\": 20}, or a  Pandas Series or another DataFrame, that fits with the original DataFrame.\n",
    "\n"
   ]
  },
  {
   "cell_type": "code",
   "execution_count": 106,
   "id": "ongoing-sauce",
   "metadata": {
    "ExecuteTime": {
     "end_time": "2021-08-05T02:07:05.680812Z",
     "start_time": "2021-08-05T02:07:05.669809Z"
    }
   },
   "outputs": [
    {
     "name": "stdout",
     "output_type": "stream",
     "text": [
      "   points  total\n",
      "0    10.0   35.0\n",
      "1    12.0   34.0\n",
      "2    11.4   40.2\n"
     ]
    }
   ],
   "source": [
    "data = {\n",
    "  \"points\": [100, 120, 114],\n",
    "  \"total\": [350, 340, 402]\n",
    "}\n",
    "\n",
    "df = pd.DataFrame(data)\n",
    "\n",
    "print(df.div(10))"
   ]
  },
  {
   "cell_type": "markdown",
   "id": "lyric-arctic",
   "metadata": {},
   "source": [
    "## dot() Method\n",
    "The dot() method multiplies each value from one DataFrame with the values from another DataFrame (or Series or array), and adds them together.\n",
    "\n",
    "Example Explained:\n",
    "    \n",
    "Assume you have these two DataFrame objects:\n",
    "\n",
    "[[1, 2], [3, 4]]\n",
    "\n",
    "[[5, 6], [7, 8]]\n",
    "\n",
    "Multiply the values from the first DataFrame with the values from the second DataFrame, one by one like this:\n",
    "\n",
    "1 * 5 = 5\n",
    "\n",
    "2 * 7 = 14\n",
    "\n",
    "Summarize the two products:\n",
    "\n",
    "5 + 14 = 19\n",
    "\n",
    "19 will be the first value in the result.\n",
    "\n",
    "Here you can see the calculation for each value in the result:\n",
    "\n",
    "(1 * 5) + (2 * 7) = 19\n",
    "(1 * 6) + (2 * 8) = 22\n",
    "(3 * 5) + (4 * 7) = 43\n",
    "(3 * 6) + (4 * 8) = 50\n",
    "\n",
    "which will result in a DataFrame object like this::\n",
    "\n",
    "[[19, 22], [43, 50]]"
   ]
  },
  {
   "cell_type": "code",
   "execution_count": 108,
   "id": "muslim-matthew",
   "metadata": {
    "ExecuteTime": {
     "end_time": "2021-08-05T02:07:54.302712Z",
     "start_time": "2021-08-05T02:07:54.287684Z"
    }
   },
   "outputs": [
    {
     "name": "stdout",
     "output_type": "stream",
     "text": [
      "    0   1\n",
      "0  19  22\n",
      "1  43  50\n"
     ]
    }
   ],
   "source": [
    "df1 = pd.DataFrame([[1, 2], [3, 4]])\n",
    "df2 = pd.DataFrame([[5, 6], [7, 8]])\n",
    "\n",
    "print(df1.dot(df2))"
   ]
  },
  {
   "cell_type": "markdown",
   "id": "occupational-armstrong",
   "metadata": {},
   "source": [
    "## drop() Method\n",
    "\n",
    "\n",
    "The drop() method removes the specified row or column.\n",
    "\n",
    "By specifying the column axis (axis='columns'), the drop() method removes the specified column.\n",
    "\n",
    "By specifying the row axis (axis='index'), the drop() method removes the specified row.\n",
    "\n",
    "\n",
    "dataframe.drop(labels, axis, index, columns, level, inplace., errors)\n",
    "\n",
    "\n",
    "\n"
   ]
  },
  {
   "cell_type": "code",
   "execution_count": 111,
   "id": "fabulous-microphone",
   "metadata": {
    "ExecuteTime": {
     "end_time": "2021-08-05T02:15:07.556360Z",
     "start_time": "2021-08-05T02:15:07.540388Z"
    }
   },
   "outputs": [
    {
     "name": "stdout",
     "output_type": "stream",
     "text": [
      "    name  age  qualified\n",
      "0  Sally   50       True\n",
      "1   Mary   40      False\n",
      "2   John   30      False\n",
      "    name  qualified\n",
      "0  Sally       True\n",
      "1   Mary      False\n",
      "2   John      False\n"
     ]
    }
   ],
   "source": [
    "data = {\n",
    "  \"name\": [\"Sally\", \"Mary\", \"John\"],\n",
    "  \"age\": [50, 40, 30],\n",
    "  \"qualified\": [True, False, False]\n",
    "}\n",
    "\n",
    "df = pd.DataFrame(data)\n",
    "\n",
    "print(df)\n",
    "\n",
    "\n",
    "newdf = df.drop(\"age\", axis='columns')\n",
    "\n",
    "print(newdf)"
   ]
  },
  {
   "cell_type": "markdown",
   "id": "conceptual-democrat",
   "metadata": {
    "ExecuteTime": {
     "end_time": "2021-08-05T02:15:34.542383Z",
     "start_time": "2021-08-05T02:15:34.525371Z"
    }
   },
   "source": [
    "## drop_duplicates() Method\n",
    "\n",
    "The drop_duplicates() method removes duplicate rows.\n",
    "\n",
    "Use the subset parameter to specify if any columns should not be considered when looking for duplicates.\n",
    "\n",
    "inplace: \n",
    "\n",
    "Optional, default False. If True: the removing is done on the current DataFrame. If False: returns a copy where the removing is done.\n"
   ]
  },
  {
   "cell_type": "code",
   "execution_count": 120,
   "id": "handed-spank",
   "metadata": {
    "ExecuteTime": {
     "end_time": "2021-08-05T02:17:49.997234Z",
     "start_time": "2021-08-05T02:17:49.980232Z"
    }
   },
   "outputs": [
    {
     "name": "stdout",
     "output_type": "stream",
     "text": [
      "    name  age  qualified\n",
      "0  Sally   50       True\n",
      "1   Mary   40      False\n",
      "2   John   30      False\n",
      "3   Mary   40      False\n"
     ]
    },
    {
     "data": {
      "text/html": [
       "<div>\n",
       "<style scoped>\n",
       "    .dataframe tbody tr th:only-of-type {\n",
       "        vertical-align: middle;\n",
       "    }\n",
       "\n",
       "    .dataframe tbody tr th {\n",
       "        vertical-align: top;\n",
       "    }\n",
       "\n",
       "    .dataframe thead th {\n",
       "        text-align: right;\n",
       "    }\n",
       "</style>\n",
       "<table border=\"1\" class=\"dataframe\">\n",
       "  <thead>\n",
       "    <tr style=\"text-align: right;\">\n",
       "      <th></th>\n",
       "      <th>name</th>\n",
       "      <th>age</th>\n",
       "      <th>qualified</th>\n",
       "    </tr>\n",
       "  </thead>\n",
       "  <tbody>\n",
       "    <tr>\n",
       "      <th>0</th>\n",
       "      <td>Sally</td>\n",
       "      <td>50</td>\n",
       "      <td>True</td>\n",
       "    </tr>\n",
       "    <tr>\n",
       "      <th>1</th>\n",
       "      <td>Mary</td>\n",
       "      <td>40</td>\n",
       "      <td>False</td>\n",
       "    </tr>\n",
       "    <tr>\n",
       "      <th>2</th>\n",
       "      <td>John</td>\n",
       "      <td>30</td>\n",
       "      <td>False</td>\n",
       "    </tr>\n",
       "  </tbody>\n",
       "</table>\n",
       "</div>"
      ],
      "text/plain": [
       "    name  age  qualified\n",
       "0  Sally   50       True\n",
       "1   Mary   40      False\n",
       "2   John   30      False"
      ]
     },
     "execution_count": 120,
     "metadata": {},
     "output_type": "execute_result"
    }
   ],
   "source": [
    "data = {\n",
    "  \"name\": [\"Sally\", \"Mary\", \"John\", \"Mary\"],\n",
    "  \"age\": [50, 40, 30, 40],\n",
    "  \"qualified\": [True, False, False, False]\n",
    "}\n",
    "\n",
    "df = pd.DataFrame(data)\n",
    "print(df)\n",
    "newdf = df.drop_duplicates()\n",
    "newdf"
   ]
  },
  {
   "cell_type": "markdown",
   "id": "acute-surprise",
   "metadata": {},
   "source": [
    "## drop() Method\n",
    "\n",
    "The droplevel() method removes the specified rows or columns.\n",
    "\n",
    "You can specify the row or column by using the index or label."
   ]
  },
  {
   "cell_type": "code",
   "execution_count": 127,
   "id": "champion-reducing",
   "metadata": {
    "ExecuteTime": {
     "end_time": "2021-08-05T02:20:07.240512Z",
     "start_time": "2021-08-05T02:20:07.230501Z"
    }
   },
   "outputs": [
    {
     "data": {
      "text/plain": [
       "(    name  age  qualified\n",
       " 0   Bill   50       True\n",
       " 1    Bob   50      False\n",
       " 2  Betty   30      False,\n",
       " '\\n',\n",
       "     name  age  qualified\n",
       " 0   Bill   50       True\n",
       " 2  Betty   30      False)"
      ]
     },
     "execution_count": 127,
     "metadata": {},
     "output_type": "execute_result"
    }
   ],
   "source": [
    "data = {\n",
    "  \"name\": [\"Bill\", \"Bob\", \"Betty\"],\n",
    "  \"age\": [50, 50, 30],\n",
    "  \"qualified\": [True, False, False]\n",
    "}\n",
    "df = pd.DataFrame(data)\n",
    "\n",
    "newdf = df.drop(1)\n",
    "df ,\"\\n\" ,newdf"
   ]
  },
  {
   "cell_type": "markdown",
   "id": "extensive-payday",
   "metadata": {
    "ExecuteTime": {
     "end_time": "2021-08-05T02:20:08.440888Z",
     "start_time": "2021-08-05T02:20:08.426035Z"
    }
   },
   "source": [
    "##  dropna() Method\n",
    "\n",
    "The dropna() method removes the rows that contains NULL values.\n",
    "\n",
    "The dropna() method returns a new DataFrame object unless the inplace parameter is set to True, in that case the dropna() method does the removing in the original DataFrame instead."
   ]
  },
  {
   "cell_type": "code",
   "execution_count": 130,
   "id": "willing-vocabulary",
   "metadata": {
    "ExecuteTime": {
     "end_time": "2021-08-05T02:22:27.131864Z",
     "start_time": "2021-08-05T02:22:26.963585Z"
    }
   },
   "outputs": [
    {
     "data": {
      "text/plain": [
       "(164, 169)"
      ]
     },
     "execution_count": 130,
     "metadata": {},
     "output_type": "execute_result"
    }
   ],
   "source": [
    "import pandas as pd\n",
    "\n",
    "df = pd.read_csv('https://www.w3schools.com/python/pandas/data.csv')\n",
    "# print(df)\n",
    "newdf = df.dropna()\n",
    "len(newdf) , len(df)"
   ]
  },
  {
   "cell_type": "markdown",
   "id": "civil-craps",
   "metadata": {},
   "source": [
    "## duplicated() Method\n",
    "\n",
    "The duplicated() method returns a Series with True and False values that describe which rows in the DataFrame are duplicated and not.\n",
    "\n",
    "Use the subset parameter to specify if any columns should not be considered when looking for duplicates."
   ]
  },
  {
   "cell_type": "code",
   "execution_count": 138,
   "id": "scientific-campus",
   "metadata": {
    "ExecuteTime": {
     "end_time": "2021-08-05T02:24:31.528955Z",
     "start_time": "2021-08-05T02:24:31.518340Z"
    }
   },
   "outputs": [
    {
     "data": {
      "text/plain": [
       "(0    False\n",
       " 1    False\n",
       " 2    False\n",
       " 3     True\n",
       " dtype: bool,\n",
       " 1)"
      ]
     },
     "execution_count": 138,
     "metadata": {},
     "output_type": "execute_result"
    }
   ],
   "source": [
    "data = {\n",
    "  \"name\": [\"Sally\", \"Mary\", \"John\", \"Mary\"],\n",
    "  \"age\": [50, 40, 30, 40]\n",
    "}\n",
    "\n",
    "df = pd.DataFrame(data)\n",
    "\n",
    "s = df.duplicated()\n",
    "s , df.duplicated().sum()"
   ]
  },
  {
   "cell_type": "markdown",
   "id": "upset-transcript",
   "metadata": {},
   "source": [
    "## dtypes Property\n",
    "The dtypes property returns data type of each column in the DataFrame.\n",
    "\n"
   ]
  },
  {
   "cell_type": "code",
   "execution_count": 139,
   "id": "alert-automation",
   "metadata": {
    "ExecuteTime": {
     "end_time": "2021-08-05T02:25:15.958712Z",
     "start_time": "2021-08-05T02:25:15.953682Z"
    }
   },
   "outputs": [
    {
     "name": "stdout",
     "output_type": "stream",
     "text": [
      "name    object\n",
      "age      int64\n",
      "dtype: object\n"
     ]
    }
   ],
   "source": [
    "print(df.dtypes)\n"
   ]
  },
  {
   "cell_type": "markdown",
   "id": "raising-doubt",
   "metadata": {},
   "source": [
    "## equals() Method\n",
    "\n",
    "The duplicated() method compares two DataFrames and returns True if they are equal, in both shape and content, otherwise False.\n",
    "\n",
    "Use the subset parameter to specify if any columns should not be considered when comparing."
   ]
  },
  {
   "cell_type": "code",
   "execution_count": 141,
   "id": "innocent-soundtrack",
   "metadata": {
    "ExecuteTime": {
     "end_time": "2021-08-05T02:26:20.906523Z",
     "start_time": "2021-08-05T02:26:20.888543Z"
    }
   },
   "outputs": [
    {
     "name": "stdout",
     "output_type": "stream",
     "text": [
      "True\n"
     ]
    }
   ],
   "source": [
    "data1 = {\n",
    "  \"name\": [\"Sally\", \"Mary\", \"John\", \"Mary\"],\n",
    "  \"age\": [50, 40, 30, 40]\n",
    "}\n",
    "df1 = pd.DataFrame(data)\n",
    "\n",
    "data2 = {\n",
    "  \"name\": [\"Sally\", \"Mary\", \"John\", \"Mary\"],\n",
    "  \"age\": [50, 40, 30, 40]\n",
    "}\n",
    "df2 = pd.DataFrame(data)\n",
    "\n",
    "print(df1.equals(df2))"
   ]
  },
  {
   "cell_type": "markdown",
   "id": "precise-tobacco",
   "metadata": {
    "ExecuteTime": {
     "end_time": "2021-08-05T02:32:04.869622Z",
     "start_time": "2021-08-05T02:32:04.861651Z"
    }
   },
   "source": [
    "## ffill() Method\n",
    "\n",
    "The ffill() method replaces the NULL values with the value from the previous row (or previous column, if the axis parameter is set to 'columns').\n",
    "\n"
   ]
  },
  {
   "cell_type": "code",
   "execution_count": 143,
   "id": "liked-chambers",
   "metadata": {
    "ExecuteTime": {
     "end_time": "2021-08-05T02:27:15.758062Z",
     "start_time": "2021-08-05T02:27:15.430149Z"
    }
   },
   "outputs": [
    {
     "name": "stdout",
     "output_type": "stream",
     "text": [
      "    Duration  Pulse  Maxpulse  Calories\n",
      "0         60    110       130     409.1\n",
      "1         60    117       145     479.0\n",
      "2         60    103       135     340.0\n",
      "3         45    109       175     282.4\n",
      "4         45    117       148     406.0\n",
      "5         60    102       127     300.0\n",
      "6         60    110       136     374.0\n",
      "7         45    104       134     253.3\n",
      "8         30    109       133     195.1\n",
      "9         60     98       124     269.0\n",
      "10        60    103       147     329.3\n",
      "11        60    100       120     250.7\n",
      "12        60    106       128     345.3\n",
      "13        60    104       132     379.3\n",
      "14        60     98       123     275.0\n",
      "15        60     98       120     215.2\n",
      "16        60    100       120     300.0\n",
      "17        45     90       112       NaN\n",
      "18        60    103       123     323.0\n",
      "19        45     97       125     243.0\n",
      "    Duration  Pulse  Maxpulse  Calories\n",
      "0         60    110       130     409.1\n",
      "1         60    117       145     479.0\n",
      "2         60    103       135     340.0\n",
      "3         45    109       175     282.4\n",
      "4         45    117       148     406.0\n",
      "5         60    102       127     300.0\n",
      "6         60    110       136     374.0\n",
      "7         45    104       134     253.3\n",
      "8         30    109       133     195.1\n",
      "9         60     98       124     269.0\n",
      "10        60    103       147     329.3\n",
      "11        60    100       120     250.7\n",
      "12        60    106       128     345.3\n",
      "13        60    104       132     379.3\n",
      "14        60     98       123     275.0\n",
      "15        60     98       120     215.2\n",
      "16        60    100       120     300.0\n",
      "17        45     90       112     300.0\n",
      "18        60    103       123     323.0\n",
      "19        45     97       125     243.0\n"
     ]
    }
   ],
   "source": [
    "df = pd.read_csv('https://www.w3schools.com/python/pandas/data.csv')\n",
    "print(df.head(20))\n",
    "newdf = df.ffill()\n",
    "print(newdf.head(20))"
   ]
  },
  {
   "cell_type": "markdown",
   "id": "pursuant-scene",
   "metadata": {},
   "source": [
    "## fillna() Method\n",
    "\n",
    "\n",
    "The fillna() method replaces the NULL values with a specified value.\n",
    "\n",
    "The fillna() method returns a new DataFrame object unless the inplace parameter is set to True, in that case the fillna() method does the replacing in the original DataFrame instead.\n",
    "\n"
   ]
  },
  {
   "cell_type": "markdown",
   "id": "digital-tanzania",
   "metadata": {
    "ExecuteTime": {
     "end_time": "2021-08-05T02:28:20.504286Z",
     "start_time": "2021-08-05T02:28:20.095638Z"
    }
   },
   "source": [
    "df = pd.read_csv('https://www.w3schools.com/python/pandas/data.csv')\n",
    "print(df.head(20))\n",
    "newdf = df.fillna(22222222)\n",
    "print(newdf.head(20))"
   ]
  },
  {
   "cell_type": "markdown",
   "id": "genetic-requirement",
   "metadata": {},
   "source": [
    "## get() Method\n",
    "\n",
    "\n",
    "The get() method returns the specified column(s) from the DataFrame.\n",
    "\n",
    "If you specify only one column, the return value is a Pandas Series object.\n",
    "\n",
    "To specify more than one column, specify the columns inside an array. The result will be a new DataFrame object."
   ]
  },
  {
   "cell_type": "code",
   "execution_count": 148,
   "id": "simplified-auction",
   "metadata": {
    "ExecuteTime": {
     "end_time": "2021-08-05T02:29:40.328088Z",
     "start_time": "2021-08-05T02:29:40.310220Z"
    }
   },
   "outputs": [
    {
     "name": "stdout",
     "output_type": "stream",
     "text": [
      "0    Sally\n",
      "1     Mary\n",
      "2     John\n",
      "Name: firstname, dtype: object\n"
     ]
    },
    {
     "data": {
      "text/plain": [
       "(  firstname  age  qualified\n",
       " 0     Sally   50       True\n",
       " 1      Mary   40      False\n",
       " 2      John   30      False,\n",
       " None)"
      ]
     },
     "execution_count": 148,
     "metadata": {},
     "output_type": "execute_result"
    }
   ],
   "source": [
    "data = {\n",
    "  \"firstname\": [\"Sally\", \"Mary\", \"John\"],\n",
    "  \"age\": [50, 40, 30],\n",
    "  \"qualified\": [True, False, False]\n",
    "}\n",
    "\n",
    "df = pd.DataFrame(data)\n",
    "df.head() , print(df.get(\"firstname\"))"
   ]
  },
  {
   "cell_type": "markdown",
   "id": "unusual-facial",
   "metadata": {
    "ExecuteTime": {
     "end_time": "2021-08-05T02:29:27.135819Z",
     "start_time": "2021-08-05T02:29:27.125441Z"
    }
   },
   "source": [
    "## groupby() Method\n",
    "The groupby() method allows you to group your data and execute functions on these groups.\n",
    "\n"
   ]
  },
  {
   "cell_type": "code",
   "execution_count": 149,
   "id": "sensitive-austin",
   "metadata": {
    "ExecuteTime": {
     "end_time": "2021-08-05T02:30:00.110998Z",
     "start_time": "2021-08-05T02:30:00.103617Z"
    }
   },
   "outputs": [
    {
     "name": "stdout",
     "output_type": "stream",
     "text": [
      "         co2\n",
      "car         \n",
      "Ford   100.5\n",
      "Skoda   97.0\n"
     ]
    }
   ],
   "source": [
    "data = {\n",
    "  'co2': [95, 90, 99, 104, 105, 94, 99, 104],\n",
    "  'model': ['Citigo', 'Fabia', 'Fiesta', 'Rapid', 'Focus', 'Mondeo', 'Octavia', 'B-Max'],\n",
    "  'car': ['Skoda', 'Skoda', 'Ford', 'Skoda', 'Ford', 'Ford', 'Skoda', 'Ford']\n",
    "}\n",
    "\n",
    "df = pd.DataFrame(data)\n",
    "\n",
    "print(df.groupby([\"car\"]).mean())"
   ]
  },
  {
   "cell_type": "markdown",
   "id": "friendly-basics",
   "metadata": {},
   "source": [
    "## index Property\n",
    "\n",
    "The index property returns the index information of the DataFrame.\n",
    "\n",
    "The index information contains the labels of the rows. If the rows has NOT named indexes, the index property returns a RangeIndex object with the start, stop, and step values.\n",
    "\n"
   ]
  },
  {
   "cell_type": "code",
   "execution_count": 152,
   "id": "differential-lodge",
   "metadata": {
    "ExecuteTime": {
     "end_time": "2021-08-05T02:32:42.405787Z",
     "start_time": "2021-08-05T02:32:42.142488Z"
    }
   },
   "outputs": [
    {
     "name": "stdout",
     "output_type": "stream",
     "text": [
      "RangeIndex(start=0, stop=169, step=1)\n"
     ]
    }
   ],
   "source": [
    "df = pd.read_csv('https://www.w3schools.com/python/pandas/data.csv')\n",
    "print(df.index)\n"
   ]
  },
  {
   "cell_type": "markdown",
   "id": "developmental-unknown",
   "metadata": {},
   "source": [
    "## isna() Method\n",
    "\n",
    "The isna() method returns a DataFrame object where all the values are replaced with a Boolean value True for NA (not-a -number) values, and otherwise False.\n",
    "\n"
   ]
  },
  {
   "cell_type": "code",
   "execution_count": 155,
   "id": "technical-disposition",
   "metadata": {
    "ExecuteTime": {
     "end_time": "2021-08-05T02:33:58.104660Z",
     "start_time": "2021-08-05T02:33:57.921323Z"
    }
   },
   "outputs": [
    {
     "data": {
      "text/plain": [
       "Duration    0\n",
       "Pulse       0\n",
       "Maxpulse    0\n",
       "Calories    5\n",
       "dtype: int64"
      ]
     },
     "execution_count": 155,
     "metadata": {},
     "output_type": "execute_result"
    }
   ],
   "source": [
    "df = pd.read_csv('https://www.w3schools.com/python/pandas/data.csv')\n",
    "df.isna().sum()"
   ]
  },
  {
   "cell_type": "markdown",
   "id": "legendary-savage",
   "metadata": {},
   "source": [
    "## isnull() Method\n",
    "The isnull() method returns a DataFrame object where all the values are replaced with a Boolean value True for NULL values, and otherwise False.\n",
    "\n"
   ]
  },
  {
   "cell_type": "code",
   "execution_count": 156,
   "id": "aquatic-footwear",
   "metadata": {
    "ExecuteTime": {
     "end_time": "2021-08-05T02:34:07.106305Z",
     "start_time": "2021-08-05T02:34:06.854615Z"
    }
   },
   "outputs": [
    {
     "data": {
      "text/plain": [
       "Duration    0\n",
       "Pulse       0\n",
       "Maxpulse    0\n",
       "Calories    5\n",
       "dtype: int64"
      ]
     },
     "execution_count": 156,
     "metadata": {},
     "output_type": "execute_result"
    }
   ],
   "source": [
    "df = pd.read_csv('https://www.w3schools.com/python/pandas/data.csv')\n",
    "df.isnull().sum()"
   ]
  },
  {
   "cell_type": "markdown",
   "id": "warming-petite",
   "metadata": {},
   "source": [
    "## keys() Method\n",
    "\n",
    "The keys() method returns a Index object with the column names.\n",
    "\n",
    "The Index object is like a list, with the column names as list items."
   ]
  },
  {
   "cell_type": "code",
   "execution_count": 157,
   "id": "nominated-intellectual",
   "metadata": {
    "ExecuteTime": {
     "end_time": "2021-08-05T02:35:24.171016Z",
     "start_time": "2021-08-05T02:35:24.160691Z"
    }
   },
   "outputs": [
    {
     "name": "stdout",
     "output_type": "stream",
     "text": [
      "Index(['firstname', 'age'], dtype='object')\n"
     ]
    }
   ],
   "source": [
    "data = {\n",
    "  \"firstname\": [\"Sally\", \"Mary\", \"John\"],\n",
    "  \"age\": [50, 40, 30]\n",
    "}\n",
    "\n",
    "df = pd.DataFrame(data)\n",
    "\n",
    "print(df.keys())"
   ]
  },
  {
   "cell_type": "markdown",
   "id": "paperback-mills",
   "metadata": {},
   "source": [
    "## mask() Method\n",
    "\n",
    "The mask() method replaces the values of the rows where the condition evaluates to True.\n",
    "\n",
    "The mask() method is the opposite of the The where() method.\n",
    "\n"
   ]
  },
  {
   "cell_type": "code",
   "execution_count": 159,
   "id": "urban-placement",
   "metadata": {
    "ExecuteTime": {
     "end_time": "2021-08-05T02:37:25.896265Z",
     "start_time": "2021-08-05T02:37:25.876264Z"
    }
   },
   "outputs": [
    {
     "data": {
      "text/plain": [
       "(    age  qualified\n",
       " 0   NaN        NaN\n",
       " 1   NaN        NaN\n",
       " 2  30.0        0.0\n",
       " 3   NaN        NaN\n",
       " 4  20.0        0.0\n",
       " 5  10.0        1.0\n",
       " 6  30.0        1.0,\n",
       "    age  qualified\n",
       " 0   50       True\n",
       " 1   40      False\n",
       " 2   30      False\n",
       " 3   40      False\n",
       " 4   20      False\n",
       " 5   10       True\n",
       " 6   30       True)"
      ]
     },
     "execution_count": 159,
     "metadata": {},
     "output_type": "execute_result"
    }
   ],
   "source": [
    "data = {\n",
    "  \"age\": [50, 40, 30, 40, 20, 10, 30],\n",
    "  \"qualified\": [True, False, False, False, False, True, True]\n",
    "}\n",
    "df = pd.DataFrame(data)\n",
    "\n",
    "newdf = df.mask(df[\"age\"] > 30)\n",
    "\n",
    "newdf , df"
   ]
  },
  {
   "cell_type": "code",
   "execution_count": 162,
   "id": "graduate-bottom",
   "metadata": {
    "ExecuteTime": {
     "end_time": "2021-08-05T02:38:55.687925Z",
     "start_time": "2021-08-05T02:38:55.670926Z"
    }
   },
   "outputs": [
    {
     "data": {
      "text/plain": [
       "(      A     B   C     D\n",
       " 0  12.0   7.0  20  14.0\n",
       " 1   4.0   2.0  16   3.0\n",
       " 2   5.0  54.0  11   NaN\n",
       " 3   NaN   3.0   3   2.0\n",
       " 4   1.0   NaN   8   6.0,\n",
       "         A       B   C       D\n",
       " 0    12.0     7.0  20    14.0\n",
       " 1     4.0     2.0  16     3.0\n",
       " 2     5.0    54.0  11  1000.0\n",
       " 3  1000.0     3.0   3     2.0\n",
       " 4     1.0  1000.0   8     6.0)"
      ]
     },
     "execution_count": 162,
     "metadata": {},
     "output_type": "execute_result"
    }
   ],
   "source": [
    "# Creating the dataframe \n",
    "df = pd.DataFrame({\"A\":[12, 4, 5, None, 1],\n",
    "                   \"B\":[7, 2, 54, 3, None],\n",
    "                   \"C\":[20, 16, 11, 3, 8],\n",
    "                   \"D\":[14, 3, None, 2, 6]})\n",
    "  \n",
    "# replace the Na values with 1000\n",
    "df , df.mask(df.isna(), 1000)"
   ]
  },
  {
   "cell_type": "markdown",
   "id": "innocent-laptop",
   "metadata": {},
   "source": [
    "## min() , max() , mod(3) , mul(3)"
   ]
  },
  {
   "cell_type": "code",
   "execution_count": 176,
   "id": "heard-underwear",
   "metadata": {
    "ExecuteTime": {
     "end_time": "2021-08-05T02:46:49.375268Z",
     "start_time": "2021-08-05T02:46:49.358286Z"
    }
   },
   "outputs": [
    {
     "name": "stdout",
     "output_type": "stream",
     "text": [
      "    0   1   2\n",
      "0  10  18  11\n",
      "1  13  15   8\n",
      "2   9  20   3\n"
     ]
    },
    {
     "data": {
      "text/plain": [
       "(0     9\n",
       " 1    15\n",
       " 2     3\n",
       " dtype: int64,\n",
       " 0    13\n",
       " 1    20\n",
       " 2    11\n",
       " dtype: int64,\n",
       "    0  1  2\n",
       " 0  1  0  2\n",
       " 1  1  0  2\n",
       " 2  0  2  0,\n",
       "     0   1   2\n",
       " 0  30  54  33\n",
       " 1  39  45  24\n",
       " 2  27  60   9,\n",
       " 0    32\n",
       " 1    53\n",
       " 2    22\n",
       " dtype: int64,\n",
       "    0   1  2\n",
       " 0  5  13  6\n",
       " 1  8  10  3\n",
       " 2  4  15 -2)"
      ]
     },
     "execution_count": 176,
     "metadata": {},
     "output_type": "execute_result"
    }
   ],
   "source": [
    "data = [[10, 18, 11], [13, 15, 8], [9, 20, 3]]\n",
    "\n",
    "df = pd.DataFrame(data)\n",
    "print(df)\n",
    "df.min() , df.max() , df.mod(3) , df.mul(3) ,df.sum()  , df.sub(5)"
   ]
  },
  {
   "cell_type": "markdown",
   "id": "balanced-announcement",
   "metadata": {},
   "source": [
    "##  ndim Property\n",
    "\n",
    "The ndim property returns the number of dimension of the DataFrame.\n",
    "\n"
   ]
  },
  {
   "cell_type": "code",
   "execution_count": 182,
   "id": "prescription-friendship",
   "metadata": {
    "ExecuteTime": {
     "end_time": "2021-08-05T02:49:19.989576Z",
     "start_time": "2021-08-05T02:49:19.886628Z"
    }
   },
   "outputs": [
    {
     "name": "stdout",
     "output_type": "stream",
     "text": [
      "2\n"
     ]
    }
   ],
   "source": [
    "data = pd.read_csv('https://www.w3schools.com/python/pandas/data.csv')\n",
    "print(df.ndim)\n"
   ]
  },
  {
   "cell_type": "markdown",
   "id": "graduate-broadcasting",
   "metadata": {
    "ExecuteTime": {
     "end_time": "2021-08-05T02:43:47.110831Z",
     "start_time": "2021-08-05T02:43:47.093804Z"
    }
   },
   "source": [
    "## notnull() Method\n",
    "\n",
    "The notnull() method returns a DataFrame object where all the values are replaced with a Boolean value True for NOT NULL values, and otherwise False.\n",
    "\n"
   ]
  },
  {
   "cell_type": "code",
   "execution_count": 172,
   "id": "metallic-jackson",
   "metadata": {
    "ExecuteTime": {
     "end_time": "2021-08-05T02:44:01.217232Z",
     "start_time": "2021-08-05T02:44:01.201232Z"
    }
   },
   "outputs": [
    {
     "data": {
      "text/plain": [
       "Duration    169\n",
       "Pulse       169\n",
       "Maxpulse    169\n",
       "Calories    164\n",
       "dtype: int64"
      ]
     },
     "execution_count": 172,
     "metadata": {},
     "output_type": "execute_result"
    }
   ],
   "source": [
    "data.notnull().sum()"
   ]
  },
  {
   "cell_type": "markdown",
   "id": "protected-fundamentals",
   "metadata": {},
   "source": [
    "## nunique() Method\n",
    "\n",
    "The nunique() method returns the number of unique values for each column.\n",
    "\n",
    "By specifying the column axis (axis='columns'), the nunique() method searches column-wise and returns the number of unique values for each row.\n",
    "\n"
   ]
  },
  {
   "cell_type": "code",
   "execution_count": 173,
   "id": "aggressive-index",
   "metadata": {
    "ExecuteTime": {
     "end_time": "2021-08-05T02:44:23.600039Z",
     "start_time": "2021-08-05T02:44:23.583028Z"
    }
   },
   "outputs": [
    {
     "data": {
      "text/plain": [
       "Duration     16\n",
       "Pulse        47\n",
       "Maxpulse     57\n",
       "Calories    142\n",
       "dtype: int64"
      ]
     },
     "execution_count": 173,
     "metadata": {},
     "output_type": "execute_result"
    }
   ],
   "source": [
    "df.nunique()"
   ]
  },
  {
   "cell_type": "markdown",
   "id": "forced-future",
   "metadata": {},
   "source": [
    "## value_counts\n",
    "\n",
    "Returns the number of unique rows\n",
    "\n",
    "## values\t\n",
    "\n",
    "Returns the DataFrame as a NumPy array\n",
    "\n",
    "\n",
    "The values property returns all values in the DataFrame.\n",
    "\n",
    "The return value is a 2-dimensional array with one array for each row."
   ]
  },
  {
   "cell_type": "code",
   "execution_count": 185,
   "id": "consistent-binary",
   "metadata": {
    "ExecuteTime": {
     "end_time": "2021-08-05T02:50:01.517668Z",
     "start_time": "2021-08-05T02:50:01.505638Z"
    }
   },
   "outputs": [
    {
     "data": {
      "text/plain": [
       "Duration  Pulse  Maxpulse  Calories\n",
       "60        100    120       300.0       3\n",
       "          102    127       300.0       2\n",
       "          109    153       387.6       2\n",
       "          111    151       368.5       2\n",
       "45        100    120       225.3       2\n",
       "                                      ..\n",
       "          118    141       341.0       1\n",
       "          122    149       335.4       1\n",
       "          123    152       321.0       1\n",
       "          129    103       242.0       1\n",
       "300       108    143       1500.2      1\n",
       "Length: 157, dtype: int64"
      ]
     },
     "execution_count": 185,
     "metadata": {},
     "output_type": "execute_result"
    }
   ],
   "source": [
    "data.value_counts()"
   ]
  },
  {
   "cell_type": "code",
   "execution_count": 186,
   "id": "recreational-proposal",
   "metadata": {
    "ExecuteTime": {
     "end_time": "2021-08-05T02:50:03.164086Z",
     "start_time": "2021-08-05T02:50:03.142087Z"
    }
   },
   "outputs": [
    {
     "data": {
      "text/plain": [
       "array([[  60. ,  110. ,  130. ,  409.1],\n",
       "       [  60. ,  117. ,  145. ,  479. ],\n",
       "       [  60. ,  103. ,  135. ,  340. ],\n",
       "       [  45. ,  109. ,  175. ,  282.4],\n",
       "       [  45. ,  117. ,  148. ,  406. ],\n",
       "       [  60. ,  102. ,  127. ,  300. ],\n",
       "       [  60. ,  110. ,  136. ,  374. ],\n",
       "       [  45. ,  104. ,  134. ,  253.3],\n",
       "       [  30. ,  109. ,  133. ,  195.1],\n",
       "       [  60. ,   98. ,  124. ,  269. ],\n",
       "       [  60. ,  103. ,  147. ,  329.3],\n",
       "       [  60. ,  100. ,  120. ,  250.7],\n",
       "       [  60. ,  106. ,  128. ,  345.3],\n",
       "       [  60. ,  104. ,  132. ,  379.3],\n",
       "       [  60. ,   98. ,  123. ,  275. ],\n",
       "       [  60. ,   98. ,  120. ,  215.2],\n",
       "       [  60. ,  100. ,  120. ,  300. ],\n",
       "       [  45. ,   90. ,  112. ,    nan],\n",
       "       [  60. ,  103. ,  123. ,  323. ],\n",
       "       [  45. ,   97. ,  125. ,  243. ],\n",
       "       [  60. ,  108. ,  131. ,  364.2],\n",
       "       [  45. ,  100. ,  119. ,  282. ],\n",
       "       [  60. ,  130. ,  101. ,  300. ],\n",
       "       [  45. ,  105. ,  132. ,  246. ],\n",
       "       [  60. ,  102. ,  126. ,  334.5],\n",
       "       [  60. ,  100. ,  120. ,  250. ],\n",
       "       [  60. ,   92. ,  118. ,  241. ],\n",
       "       [  60. ,  103. ,  132. ,    nan],\n",
       "       [  60. ,  100. ,  132. ,  280. ],\n",
       "       [  60. ,  102. ,  129. ,  380.3],\n",
       "       [  60. ,   92. ,  115. ,  243. ],\n",
       "       [  45. ,   90. ,  112. ,  180.1],\n",
       "       [  60. ,  101. ,  124. ,  299. ],\n",
       "       [  60. ,   93. ,  113. ,  223. ],\n",
       "       [  60. ,  107. ,  136. ,  361. ],\n",
       "       [  60. ,  114. ,  140. ,  415. ],\n",
       "       [  60. ,  102. ,  127. ,  300. ],\n",
       "       [  60. ,  100. ,  120. ,  300. ],\n",
       "       [  60. ,  100. ,  120. ,  300. ],\n",
       "       [  45. ,  104. ,  129. ,  266. ],\n",
       "       [  45. ,   90. ,  112. ,  180.1],\n",
       "       [  60. ,   98. ,  126. ,  286. ],\n",
       "       [  60. ,  100. ,  122. ,  329.4],\n",
       "       [  60. ,  111. ,  138. ,  400. ],\n",
       "       [  60. ,  111. ,  131. ,  397. ],\n",
       "       [  60. ,   99. ,  119. ,  273. ],\n",
       "       [  60. ,  109. ,  153. ,  387.6],\n",
       "       [  45. ,  111. ,  136. ,  300. ],\n",
       "       [  45. ,  108. ,  129. ,  298. ],\n",
       "       [  60. ,  111. ,  139. ,  397.6],\n",
       "       [  60. ,  107. ,  136. ,  380.2],\n",
       "       [  80. ,  123. ,  146. ,  643.1],\n",
       "       [  60. ,  106. ,  130. ,  263. ],\n",
       "       [  60. ,  118. ,  151. ,  486. ],\n",
       "       [  30. ,  136. ,  175. ,  238. ],\n",
       "       [  60. ,  121. ,  146. ,  450.7],\n",
       "       [  60. ,  118. ,  121. ,  413. ],\n",
       "       [  45. ,  115. ,  144. ,  305. ],\n",
       "       [  20. ,  153. ,  172. ,  226.4],\n",
       "       [  45. ,  123. ,  152. ,  321. ],\n",
       "       [ 210. ,  108. ,  160. , 1376. ],\n",
       "       [ 160. ,  110. ,  137. , 1034.4],\n",
       "       [ 160. ,  109. ,  135. ,  853. ],\n",
       "       [  45. ,  118. ,  141. ,  341. ],\n",
       "       [  20. ,  110. ,  130. ,  131.4],\n",
       "       [ 180. ,   90. ,  130. ,  800.4],\n",
       "       [ 150. ,  105. ,  135. ,  873.4],\n",
       "       [ 150. ,  107. ,  130. ,  816. ],\n",
       "       [  20. ,  106. ,  136. ,  110.4],\n",
       "       [ 300. ,  108. ,  143. , 1500.2],\n",
       "       [ 150. ,   97. ,  129. , 1115. ],\n",
       "       [  60. ,  109. ,  153. ,  387.6],\n",
       "       [  90. ,  100. ,  127. ,  700. ],\n",
       "       [ 150. ,   97. ,  127. ,  953.2],\n",
       "       [  45. ,  114. ,  146. ,  304. ],\n",
       "       [  90. ,   98. ,  125. ,  563.2],\n",
       "       [  45. ,  105. ,  134. ,  251. ],\n",
       "       [  45. ,  110. ,  141. ,  300. ],\n",
       "       [ 120. ,  100. ,  130. ,  500.4],\n",
       "       [ 270. ,  100. ,  131. , 1729. ],\n",
       "       [  30. ,  159. ,  182. ,  319.2],\n",
       "       [  45. ,  149. ,  169. ,  344. ],\n",
       "       [  30. ,  103. ,  139. ,  151.1],\n",
       "       [ 120. ,  100. ,  130. ,  500. ],\n",
       "       [  45. ,  100. ,  120. ,  225.3],\n",
       "       [  30. ,  151. ,  170. ,  300. ],\n",
       "       [  45. ,  102. ,  136. ,  234. ],\n",
       "       [ 120. ,  100. ,  157. , 1000.1],\n",
       "       [  45. ,  129. ,  103. ,  242. ],\n",
       "       [  20. ,   83. ,  107. ,   50.3],\n",
       "       [ 180. ,  101. ,  127. ,  600.1],\n",
       "       [  45. ,  107. ,  137. ,    nan],\n",
       "       [  30. ,   90. ,  107. ,  105.3],\n",
       "       [  15. ,   80. ,  100. ,   50.5],\n",
       "       [  20. ,  150. ,  171. ,  127.4],\n",
       "       [  20. ,  151. ,  168. ,  229.4],\n",
       "       [  30. ,   95. ,  128. ,  128.2],\n",
       "       [  25. ,  152. ,  168. ,  244.2],\n",
       "       [  30. ,  109. ,  131. ,  188.2],\n",
       "       [  90. ,   93. ,  124. ,  604.1],\n",
       "       [  20. ,   95. ,  112. ,   77.7],\n",
       "       [  90. ,   90. ,  110. ,  500. ],\n",
       "       [  90. ,   90. ,  100. ,  500. ],\n",
       "       [  90. ,   90. ,  100. ,  500.4],\n",
       "       [  30. ,   92. ,  108. ,   92.7],\n",
       "       [  30. ,   93. ,  128. ,  124. ],\n",
       "       [ 180. ,   90. ,  120. ,  800.3],\n",
       "       [  30. ,   90. ,  120. ,   86.2],\n",
       "       [  90. ,   90. ,  120. ,  500.3],\n",
       "       [ 210. ,  137. ,  184. , 1860.4],\n",
       "       [  60. ,  102. ,  124. ,  325.2],\n",
       "       [  45. ,  107. ,  124. ,  275. ],\n",
       "       [  15. ,  124. ,  139. ,  124.2],\n",
       "       [  45. ,  100. ,  120. ,  225.3],\n",
       "       [  60. ,  108. ,  131. ,  367.6],\n",
       "       [  60. ,  108. ,  151. ,  351.7],\n",
       "       [  60. ,  116. ,  141. ,  443. ],\n",
       "       [  60. ,   97. ,  122. ,  277.4],\n",
       "       [  60. ,  105. ,  125. ,    nan],\n",
       "       [  60. ,  103. ,  124. ,  332.7],\n",
       "       [  30. ,  112. ,  137. ,  193.9],\n",
       "       [  45. ,  100. ,  120. ,  100.7],\n",
       "       [  60. ,  119. ,  169. ,  336.7],\n",
       "       [  60. ,  107. ,  127. ,  344.9],\n",
       "       [  60. ,  111. ,  151. ,  368.5],\n",
       "       [  60. ,   98. ,  122. ,  271. ],\n",
       "       [  60. ,   97. ,  124. ,  275.3],\n",
       "       [  60. ,  109. ,  127. ,  382. ],\n",
       "       [  90. ,   99. ,  125. ,  466.4],\n",
       "       [  60. ,  114. ,  151. ,  384. ],\n",
       "       [  60. ,  104. ,  134. ,  342.5],\n",
       "       [  60. ,  107. ,  138. ,  357.5],\n",
       "       [  60. ,  103. ,  133. ,  335. ],\n",
       "       [  60. ,  106. ,  132. ,  327.5],\n",
       "       [  60. ,  103. ,  136. ,  339. ],\n",
       "       [  20. ,  136. ,  156. ,  189. ],\n",
       "       [  45. ,  117. ,  143. ,  317.7],\n",
       "       [  45. ,  115. ,  137. ,  318. ],\n",
       "       [  45. ,  113. ,  138. ,  308. ],\n",
       "       [  20. ,  141. ,  162. ,  222.4],\n",
       "       [  60. ,  108. ,  135. ,  390. ],\n",
       "       [  60. ,   97. ,  127. ,    nan],\n",
       "       [  45. ,  100. ,  120. ,  250.4],\n",
       "       [  45. ,  122. ,  149. ,  335.4],\n",
       "       [  60. ,  136. ,  170. ,  470.2],\n",
       "       [  45. ,  106. ,  126. ,  270.8],\n",
       "       [  60. ,  107. ,  136. ,  400. ],\n",
       "       [  60. ,  112. ,  146. ,  361.9],\n",
       "       [  30. ,  103. ,  127. ,  185. ],\n",
       "       [  60. ,  110. ,  150. ,  409.4],\n",
       "       [  60. ,  106. ,  134. ,  343. ],\n",
       "       [  60. ,  109. ,  129. ,  353.2],\n",
       "       [  60. ,  109. ,  138. ,  374. ],\n",
       "       [  30. ,  150. ,  167. ,  275.8],\n",
       "       [  60. ,  105. ,  128. ,  328. ],\n",
       "       [  60. ,  111. ,  151. ,  368.5],\n",
       "       [  60. ,   97. ,  131. ,  270.4],\n",
       "       [  60. ,  100. ,  120. ,  270.4],\n",
       "       [  60. ,  114. ,  150. ,  382.8],\n",
       "       [  30. ,   80. ,  120. ,  240.9],\n",
       "       [  30. ,   85. ,  120. ,  250.4],\n",
       "       [  45. ,   90. ,  130. ,  260.4],\n",
       "       [  45. ,   95. ,  130. ,  270. ],\n",
       "       [  45. ,  100. ,  140. ,  280.9],\n",
       "       [  60. ,  105. ,  140. ,  290.8],\n",
       "       [  60. ,  110. ,  145. ,  300. ],\n",
       "       [  60. ,  115. ,  145. ,  310.2],\n",
       "       [  75. ,  120. ,  150. ,  320.4],\n",
       "       [  75. ,  125. ,  150. ,  330.4]])"
      ]
     },
     "execution_count": 186,
     "metadata": {},
     "output_type": "execute_result"
    }
   ],
   "source": [
    "data.values"
   ]
  },
  {
   "cell_type": "markdown",
   "id": "differential-timer",
   "metadata": {},
   "source": [
    "##  pipe() Method\n",
    "\n",
    "The pipe() method allows you to apply one or more functions to the DataFrame object.\n",
    "\n"
   ]
  },
  {
   "cell_type": "code",
   "execution_count": 187,
   "id": "knowing-labor",
   "metadata": {
    "ExecuteTime": {
     "end_time": "2021-08-05T02:50:25.276780Z",
     "start_time": "2021-08-05T02:50:25.270782Z"
    }
   },
   "outputs": [
    {
     "name": "stdout",
     "output_type": "stream",
     "text": [
      "    name  age\n",
      "0  Sally   10\n",
      "1   Mary   20\n",
      "2   John   30\n"
     ]
    }
   ],
   "source": [
    "def change_age(x):\n",
    "  x[\"age\"]=[10, 20, 30]\n",
    "  return x\n",
    "\n",
    "data = {\n",
    "  \"name\": [\"Sally\", \"Mary\", \"John\"],\n",
    "  \"age\": [50, 40, 30]\n",
    "}\n",
    "\n",
    "df = pd.DataFrame(data)\n",
    "df.pipe(change_age)\n",
    "print(df)"
   ]
  },
  {
   "cell_type": "markdown",
   "id": "missing-rings",
   "metadata": {
    "ExecuteTime": {
     "end_time": "2021-08-05T02:50:40.141119Z",
     "start_time": "2021-08-05T02:50:40.126550Z"
    }
   },
   "source": [
    "## pop() Method\n",
    "\n",
    "The pop() method removes the specified column from the DataFrame.\n",
    "\n",
    "The pop() method returns the removed columns as a Pandas Series object."
   ]
  },
  {
   "cell_type": "code",
   "execution_count": 190,
   "id": "aboriginal-valuation",
   "metadata": {
    "ExecuteTime": {
     "end_time": "2021-08-05T02:50:55.258111Z",
     "start_time": "2021-08-05T02:50:55.238082Z"
    }
   },
   "outputs": [
    {
     "name": "stdout",
     "output_type": "stream",
     "text": [
      "    name  qualified\n",
      "0  Sally       True\n",
      "1   Mary      False\n",
      "2   John      False\n"
     ]
    }
   ],
   "source": [
    "data = {\n",
    "  \"name\": [\"Sally\", \"Mary\", \"John\"],\n",
    "  \"age\": [50, 40, 30],\n",
    "  \"qualified\": [True, False, False]\n",
    "}\n",
    "\n",
    "df = pd.DataFrame(data)\n",
    "\n",
    "#Remove column:\n",
    "\n",
    "df.pop('age')\n",
    "\n",
    "print(df)"
   ]
  },
  {
   "cell_type": "markdown",
   "id": "continental-plane",
   "metadata": {
    "ExecuteTime": {
     "end_time": "2021-08-05T02:51:07.748599Z",
     "start_time": "2021-08-05T02:51:07.742600Z"
    }
   },
   "source": [
    "## quantile() Method\n",
    "\n",
    "The quantile() method calculates the quantile of the values in a given axis. Default axis is row.\n",
    "\n",
    "By specifying the column axis (axis='columns'), the quantile() method calculates the quantile column-wise and returns the mean value for each row."
   ]
  },
  {
   "cell_type": "code",
   "execution_count": 193,
   "id": "iraqi-portland",
   "metadata": {
    "ExecuteTime": {
     "end_time": "2021-08-05T02:51:26.307466Z",
     "start_time": "2021-08-05T02:51:26.303435Z"
    }
   },
   "outputs": [
    {
     "name": "stdout",
     "output_type": "stream",
     "text": [
      "0    2.8\n",
      "1    1.6\n",
      "2    1.6\n",
      "Name: 0.2, dtype: float64\n"
     ]
    }
   ],
   "source": [
    "data = [[1, 1, 2], [6, 4, 2], [4, 2, 1], [4, 2, 3]]\n",
    "\n",
    "df = pd.DataFrame(data)\n",
    "\n",
    "print(df.quantile(0.2))"
   ]
  },
  {
   "cell_type": "markdown",
   "id": "accessible-birmingham",
   "metadata": {},
   "source": [
    "## query() Method\n",
    "\n",
    "The query() method allows you to query the DataFrame.\n",
    "\n",
    "The query() method takes a query expression as a string parameter, which has to evaluate to either True of False.\n",
    "\n",
    "It returns the DataFrame where the result is True according to the query expression."
   ]
  },
  {
   "cell_type": "code",
   "execution_count": 195,
   "id": "pregnant-hammer",
   "metadata": {
    "ExecuteTime": {
     "end_time": "2021-08-05T02:51:51.478190Z",
     "start_time": "2021-08-05T02:51:51.460163Z"
    }
   },
   "outputs": [
    {
     "name": "stdout",
     "output_type": "stream",
     "text": [
      "    name  age\n",
      "0  Sally   50\n",
      "1   Mary   40\n"
     ]
    }
   ],
   "source": [
    "data = {\n",
    "  \"name\": [\"Sally\", \"Mary\", \"John\"],\n",
    "  \"age\": [50, 40, 30]\n",
    "}\n",
    "\n",
    "df = pd.DataFrame(data)\n",
    "\n",
    "print(df.query('age > 35'))"
   ]
  },
  {
   "cell_type": "markdown",
   "id": "special-updating",
   "metadata": {},
   "source": [
    "## reindex() Method\n",
    "\n",
    "The reindex() method allows you to change the row indexes, and the columns labels.\n",
    "\n",
    "Note: The values are set to NaN if the new index is not the same as the old."
   ]
  },
  {
   "cell_type": "code",
   "execution_count": 196,
   "id": "suspended-universe",
   "metadata": {
    "ExecuteTime": {
     "end_time": "2021-08-05T02:52:27.382169Z",
     "start_time": "2021-08-05T02:52:27.362169Z"
    }
   },
   "outputs": [
    {
     "name": "stdout",
     "output_type": "stream",
     "text": [
      "        age  qualified\n",
      "Sally    50       True\n",
      "Mary     40      False\n",
      "John     30      False\n",
      "Monica   40      False\n",
      "        age qualified\n",
      "Robert  NaN       NaN\n",
      "Cindy   NaN       NaN\n",
      "Chloe   NaN       NaN\n",
      "Pete    NaN       NaN\n"
     ]
    }
   ],
   "source": [
    "data = {\n",
    "  \"age\": [50, 40, 30, 40],\n",
    "  \"qualified\": [True, False, False, False]\n",
    "}\n",
    "idx = [\"Sally\", \"Mary\", \"John\", \"Monica\"]\n",
    "df = pd.DataFrame(data, index=idx)\n",
    "print(df)\n",
    "newidx = [\"Robert\", \"Cindy\", \"Chloe\", \"Pete\"]\n",
    "newdf = df.reindex(newidx)\n",
    "print(newdf)"
   ]
  },
  {
   "cell_type": "markdown",
   "id": "published-classic",
   "metadata": {},
   "source": [
    "## rename() Method\n",
    "\n",
    "The rename() method allows you to change the row indexes, and the columns labels.\n",
    "\n"
   ]
  },
  {
   "cell_type": "code",
   "execution_count": 197,
   "id": "white-galaxy",
   "metadata": {
    "ExecuteTime": {
     "end_time": "2021-08-05T02:53:13.778060Z",
     "start_time": "2021-08-05T02:53:13.759057Z"
    }
   },
   "outputs": [
    {
     "name": "stdout",
     "output_type": "stream",
     "text": [
      "         age  qualified\n",
      "Pete      50       True\n",
      "Patrick   40      False\n",
      "Paula     30      False\n"
     ]
    }
   ],
   "source": [
    "data = {\n",
    "\"age\": [50, 40, 30],\n",
    "\"qualified\": [True, False, False]\n",
    "}\n",
    "idx = [\"Sally\", \"Mary\", \"John\"]\n",
    "df = pd.DataFrame(data, index=idx)\n",
    "\n",
    "newdf = df.rename({\"Sally\": \"Pete\", \"Mary\": \"Patrick\", \"John\": \"Paula\"})\n",
    "\n",
    "print(newdf)"
   ]
  },
  {
   "cell_type": "markdown",
   "id": "alike-variation",
   "metadata": {},
   "source": [
    "## replace() Method\n",
    "\n",
    "The replace() method replaces the specified value with another specified value.\n",
    "\n",
    "The replace() method searches the entire DataFrame and replaces every case of the specified value."
   ]
  },
  {
   "cell_type": "code",
   "execution_count": 199,
   "id": "atomic-savage",
   "metadata": {
    "ExecuteTime": {
     "end_time": "2021-08-05T02:54:01.264025Z",
     "start_time": "2021-08-05T02:54:01.247055Z"
    }
   },
   "outputs": [
    {
     "data": {
      "text/plain": [
       "(    name  age  qualified\n",
       " 0   Bill   60       True\n",
       " 1    Bob   60      False\n",
       " 2  Betty   30      False,\n",
       "     name  age  qualified\n",
       " 0   Bill   50       True\n",
       " 1    Bob   50      False\n",
       " 2  Betty   30      False)"
      ]
     },
     "execution_count": 199,
     "metadata": {},
     "output_type": "execute_result"
    }
   ],
   "source": [
    "data = {\n",
    "  \"name\": [\"Bill\", \"Bob\", \"Betty\"],\n",
    "  \"age\": [50, 50, 30],\n",
    "  \"qualified\": [True, False, False]\n",
    "}\n",
    "df = pd.DataFrame(data)\n",
    "\n",
    "newdf = df.replace(50, 60)\n",
    "\n",
    "newdf , df"
   ]
  },
  {
   "cell_type": "code",
   "execution_count": 200,
   "id": "different-intensity",
   "metadata": {
    "ExecuteTime": {
     "end_time": "2021-08-05T02:55:42.503216Z",
     "start_time": "2021-08-05T02:55:42.487184Z"
    }
   },
   "outputs": [],
   "source": [
    "## reset_index() Method\n",
    "\n"
   ]
  },
  {
   "cell_type": "code",
   "execution_count": 203,
   "id": "proprietary-fashion",
   "metadata": {
    "ExecuteTime": {
     "end_time": "2021-08-05T02:56:17.765302Z",
     "start_time": "2021-08-05T02:56:17.744304Z"
    }
   },
   "outputs": [
    {
     "data": {
      "text/html": [
       "<div>\n",
       "<style scoped>\n",
       "    .dataframe tbody tr th:only-of-type {\n",
       "        vertical-align: middle;\n",
       "    }\n",
       "\n",
       "    .dataframe tbody tr th {\n",
       "        vertical-align: top;\n",
       "    }\n",
       "\n",
       "    .dataframe thead th {\n",
       "        text-align: right;\n",
       "    }\n",
       "</style>\n",
       "<table border=\"1\" class=\"dataframe\">\n",
       "  <thead>\n",
       "    <tr style=\"text-align: right;\">\n",
       "      <th></th>\n",
       "      <th>name</th>\n",
       "      <th>age</th>\n",
       "      <th>qualified</th>\n",
       "    </tr>\n",
       "  </thead>\n",
       "  <tbody>\n",
       "    <tr>\n",
       "      <th>X</th>\n",
       "      <td>Sally</td>\n",
       "      <td>50</td>\n",
       "      <td>True</td>\n",
       "    </tr>\n",
       "    <tr>\n",
       "      <th>Y</th>\n",
       "      <td>Mary</td>\n",
       "      <td>40</td>\n",
       "      <td>False</td>\n",
       "    </tr>\n",
       "    <tr>\n",
       "      <th>Z</th>\n",
       "      <td>John</td>\n",
       "      <td>30</td>\n",
       "      <td>False</td>\n",
       "    </tr>\n",
       "  </tbody>\n",
       "</table>\n",
       "</div>"
      ],
      "text/plain": [
       "    name  age  qualified\n",
       "X  Sally   50       True\n",
       "Y   Mary   40      False\n",
       "Z   John   30      False"
      ]
     },
     "execution_count": 203,
     "metadata": {},
     "output_type": "execute_result"
    }
   ],
   "source": [
    "data = {\n",
    "  \"name\": [\"Sally\", \"Mary\", \"John\"],\n",
    "  \"age\": [50, 40, 30],\n",
    "  \"qualified\": [True, False, False]\n",
    "}\n",
    "idx = [\"X\", \"Y\", \"Z\"]\n",
    "\n",
    "df = pd.DataFrame(data, index=idx)\n",
    "df"
   ]
  },
  {
   "cell_type": "code",
   "execution_count": 204,
   "id": "enormous-craps",
   "metadata": {
    "ExecuteTime": {
     "end_time": "2021-08-05T02:56:24.265311Z",
     "start_time": "2021-08-05T02:56:24.247303Z"
    }
   },
   "outputs": [
    {
     "data": {
      "text/html": [
       "<div>\n",
       "<style scoped>\n",
       "    .dataframe tbody tr th:only-of-type {\n",
       "        vertical-align: middle;\n",
       "    }\n",
       "\n",
       "    .dataframe tbody tr th {\n",
       "        vertical-align: top;\n",
       "    }\n",
       "\n",
       "    .dataframe thead th {\n",
       "        text-align: right;\n",
       "    }\n",
       "</style>\n",
       "<table border=\"1\" class=\"dataframe\">\n",
       "  <thead>\n",
       "    <tr style=\"text-align: right;\">\n",
       "      <th></th>\n",
       "      <th>index</th>\n",
       "      <th>name</th>\n",
       "      <th>age</th>\n",
       "      <th>qualified</th>\n",
       "    </tr>\n",
       "  </thead>\n",
       "  <tbody>\n",
       "    <tr>\n",
       "      <th>0</th>\n",
       "      <td>X</td>\n",
       "      <td>Sally</td>\n",
       "      <td>50</td>\n",
       "      <td>True</td>\n",
       "    </tr>\n",
       "    <tr>\n",
       "      <th>1</th>\n",
       "      <td>Y</td>\n",
       "      <td>Mary</td>\n",
       "      <td>40</td>\n",
       "      <td>False</td>\n",
       "    </tr>\n",
       "    <tr>\n",
       "      <th>2</th>\n",
       "      <td>Z</td>\n",
       "      <td>John</td>\n",
       "      <td>30</td>\n",
       "      <td>False</td>\n",
       "    </tr>\n",
       "  </tbody>\n",
       "</table>\n",
       "</div>"
      ],
      "text/plain": [
       "  index   name  age  qualified\n",
       "0     X  Sally   50       True\n",
       "1     Y   Mary   40      False\n",
       "2     Z   John   30      False"
      ]
     },
     "execution_count": 204,
     "metadata": {},
     "output_type": "execute_result"
    }
   ],
   "source": [
    "\n",
    "newdf = df.reset_index()\n",
    "\n",
    "newdf"
   ]
  },
  {
   "cell_type": "markdown",
   "id": "administrative-cemetery",
   "metadata": {},
   "source": [
    "## sort_index() Method\n",
    "\n",
    "The sort_index() method sorts the DataFrame by the index.\n",
    "\n"
   ]
  },
  {
   "cell_type": "code",
   "execution_count": 213,
   "id": "organizational-frank",
   "metadata": {
    "ExecuteTime": {
     "end_time": "2021-08-05T02:59:17.238600Z",
     "start_time": "2021-08-05T02:59:17.228600Z"
    }
   },
   "outputs": [
    {
     "data": {
      "text/html": [
       "<div>\n",
       "<style scoped>\n",
       "    .dataframe tbody tr th:only-of-type {\n",
       "        vertical-align: middle;\n",
       "    }\n",
       "\n",
       "    .dataframe tbody tr th {\n",
       "        vertical-align: top;\n",
       "    }\n",
       "\n",
       "    .dataframe thead th {\n",
       "        text-align: right;\n",
       "    }\n",
       "</style>\n",
       "<table border=\"1\" class=\"dataframe\">\n",
       "  <thead>\n",
       "    <tr style=\"text-align: right;\">\n",
       "      <th></th>\n",
       "      <th>age</th>\n",
       "      <th>qualified</th>\n",
       "    </tr>\n",
       "  </thead>\n",
       "  <tbody>\n",
       "    <tr>\n",
       "      <th>Mary</th>\n",
       "      <td>50</td>\n",
       "      <td>True</td>\n",
       "    </tr>\n",
       "    <tr>\n",
       "      <th>Sally</th>\n",
       "      <td>40</td>\n",
       "      <td>False</td>\n",
       "    </tr>\n",
       "    <tr>\n",
       "      <th>Emil</th>\n",
       "      <td>30</td>\n",
       "      <td>False</td>\n",
       "    </tr>\n",
       "    <tr>\n",
       "      <th>Tobias</th>\n",
       "      <td>40</td>\n",
       "      <td>False</td>\n",
       "    </tr>\n",
       "    <tr>\n",
       "      <th>Linus</th>\n",
       "      <td>20</td>\n",
       "      <td>False</td>\n",
       "    </tr>\n",
       "    <tr>\n",
       "      <th>John</th>\n",
       "      <td>10</td>\n",
       "      <td>True</td>\n",
       "    </tr>\n",
       "    <tr>\n",
       "      <th>Peter</th>\n",
       "      <td>30</td>\n",
       "      <td>True</td>\n",
       "    </tr>\n",
       "  </tbody>\n",
       "</table>\n",
       "</div>"
      ],
      "text/plain": [
       "        age  qualified\n",
       "Mary     50       True\n",
       "Sally    40      False\n",
       "Emil     30      False\n",
       "Tobias   40      False\n",
       "Linus    20      False\n",
       "John     10       True\n",
       "Peter    30       True"
      ]
     },
     "execution_count": 213,
     "metadata": {},
     "output_type": "execute_result"
    }
   ],
   "source": [
    "data = {\n",
    "  \"age\": [50, 40, 30, 40, 20, 10, 30],\n",
    "  \"qualified\": [True, False, False, False, False, True, True]\n",
    "}\n",
    "\n",
    "idx = [\"Mary\", \"Sally\", \"Emil\", \"Tobias\", \"Linus\", \"John\", \"Peter\"]\n",
    "df = pd.DataFrame(data, index = idx)\n",
    "\n",
    "df"
   ]
  },
  {
   "cell_type": "code",
   "execution_count": 214,
   "id": "alpine-temperature",
   "metadata": {
    "ExecuteTime": {
     "end_time": "2021-08-05T02:59:18.411717Z",
     "start_time": "2021-08-05T02:59:18.392677Z"
    }
   },
   "outputs": [
    {
     "data": {
      "text/html": [
       "<div>\n",
       "<style scoped>\n",
       "    .dataframe tbody tr th:only-of-type {\n",
       "        vertical-align: middle;\n",
       "    }\n",
       "\n",
       "    .dataframe tbody tr th {\n",
       "        vertical-align: top;\n",
       "    }\n",
       "\n",
       "    .dataframe thead th {\n",
       "        text-align: right;\n",
       "    }\n",
       "</style>\n",
       "<table border=\"1\" class=\"dataframe\">\n",
       "  <thead>\n",
       "    <tr style=\"text-align: right;\">\n",
       "      <th></th>\n",
       "      <th>age</th>\n",
       "      <th>qualified</th>\n",
       "    </tr>\n",
       "  </thead>\n",
       "  <tbody>\n",
       "    <tr>\n",
       "      <th>Emil</th>\n",
       "      <td>30</td>\n",
       "      <td>False</td>\n",
       "    </tr>\n",
       "    <tr>\n",
       "      <th>John</th>\n",
       "      <td>10</td>\n",
       "      <td>True</td>\n",
       "    </tr>\n",
       "    <tr>\n",
       "      <th>Linus</th>\n",
       "      <td>20</td>\n",
       "      <td>False</td>\n",
       "    </tr>\n",
       "    <tr>\n",
       "      <th>Mary</th>\n",
       "      <td>50</td>\n",
       "      <td>True</td>\n",
       "    </tr>\n",
       "    <tr>\n",
       "      <th>Peter</th>\n",
       "      <td>30</td>\n",
       "      <td>True</td>\n",
       "    </tr>\n",
       "    <tr>\n",
       "      <th>Sally</th>\n",
       "      <td>40</td>\n",
       "      <td>False</td>\n",
       "    </tr>\n",
       "    <tr>\n",
       "      <th>Tobias</th>\n",
       "      <td>40</td>\n",
       "      <td>False</td>\n",
       "    </tr>\n",
       "  </tbody>\n",
       "</table>\n",
       "</div>"
      ],
      "text/plain": [
       "        age  qualified\n",
       "Emil     30      False\n",
       "John     10       True\n",
       "Linus    20      False\n",
       "Mary     50       True\n",
       "Peter    30       True\n",
       "Sally    40      False\n",
       "Tobias   40      False"
      ]
     },
     "execution_count": 214,
     "metadata": {},
     "output_type": "execute_result"
    }
   ],
   "source": [
    "newdf = df.sort_index()\n",
    "newdf"
   ]
  },
  {
   "cell_type": "markdown",
   "id": "ecological-yukon",
   "metadata": {},
   "source": [
    "## sort_values() Method\n",
    "\n",
    "The sort_values() method sorts the DataFrame by the specified label.\n",
    "\n"
   ]
  },
  {
   "cell_type": "code",
   "execution_count": 215,
   "id": "supreme-defense",
   "metadata": {
    "ExecuteTime": {
     "end_time": "2021-08-05T02:59:20.585788Z",
     "start_time": "2021-08-05T02:59:20.568887Z"
    }
   },
   "outputs": [
    {
     "data": {
      "text/html": [
       "<div>\n",
       "<style scoped>\n",
       "    .dataframe tbody tr th:only-of-type {\n",
       "        vertical-align: middle;\n",
       "    }\n",
       "\n",
       "    .dataframe tbody tr th {\n",
       "        vertical-align: top;\n",
       "    }\n",
       "\n",
       "    .dataframe thead th {\n",
       "        text-align: right;\n",
       "    }\n",
       "</style>\n",
       "<table border=\"1\" class=\"dataframe\">\n",
       "  <thead>\n",
       "    <tr style=\"text-align: right;\">\n",
       "      <th></th>\n",
       "      <th>age</th>\n",
       "      <th>qualified</th>\n",
       "    </tr>\n",
       "  </thead>\n",
       "  <tbody>\n",
       "    <tr>\n",
       "      <th>John</th>\n",
       "      <td>10</td>\n",
       "      <td>True</td>\n",
       "    </tr>\n",
       "    <tr>\n",
       "      <th>Linus</th>\n",
       "      <td>20</td>\n",
       "      <td>False</td>\n",
       "    </tr>\n",
       "    <tr>\n",
       "      <th>Emil</th>\n",
       "      <td>30</td>\n",
       "      <td>False</td>\n",
       "    </tr>\n",
       "    <tr>\n",
       "      <th>Peter</th>\n",
       "      <td>30</td>\n",
       "      <td>True</td>\n",
       "    </tr>\n",
       "    <tr>\n",
       "      <th>Sally</th>\n",
       "      <td>40</td>\n",
       "      <td>False</td>\n",
       "    </tr>\n",
       "    <tr>\n",
       "      <th>Tobias</th>\n",
       "      <td>40</td>\n",
       "      <td>False</td>\n",
       "    </tr>\n",
       "    <tr>\n",
       "      <th>Mary</th>\n",
       "      <td>50</td>\n",
       "      <td>True</td>\n",
       "    </tr>\n",
       "  </tbody>\n",
       "</table>\n",
       "</div>"
      ],
      "text/plain": [
       "        age  qualified\n",
       "John     10       True\n",
       "Linus    20      False\n",
       "Emil     30      False\n",
       "Peter    30       True\n",
       "Sally    40      False\n",
       "Tobias   40      False\n",
       "Mary     50       True"
      ]
     },
     "execution_count": 215,
     "metadata": {},
     "output_type": "execute_result"
    }
   ],
   "source": [
    "df.sort_values(by='age')"
   ]
  },
  {
   "cell_type": "markdown",
   "id": "together-photograph",
   "metadata": {},
   "source": [
    "## T Property\n",
    "\n",
    "The T property transforms the columns into rows and the rows into columns.\n",
    "\n"
   ]
  },
  {
   "cell_type": "code",
   "execution_count": 216,
   "id": "alien-motor",
   "metadata": {
    "ExecuteTime": {
     "end_time": "2021-08-05T02:59:22.491908Z",
     "start_time": "2021-08-05T02:59:22.480398Z"
    }
   },
   "outputs": [
    {
     "data": {
      "text/html": [
       "<div>\n",
       "<style scoped>\n",
       "    .dataframe tbody tr th:only-of-type {\n",
       "        vertical-align: middle;\n",
       "    }\n",
       "\n",
       "    .dataframe tbody tr th {\n",
       "        vertical-align: top;\n",
       "    }\n",
       "\n",
       "    .dataframe thead th {\n",
       "        text-align: right;\n",
       "    }\n",
       "</style>\n",
       "<table border=\"1\" class=\"dataframe\">\n",
       "  <thead>\n",
       "    <tr style=\"text-align: right;\">\n",
       "      <th></th>\n",
       "      <th>Emil</th>\n",
       "      <th>John</th>\n",
       "      <th>Linus</th>\n",
       "      <th>Mary</th>\n",
       "      <th>Peter</th>\n",
       "      <th>Sally</th>\n",
       "      <th>Tobias</th>\n",
       "    </tr>\n",
       "  </thead>\n",
       "  <tbody>\n",
       "    <tr>\n",
       "      <th>age</th>\n",
       "      <td>30</td>\n",
       "      <td>10</td>\n",
       "      <td>20</td>\n",
       "      <td>50</td>\n",
       "      <td>30</td>\n",
       "      <td>40</td>\n",
       "      <td>40</td>\n",
       "    </tr>\n",
       "    <tr>\n",
       "      <th>qualified</th>\n",
       "      <td>False</td>\n",
       "      <td>True</td>\n",
       "      <td>False</td>\n",
       "      <td>True</td>\n",
       "      <td>True</td>\n",
       "      <td>False</td>\n",
       "      <td>False</td>\n",
       "    </tr>\n",
       "  </tbody>\n",
       "</table>\n",
       "</div>"
      ],
      "text/plain": [
       "            Emil  John  Linus  Mary Peter  Sally Tobias\n",
       "age           30    10     20    50    30     40     40\n",
       "qualified  False  True  False  True  True  False  False"
      ]
     },
     "execution_count": 216,
     "metadata": {},
     "output_type": "execute_result"
    }
   ],
   "source": [
    "newdf.T"
   ]
  },
  {
   "cell_type": "code",
   "execution_count": 217,
   "id": "considerable-talent",
   "metadata": {
    "ExecuteTime": {
     "end_time": "2021-08-05T02:59:23.773466Z",
     "start_time": "2021-08-05T02:59:23.751632Z"
    }
   },
   "outputs": [
    {
     "data": {
      "text/html": [
       "<div>\n",
       "<style scoped>\n",
       "    .dataframe tbody tr th:only-of-type {\n",
       "        vertical-align: middle;\n",
       "    }\n",
       "\n",
       "    .dataframe tbody tr th {\n",
       "        vertical-align: top;\n",
       "    }\n",
       "\n",
       "    .dataframe thead th {\n",
       "        text-align: right;\n",
       "    }\n",
       "</style>\n",
       "<table border=\"1\" class=\"dataframe\">\n",
       "  <thead>\n",
       "    <tr style=\"text-align: right;\">\n",
       "      <th></th>\n",
       "      <th>Emil</th>\n",
       "      <th>John</th>\n",
       "      <th>Linus</th>\n",
       "      <th>Mary</th>\n",
       "      <th>Peter</th>\n",
       "      <th>Sally</th>\n",
       "      <th>Tobias</th>\n",
       "    </tr>\n",
       "  </thead>\n",
       "  <tbody>\n",
       "    <tr>\n",
       "      <th>age</th>\n",
       "      <td>30</td>\n",
       "      <td>10</td>\n",
       "      <td>20</td>\n",
       "      <td>50</td>\n",
       "      <td>30</td>\n",
       "      <td>40</td>\n",
       "      <td>40</td>\n",
       "    </tr>\n",
       "    <tr>\n",
       "      <th>qualified</th>\n",
       "      <td>False</td>\n",
       "      <td>True</td>\n",
       "      <td>False</td>\n",
       "      <td>True</td>\n",
       "      <td>True</td>\n",
       "      <td>False</td>\n",
       "      <td>False</td>\n",
       "    </tr>\n",
       "  </tbody>\n",
       "</table>\n",
       "</div>"
      ],
      "text/plain": [
       "            Emil  John  Linus  Mary Peter  Sally Tobias\n",
       "age           30    10     20    50    30     40     40\n",
       "qualified  False  True  False  True  True  False  False"
      ]
     },
     "execution_count": 217,
     "metadata": {},
     "output_type": "execute_result"
    }
   ],
   "source": [
    "newdf.transpose()"
   ]
  },
  {
   "cell_type": "markdown",
   "id": "norman-minister",
   "metadata": {},
   "source": [
    "## transform() Method\n",
    "\n",
    "The transform() method allows you to execute a function for each value of the DataFrame.\n",
    "\n"
   ]
  },
  {
   "cell_type": "code",
   "execution_count": 211,
   "id": "covered-story",
   "metadata": {
    "ExecuteTime": {
     "end_time": "2021-08-05T02:58:51.298549Z",
     "start_time": "2021-08-05T02:58:51.289636Z"
    }
   },
   "outputs": [
    {
     "name": "stdout",
     "output_type": "stream",
     "text": [
      "   for1  for5\n",
      "0    20    80\n",
      "1    60   200\n",
      "2    30   120\n"
     ]
    }
   ],
   "source": [
    "def eur_to_nok(x):\n",
    "  return x * 10\n",
    "\n",
    "data = {\n",
    "  \"for1\": [2, 6, 3],\n",
    "  \"for5\": [8, 20, 12]\n",
    "}\n",
    "\n",
    "df = pd.DataFrame(data)\n",
    "\n",
    "newdf = df.transform(eur_to_nok)\n",
    "\n",
    "print(newdf)"
   ]
  },
  {
   "cell_type": "markdown",
   "id": "wrong-illinois",
   "metadata": {},
   "source": [
    "## update() Method\n",
    "\n",
    "The update() method updates a DataFrame with elements from another similar object (like another DataFrame).\n",
    "\n"
   ]
  },
  {
   "cell_type": "code",
   "execution_count": 220,
   "id": "impressive-radius",
   "metadata": {
    "ExecuteTime": {
     "end_time": "2021-08-05T03:00:30.795554Z",
     "start_time": "2021-08-05T03:00:30.783555Z"
    }
   },
   "outputs": [
    {
     "data": {
      "text/html": [
       "<div>\n",
       "<style scoped>\n",
       "    .dataframe tbody tr th:only-of-type {\n",
       "        vertical-align: middle;\n",
       "    }\n",
       "\n",
       "    .dataframe tbody tr th {\n",
       "        vertical-align: top;\n",
       "    }\n",
       "\n",
       "    .dataframe thead th {\n",
       "        text-align: right;\n",
       "    }\n",
       "</style>\n",
       "<table border=\"1\" class=\"dataframe\">\n",
       "  <thead>\n",
       "    <tr style=\"text-align: right;\">\n",
       "      <th></th>\n",
       "      <th>0</th>\n",
       "      <th>1</th>\n",
       "      <th>2</th>\n",
       "    </tr>\n",
       "  </thead>\n",
       "  <tbody>\n",
       "    <tr>\n",
       "      <th>0</th>\n",
       "      <td>Emil</td>\n",
       "      <td>Tobias</td>\n",
       "      <td>Linus</td>\n",
       "    </tr>\n",
       "    <tr>\n",
       "      <th>1</th>\n",
       "      <td>17</td>\n",
       "      <td>14</td>\n",
       "      <td>10</td>\n",
       "    </tr>\n",
       "  </tbody>\n",
       "</table>\n",
       "</div>"
      ],
      "text/plain": [
       "      0       1      2\n",
       "0  Emil  Tobias  Linus\n",
       "1    17      14     10"
      ]
     },
     "execution_count": 220,
     "metadata": {},
     "output_type": "execute_result"
    }
   ],
   "source": [
    "df1 = pd.DataFrame([[\"Emil\", \"Tobias\", \"Linus\"], [16, 14, 10]])\n",
    "df2 = pd.DataFrame([[\"Emil\"], [17]])\n",
    "\n",
    "df1.update(df2)\n",
    "df1"
   ]
  },
  {
   "cell_type": "markdown",
   "id": "empirical-maple",
   "metadata": {},
   "source": [
    "## where() Method\n",
    "\n",
    "The where() method replaces the values of the rows where the condition evaluates to False.\n",
    "\n",
    "The where() method is the opposite of the The mask() method."
   ]
  },
  {
   "cell_type": "code",
   "execution_count": 223,
   "id": "floral-subdivision",
   "metadata": {
    "ExecuteTime": {
     "end_time": "2021-08-05T03:01:15.705075Z",
     "start_time": "2021-08-05T03:01:15.696076Z"
    }
   },
   "outputs": [
    {
     "data": {
      "text/html": [
       "<div>\n",
       "<style scoped>\n",
       "    .dataframe tbody tr th:only-of-type {\n",
       "        vertical-align: middle;\n",
       "    }\n",
       "\n",
       "    .dataframe tbody tr th {\n",
       "        vertical-align: top;\n",
       "    }\n",
       "\n",
       "    .dataframe thead th {\n",
       "        text-align: right;\n",
       "    }\n",
       "</style>\n",
       "<table border=\"1\" class=\"dataframe\">\n",
       "  <thead>\n",
       "    <tr style=\"text-align: right;\">\n",
       "      <th></th>\n",
       "      <th>age</th>\n",
       "      <th>qualified</th>\n",
       "    </tr>\n",
       "  </thead>\n",
       "  <tbody>\n",
       "    <tr>\n",
       "      <th>0</th>\n",
       "      <td>50</td>\n",
       "      <td>True</td>\n",
       "    </tr>\n",
       "    <tr>\n",
       "      <th>1</th>\n",
       "      <td>40</td>\n",
       "      <td>False</td>\n",
       "    </tr>\n",
       "    <tr>\n",
       "      <th>2</th>\n",
       "      <td>30</td>\n",
       "      <td>False</td>\n",
       "    </tr>\n",
       "    <tr>\n",
       "      <th>3</th>\n",
       "      <td>40</td>\n",
       "      <td>False</td>\n",
       "    </tr>\n",
       "    <tr>\n",
       "      <th>4</th>\n",
       "      <td>20</td>\n",
       "      <td>False</td>\n",
       "    </tr>\n",
       "    <tr>\n",
       "      <th>5</th>\n",
       "      <td>10</td>\n",
       "      <td>True</td>\n",
       "    </tr>\n",
       "    <tr>\n",
       "      <th>6</th>\n",
       "      <td>30</td>\n",
       "      <td>True</td>\n",
       "    </tr>\n",
       "  </tbody>\n",
       "</table>\n",
       "</div>"
      ],
      "text/plain": [
       "   age  qualified\n",
       "0   50       True\n",
       "1   40      False\n",
       "2   30      False\n",
       "3   40      False\n",
       "4   20      False\n",
       "5   10       True\n",
       "6   30       True"
      ]
     },
     "execution_count": 223,
     "metadata": {},
     "output_type": "execute_result"
    }
   ],
   "source": [
    "data = {\n",
    "  \"age\": [50, 40, 30, 40, 20, 10, 30],\n",
    "  \"qualified\": [True, False, False, False, False, True, True]\n",
    "}\n",
    "df = pd.DataFrame(data)\n",
    "\n",
    "df"
   ]
  },
  {
   "cell_type": "code",
   "execution_count": 224,
   "id": "suspended-joshua",
   "metadata": {
    "ExecuteTime": {
     "end_time": "2021-08-05T03:01:21.659703Z",
     "start_time": "2021-08-05T03:01:21.638947Z"
    }
   },
   "outputs": [
    {
     "data": {
      "text/html": [
       "<div>\n",
       "<style scoped>\n",
       "    .dataframe tbody tr th:only-of-type {\n",
       "        vertical-align: middle;\n",
       "    }\n",
       "\n",
       "    .dataframe tbody tr th {\n",
       "        vertical-align: top;\n",
       "    }\n",
       "\n",
       "    .dataframe thead th {\n",
       "        text-align: right;\n",
       "    }\n",
       "</style>\n",
       "<table border=\"1\" class=\"dataframe\">\n",
       "  <thead>\n",
       "    <tr style=\"text-align: right;\">\n",
       "      <th></th>\n",
       "      <th>age</th>\n",
       "      <th>qualified</th>\n",
       "    </tr>\n",
       "  </thead>\n",
       "  <tbody>\n",
       "    <tr>\n",
       "      <th>0</th>\n",
       "      <td>50.0</td>\n",
       "      <td>1.0</td>\n",
       "    </tr>\n",
       "    <tr>\n",
       "      <th>1</th>\n",
       "      <td>40.0</td>\n",
       "      <td>0.0</td>\n",
       "    </tr>\n",
       "    <tr>\n",
       "      <th>2</th>\n",
       "      <td>NaN</td>\n",
       "      <td>NaN</td>\n",
       "    </tr>\n",
       "    <tr>\n",
       "      <th>3</th>\n",
       "      <td>40.0</td>\n",
       "      <td>0.0</td>\n",
       "    </tr>\n",
       "    <tr>\n",
       "      <th>4</th>\n",
       "      <td>NaN</td>\n",
       "      <td>NaN</td>\n",
       "    </tr>\n",
       "    <tr>\n",
       "      <th>5</th>\n",
       "      <td>NaN</td>\n",
       "      <td>NaN</td>\n",
       "    </tr>\n",
       "    <tr>\n",
       "      <th>6</th>\n",
       "      <td>NaN</td>\n",
       "      <td>NaN</td>\n",
       "    </tr>\n",
       "  </tbody>\n",
       "</table>\n",
       "</div>"
      ],
      "text/plain": [
       "    age  qualified\n",
       "0  50.0        1.0\n",
       "1  40.0        0.0\n",
       "2   NaN        NaN\n",
       "3  40.0        0.0\n",
       "4   NaN        NaN\n",
       "5   NaN        NaN\n",
       "6   NaN        NaN"
      ]
     },
     "execution_count": 224,
     "metadata": {},
     "output_type": "execute_result"
    }
   ],
   "source": [
    "newdf = df.where(df[\"age\"] > 30)\n",
    "newdf "
   ]
  },
  {
   "cell_type": "markdown",
   "id": "incorporate-pierre",
   "metadata": {},
   "source": [
    "##  Rename Column Labels of DataFrame"
   ]
  },
  {
   "cell_type": "code",
   "execution_count": 226,
   "id": "presidential-ground",
   "metadata": {
    "ExecuteTime": {
     "end_time": "2021-08-05T03:02:15.215121Z",
     "start_time": "2021-08-05T03:02:15.202071Z"
    }
   },
   "outputs": [
    {
     "name": "stdout",
     "output_type": "stream",
     "text": [
      "Original DataFrame\n",
      "------------------------\n",
      "   name  physics  chemistry  algebra  calculus\n",
      "0  Somu       68         84       78        96\n",
      "1  Kiku       74         56       88        85\n",
      "2  Amol       77         73       82        87\n",
      "3  Lini       78         69       87        92\n",
      "\n",
      "\n",
      "Columns Renamed\n",
      "------------------------\n",
      "   name  physics  biology  geometry  calculus\n",
      "0  Somu       68       84        78        96\n",
      "1  Kiku       74       56        88        85\n",
      "2  Amol       77       73        82        87\n",
      "3  Lini       78       69        87        92\n"
     ]
    }
   ],
   "source": [
    "import numpy as np\n",
    "import pandas as pd\n",
    "\n",
    "df_marks = pd.DataFrame(\n",
    "\t[['Somu', 68, 84, 78, 96],\n",
    "\t['Kiku', 74, 56, 88, 85],\n",
    "\t['Amol', 77, 73, 82, 87],\n",
    "\t['Lini', 78, 69, 87, 92]],\n",
    "\tcolumns=['name', 'physics', 'chemistry', 'algebra', 'calculus'])\n",
    "\n",
    "print('Original DataFrame\\n------------------------')\n",
    "print(df_marks)\n",
    "\n",
    "#rename columns\n",
    "df_marks.columns = ['name', 'physics', 'biology', 'geometry', 'calculus']\n",
    "print('\\n\\nColumns Renamed\\n------------------------')\n",
    "print(df_marks)"
   ]
  },
  {
   "cell_type": "markdown",
   "id": "worth-district",
   "metadata": {},
   "source": [
    "## Convert\n",
    "### panadas to numy"
   ]
  },
  {
   "cell_type": "code",
   "execution_count": 235,
   "id": "stuck-change",
   "metadata": {
    "ExecuteTime": {
     "end_time": "2021-08-05T03:08:56.446692Z",
     "start_time": "2021-08-05T03:08:56.438652Z"
    }
   },
   "outputs": [
    {
     "data": {
      "text/html": [
       "<div>\n",
       "<style scoped>\n",
       "    .dataframe tbody tr th:only-of-type {\n",
       "        vertical-align: middle;\n",
       "    }\n",
       "\n",
       "    .dataframe tbody tr th {\n",
       "        vertical-align: top;\n",
       "    }\n",
       "\n",
       "    .dataframe thead th {\n",
       "        text-align: right;\n",
       "    }\n",
       "</style>\n",
       "<table border=\"1\" class=\"dataframe\">\n",
       "  <thead>\n",
       "    <tr style=\"text-align: right;\">\n",
       "      <th></th>\n",
       "      <th>name</th>\n",
       "      <th>type</th>\n",
       "      <th>AvgBill</th>\n",
       "    </tr>\n",
       "  </thead>\n",
       "  <tbody>\n",
       "    <tr>\n",
       "      <th>0</th>\n",
       "      <td>Foreign Cinema</td>\n",
       "      <td>Restaurant</td>\n",
       "      <td>&lt;NA&gt;</td>\n",
       "    </tr>\n",
       "    <tr>\n",
       "      <th>1</th>\n",
       "      <td>Liho Liho</td>\n",
       "      <td>Restaurant</td>\n",
       "      <td>224.0</td>\n",
       "    </tr>\n",
       "    <tr>\n",
       "      <th>2</th>\n",
       "      <td>500 Club</td>\n",
       "      <td>bar</td>\n",
       "      <td>80.5</td>\n",
       "    </tr>\n",
       "    <tr>\n",
       "      <th>3</th>\n",
       "      <td>The Square</td>\n",
       "      <td>&lt;NA&gt;</td>\n",
       "      <td>25.3</td>\n",
       "    </tr>\n",
       "  </tbody>\n",
       "</table>\n",
       "</div>"
      ],
      "text/plain": [
       "             name        type AvgBill\n",
       "0  Foreign Cinema  Restaurant    <NA>\n",
       "1       Liho Liho  Restaurant   224.0\n",
       "2        500 Club         bar    80.5\n",
       "3      The Square        <NA>    25.3"
      ]
     },
     "execution_count": 235,
     "metadata": {},
     "output_type": "execute_result"
    }
   ],
   "source": [
    "df = pd.DataFrame([('Foreign Cinema', 'Restaurant', pd.NA),\n",
    "                   ('Liho Liho', 'Restaurant', 224.0),\n",
    "                   ('500 Club', 'bar', 80.5),\n",
    "                   ('The Square', pd.NA, 25.30)],\n",
    "           columns=('name', 'type', 'AvgBill')\n",
    "                 )\n",
    "df"
   ]
  },
  {
   "cell_type": "markdown",
   "id": "settled-status",
   "metadata": {},
   "source": [
    "### DataFrame to Numpy Array"
   ]
  },
  {
   "cell_type": "code",
   "execution_count": 228,
   "id": "international-battle",
   "metadata": {
    "ExecuteTime": {
     "end_time": "2021-08-05T03:03:51.161093Z",
     "start_time": "2021-08-05T03:03:51.149088Z"
    }
   },
   "outputs": [
    {
     "data": {
      "text/plain": [
       "array([['Foreign Cinema', 'Restaurant', <NA>],\n",
       "       ['Liho Liho', 'Restaurant', 224.0],\n",
       "       ['500 Club', 'bar', 80.5],\n",
       "       ['The Square', <NA>, 25.3]], dtype=object)"
      ]
     },
     "execution_count": 228,
     "metadata": {},
     "output_type": "execute_result"
    }
   ],
   "source": [
    "x = df.to_numpy()\n",
    "x"
   ]
  },
  {
   "cell_type": "markdown",
   "id": "acknowledged-interim",
   "metadata": {},
   "source": [
    "### Numpy to list"
   ]
  },
  {
   "cell_type": "code",
   "execution_count": 232,
   "id": "infinite-nylon",
   "metadata": {
    "ExecuteTime": {
     "end_time": "2021-08-05T03:07:06.666219Z",
     "start_time": "2021-08-05T03:07:06.656188Z"
    }
   },
   "outputs": [
    {
     "data": {
      "text/plain": [
       "[['Foreign Cinema', 'Restaurant', <NA>],\n",
       " ['Liho Liho', 'Restaurant', 224.0],\n",
       " ['500 Club', 'bar', 80.5],\n",
       " ['The Square', <NA>, 25.3]]"
      ]
     },
     "execution_count": 232,
     "metadata": {},
     "output_type": "execute_result"
    }
   ],
   "source": [
    "x.tolist()"
   ]
  },
  {
   "cell_type": "markdown",
   "id": "violent-crossing",
   "metadata": {},
   "source": [
    "### Numpy Array to DataFrame"
   ]
  },
  {
   "cell_type": "code",
   "execution_count": 229,
   "id": "changed-publication",
   "metadata": {
    "ExecuteTime": {
     "end_time": "2021-08-05T03:05:53.052446Z",
     "start_time": "2021-08-05T03:05:53.034446Z"
    }
   },
   "outputs": [
    {
     "data": {
      "text/html": [
       "<div>\n",
       "<style scoped>\n",
       "    .dataframe tbody tr th:only-of-type {\n",
       "        vertical-align: middle;\n",
       "    }\n",
       "\n",
       "    .dataframe tbody tr th {\n",
       "        vertical-align: top;\n",
       "    }\n",
       "\n",
       "    .dataframe thead th {\n",
       "        text-align: right;\n",
       "    }\n",
       "</style>\n",
       "<table border=\"1\" class=\"dataframe\">\n",
       "  <thead>\n",
       "    <tr style=\"text-align: right;\">\n",
       "      <th></th>\n",
       "      <th>name</th>\n",
       "      <th>type</th>\n",
       "      <th>AvgBill</th>\n",
       "    </tr>\n",
       "  </thead>\n",
       "  <tbody>\n",
       "    <tr>\n",
       "      <th>0</th>\n",
       "      <td>Foreign Cinema</td>\n",
       "      <td>Restaurant</td>\n",
       "      <td>&lt;NA&gt;</td>\n",
       "    </tr>\n",
       "    <tr>\n",
       "      <th>1</th>\n",
       "      <td>Liho Liho</td>\n",
       "      <td>Restaurant</td>\n",
       "      <td>224.0</td>\n",
       "    </tr>\n",
       "    <tr>\n",
       "      <th>2</th>\n",
       "      <td>500 Club</td>\n",
       "      <td>bar</td>\n",
       "      <td>80.5</td>\n",
       "    </tr>\n",
       "    <tr>\n",
       "      <th>3</th>\n",
       "      <td>The Square</td>\n",
       "      <td>&lt;NA&gt;</td>\n",
       "      <td>25.3</td>\n",
       "    </tr>\n",
       "  </tbody>\n",
       "</table>\n",
       "</div>"
      ],
      "text/plain": [
       "             name        type AvgBill\n",
       "0  Foreign Cinema  Restaurant    <NA>\n",
       "1       Liho Liho  Restaurant   224.0\n",
       "2        500 Club         bar    80.5\n",
       "3      The Square        <NA>    25.3"
      ]
     },
     "execution_count": 229,
     "metadata": {},
     "output_type": "execute_result"
    }
   ],
   "source": [
    "df = pd.DataFrame(x,\n",
    "           columns=('name', 'type', 'AvgBill')\n",
    "                 )\n",
    "df"
   ]
  },
  {
   "cell_type": "markdown",
   "id": "cutting-wilson",
   "metadata": {},
   "source": [
    "### np to Arry"
   ]
  },
  {
   "cell_type": "code",
   "execution_count": 234,
   "id": "common-discussion",
   "metadata": {
    "ExecuteTime": {
     "end_time": "2021-08-05T03:08:03.975566Z",
     "start_time": "2021-08-05T03:08:03.960734Z"
    }
   },
   "outputs": [
    {
     "name": "stdout",
     "output_type": "stream",
     "text": [
      "List:  [1, 7, 0, 6, 2, 5, 6]\n",
      "Array:  [1 7 0 6 2 5 6]\n"
     ]
    }
   ],
   "source": [
    "import numpy as np\n",
    " \n",
    "# initializing list\n",
    "lst = [1, 7, 0, 6, 2, 5, 6]\n",
    " \n",
    "# converting list to array\n",
    "arr = np.array(lst)\n",
    " \n",
    "# displaying list\n",
    "print (\"List: \", lst)\n",
    " \n",
    "# displaying array\n",
    "print (\"Array: \", arr)"
   ]
  },
  {
   "cell_type": "markdown",
   "id": "excellent-dublin",
   "metadata": {},
   "source": [
    "### Pandas DataFrame into a List "
   ]
  },
  {
   "cell_type": "code",
   "execution_count": 236,
   "id": "posted-correspondence",
   "metadata": {
    "ExecuteTime": {
     "end_time": "2021-08-05T03:09:48.395287Z",
     "start_time": "2021-08-05T03:09:48.375072Z"
    }
   },
   "outputs": [
    {
     "name": "stdout",
     "output_type": "stream",
     "text": [
      "[['Tablet', 250], ['iPhone', 800], ['Laptop', 1200], ['Monitor', 300]]\n"
     ]
    }
   ],
   "source": [
    "import pandas as pd\n",
    "\n",
    "products = {'Product': ['Tablet','iPhone','Laptop','Monitor'],\n",
    "            'Price': [250,800,1200,300]\n",
    "            }\n",
    "\n",
    "df = pd.DataFrame(products, columns= ['Product', 'Price'])\n",
    "\n",
    "products_list = df.values.tolist()\n",
    "print (products_list)"
   ]
  },
  {
   "cell_type": "markdown",
   "id": "comprehensive-cowboy",
   "metadata": {},
   "source": [
    "### list to pandas"
   ]
  },
  {
   "cell_type": "code",
   "execution_count": 237,
   "id": "simplified-blast",
   "metadata": {
    "ExecuteTime": {
     "end_time": "2021-08-05T03:10:40.718034Z",
     "start_time": "2021-08-05T03:10:40.699034Z"
    }
   },
   "outputs": [
    {
     "data": {
      "text/html": [
       "<div>\n",
       "<style scoped>\n",
       "    .dataframe tbody tr th:only-of-type {\n",
       "        vertical-align: middle;\n",
       "    }\n",
       "\n",
       "    .dataframe tbody tr th {\n",
       "        vertical-align: top;\n",
       "    }\n",
       "\n",
       "    .dataframe thead th {\n",
       "        text-align: right;\n",
       "    }\n",
       "</style>\n",
       "<table border=\"1\" class=\"dataframe\">\n",
       "  <thead>\n",
       "    <tr style=\"text-align: right;\">\n",
       "      <th></th>\n",
       "      <th>0</th>\n",
       "    </tr>\n",
       "  </thead>\n",
       "  <tbody>\n",
       "    <tr>\n",
       "      <th>0</th>\n",
       "      <td>Geeks</td>\n",
       "    </tr>\n",
       "    <tr>\n",
       "      <th>1</th>\n",
       "      <td>For</td>\n",
       "    </tr>\n",
       "    <tr>\n",
       "      <th>2</th>\n",
       "      <td>Geeks</td>\n",
       "    </tr>\n",
       "    <tr>\n",
       "      <th>3</th>\n",
       "      <td>is</td>\n",
       "    </tr>\n",
       "    <tr>\n",
       "      <th>4</th>\n",
       "      <td>portal</td>\n",
       "    </tr>\n",
       "    <tr>\n",
       "      <th>5</th>\n",
       "      <td>for</td>\n",
       "    </tr>\n",
       "    <tr>\n",
       "      <th>6</th>\n",
       "      <td>Geeks</td>\n",
       "    </tr>\n",
       "  </tbody>\n",
       "</table>\n",
       "</div>"
      ],
      "text/plain": [
       "        0\n",
       "0   Geeks\n",
       "1     For\n",
       "2   Geeks\n",
       "3      is\n",
       "4  portal\n",
       "5     for\n",
       "6   Geeks"
      ]
     },
     "execution_count": 237,
     "metadata": {},
     "output_type": "execute_result"
    }
   ],
   "source": [
    "import pandas as pd\n",
    "  \n",
    "# list of strings\n",
    "lst = ['Geeks', 'For', 'Geeks', 'is', \n",
    "            'portal', 'for', 'Geeks']\n",
    "  \n",
    "# Calling DataFrame constructor on list\n",
    "df = pd.DataFrame(lst)\n",
    "df"
   ]
  }
 ],
 "metadata": {
  "kernelspec": {
   "display_name": "tensorflow",
   "language": "python",
   "name": "tensorflow"
  },
  "language_info": {
   "codemirror_mode": {
    "name": "ipython",
    "version": 3
   },
   "file_extension": ".py",
   "mimetype": "text/x-python",
   "name": "python",
   "nbconvert_exporter": "python",
   "pygments_lexer": "ipython3",
   "version": "3.7.9"
  },
  "toc": {
   "base_numbering": 1,
   "nav_menu": {},
   "number_sections": true,
   "sideBar": true,
   "skip_h1_title": false,
   "title_cell": "Table of Contents",
   "title_sidebar": "Contents",
   "toc_cell": true,
   "toc_position": {},
   "toc_section_display": true,
   "toc_window_display": true
  }
 },
 "nbformat": 4,
 "nbformat_minor": 5
}
