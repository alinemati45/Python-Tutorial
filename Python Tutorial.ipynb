{
 "cells": [
  {
   "cell_type": "markdown",
   "id": "geographic-botswana",
   "metadata": {},
   "source": [
    "# Creating Variables\n",
    "\n",
    "Variables do not need to be declared with any particular type, and can even change type after they have been set.\n",
    "\n",
    "## Case-Sensitive\n",
    "Variable names are case-sensitive."
   ]
  },
  {
   "cell_type": "code",
   "execution_count": 4,
   "id": "cubic-philosophy",
   "metadata": {
    "ExecuteTime": {
     "end_time": "2021-07-31T22:32:21.307215Z",
     "start_time": "2021-07-31T22:32:21.294207Z"
    }
   },
   "outputs": [
    {
     "name": "stdout",
     "output_type": "stream",
     "text": [
      "5\n",
      "John\n",
      "4\n"
     ]
    }
   ],
   "source": [
    "x = 5 # x is of type int\n",
    "y = \"John\" # x is now of type str\n",
    "X = 4\n",
    "print(x)\n",
    "print(y)\n",
    "print(X)"
   ]
  },
  {
   "cell_type": "markdown",
   "id": "dominican-flight",
   "metadata": {},
   "source": [
    "## Casting\n",
    "If you want to specify the data type of a variable, this can be done with casting"
   ]
  },
  {
   "cell_type": "code",
   "execution_count": 5,
   "id": "urban-opportunity",
   "metadata": {
    "ExecuteTime": {
     "end_time": "2021-07-31T22:32:21.322216Z",
     "start_time": "2021-07-31T22:32:21.308192Z"
    }
   },
   "outputs": [
    {
     "data": {
      "text/plain": [
       "(str, int, float)"
      ]
     },
     "execution_count": 5,
     "metadata": {},
     "output_type": "execute_result"
    }
   ],
   "source": [
    "x =str(3)\n",
    "y = int(3)\n",
    "z= float(3)\n",
    "type(x) , type(y) , type(z)"
   ]
  },
  {
   "cell_type": "markdown",
   "id": "likely-panel",
   "metadata": {},
   "source": [
    "## Variable Names\n",
    "A variable can have a short name (like x and y) or a more descriptive name (age, carname, total_volume). \n",
    "###  Rules for Python variables:\n",
    "1. A variable name must start with a letter or the underscore character\n",
    "2. A variable name cannot start with a number\n",
    "3. A variable name can only contain alpha-numeric characters and underscores (A-z, 0-9, and _ )\n",
    "4. Variable names are case-sensitive (age, Age and AGE are three different variables)"
   ]
  },
  {
   "cell_type": "code",
   "execution_count": 6,
   "id": "close-checkout",
   "metadata": {
    "ExecuteTime": {
     "end_time": "2021-07-31T22:32:21.337561Z",
     "start_time": "2021-07-31T22:32:21.324204Z"
    }
   },
   "outputs": [],
   "source": [
    "myvar = \"John\"\n",
    "my_var = \"John\"\n",
    "_my_var = \"John\"\n",
    "myVar = \"John\"\n",
    "MYVAR = \"John\"\n",
    "myvar2 = \"John\""
   ]
  },
  {
   "cell_type": "markdown",
   "id": "daily-grade",
   "metadata": {},
   "source": [
    "## Multi Words Variable Names\n",
    "Variable names with more than one word can be difficult to read.\n",
    "\n",
    "There are several techniques you can use to make them more readable:\n",
    "\n",
    "### Camel Case\n",
    "Each word, except the first, starts with a capital letter:"
   ]
  },
  {
   "cell_type": "code",
   "execution_count": 7,
   "id": "floral-glass",
   "metadata": {
    "ExecuteTime": {
     "end_time": "2021-07-31T22:32:21.353638Z",
     "start_time": "2021-07-31T22:32:21.338566Z"
    }
   },
   "outputs": [],
   "source": [
    "myVariableName = \"John\""
   ]
  },
  {
   "cell_type": "markdown",
   "id": "excessive-craps",
   "metadata": {},
   "source": [
    "### Pascal Case\n",
    "Each word starts with a capital letter:"
   ]
  },
  {
   "cell_type": "code",
   "execution_count": 8,
   "id": "close-happiness",
   "metadata": {
    "ExecuteTime": {
     "end_time": "2021-07-31T22:32:21.369529Z",
     "start_time": "2021-07-31T22:32:21.354662Z"
    }
   },
   "outputs": [],
   "source": [
    "MyVariableName = \"John\""
   ]
  },
  {
   "cell_type": "markdown",
   "id": "fiscal-rebate",
   "metadata": {
    "ExecuteTime": {
     "end_time": "2021-07-31T22:22:17.282635Z",
     "start_time": "2021-07-31T22:22:17.264656Z"
    }
   },
   "source": [
    "### Snake Case\n",
    "Each word is separated by an underscore character:"
   ]
  },
  {
   "cell_type": "code",
   "execution_count": 9,
   "id": "embedded-begin",
   "metadata": {
    "ExecuteTime": {
     "end_time": "2021-07-31T22:32:21.385294Z",
     "start_time": "2021-07-31T22:32:21.370552Z"
    }
   },
   "outputs": [],
   "source": [
    "my_variable_name = \"John\""
   ]
  },
  {
   "cell_type": "markdown",
   "id": "english-annotation",
   "metadata": {},
   "source": [
    "## Many Values to Multiple Variables\n",
    "Python allows you to assign values to multiple variables in one line:"
   ]
  },
  {
   "cell_type": "code",
   "execution_count": 10,
   "id": "fossil-syndrome",
   "metadata": {
    "ExecuteTime": {
     "end_time": "2021-07-31T22:32:21.400971Z",
     "start_time": "2021-07-31T22:32:21.386187Z"
    }
   },
   "outputs": [
    {
     "name": "stdout",
     "output_type": "stream",
     "text": [
      "Oregon Milaukee Delvar\n"
     ]
    }
   ],
   "source": [
    "x , y , z = \"Oregon\" , \"Milaukee\" , \"Delvar\"\n",
    "print(x , y , z)"
   ]
  },
  {
   "cell_type": "markdown",
   "id": "annual-olive",
   "metadata": {},
   "source": [
    "## One Value to Multiple Variables\n",
    "And you can assign the same value to multiple variables in one line:\n",
    "\n"
   ]
  },
  {
   "cell_type": "code",
   "execution_count": 11,
   "id": "cloudy-composition",
   "metadata": {
    "ExecuteTime": {
     "end_time": "2021-07-31T22:32:21.415874Z",
     "start_time": "2021-07-31T22:32:21.401798Z"
    }
   },
   "outputs": [
    {
     "name": "stdout",
     "output_type": "stream",
     "text": [
      "Orange Orange Orange\n"
     ]
    }
   ],
   "source": [
    "x = y = z = \"Orange\"\n",
    "print (x,  y  , z)"
   ]
  },
  {
   "cell_type": "markdown",
   "id": "removed-drama",
   "metadata": {},
   "source": [
    "## Unpack a Collection\n",
    "If you have a collection of values in a list, tuple etc. Python allows you extract the values into variables. This is called unpacking."
   ]
  },
  {
   "cell_type": "code",
   "execution_count": 12,
   "id": "metropolitan-destiny",
   "metadata": {
    "ExecuteTime": {
     "end_time": "2021-07-31T22:32:21.430699Z",
     "start_time": "2021-07-31T22:32:21.416666Z"
    }
   },
   "outputs": [
    {
     "name": "stdout",
     "output_type": "stream",
     "text": [
      "apple banana cherry\n"
     ]
    }
   ],
   "source": [
    "furits = [\"apple\", \"banana\", \"cherry\"]\n",
    "x , y , z = furits\n",
    "print (x,  y  , z)"
   ]
  },
  {
   "cell_type": "markdown",
   "id": "vulnerable-england",
   "metadata": {},
   "source": [
    "## Output Variables\n",
    "The Python print statement is often used to output variables.\n",
    "\n",
    "To combine both text and a variable, Python uses the `+` character:"
   ]
  },
  {
   "cell_type": "code",
   "execution_count": 16,
   "id": "athletic-stephen",
   "metadata": {
    "ExecuteTime": {
     "end_time": "2021-07-31T22:32:42.243881Z",
     "start_time": "2021-07-31T22:32:42.238876Z"
    }
   },
   "outputs": [
    {
     "name": "stdout",
     "output_type": "stream",
     "text": [
      "Python  is Awesome\n"
     ]
    }
   ],
   "source": [
    "x = \"Awesome\"\n",
    "print(\"Python  is \" + x)"
   ]
  },
  {
   "cell_type": "code",
   "execution_count": 19,
   "id": "fundamental-wallet",
   "metadata": {
    "ExecuteTime": {
     "end_time": "2021-07-31T22:33:45.224811Z",
     "start_time": "2021-07-31T22:33:45.212812Z"
    }
   },
   "outputs": [
    {
     "name": "stdout",
     "output_type": "stream",
     "text": [
      "Ali Nemati\n"
     ]
    }
   ],
   "source": [
    "x = \"Ali\"\n",
    "y = \" Nemati\"\n",
    "z =  x + y\n",
    "print(z)"
   ]
  },
  {
   "cell_type": "code",
   "execution_count": 20,
   "id": "chronic-couple",
   "metadata": {
    "ExecuteTime": {
     "end_time": "2021-07-31T22:34:09.199314Z",
     "start_time": "2021-07-31T22:34:09.195315Z"
    }
   },
   "outputs": [
    {
     "name": "stdout",
     "output_type": "stream",
     "text": [
      "15\n"
     ]
    }
   ],
   "source": [
    "x = 5\n",
    "y = 10\n",
    "print(x + y)"
   ]
  },
  {
   "cell_type": "markdown",
   "id": "photographic-maximum",
   "metadata": {},
   "source": [
    "## Global Variables\n",
    "Variables that are created outside of a function (as in all of the examples above) are known as global variables.\n",
    "\n",
    "Global variables can be used by everyone, both inside of functions and outside.\n",
    "\n",
    "Create a variable outside of a function, and use it inside the function\n",
    "\n"
   ]
  },
  {
   "cell_type": "code",
   "execution_count": 21,
   "id": "preliminary-limitation",
   "metadata": {
    "ExecuteTime": {
     "end_time": "2021-07-31T22:35:35.624628Z",
     "start_time": "2021-07-31T22:35:35.612684Z"
    }
   },
   "outputs": [
    {
     "name": "stdout",
     "output_type": "stream",
     "text": [
      "Python is Awesome\n"
     ]
    }
   ],
   "source": [
    "x = \"Awesome\"\n",
    "\n",
    "def myfunc():\n",
    "    print(\"Python is \" + x)\n",
    "\n",
    "myfunc()"
   ]
  },
  {
   "cell_type": "markdown",
   "id": "complex-architect",
   "metadata": {},
   "source": [
    "## Local Variables\n",
    "\n",
    "\n",
    "If you create a variable with the same name inside a function, this variable will be local, and can only be used inside the function. The global variable with the same name will remain as it was, global and with the original value.\n",
    "\n"
   ]
  },
  {
   "cell_type": "code",
   "execution_count": 22,
   "id": "polish-serve",
   "metadata": {
    "ExecuteTime": {
     "end_time": "2021-07-31T22:36:38.188630Z",
     "start_time": "2021-07-31T22:36:38.180600Z"
    }
   },
   "outputs": [
    {
     "name": "stdout",
     "output_type": "stream",
     "text": [
      "Python is  Fantastic\n"
     ]
    }
   ],
   "source": [
    "x = \"Awesome\"\n",
    "\n",
    "def myfunc():\n",
    "    x = \" Fantastic\"\n",
    "    print(\"Python is \" + x)\n",
    "\n",
    "myfunc()"
   ]
  },
  {
   "cell_type": "markdown",
   "id": "split-mechanics",
   "metadata": {},
   "source": [
    "## The global Keyword\n",
    "Normally, when you create a variable inside a function, that variable is local, and can only be used inside that function.\n",
    "\n",
    "To create a global variable inside a function, you can use the **global** keyword."
   ]
  },
  {
   "cell_type": "code",
   "execution_count": 30,
   "id": "simple-mexico",
   "metadata": {
    "ExecuteTime": {
     "end_time": "2021-07-31T22:39:32.405271Z",
     "start_time": "2021-07-31T22:39:32.396241Z"
    }
   },
   "outputs": [
    {
     "name": "stdout",
     "output_type": "stream",
     "text": [
      "ptyhon is Test\n"
     ]
    }
   ],
   "source": [
    "x = \"Test\"\n",
    "def func():\n",
    "    global x\n",
    "    x = \"Fantastic for EVER!\"\n",
    "\n",
    "\n",
    "\n",
    "print(\"ptyhon is \" + x)"
   ]
  },
  {
   "cell_type": "code",
   "execution_count": 31,
   "id": "express-commission",
   "metadata": {
    "ExecuteTime": {
     "end_time": "2021-07-31T22:39:33.496815Z",
     "start_time": "2021-07-31T22:39:33.483785Z"
    }
   },
   "outputs": [
    {
     "name": "stdout",
     "output_type": "stream",
     "text": [
      "ptyhon is Fantastic for EVER!\n"
     ]
    }
   ],
   "source": [
    "x = \"Test\"\n",
    "def func():\n",
    "    global x\n",
    "    x = \"Fantastic for EVER!\"\n",
    "\n",
    "func()\n",
    "\n",
    "print(\"ptyhon is \" + x)"
   ]
  },
  {
   "cell_type": "markdown",
   "id": "peripheral-collectible",
   "metadata": {
    "ExecuteTime": {
     "end_time": "2021-07-31T22:42:23.465014Z",
     "start_time": "2021-07-31T22:42:23.447013Z"
    }
   },
   "source": [
    "# Python Data Types\n",
    "Built-in Data Types\n",
    "In programming, data type is an important concept.\n",
    "\n",
    "Variables can store data of different types, and different types can do different things.\n",
    "\n",
    "Python has the following data types built-in by default, in these categories:\n",
    "    \n",
    "| data type | Description |\n",
    "|-----------|-------------|\n",
    "| Text Type: | str |\n",
    "| Numeric Types: | int, float, complex |\n",
    "| Sequence Types: | list, tuple, range |\n",
    "| Mapping Type: | dict |\n",
    "| Set Types: | set, frozenset |\n",
    "| Boolean Type: | bool |\n",
    "| Binary Types: | bytes, bytearray, memoryview |"
   ]
  },
  {
   "cell_type": "markdown",
   "id": "introductory-mortgage",
   "metadata": {},
   "source": [
    "## Python Numbers\n",
    "There are three numeric types in Python:\n",
    "\n",
    "1. int : Int, or integer, is a whole number, positive or negative, without decimals, of unlimited length.\n",
    "2. float :  Float, or \"floating point number\" is a number, positive or negative, containing one or more decimals. Float can also be scientific numbers with an \"e\" to indicate the power of 10.\n",
    "\n",
    "3. complex : Complex numbers are written with a \"j\" as the imaginary part:\n",
    "\n"
   ]
  },
  {
   "cell_type": "code",
   "execution_count": 53,
   "id": "ancient-pressure",
   "metadata": {
    "ExecuteTime": {
     "end_time": "2021-07-31T22:51:13.381668Z",
     "start_time": "2021-07-31T22:51:13.372148Z"
    }
   },
   "outputs": [
    {
     "name": "stdout",
     "output_type": "stream",
     "text": [
      "5  ,  <class 'int'>\n",
      "2.8  ,  <class 'float'>\n",
      "2j  ,  <class 'complex'>\n",
      "-8.77e+101  ,  <class 'float'>\n"
     ]
    }
   ],
   "source": [
    "x = 5\n",
    "y = 2.8 \n",
    "z =2j\n",
    "w =  -87.7e100\n",
    "\n",
    "print(x , \" , \" ,  type(x))\n",
    "print(y , \" , \" ,  type(y))\n",
    "print(z , \" , \" ,  type(z))\n",
    "print(w , \" , \" ,  type(w))"
   ]
  },
  {
   "cell_type": "markdown",
   "id": "related-tomato",
   "metadata": {
    "ExecuteTime": {
     "end_time": "2021-07-31T22:49:30.785288Z",
     "start_time": "2021-07-31T22:49:30.780272Z"
    }
   },
   "source": [
    "## Type Conversion\n",
    "You can convert from one type to another with the int(), float(), and complex() methods:"
   ]
  },
  {
   "cell_type": "code",
   "execution_count": 62,
   "id": "solar-westminster",
   "metadata": {
    "ExecuteTime": {
     "end_time": "2021-07-31T22:54:03.892682Z",
     "start_time": "2021-07-31T22:54:03.875680Z"
    }
   },
   "outputs": [
    {
     "name": "stdout",
     "output_type": "stream",
     "text": [
      "1.0 <class 'float'>\n",
      "2 <class 'int'>\n",
      "(1+0j) <class 'complex'>\n"
     ]
    }
   ],
   "source": [
    "x = 1    # int\n",
    "y = 2.8  # float\n",
    "z = 1j   # complex\n",
    "\n",
    "#convert from int to float:\n",
    "a = float(x)\n",
    "print(a , type(a))\n",
    "#convert from float to int:\n",
    "b = int(y)\n",
    "print(b , type(b))\n",
    "#convert from int to complex:\n",
    "c = complex(x )\n",
    "print(c ,  type(c))\n"
   ]
  },
  {
   "cell_type": "markdown",
   "id": "small-industry",
   "metadata": {},
   "source": [
    "## Random Number\n",
    "Python does not have a random() function to make a random number, but Python has a built-in module called random that can be used to make random numbers:\n",
    "\n"
   ]
  },
  {
   "cell_type": "code",
   "execution_count": 75,
   "id": "clinical-stupid",
   "metadata": {
    "ExecuteTime": {
     "end_time": "2021-07-31T22:56:20.645684Z",
     "start_time": "2021-07-31T22:56:20.635655Z"
    }
   },
   "outputs": [
    {
     "name": "stdout",
     "output_type": "stream",
     "text": [
      "112\n"
     ]
    }
   ],
   "source": [
    "import random\n",
    "print(random.randrange(1, 200))"
   ]
  },
  {
   "cell_type": "markdown",
   "id": "geographic-lying",
   "metadata": {},
   "source": [
    "## Casting\n",
    "\n",
    "There may be times when you want to specify a type on to a variable. This can be done with casting. Python is an object-orientated language, and as such it uses classes to define data types, including its primitive types.\n",
    "\n",
    "Casting in python is therefore done using constructor functions:\n",
    "\n",
    "* int() - constructs an integer number from an integer literal, a float literal (by removing all decimals), or a string literal (providing the string represents a whole number)\n",
    "* float() - constructs a float number from an integer literal, a float literal or a string literal (providing the string represents a float or an integer)\n",
    "* str() - constructs a string from a wide variety of data types, including strings, integer literals and float literals"
   ]
  },
  {
   "cell_type": "code",
   "execution_count": 79,
   "id": "fundamental-customs",
   "metadata": {
    "ExecuteTime": {
     "end_time": "2021-07-31T23:00:24.104567Z",
     "start_time": "2021-07-31T23:00:24.092540Z"
    }
   },
   "outputs": [
    {
     "name": "stdout",
     "output_type": "stream",
     "text": [
      "1 2 3\n",
      "<class 'int'> <class 'int'> <class 'int'>\n",
      "<class 'float'> <class 'float'> <class 'float'>\n"
     ]
    }
   ],
   "source": [
    "x = int(1)   # x will be 1\n",
    "y = int(2.8) # y will be 2\n",
    "z = int(\"3\") # z will be 3\n",
    "print(x, y , z)\n",
    "print(type(x), type(y) , type(z))"
   ]
  },
  {
   "cell_type": "code",
   "execution_count": 80,
   "id": "juvenile-satisfaction",
   "metadata": {
    "ExecuteTime": {
     "end_time": "2021-07-31T23:00:51.642711Z",
     "start_time": "2021-07-31T23:00:51.636674Z"
    }
   },
   "outputs": [
    {
     "name": "stdout",
     "output_type": "stream",
     "text": [
      "1.0 2.8 3.0 4.2\n",
      "<class 'float'> <class 'float'> <class 'float'> <class 'float'>\n"
     ]
    }
   ],
   "source": [
    "x = float(1)     # x will be 1.0\n",
    "y = float(2.8)   # y will be 2.8\n",
    "z = float(\"3\")   # z will be 3.0\n",
    "w = float(\"4.2\") # w will be 4.2\n",
    "print(x, y , z , w)\n",
    "print(type(x), type(y) , type(z) , type(w))"
   ]
  },
  {
   "cell_type": "code",
   "execution_count": 81,
   "id": "proper-participant",
   "metadata": {
    "ExecuteTime": {
     "end_time": "2021-07-31T23:01:06.989576Z",
     "start_time": "2021-07-31T23:01:06.979575Z"
    }
   },
   "outputs": [
    {
     "name": "stdout",
     "output_type": "stream",
     "text": [
      "s1 2 3.0\n",
      "<class 'str'> <class 'str'> <class 'str'>\n"
     ]
    }
   ],
   "source": [
    "x = str(\"s1\") # x will be 's1'\n",
    "y = str(2)    # y will be '2'\n",
    "z = str(3.0)  # z will be '3.0'\n",
    "print(x, y , z)\n",
    "print(type(x), type(y) , type(z))"
   ]
  },
  {
   "cell_type": "markdown",
   "id": "changed-hands",
   "metadata": {},
   "source": [
    "## Strings\n",
    "Strings in python are surrounded by either single quotation marks, or double quotation marks.\n",
    "\n",
    "`'hello'` is the same as `\"hello\"`.\n",
    "\n",
    "You can display a string literal with the print() function:"
   ]
  },
  {
   "cell_type": "code",
   "execution_count": null,
   "id": "curious-correction",
   "metadata": {},
   "outputs": [],
   "source": [
    "x = str(\"Hello World\")\n",
    "print(x , \" , \" ,  type(x))"
   ]
  },
  {
   "cell_type": "markdown",
   "id": "temporal-october",
   "metadata": {},
   "source": [
    "## Multiline Strings\n",
    "You can assign a multiline string to a variable by using three quotes:"
   ]
  },
  {
   "cell_type": "code",
   "execution_count": 97,
   "id": "fitted-singles",
   "metadata": {
    "ExecuteTime": {
     "end_time": "2021-07-31T23:05:52.627118Z",
     "start_time": "2021-07-31T23:05:52.620118Z"
    }
   },
   "outputs": [
    {
     "name": "stdout",
     "output_type": "stream",
     "text": [
      "Lorem ipsum dolor sit amet,\n",
      "consectetur adipiscing elit,\n",
      "sed do eiusmod tempor incididunt\n",
      "ut labore et dolore magna aliqua.\n"
     ]
    }
   ],
   "source": [
    "a = \"\"\"Lorem ipsum dolor sit amet,\n",
    "consectetur adipiscing elit,\n",
    "sed do eiusmod tempor incididunt\n",
    "ut labore et dolore magna aliqua.\"\"\"\n",
    "print(a)"
   ]
  },
  {
   "cell_type": "code",
   "execution_count": 86,
   "id": "satisfied-spouse",
   "metadata": {
    "ExecuteTime": {
     "end_time": "2021-07-31T23:03:02.364769Z",
     "start_time": "2021-07-31T23:03:02.348050Z"
    }
   },
   "outputs": [
    {
     "data": {
      "text/plain": [
       "'Lorem ipsum dolor sit amet,\\nconsectetur adipiscing elit,\\nsed do eiusmod tempor incididunt\\nut labore et dolore magna aliqua.'"
      ]
     },
     "execution_count": 86,
     "metadata": {},
     "output_type": "execute_result"
    }
   ],
   "source": [
    "a"
   ]
  },
  {
   "cell_type": "markdown",
   "id": "realistic-desire",
   "metadata": {},
   "source": [
    "# Strings are Arrays\n",
    "strings in Python are arrays of bytes representing unicode characters.\n",
    "\n",
    "However, Python does not have a character data type, a single character is simply a string with a length of 1.\n",
    "\n",
    "Square brackets can be used to access elements of the string."
   ]
  },
  {
   "cell_type": "code",
   "execution_count": 93,
   "id": "comic-missile",
   "metadata": {
    "ExecuteTime": {
     "end_time": "2021-07-31T23:04:22.136793Z",
     "start_time": "2021-07-31T23:04:22.124778Z"
    }
   },
   "outputs": [
    {
     "data": {
      "text/plain": [
       "('o',\n",
       " 't amet,\\nco',\n",
       " 'd tempor incididunt\\nut labore et dolore magna aliqua.',\n",
       " 'Lorem ipsum dolor sit amet,\\nconsectetur adipiscing el')"
      ]
     },
     "execution_count": 93,
     "metadata": {},
     "output_type": "execute_result"
    }
   ],
   "source": [
    "a[1] , a[20:30] ,  a[70:] ,  a[:-70]"
   ]
  },
  {
   "cell_type": "markdown",
   "id": "viral-concord",
   "metadata": {},
   "source": [
    "## Looping Through a String\n",
    "Since strings are arrays, we can loop through the characters in a string, with a for loop."
   ]
  },
  {
   "cell_type": "code",
   "execution_count": 96,
   "id": "ethical-robertson",
   "metadata": {
    "ExecuteTime": {
     "end_time": "2021-07-31T23:05:51.137602Z",
     "start_time": "2021-07-31T23:05:51.133000Z"
    }
   },
   "outputs": [
    {
     "name": "stdout",
     "output_type": "stream",
     "text": [
      "b\n",
      "a\n",
      "n\n",
      "a\n",
      "n\n",
      "a\n"
     ]
    }
   ],
   "source": [
    "for x in \"banana\":\n",
    "    print(x)"
   ]
  },
  {
   "cell_type": "markdown",
   "id": "accepting-collaboration",
   "metadata": {},
   "source": [
    "## String Length\n",
    "To get the length of a string, use the len() function."
   ]
  },
  {
   "cell_type": "code",
   "execution_count": 99,
   "id": "marked-pittsburgh",
   "metadata": {
    "ExecuteTime": {
     "end_time": "2021-07-31T23:06:15.622481Z",
     "start_time": "2021-07-31T23:06:15.611479Z"
    }
   },
   "outputs": [
    {
     "data": {
      "text/plain": [
       "123"
      ]
     },
     "execution_count": 99,
     "metadata": {},
     "output_type": "execute_result"
    }
   ],
   "source": [
    "len(a)"
   ]
  },
  {
   "cell_type": "markdown",
   "id": "environmental-graphics",
   "metadata": {},
   "source": [
    "## Check String\n",
    "To check if a certain phrase or character is present in a string, we can use the keyword in."
   ]
  },
  {
   "cell_type": "code",
   "execution_count": 105,
   "id": "chicken-farmer",
   "metadata": {
    "ExecuteTime": {
     "end_time": "2021-07-31T23:08:36.052413Z",
     "start_time": "2021-07-31T23:08:36.043414Z"
    }
   },
   "outputs": [
    {
     "name": "stdout",
     "output_type": "stream",
     "text": [
      "False\n",
      "True\n",
      "True\n",
      "Yes, we can find it.\n"
     ]
    }
   ],
   "source": [
    "print(\"free\" in a)\n",
    "print(\"incididunt\" in a)\n",
    "print(\"expensive\" not in a)\n",
    "if \"incididunt\" in a:\n",
    "    print(\"Yes, we can find it.\")\n",
    "else:\n",
    "    print(\"Nope!\")"
   ]
  },
  {
   "cell_type": "markdown",
   "id": "conditional-biography",
   "metadata": {},
   "source": [
    "## Slicing\n",
    "You can return a range of characters by using the slice syntax.\n",
    "\n",
    "Specify the start index and the end index, separated by a colon, to return a part of the string."
   ]
  },
  {
   "cell_type": "code",
   "execution_count": 109,
   "id": "rubber-people",
   "metadata": {
    "ExecuteTime": {
     "end_time": "2021-07-31T23:10:51.079971Z",
     "start_time": "2021-07-31T23:10:51.076939Z"
    }
   },
   "outputs": [
    {
     "name": "stdout",
     "output_type": "stream",
     "text": [
      "llo, W\n",
      "Hello\n",
      "llo, World!\n",
      "orl\n"
     ]
    }
   ],
   "source": [
    "b = \"Hello, World!\"\n",
    "print(b[2:8])\n",
    "print(b[:5]) #Slice From the Start\n",
    "print(b[2:]) # Slice To the End\n",
    "print(b[-5:-2]) # Negative Indexing"
   ]
  },
  {
   "cell_type": "markdown",
   "id": "rising-casting",
   "metadata": {},
   "source": [
    "## Modify Strings\n",
    "Python has a set of built-in methods that you can use on strings.\n",
    "### Upper Case\n",
    "### Lower Case\n",
    "### Remove Whitespace\n",
    "The strip() method removes any whitespace from the beginning or the end."
   ]
  },
  {
   "cell_type": "code",
   "execution_count": 111,
   "id": "copyrighted-patent",
   "metadata": {
    "ExecuteTime": {
     "end_time": "2021-07-31T23:13:13.944023Z",
     "start_time": "2021-07-31T23:13:13.932992Z"
    }
   },
   "outputs": [
    {
     "name": "stdout",
     "output_type": "stream",
     "text": [
      " HELLO, WORLD!  hello, world! Hello, World!\n"
     ]
    }
   ],
   "source": [
    "a = \" Hello, World!\"\n",
    "print(a.upper() , a.lower() , a.strip())"
   ]
  },
  {
   "cell_type": "markdown",
   "id": "incorrect-damages",
   "metadata": {},
   "source": [
    "### Replace String"
   ]
  },
  {
   "cell_type": "code",
   "execution_count": 116,
   "id": "israeli-culture",
   "metadata": {
    "ExecuteTime": {
     "end_time": "2021-07-31T23:15:16.625979Z",
     "start_time": "2021-07-31T23:15:16.621980Z"
    }
   },
   "outputs": [
    {
     "data": {
      "text/plain": [
       "' HeMMo, WorMd!'"
      ]
     },
     "execution_count": 116,
     "metadata": {},
     "output_type": "execute_result"
    }
   ],
   "source": [
    "a = \" Hello, World!\"\n",
    "a.replace(\"l\", \"M\")"
   ]
  },
  {
   "cell_type": "markdown",
   "id": "after-salmon",
   "metadata": {},
   "source": [
    "## Split String\n",
    "The split() method returns a list where the text between the specified separator becomes the list items."
   ]
  },
  {
   "cell_type": "code",
   "execution_count": 123,
   "id": "announced-shade",
   "metadata": {
    "ExecuteTime": {
     "end_time": "2021-07-31T23:16:52.164616Z",
     "start_time": "2021-07-31T23:16:52.155617Z"
    }
   },
   "outputs": [
    {
     "data": {
      "text/plain": [
       "[' Hell', ', W', 'rld!']"
      ]
     },
     "execution_count": 123,
     "metadata": {},
     "output_type": "execute_result"
    }
   ],
   "source": [
    "a.split(\"o\")"
   ]
  },
  {
   "cell_type": "markdown",
   "id": "foster-cambridge",
   "metadata": {},
   "source": [
    "## String Concatenation\n",
    "To concatenate, or combine, two strings you can use the + operator."
   ]
  },
  {
   "cell_type": "code",
   "execution_count": 127,
   "id": "coordinated-angle",
   "metadata": {
    "ExecuteTime": {
     "end_time": "2021-07-31T23:18:03.425805Z",
     "start_time": "2021-07-31T23:18:03.420807Z"
    }
   },
   "outputs": [
    {
     "name": "stdout",
     "output_type": "stream",
     "text": [
      "Ali World\n"
     ]
    }
   ],
   "source": [
    "a = \"Ali\"\n",
    "b = \"World\"\n",
    "c = a + \" \" + b\n",
    "print(c)"
   ]
  },
  {
   "cell_type": "markdown",
   "id": "duplicate-number",
   "metadata": {},
   "source": [
    "## String Format\n",
    "The format() method takes the passed arguments, formats them, and places them in the string where the placeholders {} are:"
   ]
  },
  {
   "cell_type": "code",
   "execution_count": 128,
   "id": "patent-heritage",
   "metadata": {
    "ExecuteTime": {
     "end_time": "2021-07-31T23:22:02.961718Z",
     "start_time": "2021-07-31T23:22:02.955715Z"
    }
   },
   "outputs": [
    {
     "name": "stdout",
     "output_type": "stream",
     "text": [
      "My name is Ali and I am 35 years old\n"
     ]
    }
   ],
   "source": [
    "age= 35\n",
    "txt = \"My name is Ali and I am {} years old\"\n",
    "print(txt.format(age))"
   ]
  },
  {
   "cell_type": "code",
   "execution_count": 130,
   "id": "pretty-parliament",
   "metadata": {
    "ExecuteTime": {
     "end_time": "2021-07-31T23:23:03.791746Z",
     "start_time": "2021-07-31T23:23:03.780714Z"
    }
   },
   "outputs": [
    {
     "name": "stdout",
     "output_type": "stream",
     "text": [
      "I want 3 pieces of item 567 for 49.95 dollars.\n"
     ]
    }
   ],
   "source": [
    "quantity = 3\n",
    "itemno = 567\n",
    "price = 49.95\n",
    "myorder = \"I want {} pieces of item {} for {} dollars.\"\n",
    "print(myorder.format(quantity, itemno, price))"
   ]
  },
  {
   "cell_type": "markdown",
   "id": "artificial-plain",
   "metadata": {},
   "source": [
    "You can use index numbers {0} to be sure the arguments are placed in the correct placeholders:"
   ]
  },
  {
   "cell_type": "code",
   "execution_count": 132,
   "id": "robust-nicaragua",
   "metadata": {
    "ExecuteTime": {
     "end_time": "2021-07-31T23:23:15.405630Z",
     "start_time": "2021-07-31T23:23:15.395599Z"
    }
   },
   "outputs": [
    {
     "name": "stdout",
     "output_type": "stream",
     "text": [
      "I want to pay 494.95 dollars for 4 pieces of item 5567.\n"
     ]
    }
   ],
   "source": [
    "quantity = 4\n",
    "itemno = 5567\n",
    "price = 494.95\n",
    "myorder = \"I want to pay {2} dollars for {0} pieces of item {1}.\"\n",
    "print(myorder.format(quantity, itemno, price))"
   ]
  },
  {
   "cell_type": "markdown",
   "id": "presidential-experience",
   "metadata": {},
   "source": [
    "## Escape Characters\n",
    "| Code | Result |\n",
    "|------|--------| \n",
    "| \\\\ | Backslash |\n",
    "| \\n | New Line |\n",
    "| \\r | Carriage Return  |\n",
    "| \\t | Tab |\n",
    "| \\b | Backspace |\n",
    "| \\f | Form Feed |\n",
    "| \\ooo | Octal value  |\n",
    "| \\xhh | Hex value  |"
   ]
  },
  {
   "cell_type": "markdown",
   "id": "brazilian-lounge",
   "metadata": {},
   "source": [
    "## Booleans\n",
    "Booleans represent one of two values: True or False.\n",
    "\n",
    "In programming you often need to know if an expression is True or False.\n",
    "\n",
    "You can evaluate any expression in Python, and get one of two answers, True or False.\n",
    "\n",
    "When you compare two values, the expression is evaluated and Python returns the Boolean answer:"
   ]
  },
  {
   "cell_type": "code",
   "execution_count": 136,
   "id": "physical-pressing",
   "metadata": {
    "ExecuteTime": {
     "end_time": "2021-07-31T23:28:31.633387Z",
     "start_time": "2021-07-31T23:28:31.624360Z"
    }
   },
   "outputs": [
    {
     "name": "stdout",
     "output_type": "stream",
     "text": [
      "True  ,  <class 'bool'>\n",
      "True\n",
      "True\n"
     ]
    }
   ],
   "source": [
    "x = bool(5)\n",
    "print(x , \" , \" ,  type(x))\n",
    "print(bool(\"Hello\"))\n",
    "print(bool(15))"
   ]
  },
  {
   "cell_type": "code",
   "execution_count": 133,
   "id": "cellular-piece",
   "metadata": {
    "ExecuteTime": {
     "end_time": "2021-07-31T23:27:10.662407Z",
     "start_time": "2021-07-31T23:27:10.647340Z"
    }
   },
   "outputs": [
    {
     "name": "stdout",
     "output_type": "stream",
     "text": [
      "True\n",
      "False\n",
      "False\n"
     ]
    }
   ],
   "source": [
    "print(10 > 9)\n",
    "print(10 == 9)\n",
    "print(10 < 9)"
   ]
  },
  {
   "cell_type": "code",
   "execution_count": 135,
   "id": "private-trust",
   "metadata": {
    "ExecuteTime": {
     "end_time": "2021-07-31T23:28:19.369744Z",
     "start_time": "2021-07-31T23:28:19.356716Z"
    }
   },
   "outputs": [
    {
     "name": "stdout",
     "output_type": "stream",
     "text": [
      "B is not greater than a\n"
     ]
    }
   ],
   "source": [
    "a = 500\n",
    "b = 33\n",
    "if b > a:\n",
    "    print(\"B is greater than a\")\n",
    "else:\n",
    "    print(\"B is not greater than a\")"
   ]
  },
  {
   "cell_type": "code",
   "execution_count": 137,
   "id": "formal-access",
   "metadata": {
    "ExecuteTime": {
     "end_time": "2021-07-31T23:28:52.185649Z",
     "start_time": "2021-07-31T23:28:52.176654Z"
    }
   },
   "outputs": [
    {
     "name": "stdout",
     "output_type": "stream",
     "text": [
      "True\n",
      "True\n"
     ]
    }
   ],
   "source": [
    "x = \"Hello\"\n",
    "y = 15\n",
    "\n",
    "print(bool(x))\n",
    "print(bool(y))"
   ]
  },
  {
   "cell_type": "markdown",
   "id": "czech-console",
   "metadata": {},
   "source": [
    "### Most Values are True\n",
    "Almost any value is evaluated to True if it has some sort of content.\n",
    "\n",
    "Any string is True, except empty strings.\n",
    "\n",
    "Any number is True, except 0.\n",
    "\n",
    "Any list, tuple, set, and dictionary are True, except empty ones."
   ]
  },
  {
   "cell_type": "code",
   "execution_count": 146,
   "id": "divided-delivery",
   "metadata": {
    "ExecuteTime": {
     "end_time": "2021-07-31T23:31:03.066296Z",
     "start_time": "2021-07-31T23:31:03.053296Z"
    }
   },
   "outputs": [
    {
     "name": "stdout",
     "output_type": "stream",
     "text": [
      "True\n",
      "True\n",
      "True\n",
      "------------------\n",
      "False\n",
      "False\n",
      "False\n",
      "False\n",
      "False\n",
      "False\n",
      "False\n"
     ]
    }
   ],
   "source": [
    "print(bool(\"abc\"))\n",
    "print(bool(123))\n",
    "print(bool([\"apple\", \"cherry\", \"banana\"]))\n",
    "print(\"------------------\")\n",
    "print(bool(False))\n",
    "print(bool(None))\n",
    "print(bool(0))\n",
    "print(bool(\"\"))\n",
    "print(bool(()))\n",
    "print(bool([]))\n",
    "print(bool({}))"
   ]
  },
  {
   "cell_type": "code",
   "execution_count": 147,
   "id": "beneficial-worker",
   "metadata": {
    "ExecuteTime": {
     "end_time": "2021-07-31T23:31:52.746479Z",
     "start_time": "2021-07-31T23:31:52.732491Z"
    }
   },
   "outputs": [
    {
     "name": "stdout",
     "output_type": "stream",
     "text": [
      "True\n"
     ]
    }
   ],
   "source": [
    "def myFunction() :\n",
    "  return True\n",
    "\n",
    "print(myFunction())"
   ]
  },
  {
   "cell_type": "code",
   "execution_count": 148,
   "id": "specialized-shield",
   "metadata": {
    "ExecuteTime": {
     "end_time": "2021-07-31T23:31:57.478424Z",
     "start_time": "2021-07-31T23:31:57.460365Z"
    }
   },
   "outputs": [
    {
     "name": "stdout",
     "output_type": "stream",
     "text": [
      "YES!\n"
     ]
    }
   ],
   "source": [
    "def myFunction() :\n",
    "  return True\n",
    "\n",
    "if myFunction():\n",
    "  print(\"YES!\")\n",
    "else:\n",
    "  print(\"NO!\")"
   ]
  },
  {
   "cell_type": "code",
   "execution_count": 149,
   "id": "accomplished-spending",
   "metadata": {
    "ExecuteTime": {
     "end_time": "2021-07-31T23:32:02.351741Z",
     "start_time": "2021-07-31T23:32:02.339712Z"
    }
   },
   "outputs": [
    {
     "name": "stdout",
     "output_type": "stream",
     "text": [
      "True\n"
     ]
    }
   ],
   "source": [
    "x = 200\n",
    "print(isinstance(x, int))"
   ]
  },
  {
   "cell_type": "markdown",
   "id": "regular-reserve",
   "metadata": {},
   "source": [
    "# Operators\n",
    "Operators are used to perform operations on variables and values."
   ]
  },
  {
   "cell_type": "code",
   "execution_count": 150,
   "id": "classical-taylor",
   "metadata": {
    "ExecuteTime": {
     "end_time": "2021-07-31T23:32:36.840412Z",
     "start_time": "2021-07-31T23:32:36.828382Z"
    }
   },
   "outputs": [
    {
     "name": "stdout",
     "output_type": "stream",
     "text": [
      "15\n"
     ]
    }
   ],
   "source": [
    "print(10 + 5)"
   ]
  },
  {
   "cell_type": "markdown",
   "id": "continuous-vampire",
   "metadata": {},
   "source": [
    "Python divides the operators in the following groups:\n",
    "\n",
    "### Arithmetic operators\n",
    "\n",
    "![](./i/Arithmeticoperators.jpg)\n",
    "\n",
    "### Assignment operators\n",
    "\n",
    "![](./i/Assignment_Operators.jpg)\n",
    "\n",
    "### Comparison operators\n",
    "\n",
    "![](./i/Comparison_Operators.jpg)\n",
    "\n",
    "### Logical operators\n",
    "\n",
    "![](./i/Logical_Operators.jpg)\n",
    "\n",
    "### Identity operators\n",
    "\n",
    "![](./i/Identity_Operators.jpg)\n",
    "\n",
    "### Membership operators\n",
    "\n",
    "\n",
    "![](./i/Membership_operators.jpg)\n",
    "\n",
    "###  Bitwise operators\n",
    "\n",
    "![](./i/Bitwise_operators.jpg)\n"
   ]
  },
  {
   "cell_type": "markdown",
   "id": "minor-berlin",
   "metadata": {},
   "source": [
    "# Lists"
   ]
  },
  {
   "cell_type": "code",
   "execution_count": 153,
   "id": "individual-processing",
   "metadata": {
    "ExecuteTime": {
     "end_time": "2021-07-31T23:54:25.414086Z",
     "start_time": "2021-07-31T23:54:25.405087Z"
    }
   },
   "outputs": [
    {
     "name": "stdout",
     "output_type": "stream",
     "text": [
      "['apple', 'banana', 'cherry']  ,  <class 'list'>\n"
     ]
    }
   ],
   "source": [
    "x = list((\"apple\", \"banana\", \"cherry\"))\n",
    "print(x , \" , \" ,  type(x))"
   ]
  },
  {
   "cell_type": "code",
   "execution_count": null,
   "id": "bottom-tiger",
   "metadata": {},
   "outputs": [],
   "source": []
  },
  {
   "cell_type": "code",
   "execution_count": null,
   "id": "latest-child",
   "metadata": {},
   "outputs": [],
   "source": []
  },
  {
   "cell_type": "code",
   "execution_count": null,
   "id": "sitting-moisture",
   "metadata": {},
   "outputs": [],
   "source": []
  },
  {
   "cell_type": "code",
   "execution_count": 40,
   "id": "liberal-return",
   "metadata": {
    "ExecuteTime": {
     "end_time": "2021-07-31T22:46:50.340863Z",
     "start_time": "2021-07-31T22:46:50.325834Z"
    }
   },
   "outputs": [
    {
     "name": "stdout",
     "output_type": "stream",
     "text": [
      "['apple', 'banana', 'cherry']  ,  <class 'list'>\n"
     ]
    }
   ],
   "source": []
  },
  {
   "cell_type": "code",
   "execution_count": 41,
   "id": "false-peripheral",
   "metadata": {
    "ExecuteTime": {
     "end_time": "2021-07-31T22:47:20.380084Z",
     "start_time": "2021-07-31T22:47:20.369084Z"
    }
   },
   "outputs": [
    {
     "name": "stdout",
     "output_type": "stream",
     "text": [
      "('apple', 'banana', 'cherry')  ,  <class 'tuple'>\n"
     ]
    }
   ],
   "source": [
    "x = tuple((\"apple\", \"banana\", \"cherry\"))\n",
    "print(x , \" , \" ,  type(x))"
   ]
  },
  {
   "cell_type": "code",
   "execution_count": 42,
   "id": "electronic-assembly",
   "metadata": {
    "ExecuteTime": {
     "end_time": "2021-07-31T22:47:22.990823Z",
     "start_time": "2021-07-31T22:47:22.985825Z"
    }
   },
   "outputs": [
    {
     "name": "stdout",
     "output_type": "stream",
     "text": [
      "range(0, 6)  ,  <class 'range'>\n"
     ]
    }
   ],
   "source": [
    "x = range(6)\n",
    "print(x , \" , \" ,  type(x))"
   ]
  },
  {
   "cell_type": "code",
   "execution_count": 43,
   "id": "insured-castle",
   "metadata": {
    "ExecuteTime": {
     "end_time": "2021-07-31T22:47:30.293768Z",
     "start_time": "2021-07-31T22:47:30.287770Z"
    }
   },
   "outputs": [
    {
     "name": "stdout",
     "output_type": "stream",
     "text": [
      "{'name': 'John', 'age': 36}  ,  <class 'dict'>\n"
     ]
    }
   ],
   "source": [
    "x = dict(name=\"John\", age=36)\n",
    "print(x , \" , \" ,  type(x))"
   ]
  },
  {
   "cell_type": "code",
   "execution_count": 44,
   "id": "amino-spoke",
   "metadata": {
    "ExecuteTime": {
     "end_time": "2021-07-31T22:47:33.972956Z",
     "start_time": "2021-07-31T22:47:33.957935Z"
    }
   },
   "outputs": [
    {
     "name": "stdout",
     "output_type": "stream",
     "text": [
      "{'apple', 'banana', 'cherry'}  ,  <class 'set'>\n"
     ]
    }
   ],
   "source": [
    "x = set((\"apple\", \"banana\", \"cherry\"))\n",
    "print(x , \" , \" ,  type(x))"
   ]
  },
  {
   "cell_type": "code",
   "execution_count": 45,
   "id": "laughing-matrix",
   "metadata": {
    "ExecuteTime": {
     "end_time": "2021-07-31T22:47:35.932627Z",
     "start_time": "2021-07-31T22:47:35.925602Z"
    }
   },
   "outputs": [
    {
     "name": "stdout",
     "output_type": "stream",
     "text": [
      "frozenset({'apple', 'banana', 'cherry'})  ,  <class 'frozenset'>\n"
     ]
    }
   ],
   "source": [
    "x = frozenset((\"apple\", \"banana\", \"cherry\"))\n",
    "print(x , \" , \" ,  type(x))"
   ]
  },
  {
   "cell_type": "code",
   "execution_count": 46,
   "id": "described-scholarship",
   "metadata": {
    "ExecuteTime": {
     "end_time": "2021-07-31T22:47:38.154862Z",
     "start_time": "2021-07-31T22:47:38.150826Z"
    }
   },
   "outputs": [
    {
     "name": "stdout",
     "output_type": "stream",
     "text": [
      "True  ,  <class 'bool'>\n"
     ]
    }
   ],
   "source": []
  },
  {
   "cell_type": "code",
   "execution_count": 47,
   "id": "realistic-industry",
   "metadata": {
    "ExecuteTime": {
     "end_time": "2021-07-31T22:47:40.608595Z",
     "start_time": "2021-07-31T22:47:40.604595Z"
    }
   },
   "outputs": [
    {
     "name": "stdout",
     "output_type": "stream",
     "text": [
      "b'\\x00\\x00\\x00\\x00\\x00'  ,  <class 'bytes'>\n"
     ]
    }
   ],
   "source": [
    "x = bytes(5)\n",
    "print(x , \" , \" ,  type(x))"
   ]
  },
  {
   "cell_type": "code",
   "execution_count": 48,
   "id": "humanitarian-dragon",
   "metadata": {
    "ExecuteTime": {
     "end_time": "2021-07-31T22:47:42.874989Z",
     "start_time": "2021-07-31T22:47:42.867988Z"
    }
   },
   "outputs": [
    {
     "name": "stdout",
     "output_type": "stream",
     "text": [
      "bytearray(b'\\x00\\x00\\x00\\x00\\x00')  ,  <class 'bytearray'>\n"
     ]
    }
   ],
   "source": [
    "x = bytearray(5)\n",
    "print(x , \" , \" ,  type(x))"
   ]
  },
  {
   "cell_type": "code",
   "execution_count": 49,
   "id": "european-manchester",
   "metadata": {
    "ExecuteTime": {
     "end_time": "2021-07-31T22:47:45.974858Z",
     "start_time": "2021-07-31T22:47:45.963859Z"
    }
   },
   "outputs": [
    {
     "name": "stdout",
     "output_type": "stream",
     "text": [
      "<memory at 0x000001D1749C6DC8>  ,  <class 'memoryview'>\n"
     ]
    }
   ],
   "source": [
    "x = memoryview(bytes(5))\n",
    "print(x , \" , \" ,  type(x))"
   ]
  }
 ],
 "metadata": {
  "kernelspec": {
   "display_name": "tensorflow",
   "language": "python",
   "name": "tensorflow"
  },
  "language_info": {
   "codemirror_mode": {
    "name": "ipython",
    "version": 3
   },
   "file_extension": ".py",
   "mimetype": "text/x-python",
   "name": "python",
   "nbconvert_exporter": "python",
   "pygments_lexer": "ipython3",
   "version": "3.7.9"
  },
  "toc": {
   "base_numbering": 1,
   "nav_menu": {},
   "number_sections": true,
   "sideBar": true,
   "skip_h1_title": false,
   "title_cell": "Table of Contents",
   "title_sidebar": "Contents",
   "toc_cell": false,
   "toc_position": {},
   "toc_section_display": true,
   "toc_window_display": true
  }
 },
 "nbformat": 4,
 "nbformat_minor": 5
}
