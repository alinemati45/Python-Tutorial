{
 "cells": [
  {
   "cell_type": "markdown",
   "id": "geographic-botswana",
   "metadata": {},
   "source": [
    "# Creating Variables\n",
    "\n",
    "Variables do not need to be declared with any particular type, and can even change type after they have been set.\n",
    "\n",
    "## Case-Sensitive\n",
    "Variable names are case-sensitive."
   ]
  },
  {
   "cell_type": "code",
   "execution_count": 1,
   "id": "cubic-philosophy",
   "metadata": {
    "ExecuteTime": {
     "end_time": "2021-08-01T00:16:42.291863Z",
     "start_time": "2021-08-01T00:16:42.277833Z"
    }
   },
   "outputs": [
    {
     "name": "stdout",
     "output_type": "stream",
     "text": [
      "5\n",
      "John\n",
      "4\n"
     ]
    }
   ],
   "source": [
    "x = 5 # x is of type int\n",
    "y = \"John\" # x is now of type str\n",
    "X = 4\n",
    "print(x)\n",
    "print(y)\n",
    "print(X)"
   ]
  },
  {
   "cell_type": "markdown",
   "id": "dominican-flight",
   "metadata": {},
   "source": [
    "## Casting\n",
    "If you want to specify the data type of a variable, this can be done with casting"
   ]
  },
  {
   "cell_type": "code",
   "execution_count": 2,
   "id": "urban-opportunity",
   "metadata": {
    "ExecuteTime": {
     "end_time": "2021-08-01T00:16:42.306871Z",
     "start_time": "2021-08-01T00:16:42.292833Z"
    }
   },
   "outputs": [
    {
     "data": {
      "text/plain": [
       "(str, int, float)"
      ]
     },
     "execution_count": 2,
     "metadata": {},
     "output_type": "execute_result"
    }
   ],
   "source": [
    "x =str(3)\n",
    "y = int(3)\n",
    "z= float(3)\n",
    "type(x) , type(y) , type(z)"
   ]
  },
  {
   "cell_type": "markdown",
   "id": "likely-panel",
   "metadata": {},
   "source": [
    "## Variable Names\n",
    "A variable can have a short name (like x and y) or a more descriptive name (age, carname, total_volume). \n",
    "###  Rules for Python variables:\n",
    "1. A variable name must start with a letter or the underscore character\n",
    "2. A variable name cannot start with a number\n",
    "3. A variable name can only contain alpha-numeric characters and underscores (A-z, 0-9, and _ )\n",
    "4. Variable names are case-sensitive (age, Age and AGE are three different variables)"
   ]
  },
  {
   "cell_type": "code",
   "execution_count": 3,
   "id": "close-checkout",
   "metadata": {
    "ExecuteTime": {
     "end_time": "2021-08-01T00:16:42.322835Z",
     "start_time": "2021-08-01T00:16:42.307835Z"
    }
   },
   "outputs": [],
   "source": [
    "myvar = \"John\"\n",
    "my_var = \"John\"\n",
    "_my_var = \"John\"\n",
    "myVar = \"John\"\n",
    "MYVAR = \"John\"\n",
    "myvar2 = \"John\""
   ]
  },
  {
   "cell_type": "markdown",
   "id": "daily-grade",
   "metadata": {},
   "source": [
    "## Multi Words Variable Names\n",
    "Variable names with more than one word can be difficult to read.\n",
    "\n",
    "There are several techniques you can use to make them more readable:\n",
    "\n",
    "### Camel Case\n",
    "Each word, except the first, starts with a capital letter:"
   ]
  },
  {
   "cell_type": "code",
   "execution_count": 4,
   "id": "floral-glass",
   "metadata": {
    "ExecuteTime": {
     "end_time": "2021-08-01T00:16:42.337834Z",
     "start_time": "2021-08-01T00:16:42.323832Z"
    }
   },
   "outputs": [],
   "source": [
    "myVariableName = \"John\""
   ]
  },
  {
   "cell_type": "markdown",
   "id": "excessive-craps",
   "metadata": {},
   "source": [
    "### Pascal Case\n",
    "Each word starts with a capital letter:"
   ]
  },
  {
   "cell_type": "code",
   "execution_count": 5,
   "id": "close-happiness",
   "metadata": {
    "ExecuteTime": {
     "end_time": "2021-08-01T00:16:42.352834Z",
     "start_time": "2021-08-01T00:16:42.338838Z"
    }
   },
   "outputs": [],
   "source": [
    "MyVariableName = \"John\""
   ]
  },
  {
   "cell_type": "markdown",
   "id": "fiscal-rebate",
   "metadata": {
    "ExecuteTime": {
     "end_time": "2021-07-31T22:22:17.282635Z",
     "start_time": "2021-07-31T22:22:17.264656Z"
    }
   },
   "source": [
    "### Snake Case\n",
    "Each word is separated by an underscore character:"
   ]
  },
  {
   "cell_type": "code",
   "execution_count": 6,
   "id": "embedded-begin",
   "metadata": {
    "ExecuteTime": {
     "end_time": "2021-08-01T00:16:42.368860Z",
     "start_time": "2021-08-01T00:16:42.353834Z"
    }
   },
   "outputs": [],
   "source": [
    "my_variable_name = \"John\""
   ]
  },
  {
   "cell_type": "markdown",
   "id": "english-annotation",
   "metadata": {},
   "source": [
    "## Many Values to Multiple Variables\n",
    "Python allows you to assign values to multiple variables in one line:"
   ]
  },
  {
   "cell_type": "code",
   "execution_count": 7,
   "id": "fossil-syndrome",
   "metadata": {
    "ExecuteTime": {
     "end_time": "2021-08-01T00:16:42.383873Z",
     "start_time": "2021-08-01T00:16:42.369836Z"
    }
   },
   "outputs": [
    {
     "name": "stdout",
     "output_type": "stream",
     "text": [
      "Oregon Milaukee Delvar\n"
     ]
    }
   ],
   "source": [
    "x , y , z = \"Oregon\" , \"Milaukee\" , \"Delvar\"\n",
    "print(x , y , z)"
   ]
  },
  {
   "cell_type": "markdown",
   "id": "annual-olive",
   "metadata": {},
   "source": [
    "## One Value to Multiple Variables\n",
    "And you can assign the same value to multiple variables in one line:\n",
    "\n"
   ]
  },
  {
   "cell_type": "code",
   "execution_count": 8,
   "id": "cloudy-composition",
   "metadata": {
    "ExecuteTime": {
     "end_time": "2021-08-01T00:16:42.399858Z",
     "start_time": "2021-08-01T00:16:42.385833Z"
    }
   },
   "outputs": [
    {
     "name": "stdout",
     "output_type": "stream",
     "text": [
      "Orange Orange Orange\n"
     ]
    }
   ],
   "source": [
    "x = y = z = \"Orange\"\n",
    "print (x,  y  , z)"
   ]
  },
  {
   "cell_type": "markdown",
   "id": "removed-drama",
   "metadata": {},
   "source": [
    "## Unpack a Collection\n",
    "If you have a collection of values in a list, tuple etc. Python allows you extract the values into variables. This is called unpacking."
   ]
  },
  {
   "cell_type": "code",
   "execution_count": 9,
   "id": "metropolitan-destiny",
   "metadata": {
    "ExecuteTime": {
     "end_time": "2021-08-01T00:16:42.414872Z",
     "start_time": "2021-08-01T00:16:42.400833Z"
    }
   },
   "outputs": [
    {
     "name": "stdout",
     "output_type": "stream",
     "text": [
      "apple banana cherry\n"
     ]
    }
   ],
   "source": [
    "furits = [\"apple\", \"banana\", \"cherry\"]\n",
    "x , y , z = furits\n",
    "print (x,  y  , z)"
   ]
  },
  {
   "cell_type": "markdown",
   "id": "vulnerable-england",
   "metadata": {},
   "source": [
    "## Output Variables\n",
    "The Python print statement is often used to output variables.\n",
    "\n",
    "To combine both text and a variable, Python uses the `+` character:"
   ]
  },
  {
   "cell_type": "code",
   "execution_count": 10,
   "id": "athletic-stephen",
   "metadata": {
    "ExecuteTime": {
     "end_time": "2021-08-01T00:16:42.429864Z",
     "start_time": "2021-08-01T00:16:42.415836Z"
    }
   },
   "outputs": [
    {
     "name": "stdout",
     "output_type": "stream",
     "text": [
      "Python  is Awesome\n"
     ]
    }
   ],
   "source": [
    "x = \"Awesome\"\n",
    "print(\"Python  is \" + x)"
   ]
  },
  {
   "cell_type": "code",
   "execution_count": 11,
   "id": "fundamental-wallet",
   "metadata": {
    "ExecuteTime": {
     "end_time": "2021-08-01T00:16:42.444834Z",
     "start_time": "2021-08-01T00:16:42.430836Z"
    }
   },
   "outputs": [
    {
     "name": "stdout",
     "output_type": "stream",
     "text": [
      "Ali Nemati\n"
     ]
    }
   ],
   "source": [
    "x = \"Ali\"\n",
    "y = \" Nemati\"\n",
    "z =  x + y\n",
    "print(z)"
   ]
  },
  {
   "cell_type": "code",
   "execution_count": 12,
   "id": "chronic-couple",
   "metadata": {
    "ExecuteTime": {
     "end_time": "2021-08-01T00:16:42.460833Z",
     "start_time": "2021-08-01T00:16:42.445835Z"
    }
   },
   "outputs": [
    {
     "name": "stdout",
     "output_type": "stream",
     "text": [
      "15\n"
     ]
    }
   ],
   "source": [
    "x = 5\n",
    "y = 10\n",
    "print(x + y)"
   ]
  },
  {
   "cell_type": "markdown",
   "id": "photographic-maximum",
   "metadata": {},
   "source": [
    "## Global Variables\n",
    "Variables that are created outside of a function (as in all of the examples above) are known as global variables.\n",
    "\n",
    "Global variables can be used by everyone, both inside of functions and outside.\n",
    "\n",
    "Create a variable outside of a function, and use it inside the function\n",
    "\n"
   ]
  },
  {
   "cell_type": "code",
   "execution_count": 13,
   "id": "preliminary-limitation",
   "metadata": {
    "ExecuteTime": {
     "end_time": "2021-08-01T00:16:42.475833Z",
     "start_time": "2021-08-01T00:16:42.461834Z"
    }
   },
   "outputs": [
    {
     "name": "stdout",
     "output_type": "stream",
     "text": [
      "Python is Awesome\n"
     ]
    }
   ],
   "source": [
    "x = \"Awesome\"\n",
    "\n",
    "def myfunc():\n",
    "    print(\"Python is \" + x)\n",
    "\n",
    "myfunc()"
   ]
  },
  {
   "cell_type": "markdown",
   "id": "complex-architect",
   "metadata": {},
   "source": [
    "## Local Variables\n",
    "\n",
    "\n",
    "If you create a variable with the same name inside a function, this variable will be local, and can only be used inside the function. The global variable with the same name will remain as it was, global and with the original value.\n",
    "\n"
   ]
  },
  {
   "cell_type": "code",
   "execution_count": 14,
   "id": "polish-serve",
   "metadata": {
    "ExecuteTime": {
     "end_time": "2021-08-01T00:16:42.491834Z",
     "start_time": "2021-08-01T00:16:42.476836Z"
    }
   },
   "outputs": [
    {
     "name": "stdout",
     "output_type": "stream",
     "text": [
      "Python is  Fantastic\n"
     ]
    }
   ],
   "source": [
    "x = \"Awesome\"\n",
    "\n",
    "def myfunc():\n",
    "    x = \" Fantastic\"\n",
    "    print(\"Python is \" + x)\n",
    "\n",
    "myfunc()"
   ]
  },
  {
   "cell_type": "markdown",
   "id": "split-mechanics",
   "metadata": {},
   "source": [
    "## The global Keyword\n",
    "Normally, when you create a variable inside a function, that variable is local, and can only be used inside that function.\n",
    "\n",
    "To create a global variable inside a function, you can use the **global** keyword."
   ]
  },
  {
   "cell_type": "code",
   "execution_count": 15,
   "id": "simple-mexico",
   "metadata": {
    "ExecuteTime": {
     "end_time": "2021-08-01T00:16:42.506835Z",
     "start_time": "2021-08-01T00:16:42.492833Z"
    }
   },
   "outputs": [
    {
     "name": "stdout",
     "output_type": "stream",
     "text": [
      "ptyhon is Test\n"
     ]
    }
   ],
   "source": [
    "x = \"Test\"\n",
    "def func():\n",
    "    global x\n",
    "    x = \"Fantastic for EVER!\"\n",
    "\n",
    "\n",
    "\n",
    "print(\"ptyhon is \" + x)"
   ]
  },
  {
   "cell_type": "code",
   "execution_count": 16,
   "id": "express-commission",
   "metadata": {
    "ExecuteTime": {
     "end_time": "2021-08-01T00:16:42.521835Z",
     "start_time": "2021-08-01T00:16:42.507834Z"
    }
   },
   "outputs": [
    {
     "name": "stdout",
     "output_type": "stream",
     "text": [
      "ptyhon is Fantastic for EVER!\n"
     ]
    }
   ],
   "source": [
    "x = \"Test\"\n",
    "def func():\n",
    "    global x\n",
    "    x = \"Fantastic for EVER!\"\n",
    "\n",
    "func()\n",
    "\n",
    "print(\"ptyhon is \" + x)"
   ]
  },
  {
   "cell_type": "markdown",
   "id": "peripheral-collectible",
   "metadata": {
    "ExecuteTime": {
     "end_time": "2021-07-31T22:42:23.465014Z",
     "start_time": "2021-07-31T22:42:23.447013Z"
    }
   },
   "source": [
    "# Python Data Types\n",
    "Built-in Data Types\n",
    "In programming, data type is an important concept.\n",
    "\n",
    "Variables can store data of different types, and different types can do different things.\n",
    "\n",
    "Python has the following data types built-in by default, in these categories:\n",
    "    \n",
    "| data type | Description |\n",
    "|-----------|-------------|\n",
    "| Text Type: | str |\n",
    "| Numeric Types: | int, float, complex |\n",
    "| Sequence Types: | list, tuple, range |\n",
    "| Mapping Type: | dict |\n",
    "| Set Types: | set, frozenset |\n",
    "| Boolean Type: | bool |\n",
    "| Binary Types: | bytes, bytearray, memoryview |"
   ]
  },
  {
   "cell_type": "markdown",
   "id": "introductory-mortgage",
   "metadata": {},
   "source": [
    "## Python Numbers\n",
    "There are three numeric types in Python:\n",
    "\n",
    "1. int : Int, or integer, is a whole number, positive or negative, without decimals, of unlimited length.\n",
    "2. float :  Float, or \"floating point number\" is a number, positive or negative, containing one or more decimals. Float can also be scientific numbers with an \"e\" to indicate the power of 10.\n",
    "\n",
    "3. complex : Complex numbers are written with a \"j\" as the imaginary part:\n",
    "\n"
   ]
  },
  {
   "cell_type": "code",
   "execution_count": 17,
   "id": "ancient-pressure",
   "metadata": {
    "ExecuteTime": {
     "end_time": "2021-08-01T00:16:42.536860Z",
     "start_time": "2021-08-01T00:16:42.522835Z"
    }
   },
   "outputs": [
    {
     "name": "stdout",
     "output_type": "stream",
     "text": [
      "5  ,  <class 'int'>\n",
      "2.8  ,  <class 'float'>\n",
      "2j  ,  <class 'complex'>\n",
      "-8.77e+101  ,  <class 'float'>\n"
     ]
    }
   ],
   "source": [
    "x = 5\n",
    "y = 2.8 \n",
    "z =2j\n",
    "w =  -87.7e100\n",
    "\n",
    "print(x , \" , \" ,  type(x))\n",
    "print(y , \" , \" ,  type(y))\n",
    "print(z , \" , \" ,  type(z))\n",
    "print(w , \" , \" ,  type(w))"
   ]
  },
  {
   "cell_type": "markdown",
   "id": "related-tomato",
   "metadata": {
    "ExecuteTime": {
     "end_time": "2021-07-31T22:49:30.785288Z",
     "start_time": "2021-07-31T22:49:30.780272Z"
    }
   },
   "source": [
    "## Type Conversion\n",
    "You can convert from one type to another with the int(), float(), and complex() methods:"
   ]
  },
  {
   "cell_type": "code",
   "execution_count": 18,
   "id": "solar-westminster",
   "metadata": {
    "ExecuteTime": {
     "end_time": "2021-08-01T00:16:42.552865Z",
     "start_time": "2021-08-01T00:16:42.537833Z"
    }
   },
   "outputs": [
    {
     "name": "stdout",
     "output_type": "stream",
     "text": [
      "1.0 <class 'float'>\n",
      "2 <class 'int'>\n",
      "(1+0j) <class 'complex'>\n"
     ]
    }
   ],
   "source": [
    "x = 1    # int\n",
    "y = 2.8  # float\n",
    "z = 1j   # complex\n",
    "\n",
    "#convert from int to float:\n",
    "a = float(x)\n",
    "print(a , type(a))\n",
    "#convert from float to int:\n",
    "b = int(y)\n",
    "print(b , type(b))\n",
    "#convert from int to complex:\n",
    "c = complex(x )\n",
    "print(c ,  type(c))\n"
   ]
  },
  {
   "cell_type": "markdown",
   "id": "small-industry",
   "metadata": {},
   "source": [
    "## Random Number\n",
    "Python does not have a random() function to make a random number, but Python has a built-in module called random that can be used to make random numbers:\n",
    "\n"
   ]
  },
  {
   "cell_type": "code",
   "execution_count": 19,
   "id": "clinical-stupid",
   "metadata": {
    "ExecuteTime": {
     "end_time": "2021-08-01T00:16:42.567865Z",
     "start_time": "2021-08-01T00:16:42.553836Z"
    }
   },
   "outputs": [
    {
     "name": "stdout",
     "output_type": "stream",
     "text": [
      "156\n"
     ]
    }
   ],
   "source": [
    "import random\n",
    "print(random.randrange(1, 200))"
   ]
  },
  {
   "cell_type": "markdown",
   "id": "creative-armenia",
   "metadata": {},
   "source": [
    "## Casting\n",
    "\n",
    "There may be times when you want to specify a type on to a variable. This can be done with casting. Python is an object-orientated language, and as such it uses classes to define data types, including its primitive types.\n",
    "\n",
    "Casting in python is therefore done using constructor functions:\n",
    "\n",
    "* int() - constructs an integer number from an integer literal, a float literal (by removing all decimals), or a string literal (providing the string represents a whole number)\n",
    "* float() - constructs a float number from an integer literal, a float literal or a string literal (providing the string represents a float or an integer)\n",
    "* str() - constructs a string from a wide variety of data types, including strings, integer literals and float literals"
   ]
  },
  {
   "cell_type": "code",
   "execution_count": 20,
   "id": "excellent-friendly",
   "metadata": {
    "ExecuteTime": {
     "end_time": "2021-08-01T00:16:42.582835Z",
     "start_time": "2021-08-01T00:16:42.568833Z"
    }
   },
   "outputs": [
    {
     "name": "stdout",
     "output_type": "stream",
     "text": [
      "1 2 3\n",
      "<class 'int'> <class 'int'> <class 'int'>\n"
     ]
    }
   ],
   "source": [
    "x = int(1)   # x will be 1\n",
    "y = int(2.8) # y will be 2\n",
    "z = int(\"3\") # z will be 3\n",
    "print(x, y , z)\n",
    "print(type(x), type(y) , type(z))"
   ]
  },
  {
   "cell_type": "code",
   "execution_count": 21,
   "id": "excellent-camcorder",
   "metadata": {
    "ExecuteTime": {
     "end_time": "2021-08-01T00:16:42.598866Z",
     "start_time": "2021-08-01T00:16:42.583836Z"
    }
   },
   "outputs": [
    {
     "name": "stdout",
     "output_type": "stream",
     "text": [
      "1.0 2.8 3.0 4.2\n",
      "<class 'float'> <class 'float'> <class 'float'> <class 'float'>\n"
     ]
    }
   ],
   "source": [
    "x = float(1)     # x will be 1.0\n",
    "y = float(2.8)   # y will be 2.8\n",
    "z = float(\"3\")   # z will be 3.0\n",
    "w = float(\"4.2\") # w will be 4.2\n",
    "print(x, y , z , w)\n",
    "print(type(x), type(y) , type(z) , type(w))"
   ]
  },
  {
   "cell_type": "code",
   "execution_count": 22,
   "id": "opening-psychology",
   "metadata": {
    "ExecuteTime": {
     "end_time": "2021-08-01T00:16:42.613863Z",
     "start_time": "2021-08-01T00:16:42.599835Z"
    }
   },
   "outputs": [
    {
     "name": "stdout",
     "output_type": "stream",
     "text": [
      "s1 2 3.0\n",
      "<class 'str'> <class 'str'> <class 'str'>\n"
     ]
    }
   ],
   "source": [
    "x = str(\"s1\") # x will be 's1'\n",
    "y = str(2)    # y will be '2'\n",
    "z = str(3.0)  # z will be '3.0'\n",
    "print(x, y , z)\n",
    "print(type(x), type(y) , type(z))"
   ]
  },
  {
   "cell_type": "markdown",
   "id": "automotive-paragraph",
   "metadata": {},
   "source": [
    "## Strings\n",
    "Strings in python are surrounded by either single quotation marks, or double quotation marks.\n",
    "\n",
    "`'hello'` is the same as `\"hello\"`.\n",
    "\n",
    "You can display a string literal with the print() function:"
   ]
  },
  {
   "cell_type": "code",
   "execution_count": 23,
   "id": "colored-courtesy",
   "metadata": {
    "ExecuteTime": {
     "end_time": "2021-08-01T00:16:42.628865Z",
     "start_time": "2021-08-01T00:16:42.616832Z"
    }
   },
   "outputs": [
    {
     "name": "stdout",
     "output_type": "stream",
     "text": [
      "Hello World  ,  <class 'str'>\n"
     ]
    }
   ],
   "source": [
    "x = str(\"Hello World\")\n",
    "print(x , \" , \" ,  type(x))"
   ]
  },
  {
   "cell_type": "markdown",
   "id": "nutritional-floor",
   "metadata": {},
   "source": [
    "## Multiline Strings\n",
    "You can assign a multiline string to a variable by using three quotes:"
   ]
  },
  {
   "cell_type": "code",
   "execution_count": 24,
   "id": "filled-incentive",
   "metadata": {
    "ExecuteTime": {
     "end_time": "2021-08-01T00:16:42.644863Z",
     "start_time": "2021-08-01T00:16:42.630833Z"
    }
   },
   "outputs": [
    {
     "name": "stdout",
     "output_type": "stream",
     "text": [
      "Lorem ipsum dolor sit amet,\n",
      "consectetur adipiscing elit,\n",
      "sed do eiusmod tempor incididunt\n",
      "ut labore et dolore magna aliqua.\n"
     ]
    }
   ],
   "source": [
    "a = \"\"\"Lorem ipsum dolor sit amet,\n",
    "consectetur adipiscing elit,\n",
    "sed do eiusmod tempor incididunt\n",
    "ut labore et dolore magna aliqua.\"\"\"\n",
    "print(a)"
   ]
  },
  {
   "cell_type": "code",
   "execution_count": 25,
   "id": "satisfied-spouse",
   "metadata": {
    "ExecuteTime": {
     "end_time": "2021-08-01T00:16:42.659863Z",
     "start_time": "2021-08-01T00:16:42.645836Z"
    }
   },
   "outputs": [
    {
     "data": {
      "text/plain": [
       "'Lorem ipsum dolor sit amet,\\nconsectetur adipiscing elit,\\nsed do eiusmod tempor incididunt\\nut labore et dolore magna aliqua.'"
      ]
     },
     "execution_count": 25,
     "metadata": {},
     "output_type": "execute_result"
    }
   ],
   "source": [
    "a"
   ]
  },
  {
   "cell_type": "markdown",
   "id": "black-humanity",
   "metadata": {},
   "source": [
    "# Strings are Arrays\n",
    "strings in Python are arrays of bytes representing unicode characters.\n",
    "\n",
    "However, Python does not have a character data type, a single character is simply a string with a length of 1.\n",
    "\n",
    "Square brackets can be used to access elements of the string."
   ]
  },
  {
   "cell_type": "code",
   "execution_count": 26,
   "id": "electoral-receptor",
   "metadata": {
    "ExecuteTime": {
     "end_time": "2021-08-01T00:16:42.674835Z",
     "start_time": "2021-08-01T00:16:42.660833Z"
    }
   },
   "outputs": [
    {
     "data": {
      "text/plain": [
       "('o',\n",
       " 't amet,\\nco',\n",
       " 'd tempor incididunt\\nut labore et dolore magna aliqua.',\n",
       " 'Lorem ipsum dolor sit amet,\\nconsectetur adipiscing el')"
      ]
     },
     "execution_count": 26,
     "metadata": {},
     "output_type": "execute_result"
    }
   ],
   "source": [
    "a[1] , a[20:30] ,  a[70:] ,  a[:-70]"
   ]
  },
  {
   "cell_type": "markdown",
   "id": "coral-bowling",
   "metadata": {},
   "source": [
    "## Looping Through a String\n",
    "Since strings are arrays, we can loop through the characters in a string, with a for loop."
   ]
  },
  {
   "cell_type": "code",
   "execution_count": 27,
   "id": "numeric-findings",
   "metadata": {
    "ExecuteTime": {
     "end_time": "2021-08-01T00:16:42.690832Z",
     "start_time": "2021-08-01T00:16:42.675835Z"
    }
   },
   "outputs": [
    {
     "name": "stdout",
     "output_type": "stream",
     "text": [
      "b\n",
      "a\n",
      "n\n",
      "a\n",
      "n\n",
      "a\n"
     ]
    }
   ],
   "source": [
    "for x in \"banana\":\n",
    "    print(x)"
   ]
  },
  {
   "cell_type": "markdown",
   "id": "respective-final",
   "metadata": {},
   "source": [
    "## String Length\n",
    "To get the length of a string, use the len() function."
   ]
  },
  {
   "cell_type": "code",
   "execution_count": 28,
   "id": "sublime-honey",
   "metadata": {
    "ExecuteTime": {
     "end_time": "2021-08-01T00:16:42.705863Z",
     "start_time": "2021-08-01T00:16:42.691832Z"
    }
   },
   "outputs": [
    {
     "data": {
      "text/plain": [
       "123"
      ]
     },
     "execution_count": 28,
     "metadata": {},
     "output_type": "execute_result"
    }
   ],
   "source": [
    "len(a)"
   ]
  },
  {
   "cell_type": "markdown",
   "id": "operating-apparatus",
   "metadata": {},
   "source": [
    "## Check String\n",
    "To check if a certain phrase or character is present in a string, we can use the keyword in."
   ]
  },
  {
   "cell_type": "code",
   "execution_count": 29,
   "id": "mental-district",
   "metadata": {
    "ExecuteTime": {
     "end_time": "2021-08-01T00:16:42.721864Z",
     "start_time": "2021-08-01T00:16:42.706836Z"
    }
   },
   "outputs": [
    {
     "name": "stdout",
     "output_type": "stream",
     "text": [
      "False\n",
      "True\n",
      "True\n",
      "Yes, we can find it.\n"
     ]
    }
   ],
   "source": [
    "print(\"free\" in a)\n",
    "print(\"incididunt\" in a)\n",
    "print(\"expensive\" not in a)\n",
    "if \"incididunt\" in a:\n",
    "    print(\"Yes, we can find it.\")\n",
    "else:\n",
    "    print(\"Nope!\")"
   ]
  },
  {
   "cell_type": "markdown",
   "id": "protective-insulation",
   "metadata": {},
   "source": [
    "## Slicing\n",
    "You can return a range of characters by using the slice syntax.\n",
    "\n",
    "Specify the start index and the end index, separated by a colon, to return a part of the string."
   ]
  },
  {
   "cell_type": "code",
   "execution_count": 30,
   "id": "advance-zambia",
   "metadata": {
    "ExecuteTime": {
     "end_time": "2021-08-01T00:16:42.737869Z",
     "start_time": "2021-08-01T00:16:42.722835Z"
    }
   },
   "outputs": [
    {
     "name": "stdout",
     "output_type": "stream",
     "text": [
      "llo, W\n",
      "Hello\n",
      "llo, World!\n",
      "orl\n"
     ]
    }
   ],
   "source": [
    "b = \"Hello, World!\"\n",
    "print(b[2:8])\n",
    "print(b[:5]) #Slice From the Start\n",
    "print(b[2:]) # Slice To the End\n",
    "print(b[-5:-2]) # Negative Indexing"
   ]
  },
  {
   "cell_type": "markdown",
   "id": "crazy-brighton",
   "metadata": {},
   "source": [
    "## Modify Strings\n",
    "Python has a set of built-in methods that you can use on strings.\n",
    "### Upper Case\n",
    "### Lower Case\n",
    "### Remove Whitespace\n",
    "The strip() method removes any whitespace from the beginning or the end."
   ]
  },
  {
   "cell_type": "code",
   "execution_count": 31,
   "id": "graphic-dominant",
   "metadata": {
    "ExecuteTime": {
     "end_time": "2021-08-01T00:16:42.753863Z",
     "start_time": "2021-08-01T00:16:42.738835Z"
    }
   },
   "outputs": [
    {
     "name": "stdout",
     "output_type": "stream",
     "text": [
      " HELLO, WORLD!  hello, world! Hello, World!\n"
     ]
    }
   ],
   "source": [
    "a = \" Hello, World!\"\n",
    "print(a.upper() , a.lower() , a.strip())"
   ]
  },
  {
   "cell_type": "markdown",
   "id": "textile-separation",
   "metadata": {},
   "source": [
    "### Replace String"
   ]
  },
  {
   "cell_type": "code",
   "execution_count": 32,
   "id": "requested-newark",
   "metadata": {
    "ExecuteTime": {
     "end_time": "2021-08-01T00:16:42.769864Z",
     "start_time": "2021-08-01T00:16:42.754835Z"
    }
   },
   "outputs": [
    {
     "data": {
      "text/plain": [
       "' HeMMo, WorMd!'"
      ]
     },
     "execution_count": 32,
     "metadata": {},
     "output_type": "execute_result"
    }
   ],
   "source": [
    "a = \" Hello, World!\"\n",
    "a.replace(\"l\", \"M\")"
   ]
  },
  {
   "cell_type": "markdown",
   "id": "inside-pipeline",
   "metadata": {},
   "source": [
    "## Split String\n",
    "The split() method returns a list where the text between the specified separator becomes the list items."
   ]
  },
  {
   "cell_type": "code",
   "execution_count": 33,
   "id": "racial-livestock",
   "metadata": {
    "ExecuteTime": {
     "end_time": "2021-08-01T00:16:42.785864Z",
     "start_time": "2021-08-01T00:16:42.770836Z"
    }
   },
   "outputs": [
    {
     "data": {
      "text/plain": [
       "[' Hell', ', W', 'rld!']"
      ]
     },
     "execution_count": 33,
     "metadata": {},
     "output_type": "execute_result"
    }
   ],
   "source": [
    "a.split(\"o\")"
   ]
  },
  {
   "cell_type": "markdown",
   "id": "palestinian-corruption",
   "metadata": {},
   "source": [
    "## String Concatenation\n",
    "To concatenate, or combine, two strings you can use the + operator."
   ]
  },
  {
   "cell_type": "code",
   "execution_count": 34,
   "id": "tight-horror",
   "metadata": {
    "ExecuteTime": {
     "end_time": "2021-08-01T00:16:42.801864Z",
     "start_time": "2021-08-01T00:16:42.786833Z"
    }
   },
   "outputs": [
    {
     "name": "stdout",
     "output_type": "stream",
     "text": [
      "Ali World\n"
     ]
    }
   ],
   "source": [
    "a = \"Ali\"\n",
    "b = \"World\"\n",
    "c = a + \" \" + b\n",
    "print(c)"
   ]
  },
  {
   "cell_type": "markdown",
   "id": "preceding-sustainability",
   "metadata": {},
   "source": [
    "## String Format\n",
    "The format() method takes the passed arguments, formats them, and places them in the string where the placeholders {} are:"
   ]
  },
  {
   "cell_type": "code",
   "execution_count": 35,
   "id": "wooden-straight",
   "metadata": {
    "ExecuteTime": {
     "end_time": "2021-08-01T00:16:42.817866Z",
     "start_time": "2021-08-01T00:16:42.802832Z"
    }
   },
   "outputs": [
    {
     "name": "stdout",
     "output_type": "stream",
     "text": [
      "My name is Ali and I am 35 years old\n"
     ]
    }
   ],
   "source": [
    "age= 35\n",
    "txt = \"My name is Ali and I am {} years old\"\n",
    "print(txt.format(age))"
   ]
  },
  {
   "cell_type": "code",
   "execution_count": 36,
   "id": "optimum-belarus",
   "metadata": {
    "ExecuteTime": {
     "end_time": "2021-08-01T00:16:42.833867Z",
     "start_time": "2021-08-01T00:16:42.818833Z"
    }
   },
   "outputs": [
    {
     "name": "stdout",
     "output_type": "stream",
     "text": [
      "I want 3 pieces of item 567 for 49.95 dollars.\n"
     ]
    }
   ],
   "source": [
    "quantity = 3\n",
    "itemno = 567\n",
    "price = 49.95\n",
    "myorder = \"I want {} pieces of item {} for {} dollars.\"\n",
    "print(myorder.format(quantity, itemno, price))"
   ]
  },
  {
   "cell_type": "markdown",
   "id": "superior-special",
   "metadata": {},
   "source": [
    "You can use index numbers {0} to be sure the arguments are placed in the correct placeholders:"
   ]
  },
  {
   "cell_type": "code",
   "execution_count": 37,
   "id": "blond-vegetation",
   "metadata": {
    "ExecuteTime": {
     "end_time": "2021-08-01T00:16:42.848864Z",
     "start_time": "2021-08-01T00:16:42.834833Z"
    }
   },
   "outputs": [
    {
     "name": "stdout",
     "output_type": "stream",
     "text": [
      "I want to pay 494.95 dollars for 4 pieces of item 5567.\n"
     ]
    }
   ],
   "source": [
    "quantity = 4\n",
    "itemno = 5567\n",
    "price = 494.95\n",
    "myorder = \"I want to pay {2} dollars for {0} pieces of item {1}.\"\n",
    "print(myorder.format(quantity, itemno, price))"
   ]
  },
  {
   "cell_type": "markdown",
   "id": "alone-discussion",
   "metadata": {},
   "source": [
    "## Escape Characters\n",
    "| Code | Result |\n",
    "|------|--------| \n",
    "| \\\\ | Backslash |\n",
    "| \\n | New Line |\n",
    "| \\r | Carriage Return  |\n",
    "| \\t | Tab |\n",
    "| \\b | Backspace |\n",
    "| \\f | Form Feed |\n",
    "| \\ooo | Octal value  |\n",
    "| \\xhh | Hex value  |"
   ]
  },
  {
   "cell_type": "markdown",
   "id": "positive-building",
   "metadata": {},
   "source": [
    "## Booleans\n",
    "Booleans represent one of two values: True or False.\n",
    "\n",
    "In programming you often need to know if an expression is True or False.\n",
    "\n",
    "You can evaluate any expression in Python, and get one of two answers, True or False.\n",
    "\n",
    "When you compare two values, the expression is evaluated and Python returns the Boolean answer:"
   ]
  },
  {
   "cell_type": "code",
   "execution_count": 38,
   "id": "sound-slovenia",
   "metadata": {
    "ExecuteTime": {
     "end_time": "2021-08-01T00:16:42.863862Z",
     "start_time": "2021-08-01T00:16:42.849835Z"
    }
   },
   "outputs": [
    {
     "name": "stdout",
     "output_type": "stream",
     "text": [
      "True  ,  <class 'bool'>\n",
      "True\n",
      "True\n"
     ]
    }
   ],
   "source": [
    "x = bool(5)\n",
    "print(x , \" , \" ,  type(x))\n",
    "print(bool(\"Hello\"))\n",
    "print(bool(15))"
   ]
  },
  {
   "cell_type": "code",
   "execution_count": 39,
   "id": "requested-gallery",
   "metadata": {
    "ExecuteTime": {
     "end_time": "2021-08-01T00:16:42.879862Z",
     "start_time": "2021-08-01T00:16:42.864836Z"
    }
   },
   "outputs": [
    {
     "name": "stdout",
     "output_type": "stream",
     "text": [
      "True\n",
      "False\n",
      "False\n"
     ]
    }
   ],
   "source": [
    "print(10 > 9)\n",
    "print(10 == 9)\n",
    "print(10 < 9)"
   ]
  },
  {
   "cell_type": "code",
   "execution_count": 40,
   "id": "renewable-improvement",
   "metadata": {
    "ExecuteTime": {
     "end_time": "2021-08-01T00:16:42.895866Z",
     "start_time": "2021-08-01T00:16:42.880836Z"
    }
   },
   "outputs": [
    {
     "name": "stdout",
     "output_type": "stream",
     "text": [
      "B is not greater than a\n"
     ]
    }
   ],
   "source": [
    "a = 500\n",
    "b = 33\n",
    "if b > a:\n",
    "    print(\"B is greater than a\")\n",
    "else:\n",
    "    print(\"B is not greater than a\")"
   ]
  },
  {
   "cell_type": "code",
   "execution_count": 41,
   "id": "breeding-arrival",
   "metadata": {
    "ExecuteTime": {
     "end_time": "2021-08-01T00:16:42.910832Z",
     "start_time": "2021-08-01T00:16:42.896836Z"
    }
   },
   "outputs": [
    {
     "name": "stdout",
     "output_type": "stream",
     "text": [
      "True\n",
      "True\n"
     ]
    }
   ],
   "source": [
    "x = \"Hello\"\n",
    "y = 15\n",
    "\n",
    "print(bool(x))\n",
    "print(bool(y))"
   ]
  },
  {
   "cell_type": "markdown",
   "id": "treated-evidence",
   "metadata": {},
   "source": [
    "### Most Values are True\n",
    "Almost any value is evaluated to True if it has some sort of content.\n",
    "\n",
    "Any string is True, except empty strings.\n",
    "\n",
    "Any number is True, except 0.\n",
    "\n",
    "Any list, tuple, set, and dictionary are True, except empty ones."
   ]
  },
  {
   "cell_type": "code",
   "execution_count": 42,
   "id": "dated-clock",
   "metadata": {
    "ExecuteTime": {
     "end_time": "2021-08-01T00:16:42.925864Z",
     "start_time": "2021-08-01T00:16:42.911833Z"
    }
   },
   "outputs": [
    {
     "name": "stdout",
     "output_type": "stream",
     "text": [
      "True\n",
      "True\n",
      "True\n",
      "------------------\n",
      "False\n",
      "False\n",
      "False\n",
      "False\n",
      "False\n",
      "False\n",
      "False\n"
     ]
    }
   ],
   "source": [
    "print(bool(\"abc\"))\n",
    "print(bool(123))\n",
    "print(bool([\"apple\", \"cherry\", \"banana\"]))\n",
    "print(\"------------------\")\n",
    "print(bool(False))\n",
    "print(bool(None))\n",
    "print(bool(0))\n",
    "print(bool(\"\"))\n",
    "print(bool(()))\n",
    "print(bool([]))\n",
    "print(bool({}))"
   ]
  },
  {
   "cell_type": "code",
   "execution_count": 43,
   "id": "coupled-charger",
   "metadata": {
    "ExecuteTime": {
     "end_time": "2021-08-01T00:16:42.941863Z",
     "start_time": "2021-08-01T00:16:42.926833Z"
    }
   },
   "outputs": [
    {
     "name": "stdout",
     "output_type": "stream",
     "text": [
      "True\n"
     ]
    }
   ],
   "source": [
    "def myFunction() :\n",
    "  return True\n",
    "\n",
    "print(myFunction())"
   ]
  },
  {
   "cell_type": "code",
   "execution_count": 44,
   "id": "regulated-multimedia",
   "metadata": {
    "ExecuteTime": {
     "end_time": "2021-08-01T00:16:42.957863Z",
     "start_time": "2021-08-01T00:16:42.942833Z"
    }
   },
   "outputs": [
    {
     "name": "stdout",
     "output_type": "stream",
     "text": [
      "YES!\n"
     ]
    }
   ],
   "source": [
    "def myFunction() :\n",
    "  return True\n",
    "\n",
    "if myFunction():\n",
    "  print(\"YES!\")\n",
    "else:\n",
    "  print(\"NO!\")"
   ]
  },
  {
   "cell_type": "code",
   "execution_count": 45,
   "id": "charged-prototype",
   "metadata": {
    "ExecuteTime": {
     "end_time": "2021-08-01T00:16:42.973863Z",
     "start_time": "2021-08-01T00:16:42.958832Z"
    }
   },
   "outputs": [
    {
     "name": "stdout",
     "output_type": "stream",
     "text": [
      "True\n"
     ]
    }
   ],
   "source": [
    "x = 200\n",
    "print(isinstance(x, int))"
   ]
  },
  {
   "cell_type": "markdown",
   "id": "improving-navigator",
   "metadata": {},
   "source": [
    "# Operators\n",
    "Operators are used to perform operations on variables and values."
   ]
  },
  {
   "cell_type": "code",
   "execution_count": 46,
   "id": "motivated-canada",
   "metadata": {
    "ExecuteTime": {
     "end_time": "2021-08-01T00:16:42.989835Z",
     "start_time": "2021-08-01T00:16:42.974835Z"
    }
   },
   "outputs": [
    {
     "name": "stdout",
     "output_type": "stream",
     "text": [
      "15\n"
     ]
    }
   ],
   "source": [
    "print(10 + 5)"
   ]
  },
  {
   "cell_type": "markdown",
   "id": "affecting-county",
   "metadata": {},
   "source": [
    "Python divides the operators in the following groups:\n",
    "\n",
    "### Arithmetic operators\n",
    "\n",
    "![](./i/Arithmeticoperators.jpg)\n",
    "\n",
    "### Assignment operators\n",
    "\n",
    "![](./i/Assignment_Operators.jpg)\n",
    "\n",
    "### Comparison operators\n",
    "\n",
    "![](./i/Comparison_Operators.jpg)\n",
    "\n",
    "### Logical operators\n",
    "\n",
    "![](./i/Logical_Operators.jpg)\n",
    "\n",
    "### Identity operators\n",
    "\n",
    "![](./i/Identity_Operators.jpg)\n",
    "\n",
    "### Membership operators\n",
    "\n",
    "\n",
    "![](./i/Membership_operators.jpg)\n",
    "\n",
    "###  Bitwise operators\n",
    "\n",
    "![](./i/Bitwise_operators.jpg)\n"
   ]
  },
  {
   "cell_type": "markdown",
   "id": "quantitative-progressive",
   "metadata": {},
   "source": [
    "# Lists\n",
    "## List Items\n",
    "\n",
    "List items are ordered, changeable, and allow duplicate values.\n",
    "\n",
    "List items are indexed, the first item has index [0], the second item has index [1] etc.\n",
    "\n",
    "## Ordered\n",
    "\n",
    "When we say that lists are ordered, it means that the items have a defined order, and that order will not change.\n",
    "\n",
    "If you add new items to a list, the new items will be placed at the end of the list.\n",
    "\n",
    "## Changeable\n",
    "\n",
    "The list is changeable, meaning that we can change, add, and remove items in a list after it has been created.\n",
    "\n",
    "## Allow Duplicates\n",
    "\n",
    "Since lists are indexed, lists can have items with the same value:\n",
    "\n",
    "## List Length\n",
    "\n",
    "To determine how many items a list has, use the len() function:"
   ]
  },
  {
   "cell_type": "code",
   "execution_count": 47,
   "id": "random-howard",
   "metadata": {
    "ExecuteTime": {
     "end_time": "2021-08-01T00:16:43.004864Z",
     "start_time": "2021-08-01T00:16:42.990832Z"
    }
   },
   "outputs": [
    {
     "name": "stdout",
     "output_type": "stream",
     "text": [
      "['apple', 'banana', 'cherry'] banana  ,  <class 'list'>\n"
     ]
    }
   ],
   "source": [
    "x = list((\"apple\", \"banana\", \"cherry\"))\n",
    "print(x , x[1] , \" , \" ,  type(x))"
   ]
  },
  {
   "cell_type": "code",
   "execution_count": 48,
   "id": "ongoing-swift",
   "metadata": {
    "ExecuteTime": {
     "end_time": "2021-08-01T00:16:43.020864Z",
     "start_time": "2021-08-01T00:16:43.005836Z"
    }
   },
   "outputs": [
    {
     "name": "stdout",
     "output_type": "stream",
     "text": [
      "['apple', 'banana', 'cherry', 'apple', 'cherry']\n"
     ]
    }
   ],
   "source": [
    "thislist = [\"apple\", \"banana\", \"cherry\", \"apple\", \"cherry\"]\n",
    "print(thislist)"
   ]
  },
  {
   "cell_type": "code",
   "execution_count": 49,
   "id": "right-complement",
   "metadata": {
    "ExecuteTime": {
     "end_time": "2021-08-01T00:16:43.035833Z",
     "start_time": "2021-08-01T00:16:43.021836Z"
    }
   },
   "outputs": [
    {
     "name": "stdout",
     "output_type": "stream",
     "text": [
      "3\n"
     ]
    }
   ],
   "source": [
    "thislist = [\"apple\", \"banana\", \"cherry\"]\n",
    "print(len(thislist))"
   ]
  },
  {
   "cell_type": "markdown",
   "id": "advance-brooklyn",
   "metadata": {},
   "source": [
    "## List Items - Data Types\n",
    "List items can be of any data type:"
   ]
  },
  {
   "cell_type": "code",
   "execution_count": 50,
   "id": "liberal-return",
   "metadata": {
    "ExecuteTime": {
     "end_time": "2021-08-01T00:16:43.050834Z",
     "start_time": "2021-08-01T00:16:43.036836Z"
    }
   },
   "outputs": [
    {
     "name": "stdout",
     "output_type": "stream",
     "text": [
      "['apple', 'banana', 'cherry']\n",
      "[1, 5, 7, 9, 3]\n",
      "[True, False, False]\n"
     ]
    }
   ],
   "source": [
    "list1 = [\"apple\", \"banana\", \"cherry\"]\n",
    "list2 = [1, 5, 7, 9, 3]\n",
    "list3 = [True, False, False]\n",
    "print(list1)\n",
    "print(list2)\n",
    "print(list3)\n"
   ]
  },
  {
   "cell_type": "code",
   "execution_count": 51,
   "id": "raising-carry",
   "metadata": {
    "ExecuteTime": {
     "end_time": "2021-08-01T00:16:43.066834Z",
     "start_time": "2021-08-01T00:16:43.051833Z"
    }
   },
   "outputs": [
    {
     "data": {
      "text/plain": [
       "list"
      ]
     },
     "execution_count": 51,
     "metadata": {},
     "output_type": "execute_result"
    }
   ],
   "source": [
    "list1 = [\"abc\", 34, True, 40, \"male\"]\n",
    "type(list1)"
   ]
  },
  {
   "cell_type": "markdown",
   "id": "utility-drama",
   "metadata": {},
   "source": [
    "## The list() Constructor\n",
    "It is also possible to use the list() constructor when creating a new list."
   ]
  },
  {
   "cell_type": "code",
   "execution_count": 52,
   "id": "reported-sympathy",
   "metadata": {
    "ExecuteTime": {
     "end_time": "2021-08-01T00:16:43.081877Z",
     "start_time": "2021-08-01T00:16:43.067833Z"
    }
   },
   "outputs": [
    {
     "name": "stdout",
     "output_type": "stream",
     "text": [
      "['apple', 'banana', 'cherry']\n"
     ]
    }
   ],
   "source": [
    "thislist = list((\"apple\", \"banana\", \"cherry\")) # note the double round-brackets\n",
    "print(thislist)"
   ]
  },
  {
   "cell_type": "markdown",
   "id": "editorial-sleep",
   "metadata": {},
   "source": [
    "There are four collection data types in the Python programming language:\n",
    "\n",
    "* List is a collection which is ordered and changeable. Allows duplicate members.\n",
    "* Tuple is a collection which is ordered and unchangeable. Allows duplicate members.\n",
    "* Set is a collection which is unordered and unindexed. No duplicate members.\n",
    "* Dictionary is a collection which is ordered* and changeable. No duplicate members."
   ]
  },
  {
   "cell_type": "markdown",
   "id": "hundred-bridal",
   "metadata": {},
   "source": [
    "## Access Items\n",
    "List items are indexed and you can access them by referring to the index number.\n"
   ]
  },
  {
   "cell_type": "code",
   "execution_count": 53,
   "id": "hungarian-respect",
   "metadata": {
    "ExecuteTime": {
     "end_time": "2021-08-01T00:16:43.097864Z",
     "start_time": "2021-08-01T00:16:43.082836Z"
    }
   },
   "outputs": [
    {
     "name": "stdout",
     "output_type": "stream",
     "text": [
      "banana\n"
     ]
    }
   ],
   "source": [
    "thislist = [\"apple\", \"banana\", \"cherry\"]\n",
    "print(thislist[1])"
   ]
  },
  {
   "cell_type": "markdown",
   "id": "chronic-basket",
   "metadata": {},
   "source": [
    "## Negative Indexing\n",
    "Negative indexing means start from the end.\n",
    "-1 refers to the last item, -2 refers to the second last item etc.\n"
   ]
  },
  {
   "cell_type": "code",
   "execution_count": 54,
   "id": "silent-interview",
   "metadata": {
    "ExecuteTime": {
     "end_time": "2021-08-01T00:16:43.113834Z",
     "start_time": "2021-08-01T00:16:43.098834Z"
    }
   },
   "outputs": [
    {
     "name": "stdout",
     "output_type": "stream",
     "text": [
      "cherry\n",
      "apple\n"
     ]
    }
   ],
   "source": [
    "thislist = [\"apple\", \"banana\", \"cherry\"]\n",
    "print(thislist[-1])\n",
    "print(thislist[-3])"
   ]
  },
  {
   "cell_type": "markdown",
   "id": "immediate-people",
   "metadata": {},
   "source": [
    "## Range of Indexes\n",
    "\n",
    "You can specify a range of indexes by specifying where to start and where to end the range.\n",
    "\n",
    "When specifying a range, the return value will be a new list with the specified items.\n",
    "\n",
    "\n",
    "Note: The search will start at index 2 (included) and end at index 5 (not included).\n",
    "\n",
    "Remember that the first item has index 0.\n",
    "\n"
   ]
  },
  {
   "cell_type": "code",
   "execution_count": 55,
   "id": "detected-eleven",
   "metadata": {
    "ExecuteTime": {
     "end_time": "2021-08-01T00:16:43.129833Z",
     "start_time": "2021-08-01T00:16:43.114835Z"
    }
   },
   "outputs": [
    {
     "name": "stdout",
     "output_type": "stream",
     "text": [
      "['cherry', 'orange', 'kiwi']\n"
     ]
    }
   ],
   "source": [
    "thislist = [\"apple\", \"banana\", \"cherry\", \"orange\", \"kiwi\", \"melon\", \"mango\"]\n",
    "print(thislist[2:5])"
   ]
  },
  {
   "cell_type": "markdown",
   "id": "abandoned-worthy",
   "metadata": {},
   "source": [
    "By leaving out the start value, the range will start at the first item."
   ]
  },
  {
   "cell_type": "code",
   "execution_count": 56,
   "id": "ethical-player",
   "metadata": {
    "ExecuteTime": {
     "end_time": "2021-08-01T00:16:43.145833Z",
     "start_time": "2021-08-01T00:16:43.130832Z"
    }
   },
   "outputs": [
    {
     "name": "stdout",
     "output_type": "stream",
     "text": [
      "['apple', 'banana', 'cherry', 'orange']\n"
     ]
    }
   ],
   "source": [
    "thislist = [\"apple\", \"banana\", \"cherry\", \"orange\", \"kiwi\", \"melon\", \"mango\"]\n",
    "print(thislist[:4])"
   ]
  },
  {
   "cell_type": "markdown",
   "id": "partial-charles",
   "metadata": {},
   "source": [
    "By leaving out the end value, the range will go on to the end of the list."
   ]
  },
  {
   "cell_type": "code",
   "execution_count": 57,
   "id": "actual-chicago",
   "metadata": {
    "ExecuteTime": {
     "end_time": "2021-08-01T00:16:43.161867Z",
     "start_time": "2021-08-01T00:16:43.146868Z"
    }
   },
   "outputs": [
    {
     "name": "stdout",
     "output_type": "stream",
     "text": [
      "['cherry', 'orange', 'kiwi', 'melon', 'mango']\n"
     ]
    }
   ],
   "source": [
    "thislist = [\"apple\", \"banana\", \"cherry\", \"orange\", \"kiwi\", \"melon\", \"mango\"]\n",
    "print(thislist[2:])"
   ]
  },
  {
   "cell_type": "markdown",
   "id": "joined-feeding",
   "metadata": {},
   "source": [
    "## Range of Negative Indexes\n",
    "Specify negative indexes if you want to start the search from the end of the list:\n",
    "\n",
    "Example"
   ]
  },
  {
   "cell_type": "code",
   "execution_count": 58,
   "id": "graduate-scottish",
   "metadata": {
    "ExecuteTime": {
     "end_time": "2021-08-01T00:16:43.177834Z",
     "start_time": "2021-08-01T00:16:43.162835Z"
    }
   },
   "outputs": [
    {
     "name": "stdout",
     "output_type": "stream",
     "text": [
      "['cherry', 'orange', 'kiwi']\n"
     ]
    }
   ],
   "source": [
    "thislist = [\"apple\", \"banana\", \"cherry\", \"orange\", \"kiwi\", \"melon\", \"mango\"]\n",
    "print(thislist[-5:-2])"
   ]
  },
  {
   "cell_type": "markdown",
   "id": "manual-desert",
   "metadata": {},
   "source": [
    "## Check if Item Exists\n",
    "To determine if a specified item is present in a list use the in keyword:\n",
    "\n"
   ]
  },
  {
   "cell_type": "code",
   "execution_count": 63,
   "id": "statistical-might",
   "metadata": {
    "ExecuteTime": {
     "end_time": "2021-08-01T00:17:32.072552Z",
     "start_time": "2021-08-01T00:17:32.060523Z"
    }
   },
   "outputs": [
    {
     "name": "stdout",
     "output_type": "stream",
     "text": [
      "YES\n"
     ]
    }
   ],
   "source": [
    "if \"apple\" in thislist:\n",
    "    print(\"YES\")\n",
    "else:\n",
    "    print(\"Nope\")"
   ]
  },
  {
   "cell_type": "code",
   "execution_count": 64,
   "id": "significant-drill",
   "metadata": {
    "ExecuteTime": {
     "end_time": "2021-08-01T00:18:25.086391Z",
     "start_time": "2021-08-01T00:18:25.069391Z"
    }
   },
   "outputs": [
    {
     "ename": "SyntaxError",
     "evalue": "invalid syntax (<ipython-input-64-9f87d674817e>, line 1)",
     "output_type": "error",
     "traceback": [
      "\u001b[1;36m  File \u001b[1;32m\"<ipython-input-64-9f87d674817e>\"\u001b[1;36m, line \u001b[1;32m1\u001b[0m\n\u001b[1;33m    https://www.w3schools.com/python/python_lists_change.asp\u001b[0m\n\u001b[1;37m           ^\u001b[0m\n\u001b[1;31mSyntaxError\u001b[0m\u001b[1;31m:\u001b[0m invalid syntax\n"
     ]
    }
   ],
   "source": [
    "https://www.w3schools.com/python/python_lists_change.asp"
   ]
  },
  {
   "cell_type": "code",
   "execution_count": null,
   "id": "legitimate-missile",
   "metadata": {},
   "outputs": [],
   "source": []
  },
  {
   "cell_type": "code",
   "execution_count": null,
   "id": "precious-quarterly",
   "metadata": {},
   "outputs": [],
   "source": []
  },
  {
   "cell_type": "code",
   "execution_count": null,
   "id": "artistic-beijing",
   "metadata": {},
   "outputs": [],
   "source": []
  },
  {
   "cell_type": "code",
   "execution_count": null,
   "id": "matched-poultry",
   "metadata": {},
   "outputs": [],
   "source": []
  },
  {
   "cell_type": "code",
   "execution_count": null,
   "id": "surprising-quilt",
   "metadata": {},
   "outputs": [],
   "source": []
  },
  {
   "cell_type": "code",
   "execution_count": null,
   "id": "absolute-harassment",
   "metadata": {},
   "outputs": [],
   "source": []
  },
  {
   "cell_type": "code",
   "execution_count": null,
   "id": "identified-calvin",
   "metadata": {},
   "outputs": [],
   "source": []
  },
  {
   "cell_type": "code",
   "execution_count": null,
   "id": "split-charger",
   "metadata": {},
   "outputs": [],
   "source": []
  },
  {
   "cell_type": "code",
   "execution_count": null,
   "id": "false-peripheral",
   "metadata": {
    "ExecuteTime": {
     "end_time": "2021-08-01T00:16:43.195834Z",
     "start_time": "2021-08-01T00:16:42.400Z"
    }
   },
   "outputs": [],
   "source": [
    "x = tuple((\"apple\", \"banana\", \"cherry\"))\n",
    "print(x , \" , \" ,  type(x))"
   ]
  },
  {
   "cell_type": "code",
   "execution_count": null,
   "id": "electronic-assembly",
   "metadata": {
    "ExecuteTime": {
     "end_time": "2021-08-01T00:16:43.196832Z",
     "start_time": "2021-08-01T00:16:42.402Z"
    }
   },
   "outputs": [],
   "source": [
    "x = range(6)\n",
    "print(x , \" , \" ,  type(x))"
   ]
  },
  {
   "cell_type": "code",
   "execution_count": null,
   "id": "insured-castle",
   "metadata": {
    "ExecuteTime": {
     "end_time": "2021-08-01T00:16:43.196832Z",
     "start_time": "2021-08-01T00:16:42.404Z"
    }
   },
   "outputs": [],
   "source": [
    "x = dict(name=\"John\", age=36)\n",
    "print(x , \" , \" ,  type(x))"
   ]
  },
  {
   "cell_type": "code",
   "execution_count": null,
   "id": "amino-spoke",
   "metadata": {
    "ExecuteTime": {
     "end_time": "2021-08-01T00:16:43.197835Z",
     "start_time": "2021-08-01T00:16:42.406Z"
    }
   },
   "outputs": [],
   "source": [
    "x = set((\"apple\", \"banana\", \"cherry\"))\n",
    "print(x , \" , \" ,  type(x))"
   ]
  },
  {
   "cell_type": "code",
   "execution_count": null,
   "id": "laughing-matrix",
   "metadata": {
    "ExecuteTime": {
     "end_time": "2021-08-01T00:16:43.197835Z",
     "start_time": "2021-08-01T00:16:42.408Z"
    }
   },
   "outputs": [],
   "source": [
    "x = frozenset((\"apple\", \"banana\", \"cherry\"))\n",
    "print(x , \" , \" ,  type(x))"
   ]
  },
  {
   "cell_type": "code",
   "execution_count": null,
   "id": "described-scholarship",
   "metadata": {
    "ExecuteTime": {
     "end_time": "2021-07-31T22:47:38.154862Z",
     "start_time": "2021-07-31T22:47:38.150826Z"
    }
   },
   "outputs": [],
   "source": []
  },
  {
   "cell_type": "code",
   "execution_count": null,
   "id": "realistic-industry",
   "metadata": {
    "ExecuteTime": {
     "end_time": "2021-08-01T00:16:43.198832Z",
     "start_time": "2021-08-01T00:16:42.410Z"
    }
   },
   "outputs": [],
   "source": [
    "x = bytes(5)\n",
    "print(x , \" , \" ,  type(x))"
   ]
  },
  {
   "cell_type": "code",
   "execution_count": null,
   "id": "humanitarian-dragon",
   "metadata": {
    "ExecuteTime": {
     "end_time": "2021-08-01T00:16:43.198832Z",
     "start_time": "2021-08-01T00:16:42.411Z"
    }
   },
   "outputs": [],
   "source": [
    "x = bytearray(5)\n",
    "print(x , \" , \" ,  type(x))"
   ]
  },
  {
   "cell_type": "code",
   "execution_count": null,
   "id": "european-manchester",
   "metadata": {
    "ExecuteTime": {
     "end_time": "2021-08-01T00:16:43.199833Z",
     "start_time": "2021-08-01T00:16:42.413Z"
    }
   },
   "outputs": [],
   "source": [
    "x = memoryview(bytes(5))\n",
    "print(x , \" , \" ,  type(x))"
   ]
  }
 ],
 "metadata": {
  "kernelspec": {
   "display_name": "tensorflow",
   "language": "python",
   "name": "tensorflow"
  },
  "language_info": {
   "codemirror_mode": {
    "name": "ipython",
    "version": 3
   },
   "file_extension": ".py",
   "mimetype": "text/x-python",
   "name": "python",
   "nbconvert_exporter": "python",
   "pygments_lexer": "ipython3",
   "version": "3.7.9"
  },
  "toc": {
   "base_numbering": 1,
   "nav_menu": {},
   "number_sections": true,
   "sideBar": true,
   "skip_h1_title": false,
   "title_cell": "Table of Contents",
   "title_sidebar": "Contents",
   "toc_cell": false,
   "toc_position": {},
   "toc_section_display": true,
   "toc_window_display": true
  }
 },
 "nbformat": 4,
 "nbformat_minor": 5
}
