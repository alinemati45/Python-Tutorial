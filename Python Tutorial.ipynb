{
 "cells": [
  {
   "cell_type": "markdown",
   "id": "first-alaska",
   "metadata": {},
   "source": [
    "https://www.w3schools.com/python/default.asp"
   ]
  },
  {
   "cell_type": "markdown",
   "id": "geographic-botswana",
   "metadata": {},
   "source": [
    "# Creating Variables\n",
    "\n",
    "Variables do not need to be declared with any particular type, and can even change type after they have been set.\n",
    "\n",
    "## Case-Sensitive\n",
    "Variable names are case-sensitive."
   ]
  },
  {
   "cell_type": "code",
   "execution_count": 1,
   "id": "cubic-philosophy",
   "metadata": {
    "ExecuteTime": {
     "end_time": "2021-08-02T01:15:10.627508Z",
     "start_time": "2021-08-02T01:15:10.622501Z"
    }
   },
   "outputs": [
    {
     "name": "stdout",
     "output_type": "stream",
     "text": [
      "5\n",
      "John\n",
      "4\n"
     ]
    }
   ],
   "source": [
    "x = 5 # x is of type int\n",
    "y = \"John\" # x is now of type str\n",
    "X = 4\n",
    "print(x)\n",
    "print(y)\n",
    "print(X)"
   ]
  },
  {
   "cell_type": "markdown",
   "id": "dominican-flight",
   "metadata": {},
   "source": [
    "## Casting\n",
    "If you want to specify the data type of a variable, this can be done with casting"
   ]
  },
  {
   "cell_type": "code",
   "execution_count": 2,
   "id": "urban-opportunity",
   "metadata": {
    "ExecuteTime": {
     "end_time": "2021-08-02T01:15:10.643496Z",
     "start_time": "2021-08-02T01:15:10.628470Z"
    }
   },
   "outputs": [
    {
     "data": {
      "text/plain": [
       "(str, int, float)"
      ]
     },
     "execution_count": 2,
     "metadata": {},
     "output_type": "execute_result"
    }
   ],
   "source": [
    "x =str(3)\n",
    "y = int(3)\n",
    "z= float(3)\n",
    "type(x) , type(y) , type(z)"
   ]
  },
  {
   "cell_type": "markdown",
   "id": "likely-panel",
   "metadata": {},
   "source": [
    "## Variable Names\n",
    "A variable can have a short name (like x and y) or a more descriptive name (age, carname, total_volume). \n",
    "###  Rules for Python variables:\n",
    "1. A variable name must start with a letter or the underscore character\n",
    "2. A variable name cannot start with a number\n",
    "3. A variable name can only contain alpha-numeric characters and underscores (A-z, 0-9, and _ )\n",
    "4. Variable names are case-sensitive (age, Age and AGE are three different variables)"
   ]
  },
  {
   "cell_type": "code",
   "execution_count": 3,
   "id": "close-checkout",
   "metadata": {
    "ExecuteTime": {
     "end_time": "2021-08-02T01:15:10.659496Z",
     "start_time": "2021-08-02T01:15:10.644469Z"
    }
   },
   "outputs": [],
   "source": [
    "myvar = \"John\"\n",
    "my_var = \"John\"\n",
    "_my_var = \"John\"\n",
    "myVar = \"John\"\n",
    "MYVAR = \"John\"\n",
    "myvar2 = \"John\""
   ]
  },
  {
   "cell_type": "markdown",
   "id": "daily-grade",
   "metadata": {},
   "source": [
    "## Multi Words Variable Names\n",
    "Variable names with more than one word can be difficult to read.\n",
    "\n",
    "There are several techniques you can use to make them more readable:\n",
    "\n",
    "### Camel Case\n",
    "Each word, except the first, starts with a capital letter:"
   ]
  },
  {
   "cell_type": "code",
   "execution_count": 4,
   "id": "floral-glass",
   "metadata": {
    "ExecuteTime": {
     "end_time": "2021-08-02T01:15:10.675495Z",
     "start_time": "2021-08-02T01:15:10.660471Z"
    }
   },
   "outputs": [],
   "source": [
    "myVariableName = \"John\""
   ]
  },
  {
   "cell_type": "markdown",
   "id": "excessive-craps",
   "metadata": {},
   "source": [
    "### Pascal Case\n",
    "Each word starts with a capital letter:"
   ]
  },
  {
   "cell_type": "code",
   "execution_count": 5,
   "id": "close-happiness",
   "metadata": {
    "ExecuteTime": {
     "end_time": "2021-08-02T01:15:10.691471Z",
     "start_time": "2021-08-02T01:15:10.676471Z"
    }
   },
   "outputs": [],
   "source": [
    "MyVariableName = \"John\""
   ]
  },
  {
   "cell_type": "markdown",
   "id": "fiscal-rebate",
   "metadata": {
    "ExecuteTime": {
     "end_time": "2021-07-31T22:22:17.282635Z",
     "start_time": "2021-07-31T22:22:17.264656Z"
    }
   },
   "source": [
    "### Snake Case\n",
    "Each word is separated by an underscore character:"
   ]
  },
  {
   "cell_type": "code",
   "execution_count": 6,
   "id": "embedded-begin",
   "metadata": {
    "ExecuteTime": {
     "end_time": "2021-08-02T01:15:10.707499Z",
     "start_time": "2021-08-02T01:15:10.692469Z"
    }
   },
   "outputs": [],
   "source": [
    "my_variable_name = \"John\""
   ]
  },
  {
   "cell_type": "markdown",
   "id": "english-annotation",
   "metadata": {},
   "source": [
    "## Many Values to Multiple Variables\n",
    "Python allows you to assign values to multiple variables in one line:"
   ]
  },
  {
   "cell_type": "code",
   "execution_count": 7,
   "id": "fossil-syndrome",
   "metadata": {
    "ExecuteTime": {
     "end_time": "2021-08-02T01:15:10.723470Z",
     "start_time": "2021-08-02T01:15:10.708471Z"
    }
   },
   "outputs": [
    {
     "name": "stdout",
     "output_type": "stream",
     "text": [
      "Oregon Milaukee Delvar\n"
     ]
    }
   ],
   "source": [
    "x , y , z = \"Oregon\" , \"Milaukee\" , \"Delvar\"\n",
    "print(x , y , z)"
   ]
  },
  {
   "cell_type": "markdown",
   "id": "annual-olive",
   "metadata": {},
   "source": [
    "## One Value to Multiple Variables\n",
    "And you can assign the same value to multiple variables in one line:\n",
    "\n"
   ]
  },
  {
   "cell_type": "code",
   "execution_count": 8,
   "id": "cloudy-composition",
   "metadata": {
    "ExecuteTime": {
     "end_time": "2021-08-02T01:15:10.739500Z",
     "start_time": "2021-08-02T01:15:10.725470Z"
    }
   },
   "outputs": [
    {
     "name": "stdout",
     "output_type": "stream",
     "text": [
      "Orange Orange Orange\n"
     ]
    }
   ],
   "source": [
    "x = y = z = \"Orange\"\n",
    "print (x,  y  , z)"
   ]
  },
  {
   "cell_type": "markdown",
   "id": "removed-drama",
   "metadata": {},
   "source": [
    "## Unpack a Collection\n",
    "If you have a collection of values in a list, tuple etc. Python allows you extract the values into variables. This is called unpacking."
   ]
  },
  {
   "cell_type": "code",
   "execution_count": 9,
   "id": "metropolitan-destiny",
   "metadata": {
    "ExecuteTime": {
     "end_time": "2021-08-02T01:15:10.755501Z",
     "start_time": "2021-08-02T01:15:10.740469Z"
    }
   },
   "outputs": [
    {
     "name": "stdout",
     "output_type": "stream",
     "text": [
      "apple banana cherry\n"
     ]
    }
   ],
   "source": [
    "furits = [\"apple\", \"banana\", \"cherry\"]\n",
    "x , y , z = furits\n",
    "print (x,  y  , z)"
   ]
  },
  {
   "cell_type": "markdown",
   "id": "vulnerable-england",
   "metadata": {},
   "source": [
    "## Output Variables\n",
    "The Python print statement is often used to output variables.\n",
    "\n",
    "To combine both text and a variable, Python uses the `+` character:"
   ]
  },
  {
   "cell_type": "code",
   "execution_count": 10,
   "id": "athletic-stephen",
   "metadata": {
    "ExecuteTime": {
     "end_time": "2021-08-02T01:15:10.771498Z",
     "start_time": "2021-08-02T01:15:10.756507Z"
    }
   },
   "outputs": [
    {
     "name": "stdout",
     "output_type": "stream",
     "text": [
      "Python  is Awesome\n"
     ]
    }
   ],
   "source": [
    "x = \"Awesome\"\n",
    "print(\"Python  is \" + x)"
   ]
  },
  {
   "cell_type": "code",
   "execution_count": 11,
   "id": "fundamental-wallet",
   "metadata": {
    "ExecuteTime": {
     "end_time": "2021-08-02T01:15:10.787471Z",
     "start_time": "2021-08-02T01:15:10.772469Z"
    }
   },
   "outputs": [
    {
     "name": "stdout",
     "output_type": "stream",
     "text": [
      "Ali Nemati\n"
     ]
    }
   ],
   "source": [
    "x = \"Ali\"\n",
    "y = \" Nemati\"\n",
    "z =  x + y\n",
    "print(z)"
   ]
  },
  {
   "cell_type": "code",
   "execution_count": 12,
   "id": "chronic-couple",
   "metadata": {
    "ExecuteTime": {
     "end_time": "2021-08-02T01:15:10.803471Z",
     "start_time": "2021-08-02T01:15:10.788470Z"
    }
   },
   "outputs": [
    {
     "name": "stdout",
     "output_type": "stream",
     "text": [
      "15\n"
     ]
    }
   ],
   "source": [
    "x = 5\n",
    "y = 10\n",
    "print(x + y)"
   ]
  },
  {
   "cell_type": "markdown",
   "id": "photographic-maximum",
   "metadata": {},
   "source": [
    "## Global Variables\n",
    "Variables that are created outside of a function (as in all of the examples above) are known as global variables.\n",
    "\n",
    "Global variables can be used by everyone, both inside of functions and outside.\n",
    "\n",
    "Create a variable outside of a function, and use it inside the function\n",
    "\n"
   ]
  },
  {
   "cell_type": "code",
   "execution_count": 13,
   "id": "preliminary-limitation",
   "metadata": {
    "ExecuteTime": {
     "end_time": "2021-08-02T01:15:10.819490Z",
     "start_time": "2021-08-02T01:15:10.804470Z"
    }
   },
   "outputs": [
    {
     "name": "stdout",
     "output_type": "stream",
     "text": [
      "Python is Awesome\n"
     ]
    }
   ],
   "source": [
    "x = \"Awesome\"\n",
    "\n",
    "def myfunc():\n",
    "    print(\"Python is \" + x)\n",
    "\n",
    "myfunc()"
   ]
  },
  {
   "cell_type": "markdown",
   "id": "complex-architect",
   "metadata": {},
   "source": [
    "## Local Variables\n",
    "\n",
    "\n",
    "If you create a variable with the same name inside a function, this variable will be local, and can only be used inside the function. The global variable with the same name will remain as it was, global and with the original value.\n",
    "\n"
   ]
  },
  {
   "cell_type": "code",
   "execution_count": 14,
   "id": "polish-serve",
   "metadata": {
    "ExecuteTime": {
     "end_time": "2021-08-02T01:15:10.835471Z",
     "start_time": "2021-08-02T01:15:10.820473Z"
    }
   },
   "outputs": [
    {
     "name": "stdout",
     "output_type": "stream",
     "text": [
      "Python is  Fantastic\n"
     ]
    }
   ],
   "source": [
    "x = \"Awesome\"\n",
    "\n",
    "def myfunc():\n",
    "    x = \" Fantastic\"\n",
    "    print(\"Python is \" + x)\n",
    "\n",
    "myfunc()"
   ]
  },
  {
   "cell_type": "markdown",
   "id": "split-mechanics",
   "metadata": {},
   "source": [
    "## The global Keyword\n",
    "Normally, when you create a variable inside a function, that variable is local, and can only be used inside that function.\n",
    "\n",
    "To create a global variable inside a function, you can use the **global** keyword."
   ]
  },
  {
   "cell_type": "code",
   "execution_count": 15,
   "id": "simple-mexico",
   "metadata": {
    "ExecuteTime": {
     "end_time": "2021-08-02T01:15:10.851497Z",
     "start_time": "2021-08-02T01:15:10.836471Z"
    }
   },
   "outputs": [
    {
     "name": "stdout",
     "output_type": "stream",
     "text": [
      "ptyhon is Test\n"
     ]
    }
   ],
   "source": [
    "x = \"Test\"\n",
    "def func():\n",
    "    global x\n",
    "    x = \"Fantastic for EVER!\"\n",
    "\n",
    "\n",
    "\n",
    "print(\"ptyhon is \" + x)"
   ]
  },
  {
   "cell_type": "code",
   "execution_count": 16,
   "id": "express-commission",
   "metadata": {
    "ExecuteTime": {
     "end_time": "2021-08-02T01:15:10.867500Z",
     "start_time": "2021-08-02T01:15:10.852491Z"
    }
   },
   "outputs": [
    {
     "name": "stdout",
     "output_type": "stream",
     "text": [
      "ptyhon is Fantastic for EVER!\n"
     ]
    }
   ],
   "source": [
    "x = \"Test\"\n",
    "def func():\n",
    "    global x\n",
    "    x = \"Fantastic for EVER!\"\n",
    "\n",
    "func()\n",
    "\n",
    "print(\"ptyhon is \" + x)"
   ]
  },
  {
   "cell_type": "markdown",
   "id": "peripheral-collectible",
   "metadata": {
    "ExecuteTime": {
     "end_time": "2021-07-31T22:42:23.465014Z",
     "start_time": "2021-07-31T22:42:23.447013Z"
    }
   },
   "source": [
    "# Python Data Types\n",
    "Built-in Data Types\n",
    "In programming, data type is an important concept.\n",
    "\n",
    "Variables can store data of different types, and different types can do different things.\n",
    "\n",
    "Python has the following data types built-in by default, in these categories:\n",
    "    \n",
    "| data type | Description |\n",
    "|-----------|-------------|\n",
    "| Text Type: | str |\n",
    "| Numeric Types: | int, float, complex |\n",
    "| Sequence Types: | list, tuple, range |\n",
    "| Mapping Type: | dict |\n",
    "| Set Types: | set, frozenset |\n",
    "| Boolean Type: | bool |\n",
    "| Binary Types: | bytes, bytearray, memoryview |"
   ]
  },
  {
   "cell_type": "markdown",
   "id": "introductory-mortgage",
   "metadata": {},
   "source": [
    "## Python Numbers\n",
    "There are three numeric types in Python:\n",
    "\n",
    "### 1. int : Int, or integer, \n",
    "\n",
    "is a whole number, positive or negative, without decimals, of unlimited length.\n",
    "\n",
    "### 2. float : \n",
    "\n",
    "Float, or \"floating point number\" is a number, positive or negative, containing one or more decimals. Float can also be scientific numbers with an \"e\" to indicate the power of 10.\n",
    "\n",
    "### 3. complex : \n",
    "Complex numbers are written with a \"j\" as the imaginary part:\n",
    "\n",
    "### Underscores in Numbers\n",
    "\n",
    "When you’re writing long numbers, you can group digits using underscores\n",
    "to make large numbers more readable.\n",
    "\n",
    "universe_age = 14_000_000_000"
   ]
  },
  {
   "cell_type": "code",
   "execution_count": 9,
   "id": "mechanical-plasma",
   "metadata": {
    "ExecuteTime": {
     "end_time": "2021-08-02T01:56:35.855635Z",
     "start_time": "2021-08-02T01:56:35.838552Z"
    }
   },
   "outputs": [
    {
     "data": {
      "text/plain": [
       "0.2"
      ]
     },
     "execution_count": 9,
     "metadata": {},
     "output_type": "execute_result"
    }
   ],
   "source": [
    "0.1 + 0.1"
   ]
  },
  {
   "cell_type": "code",
   "execution_count": 10,
   "id": "approximate-zealand",
   "metadata": {
    "ExecuteTime": {
     "end_time": "2021-08-02T01:56:40.236696Z",
     "start_time": "2021-08-02T01:56:40.229807Z"
    }
   },
   "outputs": [
    {
     "data": {
      "text/plain": [
       "2.0"
      ]
     },
     "execution_count": 10,
     "metadata": {},
     "output_type": "execute_result"
    }
   ],
   "source": [
    "4/2"
   ]
  },
  {
   "cell_type": "code",
   "execution_count": 17,
   "id": "ancient-pressure",
   "metadata": {
    "ExecuteTime": {
     "end_time": "2021-08-02T01:15:10.882495Z",
     "start_time": "2021-08-02T01:15:10.868494Z"
    }
   },
   "outputs": [
    {
     "name": "stdout",
     "output_type": "stream",
     "text": [
      "5  ,  <class 'int'>\n",
      "2.8  ,  <class 'float'>\n",
      "2j  ,  <class 'complex'>\n",
      "-8.77e+101  ,  <class 'float'>\n"
     ]
    }
   ],
   "source": [
    "x = 5\n",
    "y = 2.8 \n",
    "z =2j\n",
    "w =  -87.7e100\n",
    "\n",
    "print(x , \" , \" ,  type(x))\n",
    "print(y , \" , \" ,  type(y))\n",
    "print(z , \" , \" ,  type(z))\n",
    "print(w , \" , \" ,  type(w))"
   ]
  },
  {
   "cell_type": "markdown",
   "id": "related-tomato",
   "metadata": {
    "ExecuteTime": {
     "end_time": "2021-07-31T22:49:30.785288Z",
     "start_time": "2021-07-31T22:49:30.780272Z"
    }
   },
   "source": [
    "## Type Conversion\n",
    "You can convert from one type to another with the int(), float(), and complex() methods:"
   ]
  },
  {
   "cell_type": "code",
   "execution_count": 18,
   "id": "solar-westminster",
   "metadata": {
    "ExecuteTime": {
     "end_time": "2021-08-02T01:15:10.897501Z",
     "start_time": "2021-08-02T01:15:10.883501Z"
    }
   },
   "outputs": [
    {
     "name": "stdout",
     "output_type": "stream",
     "text": [
      "1.0 <class 'float'>\n",
      "2 <class 'int'>\n",
      "(1+0j) <class 'complex'>\n"
     ]
    }
   ],
   "source": [
    "x = 1    # int\n",
    "y = 2.8  # float\n",
    "z = 1j   # complex\n",
    "\n",
    "#convert from int to float:\n",
    "a = float(x)\n",
    "print(a , type(a))\n",
    "#convert from float to int:\n",
    "b = int(y)\n",
    "print(b , type(b))\n",
    "#convert from int to complex:\n",
    "c = complex(x )\n",
    "print(c ,  type(c))\n"
   ]
  },
  {
   "cell_type": "markdown",
   "id": "small-industry",
   "metadata": {},
   "source": [
    "## Random Number\n",
    "Python does not have a random() function to make a random number, but Python has a built-in module called random that can be used to make random numbers:\n",
    "\n"
   ]
  },
  {
   "cell_type": "code",
   "execution_count": 19,
   "id": "clinical-stupid",
   "metadata": {
    "ExecuteTime": {
     "end_time": "2021-08-02T01:15:10.912495Z",
     "start_time": "2021-08-02T01:15:10.899482Z"
    }
   },
   "outputs": [
    {
     "name": "stdout",
     "output_type": "stream",
     "text": [
      "168\n"
     ]
    }
   ],
   "source": [
    "import random\n",
    "print(random.randrange(1, 200))"
   ]
  },
  {
   "cell_type": "markdown",
   "id": "creative-armenia",
   "metadata": {},
   "source": [
    "## Casting\n",
    "\n",
    "There may be times when you want to specify a type on to a variable. This can be done with casting. Python is an object-orientated language, and as such it uses classes to define data types, including its primitive types.\n",
    "\n",
    "Casting in python is therefore done using constructor functions:\n",
    "\n",
    "* int() - constructs an integer number from an integer literal, a float literal (by removing all decimals), or a string literal (providing the string represents a whole number)\n",
    "* float() - constructs a float number from an integer literal, a float literal or a string literal (providing the string represents a float or an integer)\n",
    "* str() - constructs a string from a wide variety of data types, including strings, integer literals and float literals"
   ]
  },
  {
   "cell_type": "code",
   "execution_count": 20,
   "id": "excellent-friendly",
   "metadata": {
    "ExecuteTime": {
     "end_time": "2021-08-02T01:15:10.927487Z",
     "start_time": "2021-08-02T01:15:10.913470Z"
    }
   },
   "outputs": [
    {
     "name": "stdout",
     "output_type": "stream",
     "text": [
      "1 2 3\n",
      "<class 'int'> <class 'int'> <class 'int'>\n"
     ]
    }
   ],
   "source": [
    "x = int(1)   # x will be 1\n",
    "y = int(2.8) # y will be 2\n",
    "z = int(\"3\") # z will be 3\n",
    "print(x, y , z)\n",
    "print(type(x), type(y) , type(z))"
   ]
  },
  {
   "cell_type": "code",
   "execution_count": 21,
   "id": "excellent-camcorder",
   "metadata": {
    "ExecuteTime": {
     "end_time": "2021-08-02T01:15:10.943510Z",
     "start_time": "2021-08-02T01:15:10.928471Z"
    }
   },
   "outputs": [
    {
     "name": "stdout",
     "output_type": "stream",
     "text": [
      "1.0 2.8 3.0 4.2\n",
      "<class 'float'> <class 'float'> <class 'float'> <class 'float'>\n"
     ]
    }
   ],
   "source": [
    "x = float(1)     # x will be 1.0\n",
    "y = float(2.8)   # y will be 2.8\n",
    "z = float(\"3\")   # z will be 3.0\n",
    "w = float(\"4.2\") # w will be 4.2\n",
    "print(x, y , z , w)\n",
    "print(type(x), type(y) , type(z) , type(w))"
   ]
  },
  {
   "cell_type": "code",
   "execution_count": 22,
   "id": "opening-psychology",
   "metadata": {
    "ExecuteTime": {
     "end_time": "2021-08-02T01:15:10.959484Z",
     "start_time": "2021-08-02T01:15:10.944473Z"
    }
   },
   "outputs": [
    {
     "name": "stdout",
     "output_type": "stream",
     "text": [
      "s1 2 3.0\n",
      "<class 'str'> <class 'str'> <class 'str'>\n"
     ]
    }
   ],
   "source": [
    "x = str(\"s1\") # x will be 's1'\n",
    "y = str(2)    # y will be '2'\n",
    "z = str(3.0)  # z will be '3.0'\n",
    "print(x, y , z)\n",
    "print(type(x), type(y) , type(z))"
   ]
  },
  {
   "cell_type": "markdown",
   "id": "automotive-paragraph",
   "metadata": {},
   "source": [
    "## Strings\n",
    "Strings in python are surrounded by either single quotation marks, or double quotation marks.\n",
    "\n",
    "`'hello'` is the same as `\"hello\"`.\n",
    "\n",
    "You can display a string literal with the print() function:"
   ]
  },
  {
   "cell_type": "code",
   "execution_count": 1,
   "id": "colored-courtesy",
   "metadata": {
    "ExecuteTime": {
     "end_time": "2021-08-02T01:51:51.492083Z",
     "start_time": "2021-08-02T01:51:51.473412Z"
    }
   },
   "outputs": [
    {
     "name": "stdout",
     "output_type": "stream",
     "text": [
      "Ada Lovelace\n",
      "Hello World  ,  <class 'str'>\n"
     ]
    }
   ],
   "source": [
    "name = \"ada lovelace\"\n",
    "print(name.title())\n",
    "\n",
    "x = str(\"Hello World\")\n",
    "print(x , \" , \" ,  type(x))"
   ]
  },
  {
   "cell_type": "markdown",
   "id": "nutritional-floor",
   "metadata": {},
   "source": [
    "## Multiline Strings\n",
    "You can assign a multiline string to a variable by using three quotes:"
   ]
  },
  {
   "cell_type": "code",
   "execution_count": 24,
   "id": "filled-incentive",
   "metadata": {
    "ExecuteTime": {
     "end_time": "2021-08-02T01:15:10.989496Z",
     "start_time": "2021-08-02T01:15:10.975472Z"
    }
   },
   "outputs": [
    {
     "name": "stdout",
     "output_type": "stream",
     "text": [
      "Lorem ipsum dolor sit amet,\n",
      "consectetur adipiscing elit,\n",
      "sed do eiusmod tempor incididunt\n",
      "ut labore et dolore magna aliqua.\n"
     ]
    }
   ],
   "source": [
    "a = \"\"\"Lorem ipsum dolor sit amet,\n",
    "consectetur adipiscing elit,\n",
    "sed do eiusmod tempor incididunt\n",
    "ut labore et dolore magna aliqua.\"\"\"\n",
    "print(a)"
   ]
  },
  {
   "cell_type": "code",
   "execution_count": 25,
   "id": "satisfied-spouse",
   "metadata": {
    "ExecuteTime": {
     "end_time": "2021-08-02T01:15:11.005494Z",
     "start_time": "2021-08-02T01:15:10.990471Z"
    }
   },
   "outputs": [
    {
     "data": {
      "text/plain": [
       "'Lorem ipsum dolor sit amet,\\nconsectetur adipiscing elit,\\nsed do eiusmod tempor incididunt\\nut labore et dolore magna aliqua.'"
      ]
     },
     "execution_count": 25,
     "metadata": {},
     "output_type": "execute_result"
    }
   ],
   "source": [
    "a"
   ]
  },
  {
   "cell_type": "markdown",
   "id": "black-humanity",
   "metadata": {},
   "source": [
    "# Strings are Arrays\n",
    "strings in Python are arrays of bytes representing unicode characters.\n",
    "\n",
    "However, Python does not have a character data type, a single character is simply a string with a length of 1.\n",
    "\n",
    "Square brackets can be used to access elements of the string."
   ]
  },
  {
   "cell_type": "code",
   "execution_count": 26,
   "id": "electoral-receptor",
   "metadata": {
    "ExecuteTime": {
     "end_time": "2021-08-02T01:15:11.020495Z",
     "start_time": "2021-08-02T01:15:11.006470Z"
    }
   },
   "outputs": [
    {
     "data": {
      "text/plain": [
       "('o',\n",
       " 't amet,\\nco',\n",
       " 'd tempor incididunt\\nut labore et dolore magna aliqua.',\n",
       " 'Lorem ipsum dolor sit amet,\\nconsectetur adipiscing el')"
      ]
     },
     "execution_count": 26,
     "metadata": {},
     "output_type": "execute_result"
    }
   ],
   "source": [
    "a[1] , a[20:30] ,  a[70:] ,  a[:-70]"
   ]
  },
  {
   "cell_type": "markdown",
   "id": "coral-bowling",
   "metadata": {},
   "source": [
    "## Looping Through a String\n",
    "Since strings are arrays, we can loop through the characters in a string, with a for loop."
   ]
  },
  {
   "cell_type": "code",
   "execution_count": 27,
   "id": "numeric-findings",
   "metadata": {
    "ExecuteTime": {
     "end_time": "2021-08-02T01:15:11.035495Z",
     "start_time": "2021-08-02T01:15:11.021469Z"
    }
   },
   "outputs": [
    {
     "name": "stdout",
     "output_type": "stream",
     "text": [
      "b\n",
      "a\n",
      "n\n",
      "a\n",
      "n\n",
      "a\n"
     ]
    }
   ],
   "source": [
    "for x in \"banana\":\n",
    "    print(x)"
   ]
  },
  {
   "cell_type": "markdown",
   "id": "respective-final",
   "metadata": {},
   "source": [
    "## String Length\n",
    "To get the length of a string, use the len() function."
   ]
  },
  {
   "cell_type": "code",
   "execution_count": 28,
   "id": "sublime-honey",
   "metadata": {
    "ExecuteTime": {
     "end_time": "2021-08-02T01:15:11.051499Z",
     "start_time": "2021-08-02T01:15:11.036471Z"
    }
   },
   "outputs": [
    {
     "data": {
      "text/plain": [
       "123"
      ]
     },
     "execution_count": 28,
     "metadata": {},
     "output_type": "execute_result"
    }
   ],
   "source": [
    "len(a)"
   ]
  },
  {
   "cell_type": "markdown",
   "id": "operating-apparatus",
   "metadata": {},
   "source": [
    "## Check String\n",
    "To check if a certain phrase or character is present in a string, we can use the keyword in."
   ]
  },
  {
   "cell_type": "code",
   "execution_count": 29,
   "id": "mental-district",
   "metadata": {
    "ExecuteTime": {
     "end_time": "2021-08-02T01:15:11.067499Z",
     "start_time": "2021-08-02T01:15:11.052469Z"
    }
   },
   "outputs": [
    {
     "name": "stdout",
     "output_type": "stream",
     "text": [
      "False\n",
      "True\n",
      "True\n",
      "Yes, we can find it.\n"
     ]
    }
   ],
   "source": [
    "print(\"free\" in a)\n",
    "print(\"incididunt\" in a)\n",
    "print(\"expensive\" not in a)\n",
    "if \"incididunt\" in a:\n",
    "    print(\"Yes, we can find it.\")\n",
    "else:\n",
    "    print(\"Nope!\")"
   ]
  },
  {
   "cell_type": "markdown",
   "id": "protective-insulation",
   "metadata": {},
   "source": [
    "## Slicing\n",
    "You can return a range of characters by using the slice syntax.\n",
    "\n",
    "Specify the start index and the end index, separated by a colon, to return a part of the string."
   ]
  },
  {
   "cell_type": "code",
   "execution_count": 30,
   "id": "advance-zambia",
   "metadata": {
    "ExecuteTime": {
     "end_time": "2021-08-02T01:15:11.082499Z",
     "start_time": "2021-08-02T01:15:11.068471Z"
    }
   },
   "outputs": [
    {
     "name": "stdout",
     "output_type": "stream",
     "text": [
      "llo, W\n",
      "Hello\n",
      "llo, World!\n",
      "orl\n"
     ]
    }
   ],
   "source": [
    "b = \"Hello, World!\"\n",
    "print(b[2:8])\n",
    "print(b[:5]) #Slice From the Start\n",
    "print(b[2:]) # Slice To the End\n",
    "print(b[-5:-2]) # Negative Indexing"
   ]
  },
  {
   "cell_type": "markdown",
   "id": "crazy-brighton",
   "metadata": {},
   "source": [
    "## Modify Strings\n",
    "Python has a set of built-in methods that you can use on strings.\n",
    "### Upper Case\n",
    "### Lower Case\n",
    "### Remove Whitespace\n",
    "The strip() method removes any whitespace from the beginning or the end."
   ]
  },
  {
   "cell_type": "code",
   "execution_count": 2,
   "id": "graphic-dominant",
   "metadata": {
    "ExecuteTime": {
     "end_time": "2021-08-02T01:53:04.467648Z",
     "start_time": "2021-08-02T01:53:04.461616Z"
    }
   },
   "outputs": [
    {
     "name": "stdout",
     "output_type": "stream",
     "text": [
      " HELLO, WORLD!  hello, world! Hello, World!\n",
      "ADA LOVELACE\n",
      "ada lovelace\n"
     ]
    }
   ],
   "source": [
    "a = \" Hello, World!\"\n",
    "print(a.upper() , a.lower() , a.strip())\n",
    "name = \"Ada Lovelace\"\n",
    "print(name.upper())\n",
    "print(name.lower())"
   ]
  },
  {
   "cell_type": "markdown",
   "id": "textile-separation",
   "metadata": {},
   "source": [
    "### Replace String"
   ]
  },
  {
   "cell_type": "code",
   "execution_count": 32,
   "id": "requested-newark",
   "metadata": {
    "ExecuteTime": {
     "end_time": "2021-08-02T01:15:11.113507Z",
     "start_time": "2021-08-02T01:15:11.099470Z"
    }
   },
   "outputs": [
    {
     "data": {
      "text/plain": [
       "' HeMMo, WorMd!'"
      ]
     },
     "execution_count": 32,
     "metadata": {},
     "output_type": "execute_result"
    }
   ],
   "source": [
    "a = \" Hello, World!\"\n",
    "a.replace(\"l\", \"M\")"
   ]
  },
  {
   "cell_type": "markdown",
   "id": "inside-pipeline",
   "metadata": {},
   "source": [
    "## Split String\n",
    "The split() method returns a list where the text between the specified separator becomes the list items."
   ]
  },
  {
   "cell_type": "code",
   "execution_count": 33,
   "id": "racial-livestock",
   "metadata": {
    "ExecuteTime": {
     "end_time": "2021-08-02T01:15:11.129495Z",
     "start_time": "2021-08-02T01:15:11.114469Z"
    }
   },
   "outputs": [
    {
     "data": {
      "text/plain": [
       "[' Hell', ', W', 'rld!']"
      ]
     },
     "execution_count": 33,
     "metadata": {},
     "output_type": "execute_result"
    }
   ],
   "source": [
    "a.split(\"o\")"
   ]
  },
  {
   "cell_type": "markdown",
   "id": "palestinian-corruption",
   "metadata": {},
   "source": [
    "## String Concatenation\n",
    "To concatenate, or combine, two strings you can use the + operator."
   ]
  },
  {
   "cell_type": "code",
   "execution_count": 34,
   "id": "tight-horror",
   "metadata": {
    "ExecuteTime": {
     "end_time": "2021-08-02T01:15:11.145469Z",
     "start_time": "2021-08-02T01:15:11.130471Z"
    }
   },
   "outputs": [
    {
     "name": "stdout",
     "output_type": "stream",
     "text": [
      "Ali World\n"
     ]
    }
   ],
   "source": [
    "a = \"Ali\"\n",
    "b = \"World\"\n",
    "c = a + \" \" + b\n",
    "print(c)"
   ]
  },
  {
   "cell_type": "markdown",
   "id": "preceding-sustainability",
   "metadata": {},
   "source": [
    "## String Format\n",
    "The format() method takes the passed arguments, formats them, and places them in the string where the placeholders {} are:"
   ]
  },
  {
   "cell_type": "code",
   "execution_count": 35,
   "id": "wooden-straight",
   "metadata": {
    "ExecuteTime": {
     "end_time": "2021-08-02T01:15:11.161503Z",
     "start_time": "2021-08-02T01:15:11.146471Z"
    }
   },
   "outputs": [
    {
     "name": "stdout",
     "output_type": "stream",
     "text": [
      "My name is Ali and I am 35 years old\n"
     ]
    }
   ],
   "source": [
    "age= 35\n",
    "txt = \"My name is Ali and I am {} years old\"\n",
    "print(txt.format(age))"
   ]
  },
  {
   "cell_type": "code",
   "execution_count": 3,
   "id": "dried-cotton",
   "metadata": {
    "ExecuteTime": {
     "end_time": "2021-08-02T01:53:38.613986Z",
     "start_time": "2021-08-02T01:53:38.605117Z"
    }
   },
   "outputs": [
    {
     "name": "stdout",
     "output_type": "stream",
     "text": [
      "Hello, Ada Lovelace!\n"
     ]
    }
   ],
   "source": [
    "first_name = \"ada\"\n",
    "last_name = \"lovelace\"\n",
    "full_name = f\"{first_name} {last_name}\"\n",
    "print(f\"Hello, {full_name.title()}!\")"
   ]
  },
  {
   "cell_type": "code",
   "execution_count": 4,
   "id": "handed-burden",
   "metadata": {
    "ExecuteTime": {
     "end_time": "2021-08-02T01:53:51.547133Z",
     "start_time": "2021-08-02T01:53:51.533666Z"
    }
   },
   "outputs": [
    {
     "name": "stdout",
     "output_type": "stream",
     "text": [
      "Hello, Ada Lovelace!\n"
     ]
    }
   ],
   "source": [
    "first_name = \"ada\"\n",
    "last_name = \"lovelace\"\n",
    "full_name = f\"{first_name} {last_name}\"\n",
    "message = f\"Hello, {full_name.title()}!\"\n",
    "print(message)"
   ]
  },
  {
   "cell_type": "code",
   "execution_count": 36,
   "id": "optimum-belarus",
   "metadata": {
    "ExecuteTime": {
     "end_time": "2021-08-02T01:15:11.177503Z",
     "start_time": "2021-08-02T01:15:11.162471Z"
    }
   },
   "outputs": [
    {
     "name": "stdout",
     "output_type": "stream",
     "text": [
      "I want 3 pieces of item 567 for 49.95 dollars.\n"
     ]
    }
   ],
   "source": [
    "quantity = 3\n",
    "itemno = 567\n",
    "price = 49.95\n",
    "myorder = \"I want {} pieces of item {} for {} dollars.\"\n",
    "print(myorder.format(quantity, itemno, price))"
   ]
  },
  {
   "cell_type": "markdown",
   "id": "superior-special",
   "metadata": {},
   "source": [
    "You can use index numbers {0} to be sure the arguments are placed in the correct placeholders:"
   ]
  },
  {
   "cell_type": "code",
   "execution_count": 37,
   "id": "blond-vegetation",
   "metadata": {
    "ExecuteTime": {
     "end_time": "2021-08-02T01:15:11.193471Z",
     "start_time": "2021-08-02T01:15:11.178469Z"
    }
   },
   "outputs": [
    {
     "name": "stdout",
     "output_type": "stream",
     "text": [
      "I want to pay 494.95 dollars for 4 pieces of item 5567.\n"
     ]
    }
   ],
   "source": [
    "quantity = 4\n",
    "itemno = 5567\n",
    "price = 494.95\n",
    "myorder = \"I want to pay {2} dollars for {0} pieces of item {1}.\"\n",
    "print(myorder.format(quantity, itemno, price))"
   ]
  },
  {
   "cell_type": "markdown",
   "id": "alone-discussion",
   "metadata": {},
   "source": [
    "## Escape Characters\n",
    "| Code | Result |\n",
    "|------|--------| \n",
    "| \\\\ | Backslash |\n",
    "| \\n | New Line |\n",
    "| \\r | Carriage Return  |\n",
    "| \\t | Tab |\n",
    "| \\b | Backspace |\n",
    "| \\f | Form Feed |\n",
    "| \\ooo | Octal value  |\n",
    "| \\xhh | Hex value  |"
   ]
  },
  {
   "cell_type": "code",
   "execution_count": 5,
   "id": "burning-munich",
   "metadata": {
    "ExecuteTime": {
     "end_time": "2021-08-02T01:54:09.763186Z",
     "start_time": "2021-08-02T01:54:09.758187Z"
    }
   },
   "outputs": [
    {
     "name": "stdout",
     "output_type": "stream",
     "text": [
      "Languages:\n",
      "Python\n",
      "C\n",
      "JavaScript\n"
     ]
    }
   ],
   "source": [
    "print(\"Languages:\\nPython\\nC\\nJavaScript\")"
   ]
  },
  {
   "cell_type": "code",
   "execution_count": 11,
   "id": "environmental-sucking",
   "metadata": {
    "ExecuteTime": {
     "end_time": "2021-08-02T01:58:40.897068Z",
     "start_time": "2021-08-02T01:58:40.888225Z"
    }
   },
   "outputs": [
    {
     "name": "stdout",
     "output_type": "stream",
     "text": [
      "The Zen of Python, by Tim Peters\n",
      "\n",
      "Beautiful is better than ugly.\n",
      "Explicit is better than implicit.\n",
      "Simple is better than complex.\n",
      "Complex is better than complicated.\n",
      "Flat is better than nested.\n",
      "Sparse is better than dense.\n",
      "Readability counts.\n",
      "Special cases aren't special enough to break the rules.\n",
      "Although practicality beats purity.\n",
      "Errors should never pass silently.\n",
      "Unless explicitly silenced.\n",
      "In the face of ambiguity, refuse the temptation to guess.\n",
      "There should be one-- and preferably only one --obvious way to do it.\n",
      "Although that way may not be obvious at first unless you're Dutch.\n",
      "Now is better than never.\n",
      "Although never is often better than *right* now.\n",
      "If the implementation is hard to explain, it's a bad idea.\n",
      "If the implementation is easy to explain, it may be a good idea.\n",
      "Namespaces are one honking great idea -- let's do more of those!\n"
     ]
    }
   ],
   "source": [
    "## Zen of Python: Enter import this into a Python terminal session and skim\n",
    "# through the additional principles.\n",
    "\n",
    "import this"
   ]
  },
  {
   "cell_type": "code",
   "execution_count": 6,
   "id": "statewide-penalty",
   "metadata": {
    "ExecuteTime": {
     "end_time": "2021-08-02T01:54:17.765541Z",
     "start_time": "2021-08-02T01:54:17.749676Z"
    }
   },
   "outputs": [
    {
     "name": "stdout",
     "output_type": "stream",
     "text": [
      "\tPython\n"
     ]
    }
   ],
   "source": [
    "print(\"\\tPython\")"
   ]
  },
  {
   "cell_type": "markdown",
   "id": "surprised-university",
   "metadata": {},
   "source": [
    "# Constants\n",
    "\n",
    "A constant is like a variable whose value stays the same throughout the life\n",
    "of a program. Python doesn’t have built-in constant types, but Python programmers use all capital letters to indicate a variable should be treated as a\n",
    "constant and never be changed:\n",
    "\n",
    "MAX_CONNECTIONS = 5000"
   ]
  },
  {
   "cell_type": "markdown",
   "id": "positive-building",
   "metadata": {},
   "source": [
    "## Booleans\n",
    "Booleans represent one of two values: True or False.\n",
    "\n",
    "In programming you often need to know if an expression is True or False.\n",
    "\n",
    "You can evaluate any expression in Python, and get one of two answers, True or False.\n",
    "\n",
    "When you compare two values, the expression is evaluated and Python returns the Boolean answer:"
   ]
  },
  {
   "cell_type": "code",
   "execution_count": 38,
   "id": "sound-slovenia",
   "metadata": {
    "ExecuteTime": {
     "end_time": "2021-08-02T01:15:11.209473Z",
     "start_time": "2021-08-02T01:15:11.194470Z"
    }
   },
   "outputs": [
    {
     "name": "stdout",
     "output_type": "stream",
     "text": [
      "True  ,  <class 'bool'>\n",
      "True\n",
      "True\n"
     ]
    }
   ],
   "source": [
    "x = bool(5)\n",
    "print(x , \" , \" ,  type(x))\n",
    "print(bool(\"Hello\"))\n",
    "print(bool(15))"
   ]
  },
  {
   "cell_type": "code",
   "execution_count": 39,
   "id": "requested-gallery",
   "metadata": {
    "ExecuteTime": {
     "end_time": "2021-08-02T01:15:11.225469Z",
     "start_time": "2021-08-02T01:15:11.210471Z"
    }
   },
   "outputs": [
    {
     "name": "stdout",
     "output_type": "stream",
     "text": [
      "True\n",
      "False\n",
      "False\n"
     ]
    }
   ],
   "source": [
    "print(10 > 9)\n",
    "print(10 == 9)\n",
    "print(10 < 9)"
   ]
  },
  {
   "cell_type": "code",
   "execution_count": 40,
   "id": "renewable-improvement",
   "metadata": {
    "ExecuteTime": {
     "end_time": "2021-08-02T01:15:11.241472Z",
     "start_time": "2021-08-02T01:15:11.226471Z"
    }
   },
   "outputs": [
    {
     "name": "stdout",
     "output_type": "stream",
     "text": [
      "B is not greater than a\n"
     ]
    }
   ],
   "source": [
    "a = 500\n",
    "b = 33\n",
    "if b > a:\n",
    "    print(\"B is greater than a\")\n",
    "else:\n",
    "    print(\"B is not greater than a\")"
   ]
  },
  {
   "cell_type": "code",
   "execution_count": 41,
   "id": "breeding-arrival",
   "metadata": {
    "ExecuteTime": {
     "end_time": "2021-08-02T01:15:11.257523Z",
     "start_time": "2021-08-02T01:15:11.242471Z"
    }
   },
   "outputs": [
    {
     "name": "stdout",
     "output_type": "stream",
     "text": [
      "True\n",
      "True\n"
     ]
    }
   ],
   "source": [
    "x = \"Hello\"\n",
    "y = 15\n",
    "\n",
    "print(bool(x))\n",
    "print(bool(y))"
   ]
  },
  {
   "cell_type": "markdown",
   "id": "treated-evidence",
   "metadata": {},
   "source": [
    "### Most Values are True\n",
    "Almost any value is evaluated to True if it has some sort of content.\n",
    "\n",
    "Any string is True, except empty strings.\n",
    "\n",
    "Any number is True, except 0.\n",
    "\n",
    "Any list, tuple, set, and dictionary are True, except empty ones."
   ]
  },
  {
   "cell_type": "code",
   "execution_count": 42,
   "id": "dated-clock",
   "metadata": {
    "ExecuteTime": {
     "end_time": "2021-08-02T01:15:11.273500Z",
     "start_time": "2021-08-02T01:15:11.258501Z"
    }
   },
   "outputs": [
    {
     "name": "stdout",
     "output_type": "stream",
     "text": [
      "True\n",
      "True\n",
      "True\n",
      "------------------\n",
      "False\n",
      "False\n",
      "False\n",
      "False\n",
      "False\n",
      "False\n",
      "False\n"
     ]
    }
   ],
   "source": [
    "print(bool(\"abc\"))\n",
    "print(bool(123))\n",
    "print(bool([\"apple\", \"cherry\", \"banana\"]))\n",
    "print(\"------------------\")\n",
    "print(bool(False))\n",
    "print(bool(None))\n",
    "print(bool(0))\n",
    "print(bool(\"\"))\n",
    "print(bool(()))\n",
    "print(bool([]))\n",
    "print(bool({}))"
   ]
  },
  {
   "cell_type": "code",
   "execution_count": 43,
   "id": "coupled-charger",
   "metadata": {
    "ExecuteTime": {
     "end_time": "2021-08-02T01:15:11.289500Z",
     "start_time": "2021-08-02T01:15:11.274470Z"
    }
   },
   "outputs": [
    {
     "name": "stdout",
     "output_type": "stream",
     "text": [
      "True\n"
     ]
    }
   ],
   "source": [
    "def myFunction() :\n",
    "  return True\n",
    "\n",
    "print(myFunction())"
   ]
  },
  {
   "cell_type": "code",
   "execution_count": 44,
   "id": "regulated-multimedia",
   "metadata": {
    "ExecuteTime": {
     "end_time": "2021-08-02T01:15:11.305502Z",
     "start_time": "2021-08-02T01:15:11.290470Z"
    }
   },
   "outputs": [
    {
     "name": "stdout",
     "output_type": "stream",
     "text": [
      "YES!\n"
     ]
    }
   ],
   "source": [
    "def myFunction() :\n",
    "  return True\n",
    "\n",
    "if myFunction():\n",
    "  print(\"YES!\")\n",
    "else:\n",
    "  print(\"NO!\")"
   ]
  },
  {
   "cell_type": "code",
   "execution_count": 45,
   "id": "charged-prototype",
   "metadata": {
    "ExecuteTime": {
     "end_time": "2021-08-02T01:15:11.321501Z",
     "start_time": "2021-08-02T01:15:11.306470Z"
    }
   },
   "outputs": [
    {
     "name": "stdout",
     "output_type": "stream",
     "text": [
      "True\n"
     ]
    }
   ],
   "source": [
    "x = 200\n",
    "print(isinstance(x, int))"
   ]
  },
  {
   "cell_type": "markdown",
   "id": "improving-navigator",
   "metadata": {},
   "source": [
    "# Operators\n",
    "Operators are used to perform operations on variables and values."
   ]
  },
  {
   "cell_type": "code",
   "execution_count": 46,
   "id": "motivated-canada",
   "metadata": {
    "ExecuteTime": {
     "end_time": "2021-08-02T01:15:11.337496Z",
     "start_time": "2021-08-02T01:15:11.322470Z"
    }
   },
   "outputs": [
    {
     "name": "stdout",
     "output_type": "stream",
     "text": [
      "15\n"
     ]
    }
   ],
   "source": [
    "print(10 + 5)"
   ]
  },
  {
   "cell_type": "markdown",
   "id": "affecting-county",
   "metadata": {},
   "source": [
    "Python divides the operators in the following groups:\n",
    "\n",
    "### Arithmetic operators\n",
    "\n",
    "![](./i/Arithmeticoperators.jpg)\n",
    "\n",
    "### Assignment operators\n",
    "\n",
    "![](./i/Assignment_Operators.jpg)\n",
    "\n",
    "### Comparison operators\n",
    "\n",
    "![](./i/Comparison_Operators.jpg)\n",
    "\n",
    "### Logical operators\n",
    "\n",
    "![](./i/Logical_Operators.jpg)\n",
    "\n",
    "### Identity operators\n",
    "\n",
    "![](./i/Identity_Operators.jpg)\n",
    "\n",
    "### Membership operators\n",
    "\n",
    "\n",
    "![](./i/Membership_operators.jpg)\n",
    "\n",
    "###  Bitwise operators\n",
    "\n",
    "![](./i/Bitwise_operators.jpg)\n"
   ]
  },
  {
   "cell_type": "markdown",
   "id": "quantitative-progressive",
   "metadata": {},
   "source": [
    "# Lists\n",
    "\n",
    "List items are ordered, changeable, and allow duplicate values.\n",
    "\n",
    "List items are indexed, the first item has index [0], the second item has index [1] etc.\n",
    "\n",
    "## Ordered\n",
    "\n",
    "When we say that lists are ordered, it means that the items have a defined order, and that order will not change.\n",
    "\n",
    "If you add new items to a list, the new items will be placed at the end of the list.\n",
    "\n",
    "## Changeable\n",
    "\n",
    "The list is changeable, meaning that we can change, add, and remove items in a list after it has been created.\n",
    "\n",
    "## Allow Duplicates\n",
    "\n",
    "Since lists are indexed, lists can have items with the same value:\n",
    "\n",
    "## List Length\n",
    "\n",
    "To determine how many items a list has, use the len() function\n",
    "\n",
    "## Python has a set of built-in methods that you can use on lists.\n",
    "\n",
    "| Method | Description |\n",
    "|--------|-------------| \n",
    "| append() | Adds an element at the end of the list | \n",
    "| clear() | Removes all the elements from the list | \n",
    "| copy() | Returns a copy of the list | \n",
    "| count() | Returns the number of elements with the specified value | \n",
    "| extend() | Add the elements of a list (or any iterable), to the end of the current list | \n",
    "| index() | Returns the index of the first element with the specified value | \n",
    "| insert() | Adds an element at the specified position | \n",
    "| pop() | Removes the element at the specified position | \n",
    "| remove() | Removes the item with the specified value | \n",
    "| reverse() | Reverses the order of the list | \n",
    "| sort() | Sorts the list | "
   ]
  },
  {
   "cell_type": "code",
   "execution_count": 47,
   "id": "random-howard",
   "metadata": {
    "ExecuteTime": {
     "end_time": "2021-08-02T01:15:11.353501Z",
     "start_time": "2021-08-02T01:15:11.339504Z"
    }
   },
   "outputs": [
    {
     "name": "stdout",
     "output_type": "stream",
     "text": [
      "['apple', 'banana', 'cherry'] banana  ,  <class 'list'>\n"
     ]
    }
   ],
   "source": [
    "x = list((\"apple\", \"banana\", \"cherry\"))\n",
    "print(x , x[1] , \" , \" ,  type(x))"
   ]
  },
  {
   "cell_type": "code",
   "execution_count": 48,
   "id": "ongoing-swift",
   "metadata": {
    "ExecuteTime": {
     "end_time": "2021-08-02T01:15:11.369502Z",
     "start_time": "2021-08-02T01:15:11.354469Z"
    }
   },
   "outputs": [
    {
     "name": "stdout",
     "output_type": "stream",
     "text": [
      "['apple', 'banana', 'cherry', 'apple', 'cherry']\n"
     ]
    }
   ],
   "source": [
    "thislist = [\"apple\", \"banana\", \"cherry\", \"apple\", \"cherry\"]\n",
    "print(thislist)"
   ]
  },
  {
   "cell_type": "code",
   "execution_count": 49,
   "id": "right-complement",
   "metadata": {
    "ExecuteTime": {
     "end_time": "2021-08-02T01:15:11.385502Z",
     "start_time": "2021-08-02T01:15:11.370471Z"
    }
   },
   "outputs": [
    {
     "name": "stdout",
     "output_type": "stream",
     "text": [
      "3\n"
     ]
    }
   ],
   "source": [
    "thislist = [\"apple\", \"banana\", \"cherry\"]\n",
    "print(len(thislist))"
   ]
  },
  {
   "cell_type": "markdown",
   "id": "advance-brooklyn",
   "metadata": {},
   "source": [
    "## List Items - Data Types\n",
    "List items can be of any data type:"
   ]
  },
  {
   "cell_type": "code",
   "execution_count": 50,
   "id": "liberal-return",
   "metadata": {
    "ExecuteTime": {
     "end_time": "2021-08-02T01:15:11.401501Z",
     "start_time": "2021-08-02T01:15:11.386469Z"
    }
   },
   "outputs": [
    {
     "name": "stdout",
     "output_type": "stream",
     "text": [
      "['apple', 'banana', 'cherry']\n",
      "[1, 5, 7, 9, 3]\n",
      "[True, False, False]\n"
     ]
    }
   ],
   "source": [
    "list1 = [\"apple\", \"banana\", \"cherry\"]\n",
    "list2 = [1, 5, 7, 9, 3]\n",
    "list3 = [True, False, False]\n",
    "print(list1)\n",
    "print(list2)\n",
    "print(list3)\n"
   ]
  },
  {
   "cell_type": "code",
   "execution_count": 51,
   "id": "raising-carry",
   "metadata": {
    "ExecuteTime": {
     "end_time": "2021-08-02T01:15:11.417497Z",
     "start_time": "2021-08-02T01:15:11.402471Z"
    }
   },
   "outputs": [
    {
     "data": {
      "text/plain": [
       "list"
      ]
     },
     "execution_count": 51,
     "metadata": {},
     "output_type": "execute_result"
    }
   ],
   "source": [
    "list1 = [\"abc\", 34, True, 40, \"male\"]\n",
    "type(list1)"
   ]
  },
  {
   "cell_type": "markdown",
   "id": "utility-drama",
   "metadata": {},
   "source": [
    "## The list() Constructor\n",
    "It is also possible to use the list() constructor when creating a new list."
   ]
  },
  {
   "cell_type": "code",
   "execution_count": 52,
   "id": "reported-sympathy",
   "metadata": {
    "ExecuteTime": {
     "end_time": "2021-08-02T01:15:11.433496Z",
     "start_time": "2021-08-02T01:15:11.418470Z"
    }
   },
   "outputs": [
    {
     "name": "stdout",
     "output_type": "stream",
     "text": [
      "['apple', 'banana', 'cherry']\n"
     ]
    }
   ],
   "source": [
    "thislist = list((\"apple\", \"banana\", \"cherry\")) # note the double round-brackets\n",
    "print(thislist)"
   ]
  },
  {
   "cell_type": "markdown",
   "id": "editorial-sleep",
   "metadata": {},
   "source": [
    "## There are four collection data types in the Python programming language:\n",
    "\n",
    "* List is a collection which is ordered and changeable. Allows duplicate members.\n",
    "* Tuple is a collection which is ordered and unchangeable. Allows duplicate members.\n",
    "* Set is a collection which is unordered and unindexed. No duplicate members.\n",
    "* Dictionary is a collection which is ordered and changeable. No duplicate members."
   ]
  },
  {
   "cell_type": "markdown",
   "id": "hundred-bridal",
   "metadata": {},
   "source": [
    "## Access Items\n",
    "List items are indexed and you can access them by referring to the index number.\n"
   ]
  },
  {
   "cell_type": "code",
   "execution_count": 53,
   "id": "hungarian-respect",
   "metadata": {
    "ExecuteTime": {
     "end_time": "2021-08-02T01:15:11.449496Z",
     "start_time": "2021-08-02T01:15:11.434499Z"
    }
   },
   "outputs": [
    {
     "name": "stdout",
     "output_type": "stream",
     "text": [
      "banana\n"
     ]
    }
   ],
   "source": [
    "thislist = [\"apple\", \"banana\", \"cherry\"]\n",
    "print(thislist[1])"
   ]
  },
  {
   "cell_type": "markdown",
   "id": "chronic-basket",
   "metadata": {},
   "source": [
    "## Negative Indexing\n",
    "Negative indexing means start from the end.\n",
    "-1 refers to the last item, -2 refers to the second last item etc.\n"
   ]
  },
  {
   "cell_type": "code",
   "execution_count": 54,
   "id": "silent-interview",
   "metadata": {
    "ExecuteTime": {
     "end_time": "2021-08-02T01:15:11.465495Z",
     "start_time": "2021-08-02T01:15:11.450482Z"
    }
   },
   "outputs": [
    {
     "name": "stdout",
     "output_type": "stream",
     "text": [
      "cherry\n",
      "apple\n"
     ]
    }
   ],
   "source": [
    "thislist = [\"apple\", \"banana\", \"cherry\"]\n",
    "print(thislist[-1])\n",
    "print(thislist[-3])"
   ]
  },
  {
   "cell_type": "markdown",
   "id": "immediate-people",
   "metadata": {},
   "source": [
    "## Range of Indexes\n",
    "\n",
    "You can specify a range of indexes by specifying where to start and where to end the range.\n",
    "\n",
    "When specifying a range, the return value will be a new list with the specified items.\n",
    "\n",
    "\n",
    "Note: The search will start at index 2 (included) and end at index 5 (not included).\n",
    "\n",
    "Remember that the first item has index 0.\n",
    "\n"
   ]
  },
  {
   "cell_type": "code",
   "execution_count": 55,
   "id": "detected-eleven",
   "metadata": {
    "ExecuteTime": {
     "end_time": "2021-08-02T01:15:11.481497Z",
     "start_time": "2021-08-02T01:15:11.466469Z"
    }
   },
   "outputs": [
    {
     "name": "stdout",
     "output_type": "stream",
     "text": [
      "['cherry', 'orange', 'kiwi']\n"
     ]
    }
   ],
   "source": [
    "thislist = [\"apple\", \"banana\", \"cherry\", \"orange\", \"kiwi\", \"melon\", \"mango\"]\n",
    "print(thislist[2:5])"
   ]
  },
  {
   "cell_type": "markdown",
   "id": "abandoned-worthy",
   "metadata": {},
   "source": [
    "By leaving out the start value, the range will start at the first item."
   ]
  },
  {
   "cell_type": "code",
   "execution_count": 56,
   "id": "ethical-player",
   "metadata": {
    "ExecuteTime": {
     "end_time": "2021-08-02T01:15:11.497500Z",
     "start_time": "2021-08-02T01:15:11.482471Z"
    }
   },
   "outputs": [
    {
     "name": "stdout",
     "output_type": "stream",
     "text": [
      "['apple', 'banana', 'cherry', 'orange']\n"
     ]
    }
   ],
   "source": [
    "thislist = [\"apple\", \"banana\", \"cherry\", \"orange\", \"kiwi\", \"melon\", \"mango\"]\n",
    "print(thislist[:4])"
   ]
  },
  {
   "cell_type": "markdown",
   "id": "partial-charles",
   "metadata": {},
   "source": [
    "By leaving out the end value, the range will go on to the end of the list."
   ]
  },
  {
   "cell_type": "code",
   "execution_count": 57,
   "id": "actual-chicago",
   "metadata": {
    "ExecuteTime": {
     "end_time": "2021-08-02T01:15:11.513471Z",
     "start_time": "2021-08-02T01:15:11.498469Z"
    }
   },
   "outputs": [
    {
     "name": "stdout",
     "output_type": "stream",
     "text": [
      "['cherry', 'orange', 'kiwi', 'melon', 'mango']\n"
     ]
    }
   ],
   "source": [
    "thislist = [\"apple\", \"banana\", \"cherry\", \"orange\", \"kiwi\", \"melon\", \"mango\"]\n",
    "print(thislist[2:])"
   ]
  },
  {
   "cell_type": "markdown",
   "id": "joined-feeding",
   "metadata": {},
   "source": [
    "## Range of Negative Indexes\n",
    "Specify negative indexes if you want to start the search from the end of the list:\n",
    "\n",
    "Example"
   ]
  },
  {
   "cell_type": "code",
   "execution_count": 58,
   "id": "graduate-scottish",
   "metadata": {
    "ExecuteTime": {
     "end_time": "2021-08-02T01:15:11.528500Z",
     "start_time": "2021-08-02T01:15:11.514470Z"
    }
   },
   "outputs": [
    {
     "name": "stdout",
     "output_type": "stream",
     "text": [
      "['cherry', 'orange', 'kiwi']\n"
     ]
    }
   ],
   "source": [
    "thislist = [\"apple\", \"banana\", \"cherry\", \"orange\", \"kiwi\", \"melon\", \"mango\"]\n",
    "print(thislist[-5:-2])"
   ]
  },
  {
   "cell_type": "markdown",
   "id": "manual-desert",
   "metadata": {},
   "source": [
    "## Check if Item Exists\n",
    "To determine if a specified item is present in a list use the in keyword:\n",
    "\n"
   ]
  },
  {
   "cell_type": "code",
   "execution_count": 59,
   "id": "statistical-might",
   "metadata": {
    "ExecuteTime": {
     "end_time": "2021-08-02T01:15:11.543501Z",
     "start_time": "2021-08-02T01:15:11.529470Z"
    }
   },
   "outputs": [
    {
     "name": "stdout",
     "output_type": "stream",
     "text": [
      "YES\n"
     ]
    }
   ],
   "source": [
    "if \"apple\" in thislist:\n",
    "    print(\"YES\")\n",
    "else:\n",
    "    print(\"Nope\")"
   ]
  },
  {
   "cell_type": "markdown",
   "id": "harmful-caribbean",
   "metadata": {
    "ExecuteTime": {
     "end_time": "2021-08-01T22:59:49.472419Z",
     "start_time": "2021-08-01T22:59:49.458419Z"
    }
   },
   "source": [
    "## Change List Items\n",
    "To change the value of a specific item, refer to the index number:\n",
    "\n",
    "If you insert more items than you replace, the new items will be inserted where you specified,  and the remaining items will move accordingly:\n",
    "\n",
    "Note: The length of the list will change when the number of items inserted does not match the number of items replaced.\n"
   ]
  },
  {
   "cell_type": "code",
   "execution_count": 60,
   "id": "legitimate-missile",
   "metadata": {
    "ExecuteTime": {
     "end_time": "2021-08-02T01:15:11.559502Z",
     "start_time": "2021-08-02T01:15:11.544469Z"
    }
   },
   "outputs": [
    {
     "name": "stdout",
     "output_type": "stream",
     "text": [
      "['apple', 'Test', 'cherry']\n"
     ]
    }
   ],
   "source": [
    "thislist = [\"apple\", \"banana\", \"cherry\"]\n",
    "thislist[1] = \"Test\"\n",
    "print(thislist)"
   ]
  },
  {
   "cell_type": "code",
   "execution_count": 61,
   "id": "precious-quarterly",
   "metadata": {
    "ExecuteTime": {
     "end_time": "2021-08-02T01:15:11.575501Z",
     "start_time": "2021-08-02T01:15:11.560490Z"
    }
   },
   "outputs": [
    {
     "name": "stdout",
     "output_type": "stream",
     "text": [
      "['apple', 'banana', 'cherry', 'orange', 'kiwi', 'mango']\n",
      "['apple', 'blackcurrant', 'watermelon', 'orange', 'kiwi', 'mango']\n"
     ]
    }
   ],
   "source": [
    "thislist = [\"apple\", \"banana\", \"cherry\", \"orange\", \"kiwi\", \"mango\"]\n",
    "print(thislist)\n",
    "thislist[1:3] = [\"blackcurrant\", \"watermelon\"]\n",
    "print(thislist)"
   ]
  },
  {
   "cell_type": "code",
   "execution_count": 62,
   "id": "artistic-beijing",
   "metadata": {
    "ExecuteTime": {
     "end_time": "2021-08-02T01:15:11.591499Z",
     "start_time": "2021-08-02T01:15:11.576523Z"
    }
   },
   "outputs": [
    {
     "name": "stdout",
     "output_type": "stream",
     "text": [
      "['apple', 'blackcurrant', 'watermelon', 'cherry']\n"
     ]
    }
   ],
   "source": [
    "thislist = [\"apple\", \"banana\", \"cherry\"]\n",
    "thislist[1:2] = [\"blackcurrant\", \"watermelon\"]\n",
    "print(thislist)"
   ]
  },
  {
   "cell_type": "markdown",
   "id": "patient-roulette",
   "metadata": {},
   "source": [
    "## Insert Items\n",
    "To insert a new list item, without replacing any of the existing values, we can use the insert() method.\n",
    "\n",
    "The insert() method inserts an item at the specified index:"
   ]
  },
  {
   "cell_type": "code",
   "execution_count": 63,
   "id": "surprising-quilt",
   "metadata": {
    "ExecuteTime": {
     "end_time": "2021-08-02T01:15:11.607499Z",
     "start_time": "2021-08-02T01:15:11.592504Z"
    }
   },
   "outputs": [
    {
     "name": "stdout",
     "output_type": "stream",
     "text": [
      "['apple', 'banana', 'watermelon', 'cherry']\n"
     ]
    }
   ],
   "source": [
    "thislist = [\"apple\", \"banana\", \"cherry\"]\n",
    "thislist.insert(2, \"watermelon\")\n",
    "print(thislist)\n",
    "\n",
    "# Note: As a result of the example above, the list will now contain 4 items."
   ]
  },
  {
   "cell_type": "code",
   "execution_count": 64,
   "id": "absolute-harassment",
   "metadata": {
    "ExecuteTime": {
     "end_time": "2021-08-02T01:15:11.623500Z",
     "start_time": "2021-08-02T01:15:11.608501Z"
    }
   },
   "outputs": [
    {
     "data": {
      "text/plain": [
       "True"
      ]
     },
     "execution_count": 64,
     "metadata": {},
     "output_type": "execute_result"
    }
   ],
   "source": [
    "\"watermelon\" in thislist"
   ]
  },
  {
   "cell_type": "markdown",
   "id": "referenced-advantage",
   "metadata": {},
   "source": [
    "## Find Index of item in List"
   ]
  },
  {
   "cell_type": "code",
   "execution_count": 65,
   "id": "identified-calvin",
   "metadata": {
    "ExecuteTime": {
     "end_time": "2021-08-02T01:15:11.639499Z",
     "start_time": "2021-08-02T01:15:11.624475Z"
    }
   },
   "outputs": [
    {
     "data": {
      "text/plain": [
       "(2, 4)"
      ]
     },
     "execution_count": 65,
     "metadata": {},
     "output_type": "execute_result"
    }
   ],
   "source": [
    "thislist.index(\"watermelon\") , len(thislist)"
   ]
  },
  {
   "cell_type": "markdown",
   "id": "further-performer",
   "metadata": {},
   "source": [
    "## Add List Items\n",
    "To add an item to the end of the list, use the append() method:"
   ]
  },
  {
   "cell_type": "code",
   "execution_count": 66,
   "id": "through-preserve",
   "metadata": {
    "ExecuteTime": {
     "end_time": "2021-08-02T01:15:11.655506Z",
     "start_time": "2021-08-02T01:15:11.640494Z"
    }
   },
   "outputs": [
    {
     "name": "stdout",
     "output_type": "stream",
     "text": [
      "['apple', 'banana', 'cherry', 'orange']\n"
     ]
    }
   ],
   "source": [
    "thislist = [\"apple\", \"banana\", \"cherry\"]\n",
    "thislist.append(\"orange\")\n",
    "print(thislist)"
   ]
  },
  {
   "cell_type": "markdown",
   "id": "intellectual-cartridge",
   "metadata": {},
   "source": [
    "## Extend List\n",
    "To append elements from another list to the current list, use the extend() method"
   ]
  },
  {
   "cell_type": "code",
   "execution_count": 67,
   "id": "signal-europe",
   "metadata": {
    "ExecuteTime": {
     "end_time": "2021-08-02T01:15:11.671500Z",
     "start_time": "2021-08-02T01:15:11.656471Z"
    }
   },
   "outputs": [
    {
     "name": "stdout",
     "output_type": "stream",
     "text": [
      "['apple', 'banana', 'cherry', 'mango', 'pineapple', 'papaya', 1, 15, 'a1j']\n"
     ]
    }
   ],
   "source": [
    "thislist = [\"apple\", \"banana\", \"cherry\"]\n",
    "tropical = [\"mango\", \"pineapple\", \"papaya\" , 1 , 15 , \"a1j\"]\n",
    "thislist.extend(tropical)\n",
    "print(thislist)"
   ]
  },
  {
   "cell_type": "markdown",
   "id": "blank-delicious",
   "metadata": {},
   "source": [
    "## Remove List Items\n",
    "The remove() method removes the specified item."
   ]
  },
  {
   "cell_type": "code",
   "execution_count": 68,
   "id": "protecting-reviewer",
   "metadata": {
    "ExecuteTime": {
     "end_time": "2021-08-02T01:15:11.687500Z",
     "start_time": "2021-08-02T01:15:11.672471Z"
    }
   },
   "outputs": [
    {
     "name": "stdout",
     "output_type": "stream",
     "text": [
      "['apple', 'cherry']\n"
     ]
    }
   ],
   "source": [
    "thislist = [\"apple\", \"banana\", \"cherry\"]\n",
    "thislist.remove(\"banana\")\n",
    "print(thislist)"
   ]
  },
  {
   "cell_type": "markdown",
   "id": "exact-plaintiff",
   "metadata": {},
   "source": [
    "## Remove Specified Index\n",
    "The pop() method removes the specified index.\n",
    "or Del"
   ]
  },
  {
   "cell_type": "code",
   "execution_count": 69,
   "id": "introductory-complement",
   "metadata": {
    "ExecuteTime": {
     "end_time": "2021-08-02T01:15:11.703472Z",
     "start_time": "2021-08-02T01:15:11.688473Z"
    }
   },
   "outputs": [
    {
     "name": "stdout",
     "output_type": "stream",
     "text": [
      "['apple', 'banana']\n"
     ]
    }
   ],
   "source": [
    "thislist = [\"apple\", \"banana\", \"cherry\"]\n",
    "thislist.pop(2)\n",
    "print(thislist)"
   ]
  },
  {
   "cell_type": "code",
   "execution_count": 70,
   "id": "julian-register",
   "metadata": {
    "ExecuteTime": {
     "end_time": "2021-08-02T01:15:11.719471Z",
     "start_time": "2021-08-02T01:15:11.704472Z"
    }
   },
   "outputs": [
    {
     "name": "stdout",
     "output_type": "stream",
     "text": [
      "['apple', 'banana']\n"
     ]
    }
   ],
   "source": [
    "thislist = [\"apple\", \"banana\", \"cherry\"]\n",
    "del thislist[2]\n",
    "print(thislist)"
   ]
  },
  {
   "cell_type": "code",
   "execution_count": 71,
   "id": "polyphonic-victorian",
   "metadata": {
    "ExecuteTime": {
     "end_time": "2021-08-02T01:15:11.734500Z",
     "start_time": "2021-08-02T01:15:11.720470Z"
    }
   },
   "outputs": [],
   "source": [
    "# del Entire list\n",
    "\n",
    "thislist = [\"apple\", \"banana\", \"cherry\"]\n",
    "del thislist\n",
    "# print(thislist) NameError: name 'thislist' is not defined"
   ]
  },
  {
   "cell_type": "markdown",
   "id": "short-objective",
   "metadata": {},
   "source": [
    "## Clear the List\n",
    "The clear() method empties the list.\n",
    "\n",
    "The list still remains, but it has no content."
   ]
  },
  {
   "cell_type": "code",
   "execution_count": 72,
   "id": "norwegian-trash",
   "metadata": {
    "ExecuteTime": {
     "end_time": "2021-08-02T01:15:11.749470Z",
     "start_time": "2021-08-02T01:15:11.735495Z"
    }
   },
   "outputs": [
    {
     "name": "stdout",
     "output_type": "stream",
     "text": [
      "[]\n"
     ]
    }
   ],
   "source": [
    "thislist = [\"apple\", \"banana\", \"cherry\"]\n",
    "thislist.clear()\n",
    "print(thislist)"
   ]
  },
  {
   "cell_type": "markdown",
   "id": "iraqi-webmaster",
   "metadata": {},
   "source": [
    "## Loop Through a List\n",
    "You can loop through the list items by using a for loop:"
   ]
  },
  {
   "cell_type": "code",
   "execution_count": 73,
   "id": "northern-birth",
   "metadata": {
    "ExecuteTime": {
     "end_time": "2021-08-02T01:15:11.764471Z",
     "start_time": "2021-08-02T01:15:11.750470Z"
    }
   },
   "outputs": [
    {
     "name": "stdout",
     "output_type": "stream",
     "text": [
      "apple\n",
      "banana\n",
      "cherry\n"
     ]
    }
   ],
   "source": [
    "thislist = [\"apple\", \"banana\", \"cherry\"]\n",
    "for i in thislist:\n",
    "    print(i)"
   ]
  },
  {
   "cell_type": "markdown",
   "id": "proud-sally",
   "metadata": {},
   "source": [
    "## Loop Through the Index Numbers\n",
    "You can also loop through the list items by referring to their index number.\n",
    "\n",
    "Use the range() and len() functions to create a suitable iterable."
   ]
  },
  {
   "cell_type": "code",
   "execution_count": 74,
   "id": "stupid-impression",
   "metadata": {
    "ExecuteTime": {
     "end_time": "2021-08-02T01:15:11.780495Z",
     "start_time": "2021-08-02T01:15:11.765471Z"
    }
   },
   "outputs": [
    {
     "name": "stdout",
     "output_type": "stream",
     "text": [
      "index  0  has  apple  .\n",
      "index  1  has  banana  .\n",
      "index  2  has  cherry  .\n"
     ]
    }
   ],
   "source": [
    "for i in range(len(thislist)):\n",
    "    print(\"index \" , i , \" has \" , thislist[i] , \" .\")"
   ]
  },
  {
   "cell_type": "markdown",
   "id": "imposed-double",
   "metadata": {},
   "source": [
    "## Using a While Loop\n",
    "You can loop through the list items by using a while loop.\n",
    "\n",
    "Use the len() function to determine the length of the list, then start at 0 and loop your way through the list items by refering to their indexes.\n",
    "\n",
    "Remember to increase the index by 1 after each iteration."
   ]
  },
  {
   "cell_type": "code",
   "execution_count": 75,
   "id": "played-battlefield",
   "metadata": {
    "ExecuteTime": {
     "end_time": "2021-08-02T01:15:11.795471Z",
     "start_time": "2021-08-02T01:15:11.781470Z"
    }
   },
   "outputs": [
    {
     "name": "stdout",
     "output_type": "stream",
     "text": [
      "apple\n",
      "banana\n",
      "cherry\n"
     ]
    }
   ],
   "source": [
    "i = 0\n",
    "while i < len(thislist):\n",
    "    print(thislist[i])\n",
    "    i +=1"
   ]
  },
  {
   "cell_type": "markdown",
   "id": "valid-technical",
   "metadata": {},
   "source": [
    "## List Comprehension\n",
    "List comprehension offers a shorter syntax when you want to create a new list based on the values of an existing list.\n",
    "\n",
    "```python\n",
    "newlist = [expression for item in iterable if condition == True]\n",
    "```\n",
    "**The return value is a new list, leaving the old list unchanged.**\n",
    "\n",
    "\n",
    "Example:\n",
    "\n",
    "Based on a list of fruits, you want a new list, containing only the fruits with the letter \"a\" in the name.\n",
    "\n",
    "Without list comprehension you will have to write a for statement with a conditional test inside:"
   ]
  },
  {
   "cell_type": "code",
   "execution_count": 76,
   "id": "configured-implementation",
   "metadata": {
    "ExecuteTime": {
     "end_time": "2021-08-02T01:15:11.810470Z",
     "start_time": "2021-08-02T01:15:11.796471Z"
    }
   },
   "outputs": [
    {
     "name": "stdout",
     "output_type": "stream",
     "text": [
      "['apple', 'banana', 'mango']\n"
     ]
    }
   ],
   "source": [
    "fruits = [\"apple\", \"banana\", \"cherry\", \"kiwi\", \"mango\"]\n",
    "newlist = []\n",
    "\n",
    "for x in fruits:\n",
    "    if 'a' in x:\n",
    "        newlist.append(x)\n",
    "        \n",
    "    \n",
    "print(newlist)\n",
    "\n"
   ]
  },
  {
   "cell_type": "code",
   "execution_count": 77,
   "id": "moral-fitness",
   "metadata": {
    "ExecuteTime": {
     "end_time": "2021-08-02T01:15:11.826470Z",
     "start_time": "2021-08-02T01:15:11.814472Z"
    }
   },
   "outputs": [
    {
     "name": "stdout",
     "output_type": "stream",
     "text": [
      "['apple', 'banana', 'mango']\n"
     ]
    }
   ],
   "source": [
    "newlist = [x for x in fruits if \"a\" in x]\n",
    "\n",
    "print(newlist)"
   ]
  },
  {
   "cell_type": "markdown",
   "id": "labeled-tutorial",
   "metadata": {},
   "source": [
    "### Condition\n",
    "The condition is like a filter that only accepts the items that valuate to True."
   ]
  },
  {
   "cell_type": "code",
   "execution_count": 78,
   "id": "expressed-scottish",
   "metadata": {
    "ExecuteTime": {
     "end_time": "2021-08-02T01:15:11.841471Z",
     "start_time": "2021-08-02T01:15:11.828469Z"
    }
   },
   "outputs": [
    {
     "data": {
      "text/plain": [
       "['banana', 'cherry', 'kiwi', 'mango']"
      ]
     },
     "execution_count": 78,
     "metadata": {},
     "output_type": "execute_result"
    }
   ],
   "source": [
    "[x for x in fruits if x != \"apple\"] # Only accept items that are not \"apple\""
   ]
  },
  {
   "cell_type": "code",
   "execution_count": 79,
   "id": "surgical-clinton",
   "metadata": {
    "ExecuteTime": {
     "end_time": "2021-08-02T01:15:11.857471Z",
     "start_time": "2021-08-02T01:15:11.842471Z"
    }
   },
   "outputs": [
    {
     "data": {
      "text/plain": [
       "['apple', 'banana', 'cherry', 'kiwi', 'mango']"
      ]
     },
     "execution_count": 79,
     "metadata": {},
     "output_type": "execute_result"
    }
   ],
   "source": [
    "[x for x in fruits] # With no if statement"
   ]
  },
  {
   "cell_type": "markdown",
   "id": "organic-polyester",
   "metadata": {},
   "source": [
    "### The iterable \n",
    "can be any iterable object, like a list, tuple, set etc."
   ]
  },
  {
   "cell_type": "code",
   "execution_count": 80,
   "id": "adult-douglas",
   "metadata": {
    "ExecuteTime": {
     "end_time": "2021-08-02T01:15:11.872470Z",
     "start_time": "2021-08-02T01:15:11.858473Z"
    }
   },
   "outputs": [
    {
     "data": {
      "text/plain": [
       "[0, 1, 2, 3, 4, 5, 6, 7, 8, 9]"
      ]
     },
     "execution_count": 80,
     "metadata": {},
     "output_type": "execute_result"
    }
   ],
   "source": [
    "[x for x in range(10)] # "
   ]
  },
  {
   "cell_type": "code",
   "execution_count": 81,
   "id": "rolled-dealer",
   "metadata": {
    "ExecuteTime": {
     "end_time": "2021-08-02T01:15:11.887471Z",
     "start_time": "2021-08-02T01:15:11.873471Z"
    }
   },
   "outputs": [
    {
     "data": {
      "text/plain": [
       "[0, 1, 2, 3, 4]"
      ]
     },
     "execution_count": 81,
     "metadata": {},
     "output_type": "execute_result"
    }
   ],
   "source": [
    "# Accept only numbers lower than 5:\n",
    "\n",
    "[x for x in range(10) if x < 5]"
   ]
  },
  {
   "cell_type": "markdown",
   "id": "analyzed-mozambique",
   "metadata": {},
   "source": [
    "### Expression\n",
    "The expression is the current item in the iteration, but it is also the outcome, which you can manipulate before it ends up like a list item in the new list:"
   ]
  },
  {
   "cell_type": "code",
   "execution_count": 82,
   "id": "veterinary-colon",
   "metadata": {
    "ExecuteTime": {
     "end_time": "2021-08-02T01:15:11.903471Z",
     "start_time": "2021-08-02T01:15:11.888471Z"
    }
   },
   "outputs": [
    {
     "data": {
      "text/plain": [
       "['APPLE', 'BANANA', 'CHERRY', 'KIWI', 'MANGO']"
      ]
     },
     "execution_count": 82,
     "metadata": {},
     "output_type": "execute_result"
    }
   ],
   "source": [
    "[x.upper() for x in fruits]"
   ]
  },
  {
   "cell_type": "code",
   "execution_count": 83,
   "id": "waiting-poster",
   "metadata": {
    "ExecuteTime": {
     "end_time": "2021-08-02T01:15:11.918498Z",
     "start_time": "2021-08-02T01:15:11.904470Z"
    }
   },
   "outputs": [
    {
     "data": {
      "text/plain": [
       "['hello', 'hello', 'hello', 'hello', 'hello']"
      ]
     },
     "execution_count": 83,
     "metadata": {},
     "output_type": "execute_result"
    }
   ],
   "source": [
    " ['hello' for x in fruits]"
   ]
  },
  {
   "cell_type": "markdown",
   "id": "grand-peripheral",
   "metadata": {},
   "source": [
    "The expression can also contain conditions, not like a filter, but as a way to manipulate the outcome:\n",
    "\n"
   ]
  },
  {
   "cell_type": "code",
   "execution_count": 84,
   "id": "plastic-amazon",
   "metadata": {
    "ExecuteTime": {
     "end_time": "2021-08-02T01:15:11.933471Z",
     "start_time": "2021-08-02T01:15:11.919471Z"
    }
   },
   "outputs": [
    {
     "data": {
      "text/plain": [
       "['apple', 'orange', 'cherry', 'kiwi', 'mango']"
      ]
     },
     "execution_count": 84,
     "metadata": {},
     "output_type": "execute_result"
    }
   ],
   "source": [
    "[x if x != \"banana\" else \"orange\" for x in fruits]\n",
    "# \"Return the item if it is not banana, if it is banana return orange\"."
   ]
  },
  {
   "cell_type": "markdown",
   "id": "conservative-headset",
   "metadata": {},
   "source": [
    "## Sort Lists\n",
    "List objects have a sort() method that will sort the list alphanumerically, ascending, by default:"
   ]
  },
  {
   "cell_type": "code",
   "execution_count": 85,
   "id": "moderate-regular",
   "metadata": {
    "ExecuteTime": {
     "end_time": "2021-08-02T01:15:11.948472Z",
     "start_time": "2021-08-02T01:15:11.935472Z"
    }
   },
   "outputs": [
    {
     "name": "stdout",
     "output_type": "stream",
     "text": [
      "['banana', 'kiwi', 'mango', 'orange', 'pineapple']\n",
      "[23, 50, 65, 82, 100]\n"
     ]
    }
   ],
   "source": [
    "thislist = [\"orange\", \"mango\", \"kiwi\", \"pineapple\", \"banana\"]\n",
    "thislist.sort()\n",
    "print(thislist)\n",
    "thislist = [100, 50, 65, 82, 23]\n",
    "thislist.sort()\n",
    "print(thislist)"
   ]
  },
  {
   "cell_type": "code",
   "execution_count": 86,
   "id": "pointed-pepper",
   "metadata": {
    "ExecuteTime": {
     "end_time": "2021-08-02T01:15:11.963499Z",
     "start_time": "2021-08-02T01:15:11.949472Z"
    }
   },
   "outputs": [
    {
     "name": "stdout",
     "output_type": "stream",
     "text": [
      "['pineapple', 'orange', 'mango', 'kiwi', 'banana']\n",
      "[100, 82, 65, 50, 23]\n"
     ]
    }
   ],
   "source": [
    "thislist = [\"orange\", \"mango\", \"kiwi\", \"pineapple\", \"banana\"]\n",
    "thislist.sort(reverse=True)\n",
    "print(thislist)\n",
    "thislist = [100, 50, 65, 82, 23]\n",
    "thislist.sort(reverse=True)\n",
    "print(thislist)"
   ]
  },
  {
   "cell_type": "markdown",
   "id": "prerequisite-experiment",
   "metadata": {},
   "source": [
    "## Customize Sort Function\n",
    "You can also customize your own function by using the keyword argument key = function.\n",
    "\n",
    "The function will return a number that will be used to sort the list (the lowest number first):"
   ]
  },
  {
   "cell_type": "code",
   "execution_count": 87,
   "id": "subject-graphics",
   "metadata": {
    "ExecuteTime": {
     "end_time": "2021-08-02T01:15:11.979470Z",
     "start_time": "2021-08-02T01:15:11.964470Z"
    }
   },
   "outputs": [
    {
     "name": "stdout",
     "output_type": "stream",
     "text": [
      "[50, 65, 23, 82, 100]\n"
     ]
    }
   ],
   "source": [
    "def myfunc(n):\n",
    "  return abs(n - 50)\n",
    "\n",
    "thislist = [100, 50, 65, 82, 23]\n",
    "thislist.sort(key = myfunc)\n",
    "print(thislist)"
   ]
  },
  {
   "cell_type": "markdown",
   "id": "thorough-makeup",
   "metadata": {},
   "source": [
    "## Case Insensitive Sort\n",
    "So if you want a case-insensitive sort function, use str.lower as a key function:\n",
    "\n"
   ]
  },
  {
   "cell_type": "code",
   "execution_count": 88,
   "id": "going-embassy",
   "metadata": {
    "ExecuteTime": {
     "end_time": "2021-08-02T01:15:11.995469Z",
     "start_time": "2021-08-02T01:15:11.980471Z"
    }
   },
   "outputs": [
    {
     "name": "stdout",
     "output_type": "stream",
     "text": [
      "['banana', 'cherry', 'Kiwi', 'Orange']\n"
     ]
    }
   ],
   "source": [
    "thislist = [\"banana\", \"Orange\", \"Kiwi\", \"cherry\"]\n",
    "thislist.sort(key = str.lower)\n",
    "print(thislist)"
   ]
  },
  {
   "cell_type": "markdown",
   "id": "limited-composition",
   "metadata": {},
   "source": [
    "## Reverse Order\n",
    "What if you want to reverse the order of a list, regardless of the alphabet?\n",
    "\n",
    "The reverse() method reverses the current sorting order of the elements."
   ]
  },
  {
   "cell_type": "code",
   "execution_count": 89,
   "id": "agricultural-flight",
   "metadata": {
    "ExecuteTime": {
     "end_time": "2021-08-02T01:15:12.011470Z",
     "start_time": "2021-08-02T01:15:11.996471Z"
    }
   },
   "outputs": [
    {
     "name": "stdout",
     "output_type": "stream",
     "text": [
      "['cherry', 'Kiwi', 'Orange', 'banana']\n"
     ]
    }
   ],
   "source": [
    "thislist = [\"banana\", \"Orange\", \"Kiwi\", \"cherry\"]\n",
    "thislist.reverse()\n",
    "print(thislist)"
   ]
  },
  {
   "cell_type": "markdown",
   "id": "composed-belly",
   "metadata": {},
   "source": [
    "## Copy a List\n",
    "You cannot copy a list simply by typing list2 = list1, because: list2 will only be a reference to list1, and changes made in list1 will automatically also be made in list2.\n",
    "\n",
    "There are ways to make a copy, one way is to use the built-in List method copy()."
   ]
  },
  {
   "cell_type": "code",
   "execution_count": 90,
   "id": "advisory-projector",
   "metadata": {
    "ExecuteTime": {
     "end_time": "2021-08-02T01:15:12.027469Z",
     "start_time": "2021-08-02T01:15:12.012471Z"
    }
   },
   "outputs": [
    {
     "name": "stdout",
     "output_type": "stream",
     "text": [
      "['apple', 'banana', 'cherry']\n"
     ]
    }
   ],
   "source": [
    "thislist = [\"apple\", \"banana\", \"cherry\"]\n",
    "mylist = thislist.copy()\n",
    "print(mylist)"
   ]
  },
  {
   "cell_type": "markdown",
   "id": "gorgeous-train",
   "metadata": {
    "ExecuteTime": {
     "end_time": "2021-08-01T23:57:14.017844Z",
     "start_time": "2021-08-01T23:57:14.012812Z"
    }
   },
   "source": [
    "Another way to make a copy is to use the built-in method list()."
   ]
  },
  {
   "cell_type": "code",
   "execution_count": 91,
   "id": "tribal-talent",
   "metadata": {
    "ExecuteTime": {
     "end_time": "2021-08-02T01:15:12.042470Z",
     "start_time": "2021-08-02T01:15:12.028470Z"
    }
   },
   "outputs": [
    {
     "name": "stdout",
     "output_type": "stream",
     "text": [
      "['apple', 'banana', 'cherry']\n"
     ]
    }
   ],
   "source": [
    "mylist = list(thislist)\n",
    "print(mylist)"
   ]
  },
  {
   "cell_type": "markdown",
   "id": "standing-allen",
   "metadata": {},
   "source": [
    "## Join Two Lists\n",
    "There are several ways to join, or concatenate, two or more lists in Python.\n",
    "\n",
    "One of the easiest ways are by using the `+` operator."
   ]
  },
  {
   "cell_type": "code",
   "execution_count": 92,
   "id": "arabic-radio",
   "metadata": {
    "ExecuteTime": {
     "end_time": "2021-08-02T01:15:12.057471Z",
     "start_time": "2021-08-02T01:15:12.043469Z"
    }
   },
   "outputs": [
    {
     "name": "stdout",
     "output_type": "stream",
     "text": [
      "['a', 'b', 'c', 1, 2, 3]\n"
     ]
    }
   ],
   "source": [
    "list1 = [\"a\", \"b\", \"c\"]\n",
    "list2 = [1, 2, 3]\n",
    "\n",
    "list3 = list1 + list2\n",
    "print(list3)"
   ]
  },
  {
   "cell_type": "markdown",
   "id": "attempted-calcium",
   "metadata": {},
   "source": [
    "Another way to join two lists is by appending all the items from list2 into list1, one by one:\n",
    "\n"
   ]
  },
  {
   "cell_type": "code",
   "execution_count": 93,
   "id": "frequent-circular",
   "metadata": {
    "ExecuteTime": {
     "end_time": "2021-08-02T01:15:12.073501Z",
     "start_time": "2021-08-02T01:15:12.058470Z"
    }
   },
   "outputs": [
    {
     "name": "stdout",
     "output_type": "stream",
     "text": [
      "['a', 'b', 'c', 1, 2, 3]\n"
     ]
    }
   ],
   "source": [
    "list1 = [\"a\", \"b\" , \"c\"]\n",
    "list2 = [1, 2, 3]\n",
    "\n",
    "for x in list2:\n",
    "  list1.append(x)\n",
    "\n",
    "print(list1)"
   ]
  },
  {
   "cell_type": "markdown",
   "id": "identical-intensity",
   "metadata": {},
   "source": [
    "Or you can use the extend() method, which purpose is to add elements from one list to another list:\n",
    "\n"
   ]
  },
  {
   "cell_type": "code",
   "execution_count": 94,
   "id": "plastic-dividend",
   "metadata": {
    "ExecuteTime": {
     "end_time": "2021-08-02T01:15:12.089471Z",
     "start_time": "2021-08-02T01:15:12.074471Z"
    }
   },
   "outputs": [
    {
     "name": "stdout",
     "output_type": "stream",
     "text": [
      "['a', 'b', 'c', 1, 2, 3]\n"
     ]
    }
   ],
   "source": [
    "list1 = [\"a\", \"b\" , \"c\"]\n",
    "list2 = [1, 2, 3]\n",
    "\n",
    "list1.extend(list2)\n",
    "print(list1)"
   ]
  },
  {
   "cell_type": "markdown",
   "id": "coated-front",
   "metadata": {},
   "source": [
    "# Tuples\n",
    "\n",
    "Tuple Methods\n",
    "Python has two built-in methods that you can use on tuples.\n",
    "\n",
    " | Method | Description |\n",
    " |--------|-------------|  \n",
    " | count() | Returns the number of times a specified value occurs in a tuple | \n",
    " | index() | Searches the tuple for a specified value and returns the position of where it was found | \n",
    " \n",
    " \n",
    " Tuples are used to store multiple items in a single variable.\n",
    "\n",
    "Tuple is one of 4 built-in data types in Python used to store collections of data, the other 3 are List, Set, and Dictionary, all with different qualities and usage.\n",
    "\n",
    "A tuple is a collection which is **ordered** and **unchangeable** and **Allow Duplicates**.\n",
    "\n",
    "Tuples are written with round brackets."
   ]
  },
  {
   "cell_type": "code",
   "execution_count": 95,
   "id": "promotional-titanium",
   "metadata": {
    "ExecuteTime": {
     "end_time": "2021-08-02T01:15:12.105496Z",
     "start_time": "2021-08-02T01:15:12.090470Z"
    }
   },
   "outputs": [
    {
     "name": "stdout",
     "output_type": "stream",
     "text": [
      "('apple', 'banana', 'cherry') <class 'tuple'>\n"
     ]
    }
   ],
   "source": [
    "thistuple = (\"apple\", \"banana\", \"cherry\")\n",
    "print(thistuple , type(thistuple))"
   ]
  },
  {
   "cell_type": "markdown",
   "id": "dense-guest",
   "metadata": {},
   "source": [
    "## Tuple Length\n",
    "\n",
    "To determine how many items a tuple has, use the len() function:\n",
    "\n"
   ]
  },
  {
   "cell_type": "code",
   "execution_count": 96,
   "id": "typical-morris",
   "metadata": {
    "ExecuteTime": {
     "end_time": "2021-08-02T01:15:12.121496Z",
     "start_time": "2021-08-02T01:15:12.106477Z"
    }
   },
   "outputs": [
    {
     "name": "stdout",
     "output_type": "stream",
     "text": [
      "3\n"
     ]
    }
   ],
   "source": [
    "thistuple = (\"apple\", \"banana\", \"cherry\")\n",
    "print(len(thistuple))"
   ]
  },
  {
   "cell_type": "markdown",
   "id": "acute-pregnancy",
   "metadata": {},
   "source": [
    "## Create Tuple With One Item\n",
    "To create a tuple with only one item, you have to add a comma after the item, otherwise Python will not recognize it as a tuple.\n",
    "\n"
   ]
  },
  {
   "cell_type": "code",
   "execution_count": 97,
   "id": "german-passing",
   "metadata": {
    "ExecuteTime": {
     "end_time": "2021-08-02T01:15:12.137498Z",
     "start_time": "2021-08-02T01:15:12.122511Z"
    }
   },
   "outputs": [
    {
     "name": "stdout",
     "output_type": "stream",
     "text": [
      "<class 'tuple'>\n",
      "<class 'str'>\n"
     ]
    }
   ],
   "source": [
    "thistuple = (\"apple\",)\n",
    "print(type(thistuple))\n",
    "\n",
    "#NOT a tuple\n",
    "thistuple = (\"apple\")\n",
    "print(type(thistuple))"
   ]
  },
  {
   "cell_type": "markdown",
   "id": "false-table",
   "metadata": {},
   "source": [
    "## Tuple Items - Data Types\n",
    "Tuple items can be of any data type:"
   ]
  },
  {
   "cell_type": "code",
   "execution_count": 98,
   "id": "threaded-registrar",
   "metadata": {
    "ExecuteTime": {
     "end_time": "2021-08-02T01:15:12.153470Z",
     "start_time": "2021-08-02T01:15:12.138501Z"
    }
   },
   "outputs": [
    {
     "name": "stdout",
     "output_type": "stream",
     "text": [
      "('apple', 'banana', 'cherry') (1, 5, 7, 9, 3) (True, False, False) ('abc', 34, True, 40, 'male')\n"
     ]
    }
   ],
   "source": [
    "tuple1 = (\"apple\", \"banana\", \"cherry\")\n",
    "tuple2 = (1, 5, 7, 9, 3)\n",
    "tuple3 = (True, False, False)\n",
    "tuple4 = (\"abc\", 34, True, 40, \"male\")\n",
    "print(tuple1, tuple2 , tuple3 , tuple4)"
   ]
  },
  {
   "cell_type": "markdown",
   "id": "animal-daughter",
   "metadata": {},
   "source": [
    "## The tuple() Constructor\n",
    "It is also possible to use the tuple() constructor to make a tuple.\n",
    "\n"
   ]
  },
  {
   "cell_type": "code",
   "execution_count": 99,
   "id": "dominican-stock",
   "metadata": {
    "ExecuteTime": {
     "end_time": "2021-08-02T01:15:12.168470Z",
     "start_time": "2021-08-02T01:15:12.154470Z"
    }
   },
   "outputs": [
    {
     "name": "stdout",
     "output_type": "stream",
     "text": [
      "('apple', 'banana', 'cherry')\n"
     ]
    }
   ],
   "source": [
    "thistuple = tuple((\"apple\", \"banana\", \"cherry\")) # note the double round-brackets\n",
    "print(thistuple)"
   ]
  },
  {
   "cell_type": "markdown",
   "id": "outstanding-professional",
   "metadata": {},
   "source": [
    "## Access Tuple Items\n",
    "You can access tuple items by referring to the index number, inside square brackets:\n",
    "\n",
    "### Note: The first item has index 0.\n",
    "\n"
   ]
  },
  {
   "cell_type": "code",
   "execution_count": 100,
   "id": "settled-purse",
   "metadata": {
    "ExecuteTime": {
     "end_time": "2021-08-02T01:15:12.183470Z",
     "start_time": "2021-08-02T01:15:12.169470Z"
    }
   },
   "outputs": [
    {
     "name": "stdout",
     "output_type": "stream",
     "text": [
      "banana\n"
     ]
    }
   ],
   "source": [
    "thistuple = (\"apple\", \"banana\", \"cherry\")\n",
    "print(thistuple[1])"
   ]
  },
  {
   "cell_type": "markdown",
   "id": "proof-poverty",
   "metadata": {},
   "source": [
    "## Negative Indexing\n",
    "Negative indexing means start from the end.\n",
    "\n",
    "-1 refers to the last item, -2 refers to the second last item etc."
   ]
  },
  {
   "cell_type": "code",
   "execution_count": 101,
   "id": "scenic-agriculture",
   "metadata": {
    "ExecuteTime": {
     "end_time": "2021-08-02T01:15:12.198471Z",
     "start_time": "2021-08-02T01:15:12.184471Z"
    }
   },
   "outputs": [
    {
     "name": "stdout",
     "output_type": "stream",
     "text": [
      "cherry\n",
      "apple\n"
     ]
    }
   ],
   "source": [
    "thistuple = (\"apple\", \"banana\", \"cherry\")\n",
    "print(thistuple[-1])\n",
    "print(thistuple[-3])"
   ]
  },
  {
   "cell_type": "markdown",
   "id": "confident-module",
   "metadata": {
    "ExecuteTime": {
     "end_time": "2021-08-02T00:22:13.505292Z",
     "start_time": "2021-08-02T00:22:13.499262Z"
    }
   },
   "source": [
    "## Range of Indexes\n",
    "You can specify a range of indexes by specifying where to start and where to end the range.\n",
    "\n",
    "When specifying a range, the return value will be a new tuple with the specified items.\n",
    "\n",
    "Note: The search will start at index 2 (included) and end at index 5 (not included).\n",
    "\n",
    "Remember that the first item has index 0.\n",
    "\n"
   ]
  },
  {
   "cell_type": "code",
   "execution_count": 102,
   "id": "compliant-ministry",
   "metadata": {
    "ExecuteTime": {
     "end_time": "2021-08-02T01:15:12.214471Z",
     "start_time": "2021-08-02T01:15:12.199470Z"
    }
   },
   "outputs": [
    {
     "name": "stdout",
     "output_type": "stream",
     "text": [
      "('cherry', 'orange', 'kiwi')\n",
      "('apple', 'banana', 'cherry', 'orange')\n",
      "('cherry', 'orange', 'kiwi', 'melon', 'mango')\n",
      "('orange', 'kiwi', 'melon')\n"
     ]
    }
   ],
   "source": [
    "thistuple = (\"apple\", \"banana\", \"cherry\", \"orange\", \"kiwi\", \"melon\", \"mango\")\n",
    "print(thistuple[2:5])\n",
    "print(thistuple[:4])\n",
    "print(thistuple[2:])\n",
    "print(thistuple[-4:-1]) # This example returns the items from index -4 (included) to index -1 (excluded)"
   ]
  },
  {
   "cell_type": "markdown",
   "id": "incredible-induction",
   "metadata": {},
   "source": [
    "## Check if Item Exists\n",
    "To determine if a specified item is present in a tuple use the in keyword:\n",
    "\n"
   ]
  },
  {
   "cell_type": "code",
   "execution_count": 103,
   "id": "closing-bubble",
   "metadata": {
    "ExecuteTime": {
     "end_time": "2021-08-02T01:15:12.230470Z",
     "start_time": "2021-08-02T01:15:12.215470Z"
    }
   },
   "outputs": [
    {
     "name": "stdout",
     "output_type": "stream",
     "text": [
      "Yes, 'apple' is in the fruits tuple\n"
     ]
    }
   ],
   "source": [
    "thistuple = (\"apple\", \"banana\", \"cherry\")\n",
    "if \"apple\" in thistuple:\n",
    "    print(\"Yes, 'apple' is in the fruits tuple\")"
   ]
  },
  {
   "cell_type": "markdown",
   "id": "short-supply",
   "metadata": {},
   "source": [
    "## Change Tuple Values\n",
    "Once a tuple is created, you cannot change its values. Tuples are unchangeable, or immutable as it also is called.\n",
    "\n",
    "But **there is a workaround. You can convert the tuple into a list, change the list, and convert the list back into a tuple.**"
   ]
  },
  {
   "cell_type": "code",
   "execution_count": 104,
   "id": "expected-cartoon",
   "metadata": {
    "ExecuteTime": {
     "end_time": "2021-08-02T01:15:12.246470Z",
     "start_time": "2021-08-02T01:15:12.231470Z"
    }
   },
   "outputs": [
    {
     "name": "stdout",
     "output_type": "stream",
     "text": [
      "('apple', 'kiwi', 'cherry')\n"
     ]
    }
   ],
   "source": [
    "x = (\"apple\", \"banana\", \"cherry\")\n",
    "y = list(x)\n",
    "y[1] = \"kiwi\"\n",
    "x = tuple(y)\n",
    "\n",
    "print(x)"
   ]
  },
  {
   "cell_type": "markdown",
   "id": "duplicate-victor",
   "metadata": {},
   "source": [
    "## Add Items\n",
    "Since tuples are immutable, they do not have a build-in append() method, but there are other ways to add items to a tuple.\n",
    "\n",
    "1. Convert into a list: Just like the workaround for changing a tuple, you can convert it into a list, add your item(s), and convert it back into a tuple."
   ]
  },
  {
   "cell_type": "code",
   "execution_count": 105,
   "id": "chubby-spirituality",
   "metadata": {
    "ExecuteTime": {
     "end_time": "2021-08-02T01:15:12.262470Z",
     "start_time": "2021-08-02T01:15:12.247470Z"
    }
   },
   "outputs": [
    {
     "data": {
      "text/plain": [
       "('apple', 'banana', 'cherry', 'orange')"
      ]
     },
     "execution_count": 105,
     "metadata": {},
     "output_type": "execute_result"
    }
   ],
   "source": [
    "thistuple = (\"apple\", \"banana\", \"cherry\")\n",
    "y = list(thistuple)\n",
    "y.append(\"orange\")\n",
    "thistuple = tuple(y)\n",
    "thistuple"
   ]
  },
  {
   "cell_type": "markdown",
   "id": "cathedral-calibration",
   "metadata": {},
   "source": [
    "2. Add tuple to a tuple. You are allowed to add tuples to tuples, so if you want to add one item, (or many), create a new tuple with the item(s), and add it to the existing tuple:\n",
    "\n",
    "Note: When creating a tuple with only one item, remember to include a comma after the item, otherwise it will not be identified as a tuple.\n",
    "\n",
    "Note: You cannot remove items in a tuple.\n",
    "\n"
   ]
  },
  {
   "cell_type": "code",
   "execution_count": 106,
   "id": "circular-nomination",
   "metadata": {
    "ExecuteTime": {
     "end_time": "2021-08-02T01:15:12.278469Z",
     "start_time": "2021-08-02T01:15:12.263470Z"
    }
   },
   "outputs": [
    {
     "name": "stdout",
     "output_type": "stream",
     "text": [
      "('apple', 'banana', 'cherry', 'orange')\n"
     ]
    }
   ],
   "source": [
    "thistuple = (\"apple\", \"banana\", \"cherry\")\n",
    "y = (\"orange\",)\n",
    "thistuple += y\n",
    "\n",
    "print(thistuple)"
   ]
  },
  {
   "cell_type": "markdown",
   "id": "comparable-canberra",
   "metadata": {},
   "source": [
    "Tuples are **unchangeable**, so you cannot remove items from it, but you can use the same workaround as we used for changing and adding tuple items:\n",
    "\n",
    "Or you can delete the tuple completely:\n",
    "\n"
   ]
  },
  {
   "cell_type": "code",
   "execution_count": 107,
   "id": "thorough-temple",
   "metadata": {
    "ExecuteTime": {
     "end_time": "2021-08-02T01:15:12.294471Z",
     "start_time": "2021-08-02T01:15:12.279470Z"
    }
   },
   "outputs": [
    {
     "name": "stdout",
     "output_type": "stream",
     "text": [
      "('banana', 'cherry')\n"
     ]
    }
   ],
   "source": [
    "thistuple = (\"apple\", \"banana\", \"cherry\")\n",
    "y = list(thistuple)\n",
    "y.remove(\"apple\")\n",
    "thistuple = tuple(y)\n",
    "print(thistuple)\n",
    "\n",
    "del thistuple  # The del keyword can delete the tuple completely\n",
    "# print(thistuple) this will raise an error because the tuple no longer exists"
   ]
  },
  {
   "cell_type": "markdown",
   "id": "peripheral-meter",
   "metadata": {},
   "source": [
    "## Unpacking a Tuple\n",
    "When we create a tuple, we normally assign values to it. This is called \"packing\" a tuple:\n",
    "\n",
    "**Note: The number of variables must match the number of values in the tuple, if not, you must use an asterisk to collect the remaining values as a list.**\n"
   ]
  },
  {
   "cell_type": "code",
   "execution_count": 108,
   "id": "outside-thinking",
   "metadata": {
    "ExecuteTime": {
     "end_time": "2021-08-02T01:15:12.310500Z",
     "start_time": "2021-08-02T01:15:12.295500Z"
    }
   },
   "outputs": [
    {
     "name": "stdout",
     "output_type": "stream",
     "text": [
      "apple\n",
      "banana\n",
      "cherry\n"
     ]
    }
   ],
   "source": [
    "fruits = (\"apple\", \"banana\", \"cherry\")\n",
    "\n",
    "(green, yellow, red) = fruits\n",
    "\n",
    "print(green)\n",
    "print(yellow)\n",
    "print(red)"
   ]
  },
  {
   "cell_type": "markdown",
   "id": "plain-furniture",
   "metadata": {},
   "source": [
    "### Using Asterisk*\n",
    "If the number of variables is less than the number of values, you can add an * to the variable name and the values will be assigned to the variable as a list:\n",
    "\n"
   ]
  },
  {
   "cell_type": "code",
   "execution_count": 109,
   "id": "moderate-sample",
   "metadata": {
    "ExecuteTime": {
     "end_time": "2021-08-02T01:15:12.326501Z",
     "start_time": "2021-08-02T01:15:12.311500Z"
    }
   },
   "outputs": [
    {
     "name": "stdout",
     "output_type": "stream",
     "text": [
      "apple\n",
      "banana\n",
      "['cherry', 'strawberry', 'raspberry']\n"
     ]
    }
   ],
   "source": [
    "fruits = (\"apple\", \"banana\", \"cherry\", \"strawberry\", \"raspberry\")\n",
    "\n",
    "(green, yellow, *red) = fruits\n",
    "\n",
    "print(green)\n",
    "print(yellow)\n",
    "print(red)"
   ]
  },
  {
   "cell_type": "markdown",
   "id": "qualified-hartford",
   "metadata": {},
   "source": [
    "If the asterisk is added to another variable name than the last, Python will assign values to the variable until the number of values left matches the number of variables left.\n",
    "\n"
   ]
  },
  {
   "cell_type": "code",
   "execution_count": 110,
   "id": "southern-vietnam",
   "metadata": {
    "ExecuteTime": {
     "end_time": "2021-08-02T01:15:12.342507Z",
     "start_time": "2021-08-02T01:15:12.327470Z"
    }
   },
   "outputs": [
    {
     "name": "stdout",
     "output_type": "stream",
     "text": [
      "apple\n",
      "cherry\n",
      "['mango', 'papaya', 'pineapple']\n"
     ]
    }
   ],
   "source": [
    "fruits = (\"apple\", \"mango\", \"papaya\", \"pineapple\", \"cherry\")\n",
    "\n",
    "(green, *tropic, red) = fruits\n",
    "\n",
    "print(green)\n",
    "print(red)\n",
    "print(tropic)\n"
   ]
  },
  {
   "cell_type": "markdown",
   "id": "swedish-belle",
   "metadata": {},
   "source": [
    "## Loop Through a Tuple\n",
    "You can loop through the tuple items by using a for loop.\n",
    "\n"
   ]
  },
  {
   "cell_type": "code",
   "execution_count": 111,
   "id": "matched-proof",
   "metadata": {
    "ExecuteTime": {
     "end_time": "2021-08-02T01:15:12.358502Z",
     "start_time": "2021-08-02T01:15:12.343499Z"
    }
   },
   "outputs": [
    {
     "name": "stdout",
     "output_type": "stream",
     "text": [
      "apple\n",
      "banana\n",
      "cherry\n"
     ]
    }
   ],
   "source": [
    "thistuple = (\"apple\", \"banana\", \"cherry\")\n",
    "for x in thistuple:\n",
    "    print(x)"
   ]
  },
  {
   "cell_type": "markdown",
   "id": "julian-affairs",
   "metadata": {},
   "source": [
    "## Loop Through the Index Numbers\n",
    "You can also loop through the tuple items by referring to their index number.\n",
    "\n",
    "Use the range() and len() functions to create a suitable iterable."
   ]
  },
  {
   "cell_type": "code",
   "execution_count": 112,
   "id": "early-canyon",
   "metadata": {
    "ExecuteTime": {
     "end_time": "2021-08-02T01:15:12.374470Z",
     "start_time": "2021-08-02T01:15:12.359472Z"
    }
   },
   "outputs": [
    {
     "name": "stdout",
     "output_type": "stream",
     "text": [
      "apple\n",
      "banana\n",
      "cherry\n"
     ]
    }
   ],
   "source": [
    "thistuple = (\"apple\", \"banana\", \"cherry\")\n",
    "for i in range(len(thistuple)):\n",
    "    print(thistuple[i])"
   ]
  },
  {
   "cell_type": "markdown",
   "id": "upper-design",
   "metadata": {},
   "source": [
    "## Using a While Loop\n",
    "You can loop through the list items by using a while loop.\n",
    "\n",
    "Use the len() function to determine the length of the tuple, then start at 0 and loop your way through the tuple items by refering to their indexes.\n",
    "\n",
    "Remember to increase the index by 1 after each iteration."
   ]
  },
  {
   "cell_type": "code",
   "execution_count": 113,
   "id": "complimentary-baking",
   "metadata": {
    "ExecuteTime": {
     "end_time": "2021-08-02T01:15:12.390500Z",
     "start_time": "2021-08-02T01:15:12.375470Z"
    }
   },
   "outputs": [
    {
     "name": "stdout",
     "output_type": "stream",
     "text": [
      "apple\n",
      "banana\n",
      "cherry\n"
     ]
    }
   ],
   "source": [
    "i = 0\n",
    "while i < len(thistuple):\n",
    "    print(thistuple[i])\n",
    "    i += 1\n",
    "    "
   ]
  },
  {
   "cell_type": "markdown",
   "id": "turkish-period",
   "metadata": {},
   "source": [
    "## Join Two Tuples\n",
    "To join two or more tuples you can use the + operator:"
   ]
  },
  {
   "cell_type": "code",
   "execution_count": 114,
   "id": "civil-stupid",
   "metadata": {
    "ExecuteTime": {
     "end_time": "2021-08-02T01:15:12.406503Z",
     "start_time": "2021-08-02T01:15:12.391472Z"
    }
   },
   "outputs": [
    {
     "name": "stdout",
     "output_type": "stream",
     "text": [
      "('a', 'b', 'c', 1, 2, 3)\n"
     ]
    }
   ],
   "source": [
    "tuple1 = (\"a\", \"b\" , \"c\")\n",
    "tuple2 = (1, 2, 3)\n",
    "\n",
    "tuple3 = tuple1 + tuple2\n",
    "print(tuple3)"
   ]
  },
  {
   "cell_type": "markdown",
   "id": "executive-facility",
   "metadata": {},
   "source": [
    "## Multiply Tuples\n",
    "If you want to multiply the content of a tuple a given number of times, you can use the * operator:"
   ]
  },
  {
   "cell_type": "code",
   "execution_count": 115,
   "id": "associate-clinton",
   "metadata": {
    "ExecuteTime": {
     "end_time": "2021-08-02T01:15:12.422471Z",
     "start_time": "2021-08-02T01:15:12.407472Z"
    }
   },
   "outputs": [
    {
     "name": "stdout",
     "output_type": "stream",
     "text": [
      "('apple', 'banana', 'cherry', 'apple', 'banana', 'cherry', 'apple', 'banana', 'cherry')\n"
     ]
    }
   ],
   "source": [
    "fruits = (\"apple\", \"banana\", \"cherry\")\n",
    "mytuple = fruits * 3\n",
    "\n",
    "print(mytuple)"
   ]
  },
  {
   "cell_type": "markdown",
   "id": "nervous-intersection",
   "metadata": {},
   "source": [
    "#  Sets\n",
    "Sets are used to store multiple items in a single variable.\n",
    "\n",
    "Set is one of 4 built-in data types in Python used to store collections of data, the other 3 are List, Tuple, and Dictionary, all with different qualities and usage.\n",
    "\n",
    "A set is a collection which is both unordered and unindexed.\n",
    "\n",
    "Sets are written with curly brackets.\n",
    "\n",
    "\n",
    "## Set Items\n",
    "Set items are unordered, unchangeable, and do not allow duplicate values.\n",
    "\n",
    "## Unordered\n",
    "Unordered means that the items in a set do not have a defined order.\n",
    "\n",
    "Set items can appear in a different order every time you use them, and cannot be referred to by index or key.\n",
    "\n",
    "## Unchangeable\n",
    "Sets are unchangeable, meaning that we cannot change the items after the set has been created.\n",
    "## Duplicates Not Allowed\n",
    "\n",
    "\n",
    "## Set Methods\n",
    "Python has a set of built-in methods that you can use on sets.\n",
    "\n",
    "| Method | Description  |\n",
    "|--------|--------------|\n",
    "| add() | Adds an element to the set | \n",
    "| clear() | Removes all the elements from the set | \n",
    "| copy() | Returns a copy of the set | \n",
    "| difference() | Returns a set containing the difference between two or more sets | \n",
    "| difference_update() | Removes the items in this set that are also included in another, specified set | \n",
    "| discard() | Remove the specified item | \n",
    "| intersection() | Returns a set, that is the intersection of two other sets | \n",
    "| intersection_update() | Removes the items in this set that are not present in other, specified set(s) | \n",
    "| isdisjoint() | Returns whether two sets have a intersection or not | \n",
    "| issubset() | Returns whether another set contains this set or not | \n",
    "| issuperset() | Returns whether this set contains another set or not | \n",
    "| pop() | Removes an element from the set | \n",
    "| remove() | Removes the specified element | \n",
    "| symmetric_difference() | Returns a set with the symmetric differences of two sets | \n",
    "| symmetric_difference_update() | inserts the symmetric differences from this set and another | \n",
    "| union() | Return a set containing the union of sets | \n",
    "| update() | Update the set with the union of this set and others | "
   ]
  },
  {
   "cell_type": "code",
   "execution_count": 116,
   "id": "gothic-bernard",
   "metadata": {
    "ExecuteTime": {
     "end_time": "2021-08-02T01:15:12.437502Z",
     "start_time": "2021-08-02T01:15:12.423500Z"
    }
   },
   "outputs": [
    {
     "name": "stdout",
     "output_type": "stream",
     "text": [
      "{'apple', 'cherry', 'banana'}\n"
     ]
    }
   ],
   "source": [
    "thisset = {\"apple\", \"banana\", \"cherry\"}\n",
    "print(thisset)"
   ]
  },
  {
   "cell_type": "markdown",
   "id": "expanded-briefing",
   "metadata": {},
   "source": [
    "## Get the Length of a Set\n",
    "To determine how many items a set has, use the len() method."
   ]
  },
  {
   "cell_type": "code",
   "execution_count": 117,
   "id": "dutch-canal",
   "metadata": {
    "ExecuteTime": {
     "end_time": "2021-08-02T01:15:12.453502Z",
     "start_time": "2021-08-02T01:15:12.438500Z"
    }
   },
   "outputs": [
    {
     "data": {
      "text/plain": [
       "3"
      ]
     },
     "execution_count": 117,
     "metadata": {},
     "output_type": "execute_result"
    }
   ],
   "source": [
    "len(thisset)"
   ]
  },
  {
   "cell_type": "markdown",
   "id": "impossible-drink",
   "metadata": {
    "ExecuteTime": {
     "end_time": "2021-08-02T00:37:56.043688Z",
     "start_time": "2021-08-02T00:37:56.028688Z"
    }
   },
   "source": [
    "## Data Types\n",
    "Set items can be of any data type:"
   ]
  },
  {
   "cell_type": "code",
   "execution_count": 118,
   "id": "otherwise-immunology",
   "metadata": {
    "ExecuteTime": {
     "end_time": "2021-08-02T01:15:12.468496Z",
     "start_time": "2021-08-02T01:15:12.454470Z"
    }
   },
   "outputs": [
    {
     "data": {
      "text/plain": [
       "set"
      ]
     },
     "execution_count": 118,
     "metadata": {},
     "output_type": "execute_result"
    }
   ],
   "source": [
    "set1 = {\"apple\", \"banana\", \"cherry\"}\n",
    "set2 = {1, 5, 7, 9, 3}\n",
    "set3 = {True, False, False}\n",
    "set4 = {\"abc\", 34, True, 40, \"male\"}\n",
    "type(set4)"
   ]
  },
  {
   "cell_type": "markdown",
   "id": "least-austin",
   "metadata": {
    "ExecuteTime": {
     "end_time": "2021-08-02T00:38:51.815142Z",
     "start_time": "2021-08-02T00:38:51.804168Z"
    }
   },
   "source": [
    "## The set() Constructor\n",
    "It is also possible to use the set() constructor to make a set."
   ]
  },
  {
   "cell_type": "code",
   "execution_count": 119,
   "id": "plain-rover",
   "metadata": {
    "ExecuteTime": {
     "end_time": "2021-08-02T01:15:12.483501Z",
     "start_time": "2021-08-02T01:15:12.469506Z"
    }
   },
   "outputs": [
    {
     "name": "stdout",
     "output_type": "stream",
     "text": [
      "{'apple', 'cherry', 'banana'}\n"
     ]
    }
   ],
   "source": [
    "thisset = set((\"apple\", \"banana\", \"cherry\")) # note the double round-brackets\n",
    "print(thisset)"
   ]
  },
  {
   "cell_type": "markdown",
   "id": "equipped-firmware",
   "metadata": {},
   "source": [
    "## Access Items\n",
    "You cannot access items in a set by referring to an index or a key.\n",
    "\n",
    "But you can loop through the set items using a for loop, or ask if a specified value is present in a set, by using the in keyword.\n",
    "\n",
    "### Change Items\n",
    "\n",
    "Once a set is created, you cannot change its items, but you can add new items.\n",
    "\n"
   ]
  },
  {
   "cell_type": "code",
   "execution_count": 120,
   "id": "moral-charles",
   "metadata": {
    "ExecuteTime": {
     "end_time": "2021-08-02T01:15:12.499512Z",
     "start_time": "2021-08-02T01:15:12.484501Z"
    }
   },
   "outputs": [
    {
     "name": "stdout",
     "output_type": "stream",
     "text": [
      "apple\n",
      "cherry\n",
      "banana\n",
      "True\n"
     ]
    }
   ],
   "source": [
    "thisset = {\"apple\", \"banana\", \"cherry\"}\n",
    "\n",
    "for x in thisset:\n",
    "    print(x)\n",
    "    \n",
    "    \n",
    "print(\"banana\" in thisset)"
   ]
  },
  {
   "cell_type": "markdown",
   "id": "modern-mount",
   "metadata": {},
   "source": [
    "## Add Items\n",
    "Once a set is created, you cannot change its items, but you can add new items.\n",
    "\n",
    "To add one item to a set use the add() method."
   ]
  },
  {
   "cell_type": "code",
   "execution_count": 121,
   "id": "serial-reading",
   "metadata": {
    "ExecuteTime": {
     "end_time": "2021-08-02T01:15:12.514497Z",
     "start_time": "2021-08-02T01:15:12.500500Z"
    }
   },
   "outputs": [
    {
     "name": "stdout",
     "output_type": "stream",
     "text": [
      "{'apple', 'cherry', 'orange', 'banana'}\n"
     ]
    }
   ],
   "source": [
    "thisset = {\"apple\", \"banana\", \"cherry\"}\n",
    "\n",
    "thisset.add(\"orange\")\n",
    "\n",
    "print(thisset)"
   ]
  },
  {
   "cell_type": "markdown",
   "id": "northern-contact",
   "metadata": {},
   "source": [
    "## Add Sets\n",
    "To add items from another set into the current set, use the update() method."
   ]
  },
  {
   "cell_type": "code",
   "execution_count": 122,
   "id": "ordinary-recommendation",
   "metadata": {
    "ExecuteTime": {
     "end_time": "2021-08-02T01:15:12.529495Z",
     "start_time": "2021-08-02T01:15:12.515471Z"
    }
   },
   "outputs": [
    {
     "name": "stdout",
     "output_type": "stream",
     "text": [
      "{'papaya', 'pineapple', 'mango', 'apple', 'cherry', 'banana'}\n"
     ]
    }
   ],
   "source": [
    "thisset = {\"apple\", \"banana\", \"cherry\"}\n",
    "tropical = {\"pineapple\", \"mango\", \"papaya\"}\n",
    "\n",
    "thisset.update(tropical)\n",
    "\n",
    "print(thisset)"
   ]
  },
  {
   "cell_type": "markdown",
   "id": "brown-liberal",
   "metadata": {},
   "source": [
    "## Add Any Iterable\n",
    "The object in the update() method does not have to be a set, it can be any iterable object (tuples, lists, dictionaries etc.)."
   ]
  },
  {
   "cell_type": "code",
   "execution_count": 123,
   "id": "cubic-pearl",
   "metadata": {
    "ExecuteTime": {
     "end_time": "2021-08-02T01:15:12.545501Z",
     "start_time": "2021-08-02T01:15:12.530496Z"
    }
   },
   "outputs": [
    {
     "name": "stdout",
     "output_type": "stream",
     "text": [
      "{True, 'apple', 'cherry', 'banana', 'kiwi'}\n"
     ]
    }
   ],
   "source": [
    "thisset = {\"apple\", \"banana\", \"cherry\"}\n",
    "mylist = [\"kiwi\", True]\n",
    "\n",
    "thisset.update(mylist)\n",
    "\n",
    "print(thisset)"
   ]
  },
  {
   "cell_type": "markdown",
   "id": "described-community",
   "metadata": {},
   "source": [
    "## Remove Item\n",
    "To remove an item in a set, use the remove(), or the discard() method."
   ]
  },
  {
   "cell_type": "code",
   "execution_count": 124,
   "id": "difficult-edinburgh",
   "metadata": {
    "ExecuteTime": {
     "end_time": "2021-08-02T01:15:12.560500Z",
     "start_time": "2021-08-02T01:15:12.546501Z"
    }
   },
   "outputs": [
    {
     "name": "stdout",
     "output_type": "stream",
     "text": [
      "{'apple', 'cherry'}\n"
     ]
    }
   ],
   "source": [
    "thisset = {\"apple\", \"banana\", \"cherry\"}\n",
    "\n",
    "thisset.remove(\"banana\")\n",
    "\n",
    "print(thisset)\n",
    "\n",
    "# Note: If the item to remove does not exist, remove() will raise an error.\n",
    "\n",
    "\n",
    "# thisset.remove(\"Ali\") \n",
    "\n"
   ]
  },
  {
   "cell_type": "code",
   "execution_count": 125,
   "id": "placed-stamp",
   "metadata": {
    "ExecuteTime": {
     "end_time": "2021-08-02T01:15:12.575470Z",
     "start_time": "2021-08-02T01:15:12.561472Z"
    }
   },
   "outputs": [
    {
     "name": "stdout",
     "output_type": "stream",
     "text": [
      "{'apple', 'cherry'}\n"
     ]
    }
   ],
   "source": [
    "thisset = {\"apple\", \"banana\", \"cherry\"}\n",
    "\n",
    "thisset.discard(\"banana\")\n",
    "\n",
    "print(thisset)"
   ]
  },
  {
   "cell_type": "markdown",
   "id": "second-notebook",
   "metadata": {},
   "source": [
    "You can also use the pop() method to remove an item, but this method will remove the last item. Remember that sets are unordered, so you will not know what item that gets removed.\n",
    "\n",
    "The return value of the pop() method is the removed item."
   ]
  },
  {
   "cell_type": "code",
   "execution_count": 126,
   "id": "prescription-enforcement",
   "metadata": {
    "ExecuteTime": {
     "end_time": "2021-08-02T01:15:12.591471Z",
     "start_time": "2021-08-02T01:15:12.576489Z"
    }
   },
   "outputs": [
    {
     "name": "stdout",
     "output_type": "stream",
     "text": [
      "apple\n",
      "{'cherry', 'banana'}\n"
     ]
    }
   ],
   "source": [
    "thisset = {\"apple\", \"banana\", \"cherry\"}\n",
    "\n",
    "\n",
    "# Note: Sets are unordered, so when using the pop() method, you do not know which item that gets removed.\n",
    "\n",
    "x = thisset.pop()\n",
    "\n",
    "print(x)\n",
    "\n",
    "print(thisset)"
   ]
  },
  {
   "cell_type": "code",
   "execution_count": 127,
   "id": "handed-compiler",
   "metadata": {
    "ExecuteTime": {
     "end_time": "2021-08-02T01:15:12.606502Z",
     "start_time": "2021-08-02T01:15:12.592471Z"
    }
   },
   "outputs": [
    {
     "name": "stdout",
     "output_type": "stream",
     "text": [
      "set()\n"
     ]
    }
   ],
   "source": [
    "thisset = {\"apple\", \"banana\", \"cherry\"}\n",
    "\n",
    "thisset.clear()\n",
    "\n",
    "print(thisset)"
   ]
  },
  {
   "cell_type": "code",
   "execution_count": 128,
   "id": "moved-participation",
   "metadata": {
    "ExecuteTime": {
     "end_time": "2021-08-02T01:15:12.622501Z",
     "start_time": "2021-08-02T01:15:12.607470Z"
    }
   },
   "outputs": [],
   "source": [
    "# The del keyword will delete the set completely:\n",
    "\n",
    "thisset = {\"apple\", \"banana\", \"cherry\"}\n",
    "\n",
    "del thisset\n",
    "\n",
    "# print(thisset)  NameError: name 'thisset' is not defined"
   ]
  },
  {
   "cell_type": "markdown",
   "id": "minute-cologne",
   "metadata": {},
   "source": [
    "## Loop Items\n",
    "You can loop through the set items by using a for loop:"
   ]
  },
  {
   "cell_type": "code",
   "execution_count": 129,
   "id": "centered-testament",
   "metadata": {
    "ExecuteTime": {
     "end_time": "2021-08-02T01:15:12.637502Z",
     "start_time": "2021-08-02T01:15:12.623471Z"
    }
   },
   "outputs": [
    {
     "name": "stdout",
     "output_type": "stream",
     "text": [
      "apple\n",
      "cherry\n",
      "banana\n"
     ]
    }
   ],
   "source": [
    "thisset = {\"apple\", \"banana\", \"cherry\"}\n",
    "\n",
    "for x in thisset:\n",
    "  print(x)"
   ]
  },
  {
   "cell_type": "markdown",
   "id": "tropical-venice",
   "metadata": {},
   "source": [
    "## Join Two Sets\n",
    "There are several ways to join two or more sets in Python.\n",
    "\n",
    "You can use the union() method that returns a new set containing all items from both sets, or the update() method that inserts all the items from one set into another:"
   ]
  },
  {
   "cell_type": "code",
   "execution_count": 130,
   "id": "single-eagle",
   "metadata": {
    "ExecuteTime": {
     "end_time": "2021-08-02T01:15:12.652501Z",
     "start_time": "2021-08-02T01:15:12.638495Z"
    }
   },
   "outputs": [
    {
     "name": "stdout",
     "output_type": "stream",
     "text": [
      "{1, 2, 'a', 3, 'b', 'c'}\n",
      "{1, 2, 'a', 3, 'b', 'c'}\n"
     ]
    }
   ],
   "source": [
    "set1 = {\"a\", \"b\" , \"c\"}\n",
    "set2 = {1, 2, 3}\n",
    "\n",
    "set3 = set1.union(set2)\n",
    "print(set3)\n",
    "\n",
    "set1.update(set2)\n",
    "print(set1)"
   ]
  },
  {
   "cell_type": "markdown",
   "id": "nominated-thought",
   "metadata": {},
   "source": [
    "## Keep ONLY the Duplicates\n",
    "The intersection_update() method will keep only the items that are present in both sets."
   ]
  },
  {
   "cell_type": "code",
   "execution_count": 131,
   "id": "compact-occasions",
   "metadata": {
    "ExecuteTime": {
     "end_time": "2021-08-02T01:15:12.667501Z",
     "start_time": "2021-08-02T01:15:12.653502Z"
    }
   },
   "outputs": [
    {
     "name": "stdout",
     "output_type": "stream",
     "text": [
      "{'apple'}\n"
     ]
    }
   ],
   "source": [
    "x = {\"apple\", \"banana\", \"cherry\"}\n",
    "y = {\"google\", \"microsoft\", \"apple\"}\n",
    "\n",
    "x.intersection_update(y)\n",
    "\n",
    "print(x)"
   ]
  },
  {
   "cell_type": "code",
   "execution_count": 132,
   "id": "aware-daughter",
   "metadata": {
    "ExecuteTime": {
     "end_time": "2021-08-02T01:15:12.682507Z",
     "start_time": "2021-08-02T01:15:12.668469Z"
    }
   },
   "outputs": [
    {
     "name": "stdout",
     "output_type": "stream",
     "text": [
      "{'apple'}\n"
     ]
    }
   ],
   "source": [
    "# The intersection() method will return a new set, that only contains the items that are present in both sets.\n",
    "x = {\"apple\", \"banana\", \"cherry\"}\n",
    "y = {\"google\", \"microsoft\", \"apple\"}\n",
    "\n",
    "z = x.intersection(y)\n",
    "\n",
    "print(z)\n"
   ]
  },
  {
   "cell_type": "markdown",
   "id": "continuing-dakota",
   "metadata": {},
   "source": [
    "## Keep All, But NOT the Duplicates\n",
    "The symmetric_difference_update() method will keep only the elements that are NOT present in both sets."
   ]
  },
  {
   "cell_type": "code",
   "execution_count": 133,
   "id": "other-queens",
   "metadata": {
    "ExecuteTime": {
     "end_time": "2021-08-02T01:15:12.698502Z",
     "start_time": "2021-08-02T01:15:12.683471Z"
    }
   },
   "outputs": [
    {
     "name": "stdout",
     "output_type": "stream",
     "text": [
      "{'cherry', 'banana', 'microsoft', 'google'}\n"
     ]
    }
   ],
   "source": [
    "x = {\"apple\", \"banana\", \"cherry\"}\n",
    "y = {\"google\", \"microsoft\", \"apple\"}\n",
    "\n",
    "x.symmetric_difference_update(y)\n",
    "\n",
    "print(x)"
   ]
  },
  {
   "cell_type": "code",
   "execution_count": 134,
   "id": "classified-interpretation",
   "metadata": {
    "ExecuteTime": {
     "end_time": "2021-08-02T01:15:12.714502Z",
     "start_time": "2021-08-02T01:15:12.699469Z"
    }
   },
   "outputs": [
    {
     "name": "stdout",
     "output_type": "stream",
     "text": [
      "{'cherry', 'microsoft', 'banana', 'google'}\n"
     ]
    }
   ],
   "source": [
    " #The symmetric_difference() method will return a new set, that contains only the elements that are NOT present in both sets.\n",
    "\n",
    "x = {\"apple\", \"banana\", \"cherry\"}\n",
    "y = {\"google\", \"microsoft\", \"apple\"}\n",
    "\n",
    "z = x.symmetric_difference(y)\n",
    "\n",
    "print(z)"
   ]
  },
  {
   "cell_type": "markdown",
   "id": "roman-italian",
   "metadata": {},
   "source": [
    "# Dictionaries\n",
    "\n",
    "Dictionaries are used to store data values in key:value pairs.\n",
    "\n",
    "A dictionary is a collection which is ordered*, changeable and does not allow duplicates.\n",
    "\n",
    "As of Python version 3.7, dictionaries are ordered. In Python 3.6 and earlier, dictionaries are unordered.\n",
    "\n",
    "## Dictionary Items\n",
    "Dictionary items are ordered, changeable, and does not allow duplicates.\n",
    "\n",
    "Dictionary items are presented in key:value pairs, and can be referred to by using the key name.\n",
    "\n",
    "## Ordered or Unordered?\n",
    "As of Python version 3.7, dictionaries are ordered. In Python 3.6 and earlier, dictionaries are unordered.\n",
    "\n",
    "When we say that dictionaries are ordered, it means that the items have a defined order, and that order will not change.\n",
    "\n",
    "Unordered means that the items does not have a defined order, you cannot refer to an item by using an index.\n",
    "\n",
    "## Changeable\n",
    "Dictionaries are changeable, meaning that we can change, add or remove items after the dictionary has been created.\n",
    "\n",
    "## Duplicates Not Allowed\n",
    "\n",
    "## Dictionary Methods\n",
    "Python has a set of built-in methods that you can use on dictionaries.\n",
    "\n",
    "| Method\t| Description |\n",
    "|-----------|-------------|\n",
    "| clear()\t| Removes all the elements from the dictionary |\n",
    "| copy()\t| Returns a copy of the dictionary |\n",
    "| fromkeys()\t| Returns a dictionary with the specified keys and value |\n",
    "| get()\t| Returns the value of the specified key |\n",
    "| items()\t| Returns a list containing a tuple for each key value pair |\n",
    "| keys()\t| Returns a list containing the dictionary's keys |\n",
    "| pop()\t| Removes the element with the specified key |\n",
    "| popitem()\t| Removes the last inserted key-value pair |\n",
    "| setdefault()\t| Returns the value of the specified key. If the key does not exist: insert the key, with the specified value |\n",
    "| update()\t| Updates the dictionary with the specified key-value pairs |\n",
    "| values()\t| Returns a list of all the values in the dictionary |"
   ]
  },
  {
   "cell_type": "code",
   "execution_count": 135,
   "id": "spanish-telling",
   "metadata": {
    "ExecuteTime": {
     "end_time": "2021-08-02T01:15:12.730502Z",
     "start_time": "2021-08-02T01:15:12.715500Z"
    }
   },
   "outputs": [
    {
     "name": "stdout",
     "output_type": "stream",
     "text": [
      "{'brand': 'Ford', 'electric': False, 'year': 1964, 'colors': ['red', 'white', 'blue']}\n",
      "Ford\n"
     ]
    }
   ],
   "source": [
    "thisdict = {\n",
    "  \"brand\": \"Ford\",\n",
    "  \"electric\": False,\n",
    "  \"year\": 1964,\n",
    "  \"colors\": [\"red\", \"white\", \"blue\"]\n",
    "}\n",
    "print(thisdict)\n",
    "print(thisdict[\"brand\"])\n"
   ]
  },
  {
   "cell_type": "markdown",
   "id": "authorized-capitol",
   "metadata": {},
   "source": [
    "## Dictionary Length\n",
    "To determine how many items a dictionary has, use the len() function:\n",
    "\n",
    "## Dictionary Items - Data Types\n",
    "The values in dictionary items can be of any data type:"
   ]
  },
  {
   "cell_type": "code",
   "execution_count": 136,
   "id": "filled-reviewer",
   "metadata": {
    "ExecuteTime": {
     "end_time": "2021-08-02T01:15:12.746501Z",
     "start_time": "2021-08-02T01:15:12.731494Z"
    }
   },
   "outputs": [
    {
     "name": "stdout",
     "output_type": "stream",
     "text": [
      "4\n",
      "<class 'dict'>\n"
     ]
    }
   ],
   "source": [
    "print(len(thisdict))\n",
    "print(type(thisdict))\n"
   ]
  },
  {
   "cell_type": "markdown",
   "id": "continued-crown",
   "metadata": {},
   "source": [
    "## Accessing Items\n",
    "You can access the items of a dictionary by referring to its key name, inside square brackets:\n",
    "\n",
    "There is also a method called get() that will give you the same result:\n",
    "\n"
   ]
  },
  {
   "cell_type": "code",
   "execution_count": 137,
   "id": "furnished-emergency",
   "metadata": {
    "ExecuteTime": {
     "end_time": "2021-08-02T01:15:12.762503Z",
     "start_time": "2021-08-02T01:15:12.747490Z"
    }
   },
   "outputs": [
    {
     "name": "stdout",
     "output_type": "stream",
     "text": [
      "Mustang\n",
      "1964\n"
     ]
    }
   ],
   "source": [
    "thisdict = {\n",
    "  \"brand\": \"Ford\",\n",
    "  \"model\": \"Mustang\",\n",
    "  \"year\": 1964\n",
    "}\n",
    "x = thisdict[\"model\"]\n",
    "print(x)\n",
    "x = thisdict.get(\"year\")\n",
    "print(x)"
   ]
  },
  {
   "cell_type": "markdown",
   "id": "fallen-throat",
   "metadata": {},
   "source": [
    "## Get Keys\n",
    "The keys() method will return a list of all the keys in the dictionary.\n",
    "The list of the keys is a view of the dictionary, meaning that any changes done to the dictionary will be reflected in the keys list.\n"
   ]
  },
  {
   "cell_type": "code",
   "execution_count": 138,
   "id": "heated-message",
   "metadata": {
    "ExecuteTime": {
     "end_time": "2021-08-02T01:15:12.778502Z",
     "start_time": "2021-08-02T01:15:12.763470Z"
    }
   },
   "outputs": [
    {
     "data": {
      "text/plain": [
       "dict_keys(['brand', 'model', 'year'])"
      ]
     },
     "execution_count": 138,
     "metadata": {},
     "output_type": "execute_result"
    }
   ],
   "source": [
    "x = thisdict.keys()\n",
    "x "
   ]
  },
  {
   "cell_type": "code",
   "execution_count": 139,
   "id": "detected-monthly",
   "metadata": {
    "ExecuteTime": {
     "end_time": "2021-08-02T01:15:12.794496Z",
     "start_time": "2021-08-02T01:15:12.779474Z"
    }
   },
   "outputs": [
    {
     "name": "stdout",
     "output_type": "stream",
     "text": [
      "dict_keys(['brand', 'model', 'year'])\n",
      "dict_keys(['brand', 'model', 'year', 'color'])\n"
     ]
    }
   ],
   "source": [
    "car = {\n",
    "\"brand\": \"Ford\",\n",
    "\"model\": \"Mustang\",\n",
    "\"year\": 1964\n",
    "}\n",
    "\n",
    "x = car.keys()\n",
    "\n",
    "print(x) #before the change\n",
    "\n",
    "car[\"color\"] = \"white\"\n",
    "\n",
    "print(x) #after the change"
   ]
  },
  {
   "cell_type": "markdown",
   "id": "center-tucson",
   "metadata": {},
   "source": [
    "## Change Values\n",
    "You can change the value of a specific item by referring to its key name:"
   ]
  },
  {
   "cell_type": "code",
   "execution_count": 140,
   "id": "twenty-litigation",
   "metadata": {
    "ExecuteTime": {
     "end_time": "2021-08-02T01:15:12.810471Z",
     "start_time": "2021-08-02T01:15:12.795470Z"
    }
   },
   "outputs": [
    {
     "data": {
      "text/plain": [
       "{'brand': 'Ford', 'model': 'Mustang', 'year': 2018}"
      ]
     },
     "execution_count": 140,
     "metadata": {},
     "output_type": "execute_result"
    }
   ],
   "source": [
    "thisdict = {\n",
    "  \"brand\": \"Ford\",\n",
    "  \"model\": \"Mustang\",\n",
    "  \"year\": 1964\n",
    "}\n",
    "thisdict[\"year\"] = 2018\n",
    "thisdict"
   ]
  },
  {
   "cell_type": "markdown",
   "id": "weighted-shanghai",
   "metadata": {},
   "source": [
    "## Update Dictionary\n",
    "The update() method will update the dictionary with the items from the given argument.\n",
    "\n",
    "The argument must be a dictionary, or an iterable object with key:value pairs."
   ]
  },
  {
   "cell_type": "code",
   "execution_count": 141,
   "id": "local-corruption",
   "metadata": {
    "ExecuteTime": {
     "end_time": "2021-08-02T01:15:12.826472Z",
     "start_time": "2021-08-02T01:15:12.811471Z"
    }
   },
   "outputs": [
    {
     "data": {
      "text/plain": [
       "{'brand': 'Toyota', 'model': 'Mustang', 'year': 2020}"
      ]
     },
     "execution_count": 141,
     "metadata": {},
     "output_type": "execute_result"
    }
   ],
   "source": [
    "thisdict = {\n",
    "  \"brand\": \"Ford\",\n",
    "  \"model\": \"Mustang\",\n",
    "  \"year\": 1964\n",
    "}\n",
    "thisdict.update({\"year\": 2020 , \"brand\": \"Toyota\"})\n",
    "\n",
    "thisdict"
   ]
  },
  {
   "cell_type": "markdown",
   "id": "improved-device",
   "metadata": {},
   "source": [
    "## Adding Items\n",
    "Adding an item to the dictionary is done by using a new index key and assigning a value to it:"
   ]
  },
  {
   "cell_type": "code",
   "execution_count": 142,
   "id": "pressing-times",
   "metadata": {
    "ExecuteTime": {
     "end_time": "2021-08-02T01:15:12.842501Z",
     "start_time": "2021-08-02T01:15:12.827472Z"
    }
   },
   "outputs": [
    {
     "name": "stdout",
     "output_type": "stream",
     "text": [
      "{'brand': 'Ford', 'model': 'Mustang', 'year': 1964, 'color': 'red'}\n"
     ]
    }
   ],
   "source": [
    "thisdict = {\n",
    "  \"brand\": \"Ford\",\n",
    "  \"model\": \"Mustang\",\n",
    "  \"year\": 1964\n",
    "}\n",
    "thisdict[\"color\"] = \"red\"\n",
    "\n",
    "print(thisdict)"
   ]
  },
  {
   "cell_type": "code",
   "execution_count": 143,
   "id": "naked-metallic",
   "metadata": {
    "ExecuteTime": {
     "end_time": "2021-08-02T01:15:12.858500Z",
     "start_time": "2021-08-02T01:15:12.843518Z"
    }
   },
   "outputs": [
    {
     "data": {
      "text/plain": [
       "{'brand': 'Ford',\n",
       " 'model': 'Mustang',\n",
       " 'year': 1964,\n",
       " 'color': 'red',\n",
       " 'Owner': 'Ali'}"
      ]
     },
     "execution_count": 143,
     "metadata": {},
     "output_type": "execute_result"
    }
   ],
   "source": [
    "thisdict.update({\"Owner\": \"Ali\"})\n",
    "thisdict"
   ]
  },
  {
   "cell_type": "markdown",
   "id": "light-status",
   "metadata": {},
   "source": [
    "## Removing Items\n",
    "There are several methods to remove items from a dictionary:"
   ]
  },
  {
   "cell_type": "code",
   "execution_count": 144,
   "id": "cheap-least",
   "metadata": {
    "ExecuteTime": {
     "end_time": "2021-08-02T01:15:12.873518Z",
     "start_time": "2021-08-02T01:15:12.859498Z"
    }
   },
   "outputs": [
    {
     "name": "stdout",
     "output_type": "stream",
     "text": [
      "{'Owner': 'Ali', 'brand': 'Ford', 'year': 1964}\n",
      "{'Owner': 'Ali', 'brand': 'Ford'}\n",
      "{'Owner': 'Ali'}\n"
     ]
    }
   ],
   "source": [
    "# The pop() method removes the item with the specified key name:\n",
    "\n",
    "thisdict = {\n",
    "    \"Owner\" : \"Ali\",\n",
    "  \"brand\": \"Ford\",\n",
    "  \"model\": \"Mustang\",\n",
    "  \"year\": 1964 ,\n",
    "    \n",
    "}\n",
    "thisdict.pop(\"model\")\n",
    "print(thisdict)\n",
    "\n",
    "thisdict.popitem() # The popitem() method removes the last inserted item\n",
    "print(thisdict)\n",
    "\n",
    "# The del keyword removes the item with the specified key name:\n",
    "\n",
    "del thisdict[\"brand\"]\n",
    "print(thisdict)\n",
    "\n",
    "del thisdict\n",
    "# print(thisdict) this will cause an error because \"thisdict\" no longer exists."
   ]
  },
  {
   "cell_type": "code",
   "execution_count": 145,
   "id": "special-expense",
   "metadata": {
    "ExecuteTime": {
     "end_time": "2021-08-02T01:15:12.889510Z",
     "start_time": "2021-08-02T01:15:12.874472Z"
    }
   },
   "outputs": [
    {
     "name": "stdout",
     "output_type": "stream",
     "text": [
      "{}\n"
     ]
    }
   ],
   "source": [
    "## The clear() method empties the dictionary:\n",
    "\n",
    "thisdict = {\n",
    "  \"brand\": \"Ford\",\n",
    "  \"model\": \"Mustang\",\n",
    "  \"year\": 1964\n",
    "}\n",
    "thisdict.clear()\n",
    "print(thisdict)"
   ]
  },
  {
   "cell_type": "markdown",
   "id": "alive-nurse",
   "metadata": {},
   "source": [
    "## Loop Through a Dictionary\n",
    "You can loop through a dictionary by using a for loop.\n",
    "\n",
    "When looping through a dictionary, the return value are the keys of the dictionary, but there are methods to return the values as well."
   ]
  },
  {
   "cell_type": "code",
   "execution_count": 146,
   "id": "advisory-riverside",
   "metadata": {
    "ExecuteTime": {
     "end_time": "2021-08-02T01:15:12.904502Z",
     "start_time": "2021-08-02T01:15:12.890470Z"
    }
   },
   "outputs": [
    {
     "name": "stdout",
     "output_type": "stream",
     "text": [
      "Owner\n",
      "brand\n",
      "model\n",
      "year\n"
     ]
    }
   ],
   "source": [
    "thisdict = {\n",
    "    \"Owner\" : \"Ali\",\n",
    "  \"brand\": \"Ford\",\n",
    "  \"model\": \"Mustang\",\n",
    "  \"year\": 1964 ,\n",
    "    \n",
    "}\n",
    "\n",
    "# Print all key names in the dictionary, one by one:\n",
    "\n",
    "\n",
    "for x in thisdict:\n",
    "    print(x)\n",
    "    "
   ]
  },
  {
   "cell_type": "code",
   "execution_count": 147,
   "id": "colonial-trustee",
   "metadata": {
    "ExecuteTime": {
     "end_time": "2021-08-02T01:15:12.919499Z",
     "start_time": "2021-08-02T01:15:12.905471Z"
    }
   },
   "outputs": [
    {
     "name": "stdout",
     "output_type": "stream",
     "text": [
      "Ali\n",
      "Ford\n",
      "Mustang\n",
      "1964\n"
     ]
    }
   ],
   "source": [
    "# Print all values in the dictionary, one by one:\n",
    "\n",
    "\n",
    "for x in thisdict:\n",
    "    print(thisdict[x])"
   ]
  },
  {
   "cell_type": "code",
   "execution_count": 148,
   "id": "unauthorized-variety",
   "metadata": {
    "ExecuteTime": {
     "end_time": "2021-08-02T01:15:12.935472Z",
     "start_time": "2021-08-02T01:15:12.920492Z"
    }
   },
   "outputs": [
    {
     "name": "stdout",
     "output_type": "stream",
     "text": [
      "Ali\n",
      "Ford\n",
      "Mustang\n",
      "1964\n"
     ]
    }
   ],
   "source": [
    "# You can also use the values() method to return values of a dictionary:\n",
    "\n",
    "\n",
    "for x in thisdict.values():\n",
    "    print(x)"
   ]
  },
  {
   "cell_type": "code",
   "execution_count": 149,
   "id": "specialized-installation",
   "metadata": {
    "ExecuteTime": {
     "end_time": "2021-08-02T01:15:12.950497Z",
     "start_time": "2021-08-02T01:15:12.936471Z"
    }
   },
   "outputs": [
    {
     "name": "stdout",
     "output_type": "stream",
     "text": [
      "Owner\n",
      "brand\n",
      "model\n",
      "year\n"
     ]
    }
   ],
   "source": [
    "# You can use the keys() method to return the keys of a dictionary:\n",
    "\n",
    "\n",
    "for x in thisdict.keys():\n",
    "  print(x)"
   ]
  },
  {
   "cell_type": "code",
   "execution_count": 150,
   "id": "freelance-lightning",
   "metadata": {
    "ExecuteTime": {
     "end_time": "2021-08-02T01:15:12.965495Z",
     "start_time": "2021-08-02T01:15:12.951470Z"
    }
   },
   "outputs": [
    {
     "name": "stdout",
     "output_type": "stream",
     "text": [
      "Owner Ali\n",
      "brand Ford\n",
      "model Mustang\n",
      "year 1964\n"
     ]
    }
   ],
   "source": [
    "# Loop through both keys and values, by using the items() method:\n",
    "\n",
    "for x, y in thisdict.items():\n",
    "  print(x, y)"
   ]
  },
  {
   "cell_type": "markdown",
   "id": "simplified-burlington",
   "metadata": {},
   "source": [
    "## Copy a Dictionary\n",
    "You cannot copy a dictionary simply by typing dict2 = dict1, because: dict2 will only be a reference to dict1, and changes made in dict1 will automatically also be made in dict2.\n",
    "\n",
    "There are ways to make a copy, one way is to use the built-in Dictionary method copy().\n",
    "\n"
   ]
  },
  {
   "cell_type": "code",
   "execution_count": 151,
   "id": "dynamic-there",
   "metadata": {
    "ExecuteTime": {
     "end_time": "2021-08-02T01:15:41.836528Z",
     "start_time": "2021-08-02T01:15:41.829501Z"
    }
   },
   "outputs": [
    {
     "name": "stdout",
     "output_type": "stream",
     "text": [
      "{'brand': 'Ford', 'model': 'Mustang', 'year': 1964}\n"
     ]
    }
   ],
   "source": [
    "thisdict = {\n",
    "  \"brand\": \"Ford\",\n",
    "  \"model\": \"Mustang\",\n",
    "  \"year\": 1964\n",
    "}\n",
    "mydict = thisdict.copy()\n",
    "print(mydict)"
   ]
  },
  {
   "cell_type": "code",
   "execution_count": 152,
   "id": "professional-boost",
   "metadata": {
    "ExecuteTime": {
     "end_time": "2021-08-02T01:15:59.220981Z",
     "start_time": "2021-08-02T01:15:59.213982Z"
    }
   },
   "outputs": [
    {
     "name": "stdout",
     "output_type": "stream",
     "text": [
      "{'brand': 'Ford', 'model': 'Mustang', 'year': 1964}\n"
     ]
    }
   ],
   "source": [
    "# Another way to make a copy is to use the built-in function dict().\n",
    "\n",
    "thisdict = {\n",
    "  \"brand\": \"Ford\",\n",
    "  \"model\": \"Mustang\",\n",
    "  \"year\": 1964\n",
    "}\n",
    "mydict = dict(thisdict)\n",
    "print(mydict)"
   ]
  },
  {
   "cell_type": "markdown",
   "id": "intimate-teach",
   "metadata": {},
   "source": [
    "## Nested Dictionaries\n",
    "A dictionary can contain dictionaries, this is called nested dictionaries."
   ]
  },
  {
   "cell_type": "code",
   "execution_count": 170,
   "id": "bigger-approach",
   "metadata": {
    "ExecuteTime": {
     "end_time": "2021-08-02T01:19:35.090937Z",
     "start_time": "2021-08-02T01:19:35.084965Z"
    }
   },
   "outputs": [
    {
     "data": {
      "text/plain": [
       "({'child1': {'name': 'Emil', 'year': 2004},\n",
       "  'child2': {'name': 'Tobias', 'year': 2007},\n",
       "  'child3': {'name': 'Linus', 'year': 2011}},\n",
       " 2007)"
      ]
     },
     "execution_count": 170,
     "metadata": {},
     "output_type": "execute_result"
    }
   ],
   "source": [
    "myfamily = {\n",
    "  \"child1\" : {\n",
    "    \"name\" : \"Emil\",\n",
    "    \"year\" : 2004\n",
    "  },\n",
    "  \"child2\" : {\n",
    "    \"name\" : \"Tobias\",\n",
    "    \"year\" : 2007\n",
    "  },\n",
    "  \"child3\" : {\n",
    "    \"name\" : \"Linus\",\n",
    "    \"year\" : 2011\n",
    "  }\n",
    "}\n",
    "\n",
    "myfamily , myfamily['child2'][\"year\"]"
   ]
  },
  {
   "cell_type": "code",
   "execution_count": 169,
   "id": "eligible-tiffany",
   "metadata": {
    "ExecuteTime": {
     "end_time": "2021-08-02T01:19:28.303727Z",
     "start_time": "2021-08-02T01:19:28.294125Z"
    }
   },
   "outputs": [
    {
     "data": {
      "text/plain": [
       "2007"
      ]
     },
     "execution_count": 169,
     "metadata": {},
     "output_type": "execute_result"
    }
   ],
   "source": []
  },
  {
   "cell_type": "code",
   "execution_count": 172,
   "id": "included-wedding",
   "metadata": {
    "ExecuteTime": {
     "end_time": "2021-08-02T01:19:54.141177Z",
     "start_time": "2021-08-02T01:19:54.134208Z"
    }
   },
   "outputs": [
    {
     "data": {
      "text/plain": [
       "({'child1': {'name': 'Emil', 'year': 2004},\n",
       "  'child2': {'name': 'Tobias', 'year': 2007},\n",
       "  'child3': {'name': 'Linus', 'year': 2011}},\n",
       " 'Tobias')"
      ]
     },
     "execution_count": 172,
     "metadata": {},
     "output_type": "execute_result"
    }
   ],
   "source": [
    "# Or, if you want to add three dictionaries into a new dictionary:\n",
    "\n",
    "child1 = {\n",
    "  \"name\" : \"Emil\",\n",
    "  \"year\" : 2004\n",
    "}\n",
    "child2 = {\n",
    "  \"name\" : \"Tobias\",\n",
    "  \"year\" : 2007\n",
    "}\n",
    "child3 = {\n",
    "  \"name\" : \"Linus\",\n",
    "  \"year\" : 2011\n",
    "}\n",
    "\n",
    "myfamily = {\n",
    "  \"child1\" : child1,\n",
    "  \"child2\" : child2,\n",
    "  \"child3\" : child3\n",
    "}\n",
    "\n",
    "myfamily , myfamily['child2'][\"name\"]"
   ]
  }
 ],
 "metadata": {
  "kernelspec": {
   "display_name": "tensorflow",
   "language": "python",
   "name": "tensorflow"
  },
  "language_info": {
   "codemirror_mode": {
    "name": "ipython",
    "version": 3
   },
   "file_extension": ".py",
   "mimetype": "text/x-python",
   "name": "python",
   "nbconvert_exporter": "python",
   "pygments_lexer": "ipython3",
   "version": "3.7.9"
  },
  "toc": {
   "base_numbering": 1,
   "nav_menu": {},
   "number_sections": true,
   "sideBar": true,
   "skip_h1_title": false,
   "title_cell": "Table of Contents",
   "title_sidebar": "Contents",
   "toc_cell": false,
   "toc_position": {},
   "toc_section_display": true,
   "toc_window_display": true
  }
 },
 "nbformat": 4,
 "nbformat_minor": 5
}
