{
 "cells": [
  {
   "cell_type": "markdown",
   "metadata": {
    "toc": true
   },
   "source": [
    "<h1>Table of Contents<span class=\"tocSkip\"></span></h1>\n",
    "<div class=\"toc\"><ul class=\"toc-item\"><li><span><a href=\"#What-is-the-diàerence-between-list-and-tuples-in-Python?\" data-toc-modified-id=\"What-is-the-diàerence-between-list-and-tuples-in-Python?-1\"><span class=\"toc-item-num\">1&nbsp;&nbsp;</span>What is the diàerence between list and tuples in Python?</a></span></li><li><span><a href=\"#What-are-the-key-features-of-Python?\" data-toc-modified-id=\"What-are-the-key-features-of-Python?-2\"><span class=\"toc-item-num\">2&nbsp;&nbsp;</span>What are the key features of Python?</a></span></li><li><span><a href=\"#What-type-of-language-is-python?-Programming-or-scripting?\" data-toc-modified-id=\"What-type-of-language-is-python?-Programming-or-scripting?-3\"><span class=\"toc-item-num\">3&nbsp;&nbsp;</span>What type of language is python? Programming or scripting?</a></span></li><li><span><a href=\"#Python-an-interpreted-language.-Explain.\" data-toc-modified-id=\"Python-an-interpreted-language.-Explain.-4\"><span class=\"toc-item-num\">4&nbsp;&nbsp;</span>Python an interpreted language. Explain.</a></span></li><li><span><a href=\"#What-is-pep-8?\" data-toc-modified-id=\"What-is-pep-8?-5\"><span class=\"toc-item-num\">5&nbsp;&nbsp;</span>What is pep 8?</a></span></li><li><span><a href=\"#What-are-the-benefits-of-using-Python?\" data-toc-modified-id=\"What-are-the-benefits-of-using-Python?-6\"><span class=\"toc-item-num\">6&nbsp;&nbsp;</span>What are the benefits of using Python?</a></span></li><li><span><a href=\"#What-are-Python-namespaces?\" data-toc-modified-id=\"What-are-Python-namespaces?-7\"><span class=\"toc-item-num\">7&nbsp;&nbsp;</span>What are Python namespaces?</a></span></li><li><span><a href=\"#What-are-decorators-in-Python?\" data-toc-modified-id=\"What-are-decorators-in-Python?-8\"><span class=\"toc-item-num\">8&nbsp;&nbsp;</span>What are decorators in Python?</a></span><ul class=\"toc-item\"><li><span><a href=\"#Decorators-in-Python-Example\" data-toc-modified-id=\"Decorators-in-Python-Example-8.1\"><span class=\"toc-item-num\">8.1&nbsp;&nbsp;</span>Decorators in Python Example</a></span></li></ul></li><li><span><a href=\"#What-are-Dict-and-List-comprehensions?\" data-toc-modified-id=\"What-are-Dict-and-List-comprehensions?-9\"><span class=\"toc-item-num\">9&nbsp;&nbsp;</span>What are Dict and List comprehensions?</a></span></li><li><span><a href=\"#What-are-the-common-built-in-data-types-in-Python?\" data-toc-modified-id=\"What-are-the-common-built-in-data-types-in-Python?-10\"><span class=\"toc-item-num\">10&nbsp;&nbsp;</span>What are the common built-in data types in Python?</a></span></li><li><span><a href=\"#What-is-the-difference-between-.py-and-.pyc-files?\" data-toc-modified-id=\"What-is-the-difference-between-.py-and-.pyc-files?-11\"><span class=\"toc-item-num\">11&nbsp;&nbsp;</span>What is the difference between .py and .pyc files?</a></span></li><li><span><a href=\"#What-is-slicing-in-Python?\" data-toc-modified-id=\"What-is-slicing-in-Python?-12\"><span class=\"toc-item-num\">12&nbsp;&nbsp;</span>What is slicing in Python?</a></span></li><li><span><a href=\"#What-are-Keywords-in-Python?\" data-toc-modified-id=\"What-are-Keywords-in-Python?-13\"><span class=\"toc-item-num\">13&nbsp;&nbsp;</span>What are Keywords in Python?</a></span></li><li><span><a href=\"#What-are-Literals-in-Python-and-explain-about-different-Literals\" data-toc-modified-id=\"What-are-Literals-in-Python-and-explain-about-different-Literals-14\"><span class=\"toc-item-num\">14&nbsp;&nbsp;</span>What are Literals in Python and explain about different Literals</a></span></li><li><span><a href=\"#How-to-combine-dataframes-in-pandas?\" data-toc-modified-id=\"How-to-combine-dataframes-in-pandas?-15\"><span class=\"toc-item-num\">15&nbsp;&nbsp;</span>How to combine dataframes in pandas?</a></span></li><li><span><a href=\"#What-are-the-new-features-added-in-Python-3.9.0.0-version?\" data-toc-modified-id=\"What-are-the-new-features-added-in-Python-3.9.0.0-version?-16\"><span class=\"toc-item-num\">16&nbsp;&nbsp;</span>What are the new features added in Python 3.9.0.0 version?</a></span></li><li><span><a href=\"#How-is-memory-managed-in-Python?\" data-toc-modified-id=\"How-is-memory-managed-in-Python?-17\"><span class=\"toc-item-num\">17&nbsp;&nbsp;</span>How is memory managed in Python?</a></span></li><li><span><a href=\"#What-is-namespace-in-Python?\" data-toc-modified-id=\"What-is-namespace-in-Python?-18\"><span class=\"toc-item-num\">18&nbsp;&nbsp;</span>What is namespace in Python?</a></span></li><li><span><a href=\"#What-is-PYTHONPATH?\" data-toc-modified-id=\"What-is-PYTHONPATH?-19\"><span class=\"toc-item-num\">19&nbsp;&nbsp;</span>What is PYTHONPATH?</a></span></li><li><span><a href=\"#What-are-python-modules?-Name-some-commonly-used-built-in-modules-in-Python?\" data-toc-modified-id=\"What-are-python-modules?-Name-some-commonly-used-built-in-modules-in-Python?-20\"><span class=\"toc-item-num\">20&nbsp;&nbsp;</span>What are python modules? Name some commonly used built-in modules in Python?</a></span></li><li><span><a href=\"#What-are-local-variables-and-global-variables-in-Python?\" data-toc-modified-id=\"What-are-local-variables-and-global-variables-in-Python?-21\"><span class=\"toc-item-num\">21&nbsp;&nbsp;</span>What are local variables and global variables in Python?</a></span><ul class=\"toc-item\"><li><span><a href=\"#Global-Variables:\" data-toc-modified-id=\"Global-Variables:-21.1\"><span class=\"toc-item-num\">21.1&nbsp;&nbsp;</span>Global Variables:</a></span></li><li><span><a href=\"#Local-Variables:\" data-toc-modified-id=\"Local-Variables:-21.2\"><span class=\"toc-item-num\">21.2&nbsp;&nbsp;</span>Local Variables:</a></span></li></ul></li><li><span><a href=\"#Is-python-case-sensitive?\" data-toc-modified-id=\"Is-python-case-sensitive?-22\"><span class=\"toc-item-num\">22&nbsp;&nbsp;</span>Is python case sensitive?</a></span></li><li><span><a href=\"#Q23.What-is-type-conversion-in-Python?\" data-toc-modified-id=\"Q23.What-is-type-conversion-in-Python?-23\"><span class=\"toc-item-num\">23&nbsp;&nbsp;</span>Q23.What is type conversion in Python?</a></span></li><li><span><a href=\"#Is-indentation-required-in-python?\" data-toc-modified-id=\"Is-indentation-required-in-python?-24\"><span class=\"toc-item-num\">24&nbsp;&nbsp;</span>Is indentation required in python?</a></span></li><li><span><a href=\"#What-is-the-difference-between-Python-Arrays-and-lists?\" data-toc-modified-id=\"What-is-the-difference-between-Python-Arrays-and-lists?-25\"><span class=\"toc-item-num\">25&nbsp;&nbsp;</span>What is the difference between Python Arrays and lists?</a></span></li><li><span><a href=\"#What-are-functions-in-Python?\" data-toc-modified-id=\"What-are-functions-in-Python?-26\"><span class=\"toc-item-num\">26&nbsp;&nbsp;</span>What are functions in Python?</a></span></li><li><span><a href=\"#What-is-init?\" data-toc-modified-id=\"What-is-init?-27\"><span class=\"toc-item-num\">27&nbsp;&nbsp;</span>What is <strong>init</strong>?</a></span></li><li><span><a href=\"#What-is-a-lambda-function?\" data-toc-modified-id=\"What-is-a-lambda-function?-28\"><span class=\"toc-item-num\">28&nbsp;&nbsp;</span>What is a lambda function?</a></span></li><li><span><a href=\"#What-is-self-in-Python?\" data-toc-modified-id=\"What-is-self-in-Python?-29\"><span class=\"toc-item-num\">29&nbsp;&nbsp;</span>What is self in Python?</a></span></li><li><span><a href=\"#How-does-break,-continue-and-pass-work?\" data-toc-modified-id=\"How-does-break,-continue-and-pass-work?-30\"><span class=\"toc-item-num\">30&nbsp;&nbsp;</span>How does break, continue and pass work?</a></span></li><li><span><a href=\"#How-can-you-randomize-the-items-of-a-list-in-place-in-Python?\" data-toc-modified-id=\"How-can-you-randomize-the-items-of-a-list-in-place-in-Python?-31\"><span class=\"toc-item-num\">31&nbsp;&nbsp;</span>How can you randomize the items of a list in place in Python?</a></span></li><li><span><a href=\"#What-are-python-iterators?\" data-toc-modified-id=\"What-are-python-iterators?-32\"><span class=\"toc-item-num\">32&nbsp;&nbsp;</span>What are python iterators?</a></span></li><li><span><a href=\"#How-can-you-generate-random-numbers-in-Python?\" data-toc-modified-id=\"How-can-you-generate-random-numbers-in-Python?-33\"><span class=\"toc-item-num\">33&nbsp;&nbsp;</span>How can you generate random numbers in Python?</a></span></li><li><span><a href=\"#What-is-the-difference-between-range-&amp;-xrange?\" data-toc-modified-id=\"What-is-the-difference-between-range-&amp;-xrange?-34\"><span class=\"toc-item-num\">34&nbsp;&nbsp;</span>What is the difference between range &amp; xrange?</a></span></li><li><span><a href=\"#How-do-you-write-comments-in-python?\" data-toc-modified-id=\"How-do-you-write-comments-in-python?-35\"><span class=\"toc-item-num\">35&nbsp;&nbsp;</span>How do you write comments in python?</a></span></li><li><span><a href=\"#What-is-pickling-and-unpickling?\" data-toc-modified-id=\"What-is-pickling-and-unpickling?-36\"><span class=\"toc-item-num\">36&nbsp;&nbsp;</span>What is pickling and unpickling?</a></span></li><li><span><a href=\"#What-are-the-generators-in-python?\" data-toc-modified-id=\"What-are-the-generators-in-python?-37\"><span class=\"toc-item-num\">37&nbsp;&nbsp;</span>What are the generators in python?</a></span></li><li><span><a href=\"#How-will-you-capitalize-the-first-letter-of-string?\" data-toc-modified-id=\"How-will-you-capitalize-the-first-letter-of-string?-38\"><span class=\"toc-item-num\">38&nbsp;&nbsp;</span>How will you capitalize the first letter of string?</a></span></li><li><span><a href=\"#How-to-comment-multiple-lines-in-python?\" data-toc-modified-id=\"How-to-comment-multiple-lines-in-python?-39\"><span class=\"toc-item-num\">39&nbsp;&nbsp;</span>How to comment multiple lines in python?</a></span></li><li><span><a href=\"#How-will-you-convert-a-string-to-all-lowercase?\" data-toc-modified-id=\"How-will-you-convert-a-string-to-all-lowercase?-40\"><span class=\"toc-item-num\">40&nbsp;&nbsp;</span>How will you convert a string to all lowercase?</a></span></li><li><span><a href=\"#What-are-docstrings-in-Python?\" data-toc-modified-id=\"What-are-docstrings-in-Python?-41\"><span class=\"toc-item-num\">41&nbsp;&nbsp;</span>What are docstrings in Python?</a></span></li><li><span><a href=\"#What-is-the-purpose-of-‘is’,-‘not’-and-‘in’-operators?\" data-toc-modified-id=\"What-is-the-purpose-of-‘is’,-‘not’-and-‘in’-operators?-42\"><span class=\"toc-item-num\">42&nbsp;&nbsp;</span>What is the purpose of ‘is’, ‘not’ and ‘in’ operators?</a></span></li><li><span><a href=\"#What-is-the-usage-of-help()-and-dir()-function-in-Python?\" data-toc-modified-id=\"What-is-the-usage-of-help()-and-dir()-function-in-Python?-43\"><span class=\"toc-item-num\">43&nbsp;&nbsp;</span>What is the usage of help() and dir() function in Python?</a></span></li><li><span><a href=\"#Whenever-Python-exits,-why-isn’t-all-the-memory-de-allocated?\" data-toc-modified-id=\"Whenever-Python-exits,-why-isn’t-all-the-memory-de-allocated?-44\"><span class=\"toc-item-num\">44&nbsp;&nbsp;</span>Whenever Python exits, why isn’t all the memory de-allocated?</a></span></li><li><span><a href=\"#What-is-a-dictionary-in-Python?\" data-toc-modified-id=\"What-is-a-dictionary-in-Python?-45\"><span class=\"toc-item-num\">45&nbsp;&nbsp;</span>What is a dictionary in Python?</a></span></li><li><span><a href=\"#How-can-the-ternary-operators-be-used-in-python?\" data-toc-modified-id=\"How-can-the-ternary-operators-be-used-in-python?-46\"><span class=\"toc-item-num\">46&nbsp;&nbsp;</span>How can the ternary operators be used in python?</a></span></li><li><span><a href=\"#What-does-this-mean:-$*$args,-$**$kwargs?-And-why-would-we-use-it?\" data-toc-modified-id=\"What-does-this-mean:-$*$args,-$**$kwargs?-And-why-would-we-use-it?-47\"><span class=\"toc-item-num\">47&nbsp;&nbsp;</span>What does this mean: $*$args, $**$kwargs? And why would we use it?</a></span></li><li><span><a href=\"#What-does-len()-do?\" data-toc-modified-id=\"What-does-len()-do?-48\"><span class=\"toc-item-num\">48&nbsp;&nbsp;</span>What does len() do?</a></span></li><li><span><a href=\"#Explain-split(),-sub(),-subn()-methods-of-“re”-module-in-Python.\" data-toc-modified-id=\"Explain-split(),-sub(),-subn()-methods-of-“re”-module-in-Python.-49\"><span class=\"toc-item-num\">49&nbsp;&nbsp;</span>Explain split(), sub(), subn() methods of “re” module in Python.</a></span></li><li><span><a href=\"#What-are-negative-indexes-and-why-are-they-used?\" data-toc-modified-id=\"What-are-negative-indexes-and-why-are-they-used?-50\"><span class=\"toc-item-num\">50&nbsp;&nbsp;</span>What are negative indexes and why are they used?</a></span></li><li><span><a href=\"#What-are-Python-packages?\" data-toc-modified-id=\"What-are-Python-packages?-51\"><span class=\"toc-item-num\">51&nbsp;&nbsp;</span>What are Python packages?</a></span></li><li><span><a href=\"#ow-can-files-be-deleted-in-Python?\" data-toc-modified-id=\"ow-can-files-be-deleted-in-Python?-52\"><span class=\"toc-item-num\">52&nbsp;&nbsp;</span>ow can files be deleted in Python?</a></span></li><li><span><a href=\"#What-are-the-built-in-types-of-python?\" data-toc-modified-id=\"What-are-the-built-in-types-of-python?-53\"><span class=\"toc-item-num\">53&nbsp;&nbsp;</span>What are the built-in types of python?</a></span></li><li><span><a href=\"#What-advantages-do-NumPy-arrays-offer-over-(nested)-Python-lists?\" data-toc-modified-id=\"What-advantages-do-NumPy-arrays-offer-over-(nested)-Python-lists?-54\"><span class=\"toc-item-num\">54&nbsp;&nbsp;</span>What advantages do NumPy arrays offer over (nested) Python lists?</a></span></li><li><span><a href=\"#How-to-add-values-to-a-python-array?\" data-toc-modified-id=\"How-to-add-values-to-a-python-array?-55\"><span class=\"toc-item-num\">55&nbsp;&nbsp;</span>How to add values to a python array?</a></span></li><li><span><a href=\"#How-to-remove-values-to-a-python-array?\" data-toc-modified-id=\"How-to-remove-values-to-a-python-array?-56\"><span class=\"toc-item-num\">56&nbsp;&nbsp;</span>How to remove values to a python array?</a></span></li><li><span><a href=\"#Does-Python-have-OOps-concepts?\" data-toc-modified-id=\"Does-Python-have-OOps-concepts?-57\"><span class=\"toc-item-num\">57&nbsp;&nbsp;</span>Does Python have OOps concepts?</a></span></li><li><span><a href=\"#What-is-the-difference-between-deep-and-shallow-copy?\" data-toc-modified-id=\"What-is-the-difference-between-deep-and-shallow-copy?-58\"><span class=\"toc-item-num\">58&nbsp;&nbsp;</span>What is the difference between deep and shallow copy?</a></span></li><li><span><a href=\"#How-is-Multithreading-achieved-in-Python?\" data-toc-modified-id=\"How-is-Multithreading-achieved-in-Python?-59\"><span class=\"toc-item-num\">59&nbsp;&nbsp;</span>How is Multithreading achieved in Python?</a></span></li><li><span><a href=\"#What-is-the-process-of-compilation-and-linking-in-python?\" data-toc-modified-id=\"What-is-the-process-of-compilation-and-linking-in-python?-60\"><span class=\"toc-item-num\">60&nbsp;&nbsp;</span>What is the process of compilation and linking in python?</a></span></li><li><span><a href=\"#What-are-Python-libraries?-Name-a-few-of-them.\" data-toc-modified-id=\"What-are-Python-libraries?-Name-a-few-of-them.-61\"><span class=\"toc-item-num\">61&nbsp;&nbsp;</span>What are Python libraries? Name a few of them.</a></span></li><li><span><a href=\"#What-is-split-used-for?\" data-toc-modified-id=\"What-is-split-used-for?-62\"><span class=\"toc-item-num\">62&nbsp;&nbsp;</span>What is split used for?</a></span></li><li><span><a href=\"#How-to-import-modules-in-python?\" data-toc-modified-id=\"How-to-import-modules-in-python?-63\"><span class=\"toc-item-num\">63&nbsp;&nbsp;</span>How to import modules in python?</a></span></li><li><span><a href=\"#Explain-Inheritance-in-Python-with-an-example.\" data-toc-modified-id=\"Explain-Inheritance-in-Python-with-an-example.-64\"><span class=\"toc-item-num\">64&nbsp;&nbsp;</span>Explain Inheritance in Python with an example.</a></span></li><li><span><a href=\"#How-are-classes-created-in-Python?\" data-toc-modified-id=\"How-are-classes-created-in-Python?-65\"><span class=\"toc-item-num\">65&nbsp;&nbsp;</span>How are classes created in Python?</a></span></li></ul></div>"
   ]
  },
  {
   "cell_type": "markdown",
   "metadata": {},
   "source": [
    "https://www.edureka.co/blog/interview-questions/python-interview-questions/\n",
    "\n",
    "#  What is the diàerence between list and tuples in Python?\n",
    "\n",
    "| LIST | TUPLES |\n",
    "|------|--------|\n",
    "| Lists are mutable i.e they can be edited. | Tuples are immutable (tuples are lists which can’t be edited). |\n",
    "| Lists are slower than tuples. | Tuples are faster than list. |\n",
    "| Syntax: list_1 = [10, ‘Chelsea’, 20] | Syntax: tup_1 = (10, ‘Chelsea’ , 20) |"
   ]
  },
  {
   "cell_type": "code",
   "execution_count": 74,
   "metadata": {
    "ExecuteTime": {
     "end_time": "2021-11-14T21:02:02.919443Z",
     "start_time": "2021-11-14T21:02:02.906039Z"
    }
   },
   "outputs": [
    {
     "data": {
      "text/plain": [
       "(list, tuple)"
      ]
     },
     "execution_count": 74,
     "metadata": {},
     "output_type": "execute_result"
    }
   ],
   "source": [
    "from IPython.core.interactiveshell import InteractiveShell\n",
    "InteractiveShell.ast_node_interactivity = \"all\"\n",
    "\n",
    "list1 = [10, \"Soodi\" , 20]\n",
    "tup1 = (10 , 'Soodi' , \"20\")\n",
    "type(list1) ,type(tup1)"
   ]
  },
  {
   "cell_type": "markdown",
   "metadata": {},
   "source": [
    "#  What are the key features of Python?\n",
    "* Python is an **interpreted** language. That means that, unlike languages like C and its variants, Python does not need to be compiled before it is run. Other interpreted languages include PHP and Ruby.\n",
    "* Python is **dynamically typed**, this means that you don’t need to state the types of variables when you declare them or anything like that. You can do things like x=111 and then x=\"I'm a string\" without error.\n",
    "* Python is well suited to **object orientated programming** in that it allows the definition of classes along with composition and inheritance. Python does not have access specifiers (like C++’s public, private).\n",
    "* In Python, functions are first-class objects. This means that they can be assigned to variables, returned from other functions and passed into functions. Classes are also first class objects.\n",
    "* **Writing Python code is quick** but running it is often slower than compiled languages. Fortunately，Python allows the inclusion of C based extensions so bottlenecks can be optimized away and often are. The numpy package is a good example of this, it’s really quite quick because a lot of the number crunching it does isn’t actually done by Python.\n",
    "* Python finds **use in many spheres** – web applications, automation, scientific modeling, big data applications and many more. It’s also often used as “glue” code to get other languages and components to play nice\n",
    "\n",
    "#  What type of language is python? Programming or scripting?\n",
    "Ans: Python is capable of scripting, but in general sense, it is considered as a general-purpose programming language.\n",
    "\n",
    "# Python an interpreted language. Explain.\n",
    "\n",
    "Ans: An interpreted language is any programming language which is not in machine-level code before runtime. Therefore, Python is an interpreted language.\n",
    "\n",
    "# What is pep 8?\n",
    "\n",
    "Ans: PEP stands for **Python Enhancement Proposal**. It is a set of rules that specify how to format Python code for maximum readability.\n",
    "\n",
    "# What are the benefits of using Python?\n",
    "\n",
    "Ans: The benefits of using python are-\n",
    "\n",
    "1. Easy to use– Python is a high-level programming language that is easy to use, read, write and learn.\n",
    "2. Interpreted language– Since python is interpreted language, it executes the code line by line and stops if an error occurs in any line.\n",
    "3. Dynamically typed– the developer does not assign data types to variables at the time of coding. It automatically gets assigned during execution.\n",
    "4. Free and open source– Python is free to use and distribute. It is open source.\n",
    "5. Extensive support for libraries– Python has vast libraries that contain almost any function needed. It also further provides the facility to import other packages using Python Package Manager(pip).\n",
    "6. Portable– Python programs can run on any platform without requiring any change.\n",
    "7. The data structures used in python are user friendly.\n",
    "8. It provides more functionality with less coding.\n",
    "\n",
    "# What are Python namespaces?\n",
    "\n",
    "Ans: A namespace in python refers to **the name which is assigned to each object in python**. The objects are variables and functions. As each object is created, its name along with space(the address of the outer function in which the object is), gets created. The namespaces are maintained in python like a dictionary where the key is the namespace and value is the address of the object. There 4 types of namespace in python-\n",
    "\n",
    "1. Built-in namespace– These namespaces contain all the built in objects in python and are available whenever python is running.\n",
    "2. Global namespace– These are namespaces for all the objects created at the level of the main program.\n",
    "3. Enclosing namespaces– These namespaces are at the higher level or outer function.\n",
    "4. Local namespaces– These namespaces are at the local or inner function.\n",
    "![](./i/types_namespace-1.png)\n",
    "\n",
    "\n",
    "# What are decorators in Python?\n",
    "\n",
    "Ans: Decorators are used to add some design patterns to a function without changing its structure. Decorators generally are defined before the function they are enhancing. To apply a decorator we first define the decorator function. Then we write the function it is applied to and simply add the decorator function above the function it has to be applied to. For this, we use the @ symbol before the decorator.\n",
    "\n",
    "## Decorators in Python Example"
   ]
  },
  {
   "cell_type": "code",
   "execution_count": 75,
   "metadata": {
    "ExecuteTime": {
     "end_time": "2021-11-14T21:02:02.928270Z",
     "start_time": "2021-11-14T21:02:02.921660Z"
    }
   },
   "outputs": [
    {
     "name": "stdout",
     "output_type": "stream",
     "text": [
      "HI, I AM CREATED BY A FUNCTION PASSED AS AN ARGUMENT.\n",
      "hi, i am created by a function passed as an argument.\n"
     ]
    }
   ],
   "source": [
    "# Python program to illustrate functions\n",
    "# can be passed as arguments to other functions\n",
    "def shout(text):\n",
    "    return text.upper()\n",
    "\n",
    "def whisper(text):\n",
    "    return text.lower()\n",
    "\n",
    "def greet(func):\n",
    "    # storing the function in a variable\n",
    "    greeting = func(\"\"\"Hi, I am created by a function passed as an argument.\"\"\")\n",
    "    print (greeting)\n",
    "\n",
    "greet(shout)\n",
    "greet(whisper)\n"
   ]
  },
  {
   "cell_type": "markdown",
   "metadata": {},
   "source": [
    "# What are Dict and List comprehensions?\n",
    "\n",
    "Ans: Dictionary and list comprehensions are just another concise way to define dictionaries and lists.\n"
   ]
  },
  {
   "cell_type": "code",
   "execution_count": 76,
   "metadata": {
    "ExecuteTime": {
     "end_time": "2021-11-14T21:02:02.956872Z",
     "start_time": "2021-11-14T21:02:02.930594Z"
    }
   },
   "outputs": [
    {
     "data": {
      "text/plain": [
       "[0, 1, 2, 3, 4]"
      ]
     },
     "execution_count": 76,
     "metadata": {},
     "output_type": "execute_result"
    },
    {
     "name": "stdout",
     "output_type": "stream",
     "text": [
      "fruit\n",
      "{'one': 1, 'two': 'to', 'three': 3.0, 'four': [4, 4.0]}\n"
     ]
    },
    {
     "data": {
      "text/plain": [
       "[4, 4.0]"
      ]
     },
     "execution_count": 76,
     "metadata": {},
     "output_type": "execute_result"
    }
   ],
   "source": [
    "i = 0\n",
    "# Example of list comprehension is-\n",
    "x=[i for i in range(5)]\n",
    "x\n",
    "# The above code creates a list as below-\n",
    "\n",
    "\n",
    "a = {'apple': 'fruit', 'beetroot': 'vegetable', 'cake': 'dessert'}\n",
    "a['doughnut'] = 'snack'\n",
    "print(a['apple'])\n",
    "\n",
    "\n",
    "\n",
    "a = {'one': 1, 'two': 'to', 'three': 3.0, 'four': [4,4.0]}\n",
    "print(a)\n",
    "a['four']"
   ]
  },
  {
   "cell_type": "markdown",
   "metadata": {},
   "source": [
    "# What are the common built-in data types in Python?\n",
    "\n",
    "Ans: The common built in data types in python are-\n",
    "\n",
    "* Numbers– They include integers, floating point numbers, and complex numbers. eg. 1, 7.9,3+4i\n",
    "\n",
    "* List– An ordered sequence of items is called a list. The elements of a list may belong to different data types. Eg. [5,’market’,2.4]\n",
    "\n",
    "* Tuple– It is also an ordered sequence of elements. Unlike lists , tuples are immutable, which means they can’t be changed. Eg. (3,’tool’,1)\n",
    "\n",
    "* String– A sequence of characters is called a string. They are declared within single or double quotes. Eg. “Sana”, ‘She is going to the market’, etc.\n",
    "\n",
    "* Set– Sets are a collection of unique items that are not in order. Eg. {7,6,8}\n",
    "\n",
    "* Dictionary– A dictionary stores values in key and value pairs where each value can be accessed through its key. The order of items is not important. Eg. {1:’apple’,2:’mango}\n",
    "\n",
    "* Boolean– There are 2 boolean values- True and False.\n",
    "\n",
    "# What is the difference between .py and .pyc files?\n",
    "\n",
    "Ans: The `.py` files are the python source code files. While the `.pyc` files contain the bytecode of the python files. `.pyc` files are created when the code is imported from some other source. The interpreter converts the source `.py` files to `.pyc` files which helps by saving time.\n",
    "\n",
    "\n",
    "# What is slicing in Python?\n",
    "\n",
    "Ans: Slicing is used to access parts of sequences like lists, tuples, and strings. The syntax of slicing is-`[start:end:step]`. The step can be omitted as well. When we write `[start:end]` this returns all the elements of the sequence from the start (inclusive) till the `end-1 element`. If the start or end element is negative i, it means the ith element from the end. The step indicates the jump or how many elements have to be skipped. Eg. if there is a list- `[1,2,3,4,5,6,7,8]`. Then `[-1:2:2]` will return elements starting from the last element till the third element by printing every second element.i.e. [8,6,4]."
   ]
  },
  {
   "cell_type": "code",
   "execution_count": 77,
   "metadata": {
    "ExecuteTime": {
     "end_time": "2021-11-14T21:02:02.965621Z",
     "start_time": "2021-11-14T21:02:02.958865Z"
    }
   },
   "outputs": [
    {
     "data": {
      "text/plain": [
       "[1, 2, 3, 4, 5, 6, 7, 8]"
      ]
     },
     "execution_count": 77,
     "metadata": {},
     "output_type": "execute_result"
    },
    {
     "name": "stdout",
     "output_type": "stream",
     "text": [
      "[1, 3, 5]\n",
      "ol\n"
     ]
    }
   ],
   "source": [
    "a = [1,2,3,4,5,6,7,8]\n",
    "a\n",
    "print(a[:-2:2])\n",
    "b = \"Hello, World!\"\n",
    "print(b[-5:-2:2])"
   ]
  },
  {
   "cell_type": "markdown",
   "metadata": {
    "ExecuteTime": {
     "end_time": "2021-11-12T03:45:09.761288Z",
     "start_time": "2021-11-12T03:45:09.750266Z"
    }
   },
   "source": [
    "# What are Keywords in Python?\n",
    "\n",
    "Ans: Keywords in python are reserved words that have special meaning.They are generally used to define type of variables. Keywords cannot be used for variable or function names. There are following 33 keywords in python-\n",
    "\n",
    "```python\n",
    "And\n",
    "Or\n",
    "Not\n",
    "If\n",
    "Elif\n",
    "Else\n",
    "For\n",
    "While\n",
    "Break\n",
    " As\n",
    "Def\n",
    "Lambda\n",
    "Pass\n",
    "Return\n",
    "True\n",
    "False\n",
    "Try\n",
    "With\n",
    "Assert\n",
    "Class\n",
    "Continue\n",
    "Del\n",
    "Except\n",
    "Finally\n",
    "From\n",
    "Global\n",
    "Import\n",
    "In\n",
    "Is\n",
    "None\n",
    "Nonlocal\n",
    "Raise\n",
    "Yield\n",
    "```\n",
    "\n",
    "# What are Literals in Python and explain about different Literals\n",
    "\n",
    "Ans: A literal in python source code represents a fixed value for primitive data types. There are 5 types of literals in python-\n",
    "\n",
    "* String literals– A string literal is created by assigning some text enclosed in single or double quotes to a variable. To create multiline literals, assign the multiline text enclosed in triple quotes. Eg.name=”Tanya”\n",
    "* A character literal– It is created by assigning a single character enclosed in double quotes. Eg. a=’t’\n",
    "* Numeric literals– They include numeric values that can be either integer, floating point value, or a complex number. Eg. a=50\n",
    "* Boolean literals– These can be 2 values- either True or False.\n",
    "\n",
    "Literal Collections– These are of 4 types-\n",
    "\n",
    "    a) List collections-Eg. a=[1,2,3,’Amit’]\n",
    "\n",
    "    b) Tuple literals- Eg. a=(5,6,7,8)\n",
    "\n",
    "    c) Dictionary literals- Eg. dict={1: ’apple’, 2: ’mango, 3: ’banana`’}\n",
    "\n",
    "    d) Set literals- Eg. {“Tanya”, “Rohit”, “Mohan”}\n",
    "\n",
    "* Special literal- Python has 1 special literal None which is used to return a null variable.\n",
    "\n",
    "# How to combine dataframes in pandas?\n",
    "\n",
    "Ans: The dataframes in python can be combined in the following ways-\n",
    "\n",
    "- Concatenating them by stacking the 2 dataframes vertically.\n",
    "- Concatenating them by stacking the 2 dataframes horizontally.\n",
    "- Combining them on a common column. This is referred to as joining.\n",
    "\n",
    "The concat() function is used to concatenate two dataframes. Its syntax is- pd.concat([dataframe1, dataframe2]).\n",
    "\n",
    "Dataframes are joined together on a common column called a key. When we combine all the rows in dataframe it is union and the join used is outer join. While, when we combine the common rows or intersection, the join used is the inner join. Its syntax is- pd.concat([dataframe1, dataframe2], axis='axis', join='type_of_join')\n",
    "\n",
    "# What are the new features added in Python 3.9.0.0 version?\n",
    "\n",
    "Ans: The new features in Python 3.9.0.0 version are-\n",
    "\n",
    "* New Dictionary functions Merge(|) and Update(|=)\n",
    "* New String Methods to Remove Prefixes and Suffixes\n",
    "* Type Hinting Generics in Standard Collections\n",
    "* New Parser based on PEG rather than LL1\n",
    "* New modules like zoneinfo and graphlib\n",
    "* Improved Modules like ast, asyncio, etc.\n",
    "* Optimizations such as optimized idiom for assignment, signal handling, optimized python built ins, etc.\n",
    "* Deprecated functions and commands such as deprecated parser and symbol modules, deprecated functions, etc.\n",
    "* Removal of erroneous methods, functions, etc.\n",
    "\n",
    "# How is memory managed in Python?\n",
    "Ans: Memory is managed in Python in the following ways:\n",
    "\n",
    "1. Memory management in python is managed by **Python private heap space**. All Python objects and data structures are located in a private heap. The programmer does not have access to this private heap. The python interpreter takes care of this instead.\n",
    "2. The allocation of heap space for Python objects is done by **Python’s memory manager**. The core API gives access to some tools for the programmer to code.\n",
    "3. Python also has an **inbuilt garbage collector**, which recycles all the unused memory and so that it can be made available to the heap space.\n",
    "\n",
    "# What is namespace in Python?\n",
    "Ans: A namespace is a naming system used to make sure that names are unique to avoid naming conflicts.\n",
    "\n",
    "# What is PYTHONPATH?\n",
    "Ans: It is an environment variable which is used when a module is imported. Whenever a module is imported, PYTHONPATH is also looked up to check for the presence of the imported modules in various directories. The interpreter uses it to determine which module to load.\n",
    "\n",
    "# What are python modules? Name some commonly used built-in modules in Python?\n",
    "Ans: Python modules are files containing Python code. This code can either be functions classes or variables. A Python module is a .py file containing executable code.\n",
    "\n",
    "Some of the commonly used built-in modules are:\n",
    "```python\n",
    "os\n",
    "sys\n",
    "math\n",
    "random\n",
    "data time\n",
    "JSON\n",
    "```\n",
    "\n",
    "# What are local variables and global variables in Python?\n",
    "## Global Variables:\n",
    "\n",
    "Variables declared outside a function or in global space are called global variables. These variables can be accessed by any function in the program.\n",
    "\n",
    "##  Local Variables:\n",
    "\n",
    "Any variable declared inside a function is known as a local variable. This variable is present in the local space and not in the global space.\n",
    "\n",
    "#  Is python case sensitive?\n",
    "Ans: Yes. Python is a case sensitive language.\n",
    "\n",
    "# Q23.What is type conversion in Python?\n",
    "Ans: Type conversion refers to the conversion of one data type iinto another.\n",
    "\n",
    "int() – converts any data type into integer type\n",
    "\n",
    "float() – converts any data type into float type\n",
    "\n",
    "ord() – converts characters into integer\n",
    "\n",
    "hex() – converts integers to hexadecimal\n",
    "\n",
    "oct() – converts integer to octal\n",
    "\n",
    "tuple() – This function is used to convert to a tuple.\n",
    "\n",
    "set() – This function returns the type after converting to set.\n",
    "\n",
    "list() – This function is used to convert any data type to a list type.\n",
    "\n",
    "dict() – This function is used to convert a tuple of order (key,value) into a dictionary.\n",
    "\n",
    "str() – Used to convert integer into a string.\n",
    "\n",
    "complex(real,imag) – This functionconverts real numbers to complex(real,imag) number.\n",
    "\n",
    "#  Is indentation required in python?\n",
    "\n",
    "Ans: Indentation is necessary for Python. It specifies a block of code. All code within loops, classes, functions, etc is specified within an indented block. It is usually done using four space characters. If your code is not indented necessarily, it will not execute accurately and will throw errors as well.\n",
    "\n",
    "# What is the difference between Python Arrays and lists?\n",
    "Ans: Arrays and lists, in Python, have the same way of storing data. But, arrays can hold only a single data type elements whereas lists can hold any data type elements.\n",
    "\n",
    "Example:\n"
   ]
  },
  {
   "cell_type": "code",
   "execution_count": 78,
   "metadata": {
    "ExecuteTime": {
     "end_time": "2021-11-14T21:02:02.982525Z",
     "start_time": "2021-11-14T21:02:02.967886Z"
    }
   },
   "outputs": [
    {
     "name": "stdout",
     "output_type": "stream",
     "text": [
      "array('i', [1, 2, 3, 4])\n",
      "[1, 'abc', 1.2]\n"
     ]
    }
   ],
   "source": [
    "\n",
    "import array as arr\n",
    "My_Array=arr.array('i',[1,2,3,4])\n",
    "My_list=[1,'abc',1.20]\n",
    "print(My_Array)\n",
    "print(My_list)"
   ]
  },
  {
   "cell_type": "markdown",
   "metadata": {},
   "source": [
    "# What are functions in Python?\n",
    "Ans: A function is a block of code which is executed only when it is called. To define a Python function, the def keyword is used.\n",
    "\n",
    "Example:\n",
    "\n"
   ]
  },
  {
   "cell_type": "code",
   "execution_count": 79,
   "metadata": {
    "ExecuteTime": {
     "end_time": "2021-11-14T21:02:03.008555Z",
     "start_time": "2021-11-14T21:02:02.984804Z"
    }
   },
   "outputs": [
    {
     "name": "stdout",
     "output_type": "stream",
     "text": [
      "Hi, Welcome to Edureka\n"
     ]
    }
   ],
   "source": [
    "def Newfunc():\n",
    "    print(\"Hi, Welcome to Edureka\")\n",
    "\n",
    "Newfunc(); #calling the function"
   ]
  },
  {
   "cell_type": "markdown",
   "metadata": {},
   "source": [
    "# What is __init__?\n",
    "Ans: __init__ is a method or constructor in Python. This method is automatically called to allocate memory when a new object/ instance of a class is created. All classes have the __init__ method.\n",
    "\n",
    "Here is an example of how to use it.\n",
    "\n",
    "\n"
   ]
  },
  {
   "cell_type": "code",
   "execution_count": 80,
   "metadata": {
    "ExecuteTime": {
     "end_time": "2021-11-14T21:02:03.033337Z",
     "start_time": "2021-11-14T21:02:03.008555Z"
    }
   },
   "outputs": [
    {
     "name": "stdout",
     "output_type": "stream",
     "text": [
      "Area of Rectangle: 19200 sq units\n"
     ]
    }
   ],
   "source": [
    "class Rectangle:\n",
    "   def __init__(self, length, breadth, unit_cost=0):\n",
    "       self.length = length\n",
    "       self.breadth = breadth\n",
    "       self.unit_cost = unit_cost\n",
    "   def get_area(self):\n",
    "       return self.length * self.breadth\n",
    "   def calculate_cost(self):\n",
    "       area = self.get_area()\n",
    "       return area * self.unit_cost\n",
    "\n",
    "# breadth = 120 units, length = 160 units, 1 sq unit cost = Rs 2000\n",
    "r = Rectangle(160, 120, 2000)\n",
    "print(\"Area of Rectangle: %s sq units\" % (r.get_area()))"
   ]
  },
  {
   "cell_type": "markdown",
   "metadata": {},
   "source": [
    "# What is a lambda function?\n",
    "Ans: An anonymous function is known as a lambda function. This function can have any number of parameters but, can have just one statement.\n",
    "\n",
    "Example:"
   ]
  },
  {
   "cell_type": "code",
   "execution_count": 81,
   "metadata": {
    "ExecuteTime": {
     "end_time": "2021-11-14T21:02:03.047838Z",
     "start_time": "2021-11-14T21:02:03.035857Z"
    }
   },
   "outputs": [
    {
     "name": "stdout",
     "output_type": "stream",
     "text": [
      "20\n"
     ]
    }
   ],
   "source": [
    "a = lambda x,y : x+y+9\n",
    "print(a(5, 6))"
   ]
  },
  {
   "cell_type": "markdown",
   "metadata": {},
   "source": [
    "# What is self in Python?\n",
    "Ans: Self is an instance or an object of a class. In Python, this is explicitly included as the first parameter. However, this is not the case in Java where it’s optional.  It helps to differentiate between the methods and attributes of a class with local variables.\n",
    "\n",
    "The self variable in the init method refers to the newly created object while in other methods, it refers to the object whose method was called.\n",
    "\n",
    "# How does break, continue and pass work?\n",
    "| Method | Definition |\n",
    "|-------|-------------|\n",
    "| Break | Allows loop termination when some condition is met and the control is transferred to the next statement.|\n",
    "| Continue\t| Allows skipping some part of a loop when some specific condition is met and the control is transferred to the beginning of the loop |\n",
    "| Pass\t| Used when you need some block of code syntactically, but you want to skip its execution. This is basically a null operation. Nothing happens when this is executed. |"
   ]
  },
  {
   "cell_type": "code",
   "execution_count": 82,
   "metadata": {
    "ExecuteTime": {
     "end_time": "2021-11-14T21:02:03.058674Z",
     "start_time": "2021-11-14T21:02:03.049834Z"
    }
   },
   "outputs": [
    {
     "name": "stdout",
     "output_type": "stream",
     "text": [
      "g\n",
      "e\n",
      "Out of for loop\n",
      "\n",
      "g\n",
      "e\n",
      "Out of while loop\n"
     ]
    }
   ],
   "source": [
    "# break statement ; Python program to demonstrate\n",
    "\n",
    "\n",
    "# Python program to\n",
    "# demonstrate break statement\n",
    "\n",
    "s = 'geeksforgeeks'\n",
    "# Using for loop\n",
    "for letter in s:\n",
    "\n",
    "    print(letter)\n",
    "    # break the loop as soon it sees 'e'\n",
    "    # or 's'\n",
    "    if letter == 'e' or letter == 's':\n",
    "        break\n",
    "\n",
    "print(\"Out of for loop\")\n",
    "print()\n",
    "\n",
    "i = 0\n",
    "\n",
    "# Using while loop\n",
    "while True:\n",
    "    print(s[i])\n",
    "    \n",
    "    # break the loop as soon it sees 'e'\n",
    "    # or 's'\n",
    "    if s[i] == 'e' or s[i] == 's':\n",
    "        break\n",
    "    i += 1\n",
    "\n",
    "print(\"Out of while loop\")\n"
   ]
  },
  {
   "cell_type": "code",
   "execution_count": 83,
   "metadata": {
    "ExecuteTime": {
     "end_time": "2021-11-14T21:02:03.072715Z",
     "start_time": "2021-11-14T21:02:03.061182Z"
    }
   },
   "outputs": [
    {
     "name": "stdout",
     "output_type": "stream",
     "text": [
      "1 2 3 4 5 7 8 9 10 "
     ]
    }
   ],
   "source": [
    "# demonstrate continue statement Python program \n",
    "\n",
    "# loop from 1 to 10\n",
    "for i in range(1, 11):\n",
    "\n",
    "    # If i is equals to 6,\n",
    "    # continue to next iteration\n",
    "    # without printing\n",
    "    if i == 6:\n",
    "        continue\n",
    "    else:\n",
    "        # otherwise print the value\n",
    "        # of i\n",
    "        print(i, end = \" \")\n"
   ]
  },
  {
   "cell_type": "code",
   "execution_count": 84,
   "metadata": {
    "ExecuteTime": {
     "end_time": "2021-11-14T21:02:03.091841Z",
     "start_time": "2021-11-14T21:02:03.074754Z"
    }
   },
   "outputs": [
    {
     "name": "stdout",
     "output_type": "stream",
     "text": [
      "g\n",
      "e\n",
      "e\n",
      "Pass executed\n",
      "k\n",
      "s\n"
     ]
    }
   ],
   "source": [
    "# Python program to demonstrate\n",
    "# pass statement\n",
    "\n",
    "\n",
    "s = \"geeks\"\n",
    "\n",
    "# Empty loop\n",
    "for i in s:\n",
    "# No error will be raised\n",
    "        pass\n",
    "\n",
    "# Empty function\n",
    "def fun():\n",
    "        pass\n",
    "\n",
    "# No error will be raised\n",
    "fun()\n",
    "\n",
    "# Pass statement\n",
    "for i in s:\n",
    "        if i == 'k':\n",
    "                print('Pass executed')\n",
    "                pass\n",
    "        print(i)\n"
   ]
  },
  {
   "cell_type": "markdown",
   "metadata": {},
   "source": [
    "# How can you randomize the items of a list in place in Python?\n",
    "Ans: Consider the example shown below:"
   ]
  },
  {
   "cell_type": "code",
   "execution_count": 85,
   "metadata": {
    "ExecuteTime": {
     "end_time": "2021-11-14T21:02:03.105709Z",
     "start_time": "2021-11-14T21:02:03.093852Z"
    }
   },
   "outputs": [
    {
     "name": "stdout",
     "output_type": "stream",
     "text": [
      "['Keep', 'The', 'Blue', 'Flag', 'Flying', 'High']\n",
      "['The', 'Flying', 'Blue', 'Flag', 'High', 'Keep']\n"
     ]
    }
   ],
   "source": [
    "from random import shuffle\n",
    "x = ['Keep', 'The', 'Blue', 'Flag', 'Flying', 'High']\n",
    "print(x)\n",
    "shuffle(x)\n",
    "print(x)"
   ]
  },
  {
   "cell_type": "markdown",
   "metadata": {},
   "source": [
    "#  What are python iterators?\n",
    "Ans: Iterators are objects which can be traversed though or iterated upon."
   ]
  },
  {
   "cell_type": "code",
   "execution_count": 86,
   "metadata": {
    "ExecuteTime": {
     "end_time": "2021-11-14T21:02:03.124297Z",
     "start_time": "2021-11-14T21:02:03.107706Z"
    }
   },
   "outputs": [
    {
     "name": "stdout",
     "output_type": "stream",
     "text": [
      "apple\n",
      "banana\n",
      "cherry\n",
      "apple\n",
      "banana\n",
      "cherry\n",
      "b\n",
      "a\n",
      "n\n",
      "a\n",
      "n\n",
      "a\n"
     ]
    }
   ],
   "source": [
    "mytuple = (\"apple\", \"banana\", \"cherry\")\n",
    "myit = iter(mytuple)\n",
    "\n",
    "print(next(myit))\n",
    "print(next(myit))\n",
    "print(next(myit))\n",
    "\n",
    "mytuple = (\"apple\", \"banana\", \"cherry\")\n",
    "\n",
    "for x in mytuple:\n",
    "    print(x)\n",
    "    \n",
    "mystr = \"banana\"\n",
    "\n",
    "for x in mystr:\n",
    "    print(x)"
   ]
  },
  {
   "cell_type": "markdown",
   "metadata": {},
   "source": [
    "# How can you generate random numbers in Python?\n",
    "Ans: Random module is the standard module that is used to generate a random number. The method is defined as:\n",
    "\n",
    "\n",
    "import random\n",
    "random.random\n",
    "The statement random.random() method return the floating point number that is in the range of [0, 1).\n",
    "The function generates random float numbers. The methods that are used with the random class are the bound methods of the hidden instances. The instances of the Random can be done to show the multi-threading programs that creates a different instance of individual threads. The other random generators that are used in this are:\n",
    "\n",
    "1. randrange(a, b): it chooses an integer and define the range in-between [a, b). It returns the elements by selecting it randomly from the range that is specified. It doesn’t build a range object.\n",
    "\n",
    "2. uniform(a, b): it chooses a floating point number that is defined in the range of [a,b).Iyt returns the floating point number\n",
    "\n",
    "3. normalvariate(mean, sdev): it is used for the normal distribution where the mu is a mean and the sdev is a sigma that is used for standard deviation.\n",
    "\n",
    "4. The Random class that is used and instantiated creates independent multiple random number generators."
   ]
  },
  {
   "cell_type": "code",
   "execution_count": 87,
   "metadata": {
    "ExecuteTime": {
     "end_time": "2021-11-14T21:02:03.140911Z",
     "start_time": "2021-11-14T21:02:03.126329Z"
    }
   },
   "outputs": [
    {
     "name": "stdout",
     "output_type": "stream",
     "text": [
      "A random number from list is : 1\n",
      "A random number from range is : 44\n",
      "-2.0818514435728517\n"
     ]
    }
   ],
   "source": [
    "# Python code to demonstrate the working of\n",
    "# choice() and randrange()\n",
    "\n",
    "# importing \"random\" for random operations\n",
    "import random\n",
    "from random import normalvariate\n",
    "# using choice() to generate a random number from a\n",
    "# given list of numbers.\n",
    "print(\"A random number from list is : \", end=\"\")\n",
    "print(random.choice([1, 4, 8, 10, 15, 18 , 19 ,3]))\n",
    "\n",
    "# using randrange() to generate in range from 20\n",
    "# to 50. The last parameter 3 is step size to skip\n",
    "# three numbers when selecting.\n",
    "print(\"A random number from range is : \", end=\"\")\n",
    "print(random.randrange(20, 50, 3))\n",
    "print(normalvariate(10 , 50))"
   ]
  },
  {
   "cell_type": "markdown",
   "metadata": {},
   "source": [
    "# What is the difference between range & xrange?\n",
    "Ans: For the most part, xrange and range are the exact same in terms of functionality. They both provide a way to generate a list of integers for you to use, however you please. The only difference is that range returns a Python list object and x range returns an xrange object.\n",
    "\n",
    "This means that xrange doesn’t actually generate a static list at run-time like range does. It creates the values as you need them with a special technique called yielding. This technique is used with a type of object known as generators. That means that if you have a really gigantic range you’d like to generate a list for, say one billion, xrange is the function to use.\n",
    "\n",
    "This is especially true if you have a really memory sensitive system such as a cell phone that you are working with, as range will use as much memory as it can to create your array of integers, which can result in a Memory Error and crash your program. It’s a memory hungry beast.\n",
    "\n",
    "**range()** – This returns a range object (a type of iterable).\n",
    "\n",
    "**xrange()** – This function returns the generator object that can be used to display numbers only by looping. The only particular range is displayed on demand and hence called “lazy evaluation“."
   ]
  },
  {
   "cell_type": "code",
   "execution_count": 88,
   "metadata": {
    "ExecuteTime": {
     "end_time": "2021-11-14T21:02:03.150765Z",
     "start_time": "2021-11-14T21:02:03.142907Z"
    }
   },
   "outputs": [
    {
     "name": "stdout",
     "output_type": "stream",
     "text": [
      "The size allotted using range() is : \n",
      "48\n",
      "The size allotted using xrange() is : \n",
      "48\n"
     ]
    }
   ],
   "source": [
    "# Python code to demonstrate range() vs xrange()\n",
    "# on basis of memory\n",
    "\n",
    "import sys\n",
    "from past.builtins import xrange\n",
    "\n",
    "# initializing a with range()\n",
    "a = range(1,10000)\n",
    "\n",
    "# initializing a with xrange()\n",
    "x = xrange(1,20000)\n",
    "\n",
    "# testing the size of a\n",
    "# range() takes more memory\n",
    "print (\"The size allotted using range() is : \")\n",
    "print (sys.getsizeof(a))\n",
    "\n",
    "# testing the size of x\n",
    "# xrange() takes less memory\n",
    "print (\"The size allotted using xrange() is : \")\n",
    "print (sys.getsizeof(x))\n"
   ]
  },
  {
   "cell_type": "markdown",
   "metadata": {},
   "source": [
    "# How do you write comments in python?\n",
    "Ans: Comments in Python start with a # character. However, alternatively at times, commenting is done using docstrings(strings enclosed within triple quotes).\n",
    "\n",
    "# What is pickling and unpickling?\n",
    "Ans: Pickle module accepts any Python object and converts it into a string representation and dumps it into a file by using dump function, this process is called pickling. While the process of retrieving original Python objects from the stored string representation is called unpickling."
   ]
  },
  {
   "cell_type": "code",
   "execution_count": 89,
   "metadata": {
    "ExecuteTime": {
     "end_time": "2021-11-14T21:02:03.319333Z",
     "start_time": "2021-11-14T21:02:03.305914Z"
    }
   },
   "outputs": [],
   "source": [
    "import pickle\n",
    "\n",
    "data1 = {'a': [1, 2.0, 3, 4+6j],\n",
    "         'b': ('string', u'Unicode string'),\n",
    "         'c': None}\n",
    "\n",
    "selfref_list = [1, 2, 3]\n",
    "selfref_list.append(selfref_list)\n",
    "\n",
    "output = open('data.pkl', 'wb')\n",
    "\n",
    "# Pickle dictionary using protocol 0.\n",
    "pickle.dump(data1, output)\n",
    "\n",
    "# Pickle the list using the highest protocol available.\n",
    "pickle.dump(selfref_list, output, -1)\n",
    "\n",
    "output.close()"
   ]
  },
  {
   "cell_type": "code",
   "execution_count": 90,
   "metadata": {
    "ExecuteTime": {
     "end_time": "2021-11-14T21:02:03.328311Z",
     "start_time": "2021-11-14T21:02:03.321637Z"
    }
   },
   "outputs": [
    {
     "name": "stdout",
     "output_type": "stream",
     "text": [
      "{'a': [1, 2.0, 3, (4+6j)], 'b': ('string', 'Unicode string'), 'c': None}\n",
      "[1, 2, 3, <Recursion on list with id=2362944347528>]\n"
     ]
    }
   ],
   "source": [
    "import pprint, pickle\n",
    "\n",
    "pkl_file = open('data.pkl', 'rb')\n",
    "\n",
    "data1 = pickle.load(pkl_file)\n",
    "pprint.pprint(data1)\n",
    "\n",
    "data2 = pickle.load(pkl_file)\n",
    "pprint.pprint(data2)\n",
    "\n",
    "pkl_file.close()"
   ]
  },
  {
   "cell_type": "markdown",
   "metadata": {},
   "source": [
    "# What are the generators in python?\n",
    "Ans: Functions that return an iterable set of items are called generators."
   ]
  },
  {
   "cell_type": "code",
   "execution_count": 91,
   "metadata": {
    "ExecuteTime": {
     "end_time": "2021-11-14T21:02:03.353420Z",
     "start_time": "2021-11-14T21:02:03.330966Z"
    }
   },
   "outputs": [
    {
     "name": "stdout",
     "output_type": "stream",
     "text": [
      "This is printed first\n",
      "100\n",
      "This is printed second\n",
      "110\n",
      "This is printed at last\n",
      "98\n"
     ]
    }
   ],
   "source": [
    "# A simple generator function\n",
    "def my_gen():\n",
    "    n = 100\n",
    "    print('This is printed first')\n",
    "    # Generator function contains yield statements\n",
    "    yield n\n",
    "\n",
    "    n += 10\n",
    "    print('This is printed second')\n",
    "    yield n\n",
    "\n",
    "    n -= 12\n",
    "    print('This is printed at last')\n",
    "    yield n\n",
    "\n",
    "\n",
    "# Using for loop\n",
    "for item in my_gen():\n",
    "    print(item)"
   ]
  },
  {
   "cell_type": "code",
   "execution_count": null,
   "metadata": {},
   "outputs": [],
   "source": [
    "# What does [::-1} do?\n",
    "Ans: [::-1] is used to reverse the order of an array or a sequence.\n",
    "For example:\n",
    "\n"
   ]
  },
  {
   "cell_type": "code",
   "execution_count": 105,
   "metadata": {
    "ExecuteTime": {
     "end_time": "2021-11-14T21:05:33.077433Z",
     "start_time": "2021-11-14T21:05:33.068648Z"
    }
   },
   "outputs": [
    {
     "data": {
      "text/plain": [
       "array('i', [5, 4, 3, 2, 1])"
      ]
     },
     "execution_count": 105,
     "metadata": {},
     "output_type": "execute_result"
    }
   ],
   "source": [
    "import array as arr\n",
    "My_Array=arr.array('i',[1,2,3,4,5])\n",
    "My_Array[::-1]"
   ]
  },
  {
   "cell_type": "markdown",
   "metadata": {},
   "source": [
    "# How will you capitalize the first letter of string?\n",
    "Ans: In Python, the `capitalize()` method capitalizes the first letter of a string. If the string already consists of a capital letter at the beginning, then, it returns the original string.\n",
    "# How to comment multiple lines in python?\n",
    "Ans: Multi-line comments appear in more than one line. All the lines to be commented are to be prefixed by a #. You can also a very good shortcut method to comment multiple lines. All you need to do is hold the ctrl key and left click in every place wherever you want to include a # character and type a # just once. This will comment all the lines where you introduced your cursor.\n",
    "# How will you convert a string to all lowercase?\n",
    "Ans: To convert a string to lowercase, lower() function can be used.\n",
    "\n",
    "Example:"
   ]
  },
  {
   "cell_type": "code",
   "execution_count": 92,
   "metadata": {
    "ExecuteTime": {
     "end_time": "2021-11-14T21:02:03.367529Z",
     "start_time": "2021-11-14T21:02:03.355907Z"
    }
   },
   "outputs": [
    {
     "name": "stdout",
     "output_type": "stream",
     "text": [
      "abcdfh\n"
     ]
    }
   ],
   "source": [
    "stg='ABCDfH'\n",
    "print(stg.lower())"
   ]
  },
  {
   "cell_type": "markdown",
   "metadata": {},
   "source": [
    "# What are docstrings in Python?\n",
    "Ans: Docstrings are not actually comments, but, they are documentation strings. These docstrings are within triple quotes. They are not assigned to any variable and therefore, at times, serve the purpose of comments as well."
   ]
  },
  {
   "cell_type": "code",
   "execution_count": 93,
   "metadata": {
    "ExecuteTime": {
     "end_time": "2021-11-14T21:02:03.381668Z",
     "start_time": "2021-11-14T21:02:03.369524Z"
    }
   },
   "outputs": [
    {
     "name": "stdout",
     "output_type": "stream",
     "text": [
      "Using __doc__:\n",
      "Demonstrates triple double quotes\n",
      "\tdocstrings and does nothing really.\n",
      "Using help:\n",
      "Help on function my_function in module __main__:\n",
      "\n",
      "my_function()\n",
      "    Demonstrates triple double quotes\n",
      "    docstrings and does nothing really.\n",
      "\n"
     ]
    }
   ],
   "source": [
    "def my_function():\n",
    "\t'''Demonstrates triple double quotes\n",
    "\tdocstrings and does nothing really.'''\n",
    "\n",
    "\treturn None\n",
    "\n",
    "print(\"Using __doc__:\")\n",
    "print(my_function.__doc__)\n",
    "\n",
    "print(\"Using help:\")\n",
    "help(my_function)\n"
   ]
  },
  {
   "cell_type": "markdown",
   "metadata": {},
   "source": [
    "# What is the purpose of ‘is’, ‘not’ and ‘in’ operators?\n",
    "Ans: Operators are special functions. They take one or more values and produce a corresponding result.\n",
    "\n",
    "is: returns true when 2 operands are true  (Example: “a” is ‘a’)\n",
    "\n",
    "not: returns the inverse of the boolean value\n",
    "\n",
    "in: checks if some element is present in some sequence"
   ]
  },
  {
   "cell_type": "code",
   "execution_count": 94,
   "metadata": {
    "ExecuteTime": {
     "end_time": "2021-11-14T21:02:03.399489Z",
     "start_time": "2021-11-14T21:02:03.384207Z"
    }
   },
   "outputs": [
    {
     "name": "stdout",
     "output_type": "stream",
     "text": [
      "First else Condition False\n",
      "Second if Condition True\n",
      "Third else Condition False\n",
      "Fourth if Condition True\n"
     ]
    }
   ],
   "source": [
    "# Python3 code to\n",
    "# illustrate the\n",
    "# difference between\n",
    "# != and is not operator\n",
    "# [] is an empty list\n",
    "list1 = []\n",
    "list2 = []\n",
    "list3 = list1\n",
    "\n",
    "#First if\n",
    "if (list1 != list2):\n",
    "\tprint(\" First if Condition True\")\n",
    "else:\n",
    "\tprint(\"First else Condition False\")\n",
    "\t\n",
    "#Second if\n",
    "if (list1 is not list2):\n",
    "\tprint(\"Second if Condition True\")\n",
    "else:\n",
    "\tprint(\"Second else Condition False\")\n",
    "\t\n",
    "#Third if\n",
    "if (list1 is not list3):\n",
    "\tprint(\"Third if Condition True\")\n",
    "else:\n",
    "\tprint(\"Third else Condition False\")\n",
    "\n",
    "list3 = list3 + list2\n",
    "\n",
    "#Fourth if\n",
    "if (list1 is not list3):\n",
    "\tprint(\"Fourth if Condition True\")\n",
    "else:\n",
    "\tprint(\"Fourth else Condition False\")\n"
   ]
  },
  {
   "cell_type": "code",
   "execution_count": 95,
   "metadata": {
    "ExecuteTime": {
     "end_time": "2021-11-14T21:02:03.411088Z",
     "start_time": "2021-11-14T21:02:03.401486Z"
    }
   },
   "outputs": [
    {
     "name": "stdout",
     "output_type": "stream",
     "text": [
      "True\n",
      "True\n",
      "False\n"
     ]
    }
   ],
   "source": [
    "#in operator working\n",
    " \n",
    "list1= [1,2,3,4,5]\n",
    "string1= \"My name is AskPython\"\n",
    "tuple1=(11,22,33,44)\n",
    " \n",
    "print(5 in list1) #True\n",
    "print(\"is\" in string1) #True\n",
    "print(88 in tuple1) #False"
   ]
  },
  {
   "cell_type": "code",
   "execution_count": 96,
   "metadata": {
    "ExecuteTime": {
     "end_time": "2021-11-14T21:02:03.420052Z",
     "start_time": "2021-11-14T21:02:03.413607Z"
    }
   },
   "outputs": [
    {
     "name": "stdout",
     "output_type": "stream",
     "text": [
      "False\n",
      "True\n",
      "True\n",
      "False\n",
      "False\n",
      "True\n"
     ]
    }
   ],
   "source": [
    "#in and not in operator working on Dictionary\n",
    " \n",
    "dict1 = {1: \"one\", 2: \"two\", 3: \"three\", 4: \"four\"}\n",
    " \n",
    "print(\"one\" in dict1)\n",
    "print(\"one\" not in dict1)\n",
    " \n",
    "print(3 in dict1)\n",
    "print(3 not in dict1)\n",
    " \n",
    "print(5 in dict1)\n",
    "print(5 not in dict1)"
   ]
  },
  {
   "cell_type": "markdown",
   "metadata": {},
   "source": [
    "# What is the usage of help() and dir() function in Python?\n",
    "Ans: Help() and dir() both functions are accessible from the Python interpreter and used for viewing a consolidated dump of built-in functions. \n",
    "\n",
    "- Help() function: The help() function is used to display the documentation string and also facilitates you to see the help related to modules, keywords, attributes, etc.\n",
    "- Dir() function: The dir() function is used to display the defined symbols.\n",
    "\n",
    "# Whenever Python exits, why isn’t all the memory de-allocated?\n",
    "Ans:\n",
    "\n",
    "Whenever Python exits, especially those Python modules which are `having circular references to other objects or the objects that are referenced from the global namespaces` are not always de-allocated or freed.\n",
    "\n",
    "It is impossible to de-allocate `those portions of memory that are reserved by the C library`.\n",
    "On exit, because of having its own efficient clean up mechanism, Python would try to de-allocate/destroy every other object.\n",
    "\n",
    "# What is a dictionary in Python?\n",
    "Ans: The built-in datatypes in Python is called dictionary. It defines one-to-one relationship between keys and values. Dictionaries contain pair of keys and their corresponding values. Dictionaries are indexed by keys.\n",
    "\n",
    "Let’s take an example:\n",
    "\n",
    "The following example contains some keys. Country, Capital & PM. Their corresponding values are India, Delhi and Modi respectively.\n"
   ]
  },
  {
   "cell_type": "code",
   "execution_count": 97,
   "metadata": {
    "ExecuteTime": {
     "end_time": "2021-11-14T21:02:03.665665Z",
     "start_time": "2021-11-14T21:02:03.653973Z"
    }
   },
   "outputs": [
    {
     "name": "stdout",
     "output_type": "stream",
     "text": [
      "India\n",
      "Delhi\n",
      "{'Modi', 'reza'}\n"
     ]
    }
   ],
   "source": [
    "dict={'Country':'India','Capital':'Delhi','PM':{'Modi' , 'reza'}}\n",
    "\n",
    "print(dict['Country'])\n",
    "print(dict['Capital'])\n",
    "print (dict['PM'])"
   ]
  },
  {
   "cell_type": "markdown",
   "metadata": {},
   "source": [
    "#  How can the ternary operators be used in python?\n",
    "Ans: The Ternary operator is the operator that is used to show the conditional statements. This consists of the true or false values with a statement that has to be evaluated for it."
   ]
  },
  {
   "cell_type": "code",
   "execution_count": 98,
   "metadata": {
    "ExecuteTime": {
     "end_time": "2021-11-14T21:02:03.981862Z",
     "start_time": "2021-11-14T21:02:03.975818Z"
    }
   },
   "outputs": [
    {
     "name": "stdout",
     "output_type": "stream",
     "text": [
      "10\n"
     ]
    }
   ],
   "source": [
    "# Program to demonstrate conditional operator\n",
    "a, b = 10, 20\n",
    "\n",
    "# Copy value of a in min if a < b else copy b\n",
    "min = a if a < b else b\n",
    "\n",
    "print(min)\n"
   ]
  },
  {
   "cell_type": "code",
   "execution_count": 99,
   "metadata": {
    "ExecuteTime": {
     "end_time": "2021-11-14T21:02:04.005374Z",
     "start_time": "2021-11-14T21:02:03.986907Z"
    }
   },
   "outputs": [
    {
     "name": "stdout",
     "output_type": "stream",
     "text": [
      "b is greater than a\n"
     ]
    }
   ],
   "source": [
    "# Python program to demonstrate nested ternary operator\n",
    "a, b = 10, 20\n",
    "\n",
    "if a != b:\n",
    "\tif a > b:\n",
    "\t\tprint(\"a is greater than b\")\n",
    "\telse:\n",
    "\t\tprint(\"b is greater than a\")\n",
    "else:\n",
    "\tprint(\"Both a and b are equal\")\n"
   ]
  },
  {
   "cell_type": "markdown",
   "metadata": {},
   "source": [
    "# What does this mean: $*$args, $**$kwargs? And why would we use it?\n",
    "Ans: We use $*$args when we aren’t sure how many arguments are going to be passed to a function, or if we want to pass a stored list or tuple of arguments to a function. $**$kwargs is used when we don’t know how many keyword arguments will be passed to a function, or it can be used to pass the values of a dictionary as keyword arguments. The identifiers args and kwargs are a convention, you could also use *bob and $**$billy but that would not be wise."
   ]
  },
  {
   "cell_type": "code",
   "execution_count": 100,
   "metadata": {
    "ExecuteTime": {
     "end_time": "2021-11-14T21:02:04.022697Z",
     "start_time": "2021-11-14T21:02:04.007439Z"
    }
   },
   "outputs": [
    {
     "name": "stdout",
     "output_type": "stream",
     "text": [
      "Hello\n",
      "Welcome\n",
      "to\n",
      "GeeksforGeeks\n"
     ]
    }
   ],
   "source": [
    "# Python program to illustrate\n",
    "# *args for variable number of arguments\n",
    "def myFun(*argv):\n",
    "\tfor arg in argv:\n",
    "\t\tprint (arg)\n",
    "\n",
    "myFun('Hello', 'Welcome', 'to', 'GeeksforGeeks')\n"
   ]
  },
  {
   "cell_type": "code",
   "execution_count": 101,
   "metadata": {
    "ExecuteTime": {
     "end_time": "2021-11-14T21:02:04.045233Z",
     "start_time": "2021-11-14T21:02:04.025689Z"
    }
   },
   "outputs": [
    {
     "name": "stdout",
     "output_type": "stream",
     "text": [
      "first == Geeks\n",
      "mid == for\n",
      "last == Geeks\n"
     ]
    }
   ],
   "source": [
    "# Python program to illustrate\n",
    "# *kargs for variable number of keyword arguments\n",
    "\n",
    "def myFun(**kwargs):\n",
    "\tfor key, value in kwargs.items():\n",
    "\t\tprint (\"%s == %s\" %(key, value))\n",
    "\n",
    "# Driver code\n",
    "myFun(first ='Geeks', mid ='for', last='Geeks')\n"
   ]
  },
  {
   "cell_type": "markdown",
   "metadata": {},
   "source": [
    "# What does len() do?\n",
    "Ans: It is used to determine the length of a string, a list, an array, etc.\n",
    "\n",
    "Example:"
   ]
  },
  {
   "cell_type": "code",
   "execution_count": 102,
   "metadata": {
    "ExecuteTime": {
     "end_time": "2021-11-14T21:02:04.060823Z",
     "start_time": "2021-11-14T21:02:04.047228Z"
    }
   },
   "outputs": [
    {
     "data": {
      "text/plain": [
       "22"
      ]
     },
     "execution_count": 102,
     "metadata": {},
     "output_type": "execute_result"
    }
   ],
   "source": [
    "stg='My name is Ali Nemati!'\n",
    "len(stg)"
   ]
  },
  {
   "cell_type": "markdown",
   "metadata": {
    "ExecuteTime": {
     "end_time": "2021-11-14T21:02:04.076399Z",
     "start_time": "2021-11-14T21:02:04.063106Z"
    }
   },
   "source": [
    "# Explain split(), sub(), subn() methods of “re” module in Python.\n",
    "Ans: To modify the strings, Python’s “re” module is providing 3 methods. They are:\n",
    "\n",
    "- split() – uses a regex pattern to “split” a given string into a list.\n",
    "- sub() – finds all substrings where the regex pattern matches and then replace them with a different string\n",
    "- subn() – it is similar to sub() and also returns the new string along with the no. of replacements."
   ]
  },
  {
   "cell_type": "code",
   "execution_count": 109,
   "metadata": {
    "ExecuteTime": {
     "end_time": "2021-11-14T23:31:26.187730Z",
     "start_time": "2021-11-14T23:31:26.171739Z"
    }
   },
   "outputs": [
    {
     "name": "stdout",
     "output_type": "stream",
     "text": [
      "['Words', 'words', 'Words']\n",
      "['Word', 's', 'words', 'Words']\n",
      "['On', '12th', 'Jan', '2016', 'at', '11', '02', 'AM']\n",
      "['On ', 'th Jan ', ', at ', ':', ' AM']\n"
     ]
    }
   ],
   "source": [
    "from re import split\n",
    "\n",
    "print(split('\\W+', 'Words, words , Words'))\n",
    "\n",
    "print(split('\\W+', \"Word's words Words\"))\n",
    "\n",
    "print(split('\\W+', 'On 12th Jan 2016, at 11:02 AM'))\n",
    "\n",
    "print(split('\\d+', 'On 12th Jan 2016, at 11:02 AM'))"
   ]
  },
  {
   "cell_type": "code",
   "execution_count": 111,
   "metadata": {
    "ExecuteTime": {
     "end_time": "2021-11-14T23:31:48.815920Z",
     "start_time": "2021-11-14T23:31:48.799931Z"
    }
   },
   "outputs": [
    {
     "name": "stdout",
     "output_type": "stream",
     "text": [
      "S~*ject has ~*er booked already\n",
      "S~*ject has Uber booked already\n"
     ]
    }
   ],
   "source": [
    "import re\n",
    "\n",
    "print(re.sub('ub', '~*' , 'Subject has Uber booked already', flags = re.IGNORECASE)) \n",
    "print(re.sub('ub', '~*' , 'Subject has Uber booked already'))"
   ]
  },
  {
   "cell_type": "code",
   "execution_count": 112,
   "metadata": {
    "ExecuteTime": {
     "end_time": "2021-11-14T23:31:51.647858Z",
     "start_time": "2021-11-14T23:31:51.623840Z"
    }
   },
   "outputs": [
    {
     "name": "stdout",
     "output_type": "stream",
     "text": [
      "('S~*ject has Uber booked already', 1)\n",
      "('S~*ject has ~*er booked already', 2)\n",
      "2\n"
     ]
    }
   ],
   "source": [
    "import re\n",
    "\n",
    "print(re.subn('ub', '~*' , 'Subject has Uber booked already'))\n",
    "\n",
    "t = re.subn('ub', '~*' , 'Subject has Uber booked already', flags = re.IGNORECASE)\n",
    "\n",
    "print(t)\n",
    "\n",
    "print(len(t))"
   ]
  },
  {
   "cell_type": "markdown",
   "metadata": {},
   "source": [
    "# What are negative indexes and why are they used?\n",
    "\n",
    "Ans: The sequences in Python are indexed and it consists of the positive as well as negative numbers. The numbers that are positive uses `0` that is uses as first index and `1` as the second index and the process goes on like that.\n",
    "\n",
    "The index for the negative number starts from `-1` that represents the last index in the sequence and `-2` as the penultimate index and the sequence carries forward like the positive number.\n",
    "\n",
    "The negative index is used to remove any new-line spaces from the string and allow the string to except the last character that is given as S[:-1]. The negative index is also used to show the index to represent the string in correct order.\n",
    "\n",
    "# What are Python packages?\n",
    "Ans: Python packages are namespaces containing multiple modules.\n",
    "\n",
    "# ow can files be deleted in Python?\n",
    "Ans: To delete a file in Python, you need to import the OS Module. After that, you need to use the os.remove() function.\n",
    "\n",
    "```python\n",
    "import os\n",
    "os.remove(\"xyz.txt\")\n",
    "```\n",
    "\n",
    "# What are the built-in types of python?\n",
    "Ans: Built-in types in Python are as follows –\n",
    "\n",
    "- Integers\n",
    "- Floating-point\n",
    "- Complex numbers\n",
    "- Strings\n",
    "- Boolean\n",
    "- Built-in functions\n",
    "\n",
    "# What advantages do NumPy arrays offer over (nested) Python lists?\n",
    "Ans: \n",
    "\n",
    "- Python’s lists are efficient general-purpose containers. They support (fairly) efficient insertion, deletion, appending, and concatenation, and Python’s list comprehensions make them easy to construct and manipulate.\n",
    "- They have certain limitations: they don’t support “vectorized” operations like elementwise addition and multiplication, and the fact that they can contain objects of differing types mean that Python must store type information for every element, and must execute type dispatching code when operating on each element.\n",
    "- NumPy is not just more efficient; it is also more convenient. You get a lot of vector and matrix operations for free, which sometimes allow one to avoid unnecessary work. And they are also efficiently implemented.\n",
    "- NumPy array is faster and You get a lot built in with NumPy, FFTs, convolutions, fast searching, basic statistics, linear algebra, histograms, etc. \n",
    "\n",
    "# How to add values to a python array?\n",
    "Ans: Elements can be added to an array using the append(), extend() and the insert (i,x) functions.\n",
    "\n",
    "Example:\n",
    "\n",
    "\n"
   ]
  },
  {
   "cell_type": "code",
   "execution_count": 113,
   "metadata": {
    "ExecuteTime": {
     "end_time": "2021-11-15T17:38:49.923859Z",
     "start_time": "2021-11-15T17:38:49.881552Z"
    }
   },
   "outputs": [
    {
     "name": "stdout",
     "output_type": "stream",
     "text": [
      "array('d', [1.1, 2.1, 3.1, 3.4])\n",
      "array('d', [1.1, 2.1, 3.1, 3.4, 4.5, 6.3, 6.8])\n",
      "array('d', [1.1, 2.1, 3.8, 3.1, 3.4, 4.5, 6.3, 6.8])\n"
     ]
    }
   ],
   "source": [
    "a=arr.array('d', [1.1 , 2.1 ,3.1] )\n",
    "a.append(3.4)\n",
    "print(a)\n",
    "a.extend([4.5,6.3,6.8])\n",
    "print(a)\n",
    "a.insert(2,3.8)\n",
    "print(a)"
   ]
  },
  {
   "cell_type": "markdown",
   "metadata": {},
   "source": [
    "# How to remove values to a python array?\n",
    "Ans: Array elements can be removed using pop() or remove() method. \n",
    "The difference between these two functions is that the former returns the deleted value whereas the latter does not."
   ]
  },
  {
   "cell_type": "code",
   "execution_count": 117,
   "metadata": {
    "ExecuteTime": {
     "end_time": "2021-11-15T17:46:18.560948Z",
     "start_time": "2021-11-15T17:46:18.542368Z"
    }
   },
   "outputs": [
    {
     "data": {
      "text/plain": [
       "[1, 2, 3, 4, 5, 6]"
      ]
     },
     "execution_count": 117,
     "metadata": {},
     "output_type": "execute_result"
    },
    {
     "data": {
      "text/plain": [
       "3"
      ]
     },
     "execution_count": 117,
     "metadata": {},
     "output_type": "execute_result"
    },
    {
     "data": {
      "text/plain": [
       "[1, 2, 4, 5, 6]"
      ]
     },
     "execution_count": 117,
     "metadata": {},
     "output_type": "execute_result"
    },
    {
     "data": {
      "text/plain": [
       "[1, 2, 4, 5]"
      ]
     },
     "execution_count": 117,
     "metadata": {},
     "output_type": "execute_result"
    }
   ],
   "source": [
    "list1 = [1,2,3,4,5,6]\n",
    "list1\n",
    "list1.pop(2)\n",
    "list1\n",
    "list1.remove(6)\n",
    "list1"
   ]
  },
  {
   "cell_type": "markdown",
   "metadata": {},
   "source": [
    "# Does Python have OOps concepts?\n",
    "Ans: Python is an object-oriented programming language. This means that any program can be solved in python by creating an object model. However, Python can be treated as procedural as well as structural language.\n",
    "\n",
    "# What is the difference between deep and shallow copy?\n",
    "Ans: Shallow copy is used when a new instance type gets created and it keeps the values that are copied in the new instance. Shallow copy is used to copy the reference pointers just like it copies the values. These references point to the original objects and the changes made in any member of the class will also affect the original copy of it. Shallow copy allows faster execution of the program and it depends on the size of the data that is used.\n",
    "\n",
    "- Shallow copies duplicate as little as possible. A shallow copy of a collection is a copy of the collection structure, not the elements. With a shallow copy, two collections now share the individual elements.\n",
    "\n",
    "- Deep copies duplicate everything. A deep copy of a collection is two collections with all of the elements in the original collection duplicated."
   ]
  },
  {
   "cell_type": "code",
   "execution_count": 120,
   "metadata": {
    "ExecuteTime": {
     "end_time": "2021-11-15T17:56:57.648172Z",
     "start_time": "2021-11-15T17:56:57.632940Z"
    }
   },
   "outputs": [
    {
     "name": "stdout",
     "output_type": "stream",
     "text": [
      "['Red', 'Blue', 'Green'] ['Red', 'Blue']\n",
      "['Red', 'Blue', 'Green'] ['Red', 'Blue', 'Green']\n"
     ]
    }
   ],
   "source": [
    "# Python3 implementation of the Deep\n",
    "# copy and Shallow Copy\n",
    "from copy import copy, deepcopy\n",
    "\n",
    "# Class of Car\n",
    "class Car:\n",
    "    def __init__(self, name, colors):\n",
    "        self.name = name\n",
    "        self.colors = colors\n",
    "\n",
    "honda = Car(\"Honda\", [\"Red\", \"Blue\"])\n",
    "\n",
    "# Deepcopy of Honda\n",
    "deepcopy_honda = deepcopy(honda)\n",
    "deepcopy_honda.colors.append(\"Green\")\n",
    "print(deepcopy_honda.colors, honda.colors)\n",
    "\n",
    "# Shallow Copy of Honda\n",
    "copy_honda = copy(honda)\n",
    "\n",
    "copy_honda.colors.append(\"Green\")\n",
    "print(copy_honda.colors, honda.colors)\n"
   ]
  },
  {
   "cell_type": "markdown",
   "metadata": {},
   "source": [
    "# How is Multithreading achieved in Python?\n",
    "Ans: \n",
    "\n",
    "- Python has a multi-threading package but if you want to multi-thread to speed your code up, then it’s usually not a good idea to use it.\n",
    "\n",
    "- Python has a construct called the Global Interpreter Lock (GIL). The GIL makes sure that only one of your ‘threads’ can execute at any one time. A thread acquires the GIL, does a little work, then passes the GIL onto the next thread.\n",
    "\n",
    "- This happens very quickly so to the human eye it may seem like your threads are executing in parallel, but they are really just taking turns using the same CPU core.\n",
    "\n",
    "- All this GIL passing adds overhead to execution. This means that if you want to make your code run faster then using the threading package often isn’t a good idea.\n",
    "\n",
    "# What is the process of compilation and linking in python?\n",
    "\n",
    "Ans: The compiling and linking allows the new extensions to be compiled properly without any error and the linking can be done only when it passes the compiled procedure. If the dynamic loading is used then it depends on the style that is being provided with the system. The python interpreter can be used to provide the dynamic loading of the configuration setup files and will rebuild the interpreter.\n",
    "\n",
    "The steps that are required in this as:\n",
    "\n",
    "1. Create a file with any name and in any language that is supported by the compiler of your system. For example file.c or file.cpp\n",
    "2. Place this file in the Modules/ directory of the distribution which is getting used.\n",
    "3. Add a line in the file Setup.local that is present in the Modules/ directory.\n",
    "4. Run the file using spam file.o\n",
    "5. After a successful run of this rebuild the interpreter by using the make command on the top-level directory.\n",
    "6. If the file is changed then run rebuildMakefile by using the command as 'make Makefile'.\n",
    "\n",
    "# What are Python libraries? Name a few of them.\n",
    "Python libraries are a collection of Python packages. Some of the majorly used python libraries are – Numpy, Pandas, Matplotlib, Scikit-learn and many more.\n",
    "\n",
    "# What is split used for?\n",
    "The split() method is used to separate a given string in Python.\n",
    "\n",
    "Example:"
   ]
  },
  {
   "cell_type": "code",
   "execution_count": 124,
   "metadata": {
    "ExecuteTime": {
     "end_time": "2021-11-15T18:09:55.725955Z",
     "start_time": "2021-11-15T18:09:55.714245Z"
    }
   },
   "outputs": [
    {
     "name": "stdout",
     "output_type": "stream",
     "text": [
      "['edureka', 'python']\n",
      "['edureka ', 'ython']\n",
      "['', 'dur', 'ka python']\n"
     ]
    }
   ],
   "source": [
    "a=\"edureka python\"\n",
    "print(a.split())\n",
    "print(a.split('p'))\n",
    "print(a.split('e'))"
   ]
  },
  {
   "cell_type": "markdown",
   "metadata": {
    "ExecuteTime": {
     "end_time": "2021-11-15T18:10:32.422817Z",
     "start_time": "2021-11-15T18:10:32.408643Z"
    }
   },
   "source": [
    "# How to import modules in python?\n",
    "\n",
    "Modules can be imported using the import keyword.  You can import modules in three ways-\n",
    "\n",
    "Example:\n",
    "```python\n",
    "import array           #importing using the original module name\n",
    "import array as arr    # importing using an alias name\n",
    "from array import *    #imports everything present in the array module\n",
    "```\n",
    "\n",
    "# Explain Inheritance in Python with an example.\n",
    "Ans: Inheritance allows One class to gain all the members(say attributes and methods) of another class. \n",
    "Inheritance provides code reusability, makes it easier to create and maintain an application. \n",
    "The class from which we are inheriting is called super-class and the class that is inherited is called a derived / child class.\n",
    "\n",
    "They are different types of inheritance supported by Python:\n",
    "\n",
    "1. Single Inheritance – where a derived class acquires the members of a single super class.\n",
    "2. Multi-level inheritance – a derived class d1 in inherited from base class base1, and d2 are inherited from base2.\n",
    "3. Hierarchical inheritance – from one base class you can inherit any number of child classes\n",
    "4. Multiple inheritance – a derived class is inherited from more than one base class."
   ]
  },
  {
   "cell_type": "code",
   "execution_count": 127,
   "metadata": {
    "ExecuteTime": {
     "end_time": "2021-11-15T18:13:45.239566Z",
     "start_time": "2021-11-15T18:13:45.218390Z"
    }
   },
   "outputs": [
    {
     "name": "stdout",
     "output_type": "stream",
     "text": [
      "Base1\n",
      "Base2\n",
      "Derived\n",
      "Geek1 Geek2\n"
     ]
    }
   ],
   "source": [
    "# Python example to show the working of multiple\n",
    "# inheritance\n",
    "class Base1(object):\n",
    "\tdef __init__(self):\n",
    "\t\tself.str1 = \"Geek1\"\n",
    "\t\tprint(\"Base1\")\n",
    "\n",
    "class Base2(object):\n",
    "\tdef __init__(self):\n",
    "\t\tself.str2 = \"Geek2\"\t\t\n",
    "\t\tprint(\"Base2\")\n",
    "\n",
    "class Derived(Base1, Base2):\n",
    "\tdef __init__(self):\n",
    "\t\t\n",
    "\t\t# Calling constructors of Base1\n",
    "\t\t# and Base2 classes\n",
    "\t\tBase1.__init__(self)\n",
    "\t\tBase2.__init__(self)\n",
    "\t\tprint(\"Derived\")\n",
    "\t\t\n",
    "\tdef printStrs(self):\n",
    "\t\tprint(self.str1, self.str2)\n",
    "\t\t\n",
    "\n",
    "ob = Derived()\n",
    "ob.printStrs()\n"
   ]
  },
  {
   "cell_type": "code",
   "execution_count": 128,
   "metadata": {
    "ExecuteTime": {
     "end_time": "2021-11-15T18:13:59.530175Z",
     "start_time": "2021-11-15T18:13:59.508431Z"
    }
   },
   "outputs": [
    {
     "name": "stdout",
     "output_type": "stream",
     "text": [
      "Geek1 23 Noida\n"
     ]
    }
   ],
   "source": [
    "# A Python program to demonstrate inheritance\n",
    "\n",
    "# Base or Super class. Note object in bracket.\n",
    "# (Generally, object is made ancestor of all classes)\n",
    "# In Python 3.x \"class Person\" is\n",
    "# equivalent to \"class Person(object)\"\n",
    "class Base(object):\n",
    "\t\n",
    "\t# Constructor\n",
    "\tdef __init__(self, name):\n",
    "\t\tself.name = name\n",
    "\n",
    "\t# To get name\n",
    "\tdef getName(self):\n",
    "\t\treturn self.name\n",
    "\n",
    "\n",
    "# Inherited or Sub class (Note Person in bracket)\n",
    "class Child(Base):\n",
    "\t\n",
    "\t# Constructor\n",
    "\tdef __init__(self, name, age):\n",
    "\t\tBase.__init__(self, name)\n",
    "\t\tself.age = age\n",
    "\n",
    "\t# To get name\n",
    "\tdef getAge(self):\n",
    "\t\treturn self.age\n",
    "\n",
    "# Inherited or Sub class (Note Person in bracket)\n",
    "class GrandChild(Child):\n",
    "\t\n",
    "\t# Constructor\n",
    "\tdef __init__(self, name, age, address):\n",
    "\t\tChild.__init__(self, name, age)\n",
    "\t\tself.address = address\n",
    "\n",
    "\t# To get address\n",
    "\tdef getAddress(self):\n",
    "\t\treturn self.address\t\t\n",
    "\n",
    "# Driver code\n",
    "g = GrandChild(\"Geek1\", 23, \"Noida\")\n",
    "print(g.getName(), g.getAge(), g.getAddress())\n"
   ]
  },
  {
   "cell_type": "markdown",
   "metadata": {},
   "source": [
    "# How are classes created in Python? \n",
    "Ans: Class in Python is created using the class keyword.\n",
    "\n",
    "Example:"
   ]
  },
  {
   "cell_type": "code",
   "execution_count": 132,
   "metadata": {
    "ExecuteTime": {
     "end_time": "2021-11-15T18:15:41.390242Z",
     "start_time": "2021-11-15T18:15:41.385108Z"
    }
   },
   "outputs": [
    {
     "name": "stdout",
     "output_type": "stream",
     "text": [
      "abc\n"
     ]
    }
   ],
   "source": [
    "class Employee:\n",
    "    def __init__(self, name):\n",
    "        self.name = name\n",
    "        \n",
    "E1=Employee(\"abc\")\n",
    "print(E1.name)"
   ]
  },
  {
   "cell_type": "code",
   "execution_count": null,
   "metadata": {},
   "outputs": [],
   "source": []
  }
 ],
 "metadata": {
  "kernelspec": {
   "display_name": "tensorflow",
   "language": "python",
   "name": "tensorflow"
  },
  "language_info": {
   "codemirror_mode": {
    "name": "ipython",
    "version": 3
   },
   "file_extension": ".py",
   "mimetype": "text/x-python",
   "name": "python",
   "nbconvert_exporter": "python",
   "pygments_lexer": "ipython3",
   "version": "3.7.9"
  },
  "toc": {
   "base_numbering": 1,
   "nav_menu": {},
   "number_sections": true,
   "sideBar": true,
   "skip_h1_title": false,
   "title_cell": "Table of Contents",
   "title_sidebar": "Contents",
   "toc_cell": true,
   "toc_position": {},
   "toc_section_display": true,
   "toc_window_display": true
  }
 },
 "nbformat": 4,
 "nbformat_minor": 4
}
